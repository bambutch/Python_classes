{
  "cells": [
    {
      "cell_type": "markdown",
      "metadata": {
        "id": "view-in-github",
        "colab_type": "text"
      },
      "source": [
        "<a href=\"https://colab.research.google.com/github/bambutch/python_classes/blob/main/lesson_3_string.ipynb\" target=\"_parent\"><img src=\"https://colab.research.google.com/assets/colab-badge.svg\" alt=\"Open In Colab\"/></a>"
      ]
    },
    {
      "cell_type": "markdown",
      "id": "de294214-4690-4cf8-b445-b91941450c32",
      "metadata": {
        "id": "de294214-4690-4cf8-b445-b91941450c32"
      },
      "source": [
        "# Конспект 3"
      ]
    },
    {
      "cell_type": "markdown",
      "id": "4b4b82ad-1320-47ec-adda-282a6898f8c4",
      "metadata": {
        "id": "4b4b82ad-1320-47ec-adda-282a6898f8c4"
      },
      "source": [
        "# Строки: базовые операции, методы, форматирование"
      ]
    },
    {
      "cell_type": "markdown",
      "id": "98149379-5a07-4c6e-9410-ca0fe2e71f50",
      "metadata": {
        "id": "98149379-5a07-4c6e-9410-ca0fe2e71f50"
      },
      "source": [
        "В данном уроке мы:  \n",
        "- узнаем тип данных - строка (str);\n",
        "- научимся создавать строки;  \n",
        "- познакомимся с базовыми операциями со строками (длина строки, обращение по индексу, формирование среза, конкатенация и дублирование строк);  \n",
        "- посмотрим, как работать с некоторыми методами строк (upper(), lower(), replace(), find());  \n",
        "- научимся форматировать строки."
      ]
    },
    {
      "cell_type": "markdown",
      "id": "3bd48d54-6300-460c-8762-9f9790d79969",
      "metadata": {
        "id": "3bd48d54-6300-460c-8762-9f9790d79969"
      },
      "source": [
        "**Строка** - это упорядоченная последовательность символов.   \n",
        "Говоря простыми словами - это текстовая информация (буквы, пробелы, цифры, иные символы).  \n",
        "Например: 'это строка', \"3.14\", \"\"\" _\"\"\".\n",
        "\n",
        "Тип данных -`string` (str)."
      ]
    },
    {
      "cell_type": "markdown",
      "id": "5c9c036b-cf5c-4e84-8f24-1389e4aed1d3",
      "metadata": {
        "id": "5c9c036b-cf5c-4e84-8f24-1389e4aed1d3"
      },
      "source": [
        "## Создание строк"
      ]
    },
    {
      "cell_type": "markdown",
      "id": "011a54ae-bd81-428f-a634-c4156a2016b2",
      "metadata": {
        "id": "011a54ae-bd81-428f-a634-c4156a2016b2"
      },
      "source": [
        "Чтобы создать строку, нужно ввести текст в кавычках — так Python отличает строки от чисел и других типов данных."
      ]
    },
    {
      "cell_type": "markdown",
      "id": "ae7992f2-0567-435b-8de8-bcec8d522df7",
      "metadata": {
        "id": "ae7992f2-0567-435b-8de8-bcec8d522df7"
      },
      "source": [
        "Основные варианты:\n",
        "1. Одинарные кавычки - 'строка'  \n",
        "2. Двойные кавычки - \"строка\"  \n",
        "3. Тройные одинарные - '''строка'''\n",
        "4. Тройные двойные кавычки - \"\"\"строка\"\"\""
      ]
    },
    {
      "cell_type": "markdown",
      "id": "0b26a8e1-c89b-4149-a0c7-d33aaba54c54",
      "metadata": {
        "id": "0b26a8e1-c89b-4149-a0c7-d33aaba54c54"
      },
      "source": [
        "Разницы между двойными и одинарными кавычками нет.  \n",
        "Тройные кавычки - используются для *многострочных* строк.  \n",
        "\n",
        "*Справочно:*  \n",
        "многострочные строки используются для документирования кода. Мы будем использовать это при изучении раздела с функциями."
      ]
    },
    {
      "cell_type": "markdown",
      "id": "ff2561bc-b141-447e-bc98-f3e39e6ee0e5",
      "metadata": {
        "id": "ff2561bc-b141-447e-bc98-f3e39e6ee0e5"
      },
      "source": [
        "### Пример"
      ]
    },
    {
      "cell_type": "code",
      "execution_count": null,
      "id": "b713ea3c-6f5c-4516-aa98-599b8c192d56",
      "metadata": {
        "id": "b713ea3c-6f5c-4516-aa98-599b8c192d56",
        "outputId": "4143b325-80e4-46b7-a199-355e0a3cde88"
      },
      "outputs": [
        {
          "name": "stdout",
          "output_type": "stream",
          "text": [
            "Бензин (АИ-92-К5)\n",
            "Яничкино\n"
          ]
        }
      ],
      "source": [
        "item = 'Бензин (АИ-92-К5)'\n",
        "print(item)\n",
        "\n",
        "station = \"Яничкино\"\n",
        "print(station)"
      ]
    },
    {
      "cell_type": "code",
      "execution_count": null,
      "id": "963b29ab-b297-4f36-930b-0bccf0cec527",
      "metadata": {
        "id": "963b29ab-b297-4f36-930b-0bccf0cec527",
        "outputId": "42f91f66-197f-4f95-ab4f-daebfb655748"
      },
      "outputs": [
        {
          "name": "stdout",
          "output_type": "stream",
          "text": [
            "Бюллетень по итогам торгов. \n",
            "Дата торгов: 27.06.2022\n"
          ]
        }
      ],
      "source": [
        "source = '''Бюллетень по итогам торгов. \n",
        "Дата торгов: 27.06.2022'''\n",
        "print(source)"
      ]
    },
    {
      "cell_type": "markdown",
      "id": "60b3bf1a-a92d-4ce8-a55a-bdeed004c213",
      "metadata": {
        "id": "60b3bf1a-a92d-4ce8-a55a-bdeed004c213"
      },
      "source": [
        "Тройные кавычки позволяют вывести строки, содержащие перенос строки.  \n",
        "В примере при выводе на экран переменной `source` - два предложения на отдельных строках."
      ]
    },
    {
      "cell_type": "code",
      "execution_count": null,
      "id": "b21ec964-c336-43e1-9235-68df01879a79",
      "metadata": {
        "id": "b21ec964-c336-43e1-9235-68df01879a79",
        "outputId": "533037b0-9216-49dc-e798-d5596dd3d76d"
      },
      "outputs": [
        {
          "name": "stdout",
          "output_type": "stream",
          "text": [
            "\n",
            "Бюллетень по итогам торгов. \n",
            "Дата торгов: 27.06.2022\n",
            "\n"
          ]
        }
      ],
      "source": [
        "source = '''\n",
        "Бюллетень по итогам торгов. \n",
        "Дата торгов: 27.06.2022\n",
        "'''\n",
        "print(source)"
      ]
    },
    {
      "cell_type": "markdown",
      "id": "0b8cd183-aac5-48c0-a9c0-ec6154a38906",
      "metadata": {
        "id": "0b8cd183-aac5-48c0-a9c0-ec6154a38906"
      },
      "source": [
        "Тройные кавычки в примере - на отдельных строках. В результате в выводе переменной `source` добавились пустые строки до и после текста."
      ]
    },
    {
      "cell_type": "markdown",
      "id": "b2c331c2-be3e-4ae8-9ba5-2dfda49c287f",
      "metadata": {
        "id": "b2c331c2-be3e-4ae8-9ba5-2dfda49c287f"
      },
      "source": [
        "## Строки, содержащие кавычки"
      ]
    },
    {
      "cell_type": "markdown",
      "id": "cf5c2924-3bbb-446f-9d15-049e6ed64d70",
      "metadata": {
        "id": "cf5c2924-3bbb-446f-9d15-049e6ed64d70"
      },
      "source": [
        "Кавычки показывают начало и конец строки. Но иногда возникает необходимость использовать кавычки внутри строки.  \n"
      ]
    },
    {
      "cell_type": "code",
      "execution_count": null,
      "id": "31d384ca-3d28-439e-bc6d-594995bb2987",
      "metadata": {
        "id": "31d384ca-3d28-439e-bc6d-594995bb2987",
        "outputId": "1e0b67e2-d464-4e84-9902-59555dbbf4a2"
      },
      "outputs": [
        {
          "ename": "SyntaxError",
          "evalue": "invalid syntax (<ipython-input-4-db1878684edf>, line 1)",
          "output_type": "error",
          "traceback": [
            "\u001b[1;36m  File \u001b[1;32m\"<ipython-input-4-db1878684edf>\"\u001b[1;36m, line \u001b[1;32m1\u001b[0m\n\u001b[1;33m    market_section = 'Секция биржи: 'Нефтепродукты''\u001b[0m\n\u001b[1;37m                                     ^\u001b[0m\n\u001b[1;31mSyntaxError\u001b[0m\u001b[1;31m:\u001b[0m invalid syntax\n"
          ]
        }
      ],
      "source": [
        "market_section = 'Секция биржи: 'Нефтепродукты''  \n",
        "print(market_section)"
      ]
    },
    {
      "cell_type": "markdown",
      "id": "2e065c1d-0b6f-4122-8e6a-d36a701506f8",
      "metadata": {
        "id": "2e065c1d-0b6f-4122-8e6a-d36a701506f8"
      },
      "source": [
        "Такая запись вызовет ошибку: с точки зрения Python строка закончилась после второй одинарной кавычки: `'Секция биржи: '`"
      ]
    },
    {
      "cell_type": "markdown",
      "id": "acf92449-e4bb-4433-8839-e19c83ef65f9",
      "metadata": {
        "id": "acf92449-e4bb-4433-8839-e19c83ef65f9"
      },
      "source": [
        "Это можно исправить несколькими способами:  \n",
        "- использовать разные типы кавычек (двойные и одинарные);  \n",
        "- экранирование символов."
      ]
    },
    {
      "cell_type": "markdown",
      "id": "20b471b9-4b77-4f5a-8973-5aeaff54753c",
      "metadata": {
        "id": "20b471b9-4b77-4f5a-8973-5aeaff54753c"
      },
      "source": [
        "### Разные типы кавычек"
      ]
    },
    {
      "cell_type": "code",
      "execution_count": null,
      "id": "5a0e842f-cfa4-4468-899a-9831f3665df3",
      "metadata": {
        "id": "5a0e842f-cfa4-4468-899a-9831f3665df3",
        "outputId": "7231f57e-7e32-4662-f1b4-f694c18d8130"
      },
      "outputs": [
        {
          "name": "stdout",
          "output_type": "stream",
          "text": [
            "Секция биржи: \"Нефтепродукты\"\n",
            "Секция биржи: \"Нефтепродукты\"\n"
          ]
        }
      ],
      "source": [
        "# комбинация двойных и одинарных кавычек\n",
        "market_section = 'Секция биржи: \"Нефтепродукты\"'  \n",
        "print(market_section)\n",
        "\n",
        "# многострочные комментарии\n",
        "market_section = '''Секция биржи: \"Нефтепродукты\"'''\n",
        "print(market_section)\n"
      ]
    },
    {
      "cell_type": "markdown",
      "id": "75df36b3-e016-4e50-b40b-afff9b807ba0",
      "metadata": {
        "id": "75df36b3-e016-4e50-b40b-afff9b807ba0"
      },
      "source": [
        "### Экранирование символов"
      ]
    },
    {
      "cell_type": "markdown",
      "id": "4005b36f-f067-4802-a51b-135f04a23366",
      "metadata": {
        "id": "4005b36f-f067-4802-a51b-135f04a23366"
      },
      "source": [
        "Строку, содержащую кавычки, можно записать с использованием **экранирования**.  \n",
        "Для этого необходимо поставить **перед каждым символом кавычек в тексте обратный слеш (`\\`)**.  \n",
        "Этим мы как бы говорим: да, внутри этой строки есть кавычки, но их не нужно воспринимать как закрывающие."
      ]
    },
    {
      "cell_type": "code",
      "execution_count": null,
      "id": "e5ec8c60-1894-4a87-abba-7afddc5fc87f",
      "metadata": {
        "id": "e5ec8c60-1894-4a87-abba-7afddc5fc87f",
        "outputId": "c066b2be-533d-46d9-9ca7-e3fe3ef1be8f"
      },
      "outputs": [
        {
          "name": "stdout",
          "output_type": "stream",
          "text": [
            "Секция биржи: 'Нефтепродукты'\n"
          ]
        }
      ],
      "source": [
        "# экранирование\n",
        "market_section = 'Секция биржи: \\'Нефтепродукты\\''\n",
        "print(market_section)"
      ]
    },
    {
      "cell_type": "markdown",
      "id": "cc3a398b-d546-4652-9d3c-5efab8fe3b97",
      "metadata": {
        "id": "cc3a398b-d546-4652-9d3c-5efab8fe3b97"
      },
      "source": [
        "Экранирование усложняет восприятие строк. Это видно даже из нашего небольшого примера.  \n",
        "Желательно использовать вариант с комбинацией двойных и одинарных кавычек."
      ]
    },
    {
      "cell_type": "markdown",
      "id": "f71294b9-b2e4-449d-b83a-bf23a62e9a51",
      "metadata": {
        "id": "f71294b9-b2e4-449d-b83a-bf23a62e9a51"
      },
      "source": [
        "Экранирование также применяется при структурировании кода для соблюдения требований рукводства по написанию кода [PEP-8](https://peps.python.org/pep-0008/#pet-peeves): `\\n` означает перенос строки."
      ]
    },
    {
      "cell_type": "markdown",
      "id": "74ed5d6d-24b3-419c-bfc1-52c9eadecd59",
      "metadata": {
        "tags": [],
        "id": "74ed5d6d-24b3-419c-bfc1-52c9eadecd59"
      },
      "source": [
        "## Базовые операции при работе со строками"
      ]
    },
    {
      "cell_type": "markdown",
      "id": "55b1e61d-2ba8-4846-b072-305ec0797867",
      "metadata": {
        "id": "55b1e61d-2ba8-4846-b072-305ec0797867"
      },
      "source": [
        "Рассмотрим базовые операции при работе со строками:  \n",
        "- длина строки (функция len());  \n",
        "- доступ по индексу;    \n",
        "- извлечение среза;  \n",
        "- конкатенация (сложение);  \n",
        "- дублирование (умножение)."
      ]
    },
    {
      "cell_type": "markdown",
      "id": "a80aad61-e42a-4166-9f9b-61c2c88309e0",
      "metadata": {
        "id": "a80aad61-e42a-4166-9f9b-61c2c88309e0"
      },
      "source": [
        "Знание и понимание базовых операций работы со строками будет полезно при решении задач, связанных с обработкой языка (выгрузки из социальных сетей, данные кредитных историй заемщиков, где цели кредита описываются самим заемщиком, рейтинги с описанием фильмов и т.д.)."
      ]
    },
    {
      "cell_type": "markdown",
      "id": "6b29f805-5faf-43f6-9a8f-fa78455f5f50",
      "metadata": {
        "id": "6b29f805-5faf-43f6-9a8f-fa78455f5f50"
      },
      "source": [
        "### Длина строки"
      ]
    },
    {
      "cell_type": "markdown",
      "id": "e063f7aa-4182-42e0-bcc0-82dfd9f6f732",
      "metadata": {
        "id": "e063f7aa-4182-42e0-bcc0-82dfd9f6f732"
      },
      "source": [
        "Длина строки - количество символов в строке.  \n",
        "Узнать длину строки можно с помощью функции `len()`."
      ]
    },
    {
      "cell_type": "code",
      "execution_count": null,
      "id": "73990cff-124b-4ebd-8e5d-a3804290740e",
      "metadata": {
        "id": "73990cff-124b-4ebd-8e5d-a3804290740e",
        "outputId": "489364bf-4dbb-4704-ca0f-9a0e20d795b8"
      },
      "outputs": [
        {
          "name": "stdout",
          "output_type": "stream",
          "text": [
            "8\n"
          ]
        }
      ],
      "source": [
        "station = \"Яничкино\"\n",
        "print(len(station))"
      ]
    },
    {
      "cell_type": "code",
      "execution_count": null,
      "id": "a734a159-c22d-4438-9f88-a2d2ac357047",
      "metadata": {
        "id": "a734a159-c22d-4438-9f88-a2d2ac357047",
        "outputId": "1034368e-0bbb-41c0-e65c-48c80bc5b1e2"
      },
      "outputs": [
        {
          "name": "stdout",
          "output_type": "stream",
          "text": [
            "29\n"
          ]
        }
      ],
      "source": [
        "market_section = '''Секция биржи: \"Нефтепродукты\"'''\n",
        "print(len(market_section))"
      ]
    },
    {
      "cell_type": "markdown",
      "id": "b74f9387-4ce1-423f-a3f8-7ac9f0c0ba4d",
      "metadata": {
        "id": "b74f9387-4ce1-423f-a3f8-7ac9f0c0ba4d"
      },
      "source": [
        "### Индексы"
      ]
    },
    {
      "cell_type": "markdown",
      "id": "c4c34a8a-93e4-4ddd-9b7b-ad6cc4d9c123",
      "metadata": {
        "id": "c4c34a8a-93e4-4ddd-9b7b-ad6cc4d9c123"
      },
      "source": [
        "Каждый символ в строке имеет свой порядковый номер (индекс).   \n",
        "Нумерация в строке начинается с 0.  \n",
        "\n",
        "Строковые индексы также могут быть указаны с отрицательными числами: в этом случае индексация происходит с конца строки в обратном направлении,  -1 относится к последнему символу."
      ]
    },
    {
      "cell_type": "markdown",
      "id": "8d1abd6f-2a7c-47ab-8d08-9a16f08b306c",
      "metadata": {
        "id": "8d1abd6f-2a7c-47ab-8d08-9a16f08b306c"
      },
      "source": [
        "![image.png](data:image/png;base64,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)"
      ]
    },
    {
      "cell_type": "markdown",
      "id": "de16eacb-6c0f-45fd-8e09-a0f80330a6c5",
      "metadata": {
        "id": "de16eacb-6c0f-45fd-8e09-a0f80330a6c5"
      },
      "source": [
        "В примере приводятся варианты обращения к символам строки по индексу - с начала строки, с конца строки, с использованием функции `len()`."
      ]
    },
    {
      "cell_type": "markdown",
      "id": "3a62e82e-4c8e-447f-998e-74f7615e7579",
      "metadata": {
        "id": "3a62e82e-4c8e-447f-998e-74f7615e7579"
      },
      "source": [
        "Для обращения к символам в текущем примере мы определили порядковый номер индекса вручную, далее в уроке будет рассмотрен метод `find()`, с помощью которого мы сможем находить индекс конкретного символа."
      ]
    },
    {
      "cell_type": "code",
      "execution_count": null,
      "id": "44801f77-84ab-49ff-80c7-7502d963524d",
      "metadata": {
        "id": "44801f77-84ab-49ff-80c7-7502d963524d",
        "outputId": "1bb44556-5931-481d-e265-d4eb480e09b1"
      },
      "outputs": [
        {
          "name": "stdout",
          "output_type": "stream",
          "text": [
            "Я\n",
            "н\n",
            "и\n",
            "ч\n",
            "к\n",
            "и\n",
            "н\n",
            "о\n"
          ]
        }
      ],
      "source": [
        "station = \"Яничкино\"\n",
        "print(station[0])\n",
        "print(station[1])\n",
        "print(station[2])\n",
        "print(station[-5])\n",
        "print(station[-4])\n",
        "print(station[-3])\n",
        "print(station[len(station)-2])\n",
        "print(station[len(station)-1])\n"
      ]
    },
    {
      "cell_type": "markdown",
      "id": "eeed0d94-f744-4aa3-8356-ed55709a0aa5",
      "metadata": {
        "id": "eeed0d94-f744-4aa3-8356-ed55709a0aa5"
      },
      "source": [
        "#### IndexError"
      ]
    },
    {
      "cell_type": "markdown",
      "id": "142ec1cf-ef0e-45c8-a653-c3edb3c6abcf",
      "metadata": {
        "id": "142ec1cf-ef0e-45c8-a653-c3edb3c6abcf"
      },
      "source": [
        "Если обратиться к несуществующему в строке индексу - получим ошибку `IndexError`. Индекс строки находится вне диапазона."
      ]
    },
    {
      "cell_type": "code",
      "execution_count": null,
      "id": "c2ad2279-61d6-4dec-9a04-70e767d2fa38",
      "metadata": {
        "id": "c2ad2279-61d6-4dec-9a04-70e767d2fa38",
        "outputId": "8e72e2b5-5cde-4b0b-966d-8e7e6a2841a6"
      },
      "outputs": [
        {
          "ename": "IndexError",
          "evalue": "string index out of range",
          "output_type": "error",
          "traceback": [
            "\u001b[1;31m---------------------------------------------------------------------------\u001b[0m",
            "\u001b[1;31mIndexError\u001b[0m                                Traceback (most recent call last)",
            "\u001b[1;32m<ipython-input-10-00f1b937b9e4>\u001b[0m in \u001b[0;36m<module>\u001b[1;34m\u001b[0m\n\u001b[0;32m      1\u001b[0m \u001b[1;31m# обращение к несуществующему индексу строки station - 8 (равен длине строки)\u001b[0m\u001b[1;33m\u001b[0m\u001b[1;33m\u001b[0m\u001b[1;33m\u001b[0m\u001b[0m\n\u001b[1;32m----> 2\u001b[1;33m \u001b[0mprint\u001b[0m\u001b[1;33m(\u001b[0m\u001b[0mstation\u001b[0m\u001b[1;33m[\u001b[0m\u001b[0mlen\u001b[0m\u001b[1;33m(\u001b[0m\u001b[0mstation\u001b[0m\u001b[1;33m)\u001b[0m\u001b[1;33m]\u001b[0m\u001b[1;33m)\u001b[0m\u001b[1;33m\u001b[0m\u001b[1;33m\u001b[0m\u001b[0m\n\u001b[0m",
            "\u001b[1;31mIndexError\u001b[0m: string index out of range"
          ]
        }
      ],
      "source": [
        "# обращение к несуществующему индексу строки station - 8 (равен длине строки)\n",
        "print(station[len(station)])"
      ]
    },
    {
      "cell_type": "markdown",
      "id": "a10d0854-eec7-4cda-b45d-22f5b206ad01",
      "metadata": {
        "id": "a10d0854-eec7-4cda-b45d-22f5b206ad01"
      },
      "source": [
        "Исправление данной ошибки связано:  \n",
        "- либо с корректировкой индекса;  \n",
        "- либо с корректировкой источника (строки)."
      ]
    },
    {
      "cell_type": "markdown",
      "id": "b69adcd4-4941-4a65-b4ec-dc7fbce2dbfc",
      "metadata": {
        "id": "b69adcd4-4941-4a65-b4ec-dc7fbce2dbfc"
      },
      "source": [
        "#### TypeError"
      ]
    },
    {
      "cell_type": "markdown",
      "id": "09cd08ad-03fc-4636-8fea-e9dd51470f35",
      "metadata": {
        "id": "09cd08ad-03fc-4636-8fea-e9dd51470f35"
      },
      "source": [
        "Если мы можем обращаться к отдельным элементам строки, попробуем заменить символ внутри строки."
      ]
    },
    {
      "cell_type": "code",
      "execution_count": null,
      "id": "2288f42e-5993-4b46-be15-26febe8ca8b9",
      "metadata": {
        "id": "2288f42e-5993-4b46-be15-26febe8ca8b9"
      },
      "outputs": [],
      "source": [
        "source = 'Бюллетень по итогам торгов. 27 июня 2022'\n",
        "print(source)  "
      ]
    },
    {
      "cell_type": "code",
      "execution_count": null,
      "id": "a999d3dc-642c-465b-8fbf-7b1a82b56ca4",
      "metadata": {
        "id": "a999d3dc-642c-465b-8fbf-7b1a82b56ca4",
        "outputId": "ef7b66c8-2cb2-41d7-92fd-c24b7d4aa923"
      },
      "outputs": [
        {
          "ename": "TypeError",
          "evalue": "'str' object does not support item assignment",
          "output_type": "error",
          "traceback": [
            "\u001b[1;31m---------------------------------------------------------------------------\u001b[0m",
            "\u001b[1;31mTypeError\u001b[0m                                 Traceback (most recent call last)",
            "\u001b[1;32m<ipython-input-11-623af1e170ff>\u001b[0m in \u001b[0;36m<module>\u001b[1;34m\u001b[0m\n\u001b[0;32m      1\u001b[0m \u001b[1;31m# заменим точку `.` на  двоеточие `:` Точка имеет индекс 26\u001b[0m\u001b[1;33m\u001b[0m\u001b[1;33m\u001b[0m\u001b[1;33m\u001b[0m\u001b[0m\n\u001b[1;32m----> 2\u001b[1;33m \u001b[0msource\u001b[0m\u001b[1;33m[\u001b[0m\u001b[1;36m26\u001b[0m\u001b[1;33m]\u001b[0m \u001b[1;33m=\u001b[0m \u001b[1;34m':'\u001b[0m\u001b[1;33m\u001b[0m\u001b[1;33m\u001b[0m\u001b[0m\n\u001b[0m",
            "\u001b[1;31mTypeError\u001b[0m: 'str' object does not support item assignment"
          ]
        }
      ],
      "source": [
        "# заменим точку `.` на  двоеточие `:` Точка имеет индекс 26\n",
        "source[26] = ':'"
      ]
    },
    {
      "cell_type": "markdown",
      "id": "9861f091-c860-44bf-a65f-be3584f001f1",
      "metadata": {
        "id": "9861f091-c860-44bf-a65f-be3584f001f1"
      },
      "source": [
        "Получили ошибку `TypeError`. Интерпретатор сообщает нам, что не может поменять символ в строке один на другой."
      ]
    },
    {
      "cell_type": "markdown",
      "id": "ab39da47-53fa-4d99-a511-9e03f4f193ab",
      "metadata": {
        "id": "ab39da47-53fa-4d99-a511-9e03f4f193ab"
      },
      "source": [
        "Строки - неизменяемый тип данных: мы не можем менять их напрямую.  \n",
        "Решение простое: нужно собирать новую строку из исходной (с помощью, например, `цикла for`) или использовать встроенные методы (`replace()`). Циклы и метод будут рассмотрены далее по курсу."
      ]
    },
    {
      "cell_type": "markdown",
      "id": "1c43ab0b-6961-4bcd-bdb8-765772df70c1",
      "metadata": {
        "id": "1c43ab0b-6961-4bcd-bdb8-765772df70c1"
      },
      "source": [
        "### Срезы"
      ]
    },
    {
      "cell_type": "markdown",
      "id": "56c02cd5-0481-495e-832f-5f740ad5e957",
      "metadata": {
        "id": "56c02cd5-0481-495e-832f-5f740ad5e957"
      },
      "source": [
        "Опираясь на индексы, можно извлечь **срез** – последовательность символов внутри исходной строки. Срез иногда называют **подстрокой**.  \n",
        "Чтобы сделать срез используем следующую конструкцию:  **string[start : stop : step]**   \n",
        "Результат - часть строки `string` с позиции `start` до позиции `stop` c указанным шагом `step`.\n",
        "Позиция stop не включается в срез.  \n",
        "\n",
        "Ни один из параметров в данной конструкции не является обязательным.  \n",
        "Если не указан параметр `start`, то по умолчанию будет использовано значение О.  \n",
        "Если не указан параметр `end`, то будет возвращен фрагмент до конца строки.  \n",
        "Если не указан `step`, будет использоваться шаг 1.  \n",
        "В качестве всех трех\n",
        "параметров можно указать отрицательные значения."
      ]
    },
    {
      "cell_type": "markdown",
      "id": "c0fe635d-8440-46cd-9cde-baf8e6c14c8e",
      "metadata": {
        "id": "c0fe635d-8440-46cd-9cde-baf8e6c14c8e"
      },
      "source": [
        "#### Пример"
      ]
    },
    {
      "cell_type": "code",
      "execution_count": null,
      "id": "a6c83946-5873-42a3-a6df-90b15bc63f57",
      "metadata": {
        "id": "a6c83946-5873-42a3-a6df-90b15bc63f57",
        "outputId": "ba0b0537-e017-4786-f74e-dcc9d110d09e"
      },
      "outputs": [
        {
          "name": "stdout",
          "output_type": "stream",
          "text": [
            "Бензин\n"
          ]
        }
      ],
      "source": [
        "item = 'Бензин (АИ-92-К5)'\n",
        "print(item[:6])"
      ]
    },
    {
      "cell_type": "code",
      "execution_count": null,
      "id": "084b663e-d66f-4f50-83aa-40ca857158f4",
      "metadata": {
        "id": "084b663e-d66f-4f50-83aa-40ca857158f4",
        "outputId": "aeff725b-3888-4a45-a049-ff119a078baa"
      },
      "outputs": [
        {
          "name": "stdout",
          "output_type": "stream",
          "text": [
            "АИ-92-К5\n"
          ]
        }
      ],
      "source": [
        "item = 'Бензин (АИ-92-К5)'\n",
        "print(item[-9 : -1])"
      ]
    },
    {
      "cell_type": "markdown",
      "id": "63bf8f11-73db-4939-b496-068a76badc76",
      "metadata": {
        "id": "63bf8f11-73db-4939-b496-068a76badc76"
      },
      "source": [
        "![image.png](data:image/png;base64,iVBORw0KGgoAAAANSUhEUgAABaQAAAC5CAYAAAGgrQjQAAAAAXNSR0IArs4c6QAAAARnQU1BAACxjwv8YQUAAAAJcEhZcwAAFxEAABcRAcom8z8AAJ5FSURBVHhe7f15lBVltu4L597ViyCKdElT9oUifdKnHYIgIEkjSiaidEqCHdgk2KIICtgXCZZCItgrliU9ZZVVanW7qrYKVu1v71PWPvndc87d5559barGvWOcP74/4osnMt80VvCstWJGxIp413I+Y/xGrjVnNG/MeJsZM1eurHL1mMvCCuJWYis1O4it1DQRWzlRyvtU1fo/Hp3lSMGOluri9p9pKlQ8WByj8sTVI6i9XNjTeAG1B2kPnVit/2X7bY6U9n1tlLWdmsUxKo8smkzt5cKLd8yl9iDtoROr9eM9W51xQ8918DMf99xQn/O+fV+/vmj/GbYhr7X/LKRixzJ+/3b5OvW29p/5dEb7z2LnPNL+0698++Sc0x8/XxyPszGWzJ6c8/7BGxfkvAc4VvA+McKcs0unE0K3LQznndk/5/32B1bmvAes7W4bIqn1N+8cdkbXjHDw033vgdd+nnnisZz33p65MrYwDTHnKaZi2xi/v6Pl69RhzhdGkk4Ndfj88ZOy+0dbc97fc8dtOe8luE2hdj/Ypk91b+qLQvCczY9uynlvOPTm6znvEbcoav3Z7//i1Iy5wMFP973z43f+4L1eetOd3k9jN6/b3wcVpgGYDbEdZrBCMye2qW3/WUjGX6hT/9UF24U9VpTtgvvgvaFD/vj54nicLcjd6588brs779uY8x6EORYIsx22qV/YSH1RCJ7zsWdezHkPsE1wO/d9PpntqVoPfvKZI6V9XxtlbU7N4hiVVQ9tofZyYWPLXmoP0h46sVp/8+nfHCnt+9ooazs1i2NU7tm0jdrLheaXDlB7kPbQidV6yv6/OZVC54cPUHspcWNI7aWk08pt1F4ulPI+eZ16xDtfOpXCOY/up/ZSgk7N7KXktDu2Unu5UMr75HXqK9/7wqkULnpqH7WXEnTqMLYkqVnTTO3lQtz7NGjZA9QOvE7d9NvPnbjgJjJ7FOIca17zvpz3p4+eEOp42AbbMl8xorYX+w2bvZj6/Nx8+NPj2jb1nuac92EZMNH7LR31lYqGZw4eZwveJyBpV6FtXV9V6zP//LkTF5wEMJ8UyXGWPLw95/2qZ/flvD9v7ISc9/nAOcNuGyTqdd/zyvuh9w227dq1zTnvw/LYu586t+84SH2lAucLXmfwPoELr1x8nC0fheLm+qKV9GwlbKkoKggmCNr87/PZkuTrUtLLx+bdB6gduLGvan33X79wKoUndu+j9lKCDszspaTp4WZqLxdKeZ+8Tr3l6FynUrhlx8XUHhUEKITCbpekvI9YlrFK+vuE1ueO3uZUCrfvmEvtUWmPUTFpp5artJ1617EnnUphTcuN1B6V9hgVk3ZquUrbqV859qZjcN93vJZQv/Iap1OXTtTnJ+zxo7bj3pYHj7OhbUFbkHznc+1BdWv/6RfbLoy887a9FCvYqfGhrj+64C9i8smcC9sVUqFjMBW6BvOR5OAxg51aEgf2Sckctf74k987Bvd9x2spYfaNc/wwrGt5htrDwNrm2sKIbVes40C44WHPERTr1FGPFZTpgHGuv5hK26kPfPIfjsF93/G6HHmk5U1qj0pbiIoqyk2NK00/Cqj1yJ8/dyqFzc/vo/aotMeomLRTy1XSTv3f9/36z06l8PCWndQeFTc+p4Ug7HZJcgexlRPziC0pVKrKE5YxKfcTW6l5nNiUwmwgtlKTxTm/gn3PQjFumzQgi/zxl+0/y1YslqXkqpr+1F5Kkj5ne+jCi33HQjFuumKsdugIYrEsJbPHDaT2UpL0OdtDF17kuxVy3jOWzZ2a70Te/m0vqfBX4RD+qruQUBsF/mNF7dCmjmkK/4Vk2ldM5ntB8sm0O+c6WSzDgO/dYHY/rz96txd7v23GxWNy3htuvWYmtfsJHisfYc5Z7HtkDOycri2feB/yf6dCWBYvmF/oRGFUbH90Znxlgn+7fB26WCc0HTpsm5e1/4wjnCv4G7PjYu2aPIL2IGG2AcHtpl42Kec9wDYDzjn7OHuQpM8ZtDGC3/EB3H3zifv836fQ/p0KOe9B8DsmFiy9OXgwz+9SbOY1+wX3D4odL9ihzTbFZLYptq05XqHt4AuuHEzGn7OdP6bANeW8z0fY7YJcNn32cbYTO5/kPPvSvuPsQaK2jZ0zznW6tnziPvZh6mI0LG8qdKJSqexzaBbLUjKxrp7aS0nS52wPXXix71MoxuKb12iHjiAWy1IydXYDtZeSpM/ZHrrwYt+LUIzv1a+h9lLyrUG11K7k5zuXNlB7KcninH6q2HciFKP3gtXUXko6D6mldiU/3S5roPZSksU5/VSx70MoxnkLV1N7Kek+tJbalfycNqWB2ktJFuf0U8W+C6EY45c0UXsx3AyH2hnB767oP3x8znsQ9niS8yZB2O8EwXd0MLsftD3qd4ycP62e2sMQNWbBc160Ym2oYyV1j6rY9yAUY9oNTdReDDSa2RnB7604Z8T4nPfsuyEY2EZy3iQI830gDXc/Tu1B4rR97BX1x9lO6NL1OFuQJM8565a1Oe/z8dDeD0O1rRiRy3bMXkoGjRxP7WliBgfz2UgllO2kVLHvPyjGtTeupvZSMmRULbUr+Zk8q4HaS0kW5/RTxb6vohiXN55H7aXk7Jru1F5K3Nm43PV8+880lcU5vxL7ropiXNE4ltpLyQ9q+lF7KWkPUTnr69eh2fdUFGNm42RqLyUDas6i9lLSHqJy1tevQ7PvqDCY77lYu2t9jn1O41U578Pino7aw3BezcDjbHVLZx9nS5K2CEUW/nYuCXlxa3uZV/m+RiHYucxxCn01gP9f+BX6J1H5ri/fOQtdg/GF+fhu4X9JGPxuCj+u21m/+zkPv/2q5Utz3ifNmQPPPc42cOTw42zbDr11nC1J2iKUo0I3pZQq1LEKKUqHjit2TkMYhW0b/49r7Lspgmze/XbO+4blt+e8T4NBI8dReylpD1E5K4vlP4tzfiX2vRTFuGZFE7WXksEjx1N7KWkPUTnr69eh2XdSFKN+8QpqLyWDho2k9lLihod990M5sYfYSk0W5/SjUlWWWv/XQxc5aXDHJd+vhGU8jJL8Y4SSfn2WRUq0b7D+ZwNPz/4BtUdh3rBe1F5pJHmdP1k8hNqj0t7dSq7W/7plkZMGt14+VCdpuXSSjiDW/2xg8zW11B6FK0efTe2VRpLX+cotl1N7VNq7W8nV+i8vrnfSYMUs799nfh2kk7RcifYN1v9sYMMNs6k9CjMvGE7tlUaS17nr7iXUHpX27lZytf5h3yuOYczwwR2vgevP+VmINSuWOM9tXEt94Pr6OcUuKvi1SUbFvoOLaUj7T6MkAmq+FqnY72mLTdLB39/iqzvzHbPYJI0PdLB9w36/WRjFiV3Y32kXO0e+b/qhx2f9L4i7Wc7POJhjFOr/4P5bG6md8ZPnnqJ2w/RLL6T2IElcnyHJYwEcr9gxw15nGJ7ZcC+156NY21y/VOiv4v1af/nBPzmGkaPGdLz2425H7UF+2PwstYPrFi0N07jgNlE/pBOUOa44QD4Fv7vuuO+ya1eYTNrfHgP7cskwmTSbqOJcp19hvvCykJKapCGzjX8Bol9Fx/pfPtzNqV1C2GOsvus+ao/ClMunUXuQupmzvZ9JXKchqZgZdux8kW4Dwl6n4ZIJE6kdPPn0NmpnmLgVwm17FIn3az107D8dw4hxl3S8Tpr5jXdGvahyk5Y75Eq0b7D+ZwOr1v2Q2qMwqW4etVcaSV7nxpafUHtU2rtbydX6zr987qTBghWZfI9pFtJJWq5E+wbrfzZwx4Zmao/CZTPrqb3SSPI6H921j9qj0t7dSq7P/2HeGicNqs6vpfZKo6pHf2qPQtWEBmqvNNx+SO2VRtXoadQeharTB1F7pZHkdZbjeMIk3XrG4S+dNDh5/mpqrzS+N7iW2qPQe9N+aq80MEkze6XR/bat1B6FzpMaqL3SSPI6y3E8eZP0xHe/dNLgjGtXU3ulcfKQWmqPwogn9lN7pYFJmtkrjfOatlJ7FKonN1B7pZHkdZbjePIm6aW/+sJJg+GLVlO7HwxWA/NLSPpY5nXfURNyfEF6D6uldj9h2zXth/uo3eBvS5LXWewakyZs28+4dBa1S7n69Y8SiRcwx8HPYnG78O5mao/COZc3ULsftAmMWv4A9UswxwLMXyqKXSeubfrWQ86CA391uvQ5nW5jKDaegLnGSx7YQf1xiBI7d5+q1od//7mTBpcubaJ2P7gI/884JHEMg/9YZ4+ZkOMLcsbw8dQeBMe84bmD1GdY+sw+ajegLTe/9L5z8cJVicas2DUmTZi2J3F9BnOspGJmjlMsblfe10ztQfzHzMfw6fXU7qfPuUOd0XMWJ3KdIKnjGHC8KTetpT5DsevE/hhHYdpWbDz5SfpaQZRjuvtUtb768WdOGsxZ1kTtlcZ5NeOpPQr3bd9L7ZUGOi+zBxk8bgK1lwuND26h9ihcNKOe2iuNJK8z6/EUtp/78SZp9j9aSkEW/5MoC5L8P0gbW/ZSe6WBzsvslcaqh7ZQexSy/j9OaZHkdZbjePIm6d/9+9+dNFhyyxpqrzSGj66l9ihsfeUgtVcamKSZvdK4d/M2ao/CtDnzqb3SSPI6y3E8eZP0tqNLnDSY1jiM2iuNc2p6U3sUVu6YSu02gM6ToJI+nq1a2P4zCWX7TfTpKcnrLMs/DmttOfagkwYzGi+m9krjBzWnUXsUmloWUbsNtPefpKSTtFw6SctVnpP0i8danHy4fmpnnD7wNGo3zGqcQe2Vxrk1P6D2KNzd0kTtNtDWfRKTTtJy6SQtV3lO0m8c+5mTD9ef8/7Mgefk+Hr2q3Yuu+oK7/26XU92+BhzGxdQOyN43qgkdRxDmOMNrBlC7UHCHGtty2PU7ifJa8SxQMv7P6Z+P+52xYRvqMP/s833/3H9CnM8KO638hmhTfgfut28d/Fk2p7vWxH9KjZJm28NDBOPYpNX8Bhhv5GQiV1b8OuAowrHKfT/miXXieMUil2xSdq/L16H6bth5I/9VJdCbTxOrXs/+TcnH64/5/1ZA8/veH35VfXOS21f1+e9f2T3yx0+xrzlN1G7HxzrqT1vFz1WWILtjwquldkZ548cRe0Gc23+WOZjQ8sL1F4q5i5d5v0MEzd3mzBCh0xqkk7qa2shc76w11FIy1zwnedhFpCwkzQmRRyzUPuymqSTiJmRuadJXmehY0kmaSzgSfU5f+xxDhw79AKgH8FLmK/LR/Da+09SSvp4tkrLHXIleZ3lWe744C9fOmmw6ObV1F5pDBtdS+1RePrF/dRuA+39JynpJC2XTtJyleUkrVKpVCqLhZW9HMH/BWT2KKDexuyVRjOxVSKoETN7FB4ntkrkfmKLSpLHspk0xtNjVf/roYuctHBPmKSSfARCML4Oam3/WdH659tH0/4XhXGnd6X2SuOOS75P7VFI8lg206/rd9Mo0bVW/Y9HZzlp0X7SpKSTtFxfi0n6d3dPpv0vCmPPPJXaK43bJg2g9igkeSyb6XfyCelM0v91yyInLdpPmpR0kpbrazFJf/DgXNr/ojDm7F7UXmncevlQao9Ckseymb6nnJjOJP1ftt/mpEX7SZOSTtJyfS0m6V9sXEr7XxRG/aAftVcaN10xltqjkOSxbKZPty7pTNL/8uJ6Jy3aT5qUdJKW62sxSb/z5O20/0Vh5LmnU3ulsWLWBGqPQpLHspk+p56cziT98Z6tjuHWa2Z2vDZMHjfCOe/M/sfZ8+EelL5ufx9Gte0/vf3bYQozSfv3xXHzHSvMJI0/cTYq1K4wMtdoVOzPYosp+NdM+f5cN8wk7b8u/EVUnL+4Cv6FW5yYBf98G8fCX+Qdp4Pb1uX0u3yMG3quB/MZagaeTe1BNq5s++8nzCcFxzEwv5R7bqgveqxlc6dSe5Aw7Qp7LCCZWwrx3s7NicULdOl0ghc35jNUd++Gc0ZRmK8PMGqt+sO+VxzDzQvrO16D5zau7Xj95P1NOT7GT557yguUee9/3f4+jIITWL79ik3ShSbloIpN0phs/MeSBDkoNoHi+y3iHDPsZFhskmbfexC8H2GFCd7frmLfqSCROQ79s9q9O57O6XcMf1//2cvP5fj8jBh0HrUHMcdzT3+cLypJHOvlpx+h9iDX18+h9ihIjlUo9lFIMv5jhg+mdkPvHt2j9mfZJP2bdw47hhVLF3e8Ntx5683OY+vXOaNrRhznY7gHpa/b34dRcFLIl2FKMmkExWuP9+54hcmk/fsWOpZU5vsekpqk0S6aYbqSZtJQnOtMMpP2yxyHLiBvvrgrp98x9ux+3uvXD969hvZ7w7Ahg6k9yDNPPIY2UV8UDr35OrVLQZsMzG9YvGA+tQdJ+ljMHpW0j9e7Z09sE0WySfqXH/yTY1jWeGPH6yA7dr5I7UHcg9LX7e/DyD/wCn1hjWSS9h+TBUg6SRuFvaZC8uLUTlQFJ0P8oQ9TlHJHHJV6kqbX+eobP8npd3EYOmw4tQfZe+Cn3k/39Mf5opDUcUaOGkPtQa5btJTa81Forgh7LFyjgfmjkGb8e/Xqje2iSDZJ/+z3f3EMS2+6s+O1wd3II2jzv/fb/duT/YrJ7G/krwMHVWySNscyxwse269ik7TkWMVkvtksuH/UTNocC/ub18FjGxWbpP37+9sZ5Sspce/M/pB5bd5L5d8Xf1GI13QReentX+b0u3y4m3own2HI8NHUHsQc6+71T1K/lBfeepfaoxDmOhcsvZnagyR5rCQx7aru25/6JVwxpyHUdfbs3QfbSGWOHbaM2Fp16Nh/OobFK+/veJ0E7gmC75NUmEw6rMJk0pWgMJl02ev5wx/m9Ls4DK4ZT+2VxvzGO6k9Ckkey2Z6VvdLek5jaq1iX0FZKtpPmpR0kpbrazFJ7zzyEe1/UUjya2dtJsmvEf66fCVxz+r+6UzS7/zL505atJ80KekkLdfXYpJ+8Z2Paf+LwhB3kmb2SmPBiiZqj0KSx7KZnn1SmqR/8+nfnLRoP2lS0klarq/FJP3me5/Q/hcFfDc4s1cai29eQ+1RSPJYNtM7rUn6H+atccqRqtMHUXsUqkZPo/ZKo6rTSdRecVyxnNsjUNWjP7VXGlXn11J7FJI8ls2kMZ6qTjzZqTpl/9+ccuQ7lzZQexQ6rdxG7ZXGP7oTDrNXGl1bPqH2KHxrUC21Vxrfq19D7VFI8lg2k8Z4wjmqzjj8pVOOdJ7UQO1R6H7bVmqvNL7Zsz+1Vxr9dx2j9ih8b3AttVcaJ89fTe1RSPJYNpPGeMI5qka886VTjnS7rIHao3DaHVupvdL4tnvDmb3SGPTiMWqPQuchtdReafResJrao5DksWwmjfGEc1RNfPdLpxypntxA7VE4r2krtVca3+vVn9orjfEvH6P2KJzsTtLMXmmcce1qao9CkseymTTGE85RdeV7XzjlyGlTGqg9CjVrmqm90ujk3nBmLxcuf+Ujag9y+WtHqT0K3YfWUnulcd7C1dQehSSPZTPS8VRVVUXthcA5qpb+6gvHFnARBub3c87lDdTuxxxr9vMfUL/hwrubqd0wavkDzvSth7zXYdpWDNOupI6Fn2dc6v17suP8fjq7N5zZDf79k2hb0oRt09V7jlK7HxwrzPF6D6uldoPNMTPXGKZdwxetpnYD+n9Sx0oa06YwbStG31ETQl9nsfEUpPaOJ5wFB/5KffnAOaqafvu5YwsIDLMzzp9WT+1+wh5v6j3N1G64aMVap+GZg95rSRsLsfCF9xM5ljkGfhY73km9+1O7wb9/Em1LmrBtWvbjj6ndz4CJbYsa8/npP3w8tRvMMfDTtpj52xb0BRm/pInagyR5rKRAm658/DXnu527Ur+E00e3TdIY88zvp9h4YoSJnx+co+rh33/u2AIuAD/7nDvUmbnm8eP8foZPr6d2P+Z4xbjyvmZqN0y5aa1zw3MHvddhj1kMHC+JY+EY5jjFjneye8OZ3eDfP4m2JU3YNt359sfUbjDHGTxplnPHWx8e5/dzhjtJM7sBxzLHSSpmOE4Sx7r3nU9DH+vSpU3U7mf0nMXO99yJkPn8hDkWSOo6cYykxpMhzLGKjSeGtI04R9Uz//y5Ywu4APzs3vd0Z8nD24/z+xl7RT21+zHHK8a1a5up3TDrlrXO7TsOeq/DHrMQDXc/7tzzSlsmzfwS/Mcodrxu1f2p3SA5VhaEbdP6fR9Tu0FyneeMGE/tBuxvjhG2fWkxZfEq57F32yZq5vcz7YYmajegv57QpSv1BSl2rKRJMv6Ye/AzzLGKjSdG2BgacI6qVz/+zClHLppRT+1RaHxwC7VXGt3dG87s5QIGDrMH+eHBj6g9CufVjKf2SmPOsiZqj0KSx7IZ6XiauWQVtRcC50j1W/CSZGJdPbVHYdVDW6i90sC3djF7KWje0/akYGDbSGk59CG1B9FvwZOj34InRzqeoowD75v2mKMc0ElaTpqTdJboJC1HJ2k5aYwnb5J+91+/cMqRybMaqD0KTQ83U3ul0atPf2qvNF7++VFqj8KQUbXUXmlce+Nqao9CkseymTTGE85R9bt//7tTjkybM5/ao3Dv5m3UXmn07tuf2iuNt97/E7VHYfjoWmqvNJbcsobao5DksWwmjfGEc1RtOTrXKUdGzziN2qNwzbqR1F5pnFLdidqjUmWvTmv/mYR+2f6z0vVA+88klOSxbFYa38/eWrXt6BKnHBkz42xqj8K16y6k9kqjW/WJ1B6V9k5ko3SSlksnabnSmaSfO3qbU46MmzGQ2qOwcN1kaq80ulV3ofaotHciG6WTtFw6ScuVziTdcuxBpxwZXzeM2qOweN1Maq80Tq3uSu1Rae9ENkonabl0kpYrnUl617EnnXKktm4UtUdh6bp6aq80Tq0+hdqj0t6JbJRO0nLpJC1XOpP0i8danHzct2uNM2jc+dQXZMzkURi01FcKLqgbT+1RuGHdYmqvNE6tPpXao9LWh6yUTtJy6SQtVzqT9CvH3nTysXbXemo3uAco+F6K2X/wuKHH+YJcWHcJtfsZO3m8U7/yGurz07juRmpn3LxpFbVHIW68DIhXmGN1r+5B7VFxz1lMYbaRKswxi03S89p/dmv/WUhhJmlznKntP6PoC5cjbS89mddRY1jb/hMKHpup0MSK/YPtKNSuQsfCfsF9o8btNZemtpcdKnadhYRjmbiFiXvYSfqPLqZdYfqcX61Vbxz7mZOPdbuezHk/a2l9znv43YN0vPe/joJk/4vrLqP2IPNXLqV2PyvW3UntpeSu5g3Oo288S31Sthx8IVTsulf3pHY/OM6QcTXUF8TdtpjQ6bGdtGMW0rb2n4UUJpP2rrXtZUFJMukwxyskNsHEPaZRnEkaCrajULuSPFYx+Sfpv7b/jCP/JA3O8N5xSTJpE38cE6+L3Q+j1qoff/J7Jx/rdz9H7UHcA+X8jIpk/0vqplN7kAWrbqJ2Pzc9dB+1BzmxS2dqj0rceAFJ7HtU96Z2Rpi4uecsJjOAwmwbRmEHYbFJ2rRrSPvPQpJM0sjs4qhcJuliC6V0kobC3Asm/ySdRDLgfwKB8BSRT1EnaYlaq/Z+8m9OPh7Z/XLO+7lLl+W8dw/gPLXnbef+rc92vPf7pQwbV+u89ME/hTrOpXWzqD3IdavuoHY/tzz0CLX7iXttfkwckzxmmGP1qO5D7UFwH5g9iHvOYjLbFOroEoU9TrFJGpMMJgX/AM+nsJN0Etfon0gRO2RxYdoYRklN0qZUVEiSSRoTa5zFLan4GJlJ2ixEhfp5lEka9xR9L2x/aa068Ml/OPnYvPttas+He0BqLwUT666m9iisfOhJaq80elb3o/aotPUhK6W/OJSr2MQqUZLHslnp/OKQffNSOaDfgicn6W/tau9ENkonabl0kpYrnUn6yJ8/d8qRSTPrqT0Kt69vpvZKo2ef/tQelfZOZKN0kpZLJ2m50pmkP/jLl045cvnsBmqPwl0bt1J7pYGvPWT2qLR3Ihulk7RcOknLlc4kve/Xf3bKkUsvn0ntUbj17vXUXmn07FVN7VFxOxAmQxvBL3+YPQq/I7ZK5Clii0qSx7KZ/05sSYNzqFQqlUqlUqlUqkhq/b8fGO1UGnde3Mfmmunz7T9t08L2nzbK1trwxe0/bVQaNdNKk7Xzxkcrh9K5LmvGn9aF2m1gy8wzqD1r5g3tTu02gLWT2bPG1nYBW+/n2wvPpXYb6Nf1OzbnaBJ562zrf2yc4lQat088SxNpuTSRlksT6cqStfPG71dfROe6rBl3xinUbgNPzh1E7Vlz9Yg+1G4DWDuZPWtsbRew9X6+ecMoareBfid/r7IS6f/jyXqn0lg5+XxNpOXSRFouTaQrS9bOG7+5bwad67JmzFk9qN0GHqsfTe1ZM3fUGdRuA1g7mT1rbG0XsPV+vn7jpdRuA31P6VRZifRfn1nhVBq3TBupibRcmkjLpYl0ZcnaeeO99QvoXJc1o8/pQ+02sOnaCdSeNXPGDqB2G8DayexZY2u7gK338+VVddRuA327da6sRPpfn7/HqTRurLtAE2m5NJGWSxPpypK188bPH72JznVZM2rA96ndBh5ecgW1Z82s2sHUbgNYO5k9a2xtF7D1fu5efQ2120CfU0+qrET62CuPOYz7lszBhXowf1ZMHtv2P1e7dPoe9YPGOZfZfJM0kZZLE2m5NJGWy9p54/DTd9O5LmtqzjuT2m1gXePV1J41dReOpHYbwNrJ7Flja7uArfez5d7l1G4D1d1PsTlHk6gtkf7nt3Y6jFsWzHXGDj2f+gzu/s6VUy7xXmN7vA9uExUcy5DPz+zghqvr4I8j/Nc0c/7gv6UMCttK/rtd3EQa5zJtC2qDC+zmX3oua/8ZRnETafxTftOu4H+dw393i/Of6OIm0oViZgSftJ1xE2ncJ9Ou4H8gxHvz3wRxHwu1nSluIv1HF9O2oPAfCfGfCQH8Sfx3x7AqFDOoULuLKco+fiEu+c6NGKFtEO4rtgn9b3P3/Wgzneui4B7OubvxWu/1ZeNHee+D24RlxPkDqD0KZg15d/cPPbqc2KnoGlSItTctofYkQDt3bLiL+opxxYTx1B4VxKlvrx4dcVs8ZzrdLgxYO5k9CnH6VZAk22XY+8wmr41x25nk/cR9NP3qvDNPi9W2Z9c1UXsU0CaMT/Ma7TLvo1Dd41Qco9QqlJMkpbZE+p8OveUwbly8wBkzYij1gWcf3eA10G/D9hMvHJ9jM2BbHJP58sHOYchnB0vnXw1/EsJxCiXS5kZJlFRFOnhetDPOdSdVkUYbbEukjfLFx9jTTqSNcF6WFPolvbdJVaSLnTdKkp+EisUsSpuSuo7gcdjYRD8Lfb6fPP8jOtdJwRzsHi7Hhverb2rMsYVl+ODzqT0KTzx4r9eWn76223uP11gDgtuF5b5VN1F7XNAu6VrmZ9qkCdQeBay5s6dNob4oYO1k9igE+1kckmwX8Oc3cduZ5P30Y8YD84Vh28Z11J4EnU88sWB+WIzePXvg2tISzlXaRPqDX7znMBpvWOaMGjmy4727bQczZ9R5ttdefsXpU13dYcP2C+Zf07FPGCZcMiHn2H5f89NbjrMZ8tnBousWwh9WHed2OQMGn2DLl0hjW8l5jMIm0v7qFjtP0MYWZrw3Vc1ikiTSpk3s+LAV67T+6lwYhU2kTVJnCCpoQ3XTX00tZSLtb1cwZsWSQnNdYe8lFDaR9ld4QVDMZoR7WMpqtL9d22DwKctEWhozNjZFD75vvPIaneuK4e7aAeZr2DCvdu7s/bGPN1/j5+ZHNh63bxiGDR1K7cW4Y9VtOW2Dbef2Fu812mnmfrPWROGupjXUXgx/u9bee3+OD+udf12MwuVTplB7MVjM8BNrtX8744sC1k5mL4a/XfnuGXxR+1nUdpk+ZYAN99DfDmOPStT76W8Xi5nJjQ68ve84XxiefuIpag+Dv23MF+xzUnr16oXjJCl/m6PkJFHVlki/+9tjDuOGFSudkaPHUR/j4cebvYtgvqg8/cyuvMcsdK5rlzTCn4RwnHyJdNRzlKoiDQVteB98OMinUlakgwqzjV+lrkgblTKRLqRiSSH0VxdJ0lrKijSS2mKxLLWyTKSLiR0HNv9HOfA+39xynF7+8WE618Wl4bqlaAf1hWHI8BpqjwLa8dKbBzve/+Tw+7Ha1nTPOmqPysUTJ7sPIF2oT8LkaXXUHoV717V9PMG8jxszrJ3MngRoF9rHfMUodbuYPSxJ3s8gaNuqpvuorxhPNLdQe1TQ9zEGmE9Kr95eATYt4VylTaSPfPTfHMaSW+9yRoy9iPpswG07tYNrlq1K8yZJpX9sKJf+saFcSSXSXydZO2/sPvBbOtdlzeCasdRuA7c/8Di1Z82kGXOp3QawdjJ71tjaLmDr/dz83OvUbgM9q/vanKNJ1JZIH/zkM4dx032Pe8kqYP6suHDKLK9NJ3bpSv2gYXmTzTdJE2m5NJGWSxNpuaydN3Ye+YjOdVkzaOR4areBVQ9tofasmVhXT+02gLWT2bPG1nYBW+/nxpa91G4DPav725yjSdSWSB/602dOpTFfE+ko0kRaLk2kK0vWzhvP//QjOtdlzWA3kWZ2G1i1fgu1Z80kN/FidhvA2snsWWNru4Ct93Pjzr3UbgMVl0i/929fOJXGwptWayItlybScmkiXVmydt547d2jdK7LmqGjaqndBtY80kztWTNlVgO12wDWTmbPGlvbBWy9n0+9sI/abaBXnwpLpP/Q+nen0rj+1jWaSMulibRcmkhXlqydN/b+6k90rsuaEWNqqd0G7n90G7VnzfQr51O7DWDtZPassbVdwNb7+cyrB6ndBnr3rbBE+oR9f3MqjW/Vr6F2G/jmpQ3UnjXfvnUbtdvANwbVUnvWfGfDAWq3gX/o0Z/alfy48yG128D3dnxC7Vlj69gEts5ptq4BwNa1U9d0Obo+lR5ch5dIVx/80qk0OjespnYbOGFiA7VnTddVW6ndBr7jLtbMnjXdNu6ndhv4Rs/+1K7kB4k0s9tAz53HqD1rbB2bwNY5zdY1ANi6duqaLkfXp9KD6/AS6YFHvnQqje7XrKZ2G+g6qYHas6bP7Vup3QY6Da6l9qw5bfN+areBb7kDnNmV/CCRZnYbOGf3MWrPGlvHJrB1TrN1DQC2rp26psvR9an04Dq8RHr8z750Ko1+C1ZTuw30uKyB2rPm7Du3UrsNnDSkltqz5vzH9lO7DXzHHeDMruQHiTSz20DNS8eoPWtsHZvA1jnN1jUA2Lp26pouR9en0oPr8BLp6b/4wqk0zrluNbXbQL8pDdSeNUOamqndBroNraX2rBn7xD5qt4ETevWndiU/SKSZ3QYmvHKU2rPG1rEJbJ3TbF0DgK1rp67pcnR9Kj24Di+RXvDBF06lMXjRamqXgEWVwbaVcOblDdQugbVr+s4P6LZhGXdXM7WH5YK1O2g7YDtn5uIcm5Sew2qpXcLoO55wOvc53WtPtwHDnFmvfUS3k3DZ0/uoPSyIC9oTtH+7c1ePoF3Cie4AZ/aw4PzBtuVrb6WQ5LXhWEkeb9YbR6ldimkXxgPzS4k7Nlk/A7DFnTfizmmlIok1AJy/4LaO+4n5l20jJYm10z/XnjZhFt1GShLtKhVx7ydbO/ONCwlx1yeAe2n6mCGJvhZ3fSqGaSvzJQmuwz1PVevNv/7CqTRGLV5N7RLMjWC+OJw7tYHaJZSibRPvbqb2sIxf/oDXpjnbDuXYYes/ekKOTUofd7Fm9qigPaytUmZv2UftYTHtMO+vfeMj773Bv62ULr37U3tYWBuC7a00krq2Kx593TtW3P7l57o9R6ldwkntyc3Zl7b9d1i2jZS4YxPt8Lel5tqvksO480bcOa1UJLUG9BgwLOe9P45RSWLt9GNru5Ik7v0Mrp24r3h//cG/HrethLjrEyjVnB93fQoD2o35hPmSAtfhnqeq9f7ffe5UGhctaaJ2CbgJQb7rPiWybSUMmVZP7RJY29h2Eurubab2sEy8cS1tFzjTHYxsn7CcNnw8tUsItmnhjw7S7SRcu3UftYcFcUFb8Lr63KHe6zuPfNrRxuD2Erq6A5zZw2LawGDbVwJJXVsp4nTLWx9Te1jqH3/NaxP6F94n1ca4Y9PfjuDruPNG3DmtVJRqDQBsWwlJrJ0GM78NnDiL+iUk2a6kiXs/2drJtpMSd30CtdetOq5tJ7sP5GxbCXHXpzCY9jJfUuA63HNUtT7xx8+dSmPy9U3ULsHchKBtwNgJOTYpI6fXU7sE1ra41K9tpvawTL+5bTK4efvBHHsSMTtrxHhqj4ppa9x2rfjRPmoPC85v7iUw9uD7KJziDnBmDwtrg2mv31ZJJHVtLHZxuXffx9QeFtOmIP3cBzi2fVjijk1/W4ZOmpVjjzs+485ppSKJNSCIiSHzSUhi7VywYbvXlu916Ur9UUiiXaUi7v0Mrp3jrmz7CF1wLZUSd31iJNXP4q5PYUiqrYXAdbjnqGp9/qPPnEqjblkTtUswN8HPaecNpdtKqJ1RT+0SWNvu3nmAbhuWJQ9sofawzL21bTIItgO2890F0W+TMqBmPLWHBW3yxyqJNoHVz+2l9rCgDWjLdfc8nmM3bfTbpJxa3Z/aw8LaYNrrt1USSV3bqh+2VX/jjkk/jx74iNrDwO4lGHVZ20c84rQz7tg0bdvyy78cZ487RuPOaaWiFGvA9CWr6HZS4q6dZo4IgvWBbR+WJNb0UhH3frK108TNv52UuOsTMO0wdHIfjth2UuKuT2FAe+P2u2LgOtzzVLW+fewzp9KY19hE7TYwoa6e2rPmlnVbqN0GzncXa2bPmvUte6ndBnq4A5zZy52n3ng/Z2IPwvYJS9z9/ZzoLjhJHu+5wx9Re9bYOjaBrXOarWsAsHXt1DVdztd5fUpiPQgDrsM9T1XrwU8+cyqNhuVN1G4DE91Bx+xZs+qhLdRuA4NGjqf2rNnoTlTMbgM93QHO7Ep+MPEyuw3sPPIRtWeNrWMT2Dqn2boGAFvXTl3T5ej6VHpwHV4ifeTPnzuVxjUrmqjdBibNrKf2rLl9fTO128Bgd7Fm9qzZ/Pw+areBnn36U7uSHyTSzG4Du3/6MbVnja1jE9g6p9m6BgBb105d0+Xo+lR6cB1eIv3BX750Ko1FN6+mdhu4fHYDtWfNXRu3UrsNDBtdS+1Z8/SL+6ndBnq5A5zZlfwgkWZ2G3jjl8eoPWtsHZvA1jnN1jUA2Lp26pouR9en0oPrQCL9v6v79ncqjc5dTqJ2GzihUydqz5qup3Sjdhv49ne+S+1Z0617T2q3gW9885vUruQHiTSz20CP3n2oPWtsHZvA1jnN1jUA2Lp26pouR9en0vPt73ynrSK99eg1TqUxtXEwtdvAmBlnUnvWLFg3ltpt4OyantSeNSt3TKJ2G+hWfSK12wAmHktlc9tOa/9pm37Z/tNGLWz/aZueb/9pox5o/2mbbG0XZOv9vLj9p41qbf9Z7vKuo/VHR290Ko3pjSOp3QbGzhhA7Vlz3bpLqd0GzqnpQ+1Zc9uOmdRuA92qO1O7DXjTj53SRFouTaTl0kRaLk2k5dJEuvRqS6S3H7vLqTSuaKyldhsYVzeY2rNm0bpp1G4DP6jpT+1Zc0fLfGq3gW7VJ1G7DXjTj53SRFouTaTl0kRaLk2k5dJEuvRqS6R3HtvoVBp1jROp3QbG142g9qxZsm4utdvAgJozqD1rmlpuoHYbOLX6ZGq3AW/6sVOaSMulibRcmkjLpYm0XJpIl15tifQLx7Y5lcasxmnUbgMX1I2h9qy5ft211G4D59acQ+1Zc1fLSmq3gVOru1G7DXjTj53SRFouTaTl0kRaLk2k5dJEuvRqS6RfPvayE4X7d92PRYf6wjB43GBvf8Pi+xZ3+OIee3bjbGqX4m9fnPb4ubDuQmqXMvGqiV6b6lfWU7+UZeuWUbuEuqV1JYnZuTXnUruEYLtu2nQT3U7CvS33UntUTNuYT0r36u7ULsEfryTb5h4nCQ1xCbYvrpI6BiOukkikv3Dxt2mbS1wlkUjPc/G3C+1MQlET6SYXtOOI9y5X/naCbi5SxUm8zD1kKtTusIqasE51MTHxy29n/rCKk0j/1YWdN9iuqOMh6v3MFzO/ivkLKU4ijT6E89Z6776SaY+fKEo6kS7U90s1v0BtifTrx/Y7UXhw1yavUcwHZi29yjlj4NnUh/1+eHA79YFixy7GlY311C4heP4d778Sq02Gi+supfYooD3zVy6kPinL162k9jgk1b7zagZRe1Ru3XRnIvdybcvD1C7F37eSaBfoXt2D2iUk1ZYg7nHjCpMmFseklUTb/DrDJaljxk2kzaJtlFTbkkikg+14zSVOMmgUpyKN8wfbwOIVJYZxK5iFzsnaLVGchNUkM4UEf5T2xa1IF2tXnPEQ534WipmxR21X3Io0zssS6aAtikpRkWZ9H++TKBjkU1sivefYB04UHtrVjIBSXzGw39Bxo5yd7x/wwPue/fp0+OMcG8xtXETtEtj547TJcHHd5dQeBbTnmpWN1CflxnV3UXtUOnXp7N1j5pMysGYYtUtYuWmtFy8D+hjbTsIDLU9Tu4S7mjfn9P0k+hjoXt2L2iU8+sbOjtfjJk9IrG3uceLK3EczoWOiTOq4SSrJ4yVRkTbJtKlqRqmmBpVEIv1HF7QnSFxpIi1XKRNp3Oeo1cBSJNImeTYsc4mipBPpYFIf9IdVKRJptM3ItN1vC6u0Emm0D30Ov8GEzFyTlNoS6bc+OepEYcPu59EY6isG9nvm0IGO9/dubUuczfs4xwZXL2+kdgk4/+4P3u94f9tm74+kcraJwoS6GdQeBbRnwaqV1CflpofWUbuUoePGOSd26UJ9UTl/ZA21xwGxe2LPG9QXlnUtO6hdAtrBiNu2HtXV1B4HtAvjgPkkuMeJKyTOwYp0EsdN4hhGSR4LiptIoz1Y+PyCLW51qRSfkUa7oizOQZUikcbDiFEw4Qmrr1siXSzBDqNSV6QhbBMlmU46kcZ7hrRtpUikg8I2USq+aSXSWCeC7UObk1JbIr3vk1YnCht37/FuLvOBuUtvdM4aOIj6wMJVa7z9e/X7vncsv6/YsYtRv/xWapdi2nhil5Ocp/ccottIubTuSmqXgDYFCcZQyq0PPUrtEhAn1ja2rYRBI8dQuwT0R9Oey6+6hm4jZUPLq9QehyTiBXpU96V2Cf6Y4TXbJgru8ZIQkhjz2ccNMCSgpNqG4ySRCPqVREUanxU01Wh8fCIJJZFIm98ooG1oY1KKkkib+PjxP4D4P2/pT6olipp4+dtkMCrW7rCKkrCiLwXPbRIa/Az6gFRRE+lC50ZimsR4iHI/C8UsKPiiKGoiHWyX//z+mEVJoI2STKSL9X08DJhtov7WIZ/aEumDn3zmRGHz7raPZAwfN4H6o3LhlFnO2QOHesdm/jA0LG+idhuYWFdP7Vmz6qEt1G4Dg0aOp/as2diyl9ptoGd1f2q3AUw8lsrmtiWRSJdCpahIJ6U4FelSKm5FupSKW/ktlWxtF2Tr/YxbkS6lSlGRzkLxEmmb0URajibScjSRjoY3/dgpTaTl0kRaLk2k5dJEWi5NpEuvtkT63X/9wqk0rr1xNbXbwORZDdSeNU0PN1O7DQwZVUvtWfPE7n3UbgO9+vSndhvwph87pYm0XJpIy6WJtFyaSMuliXTp1ZZI/+7f/+5UGktuWUPtNjBtznxqz5p7N2+jdhsYPrqW2rNm6ysHqd0GevftT+024E0/dkoTabk0kZZLE2m5NJGWSxPp0qtSrkOlUqlUKpVKpVKpVCqVSqVSqVRlIXwVCH79VWncT2w2YGu7AL5CjNmz5lZis4VmYrMBm8f1DmKzBVvjZms/A7aOz8eJzRbw1VzMnjW6Psmx9V4CW8eAzWu6BFxHVdVHK4c6//cDoysO99L0c15y6ee85LL181G2fp4W0s8hy9XK5jkbeHvhudSeNeNP60LtNrBl5hnUnjV3XtyH2m1g3tDu1J41tt5LYOsYwJzRPq+Vu9pyk3++fbTzvx66qOJwL00Tabk0kZZLE2m5NJGWq5XNczbwk8VDqD1rxp3eldpt4OnZP6D2rLnjku9Tuw3MG9aL2rPG1nsJbB0DmDPa57VyV1tu8vvVFzn/sXFKxeFemibScmkiLZcm0nJpIi1XK5vnbODNG0ZRe9aMO+MUareBJ+cOovasuX3iWdRuA1eP6EPtWWPrvQS2jgHMGe3zWrmrLTf53d2Tnf/x6KyKw700TaTl0kRaLk2k5dJEWq5WNs/ZwJ7GC6g9a8aeeSq128ATV4+g9qy5bdIAareBq2r6U3vW2Hovga1jAHNG+7xW7mrLTX5z3wzn/3iyvuJwL00Tabk0kZZLE2m5NJGWq5XNczbw+o2XUnvWjDmrB7XbwGP1o6k9a1ZOPp/abWDuqDOoPWtsvZfA1jGAOaN9Xit3teUmHzw41/mvWxZVHO6laSItlybScmkiLZcm0nK1snnOBl655XJqz5oxZ/eidhvYfE0ttWfNrZcPpXYbuHL02dSeNbbeS2DrGMCc0T6vlbvacpP31i9w/vrMiorDvTRNpOXSRFouTaTl0kRarlY2z9nAy6vqqD1rRp/Th9ptYNO1E6g9a26ZNpLabWDO2AHUnjW23ktg6xjAnNE+r5W72nKTX2xc6vyX7bdVHO6laSItlybScmkiLZcm0nK1snnOBl68Yy61Z82oH/Sjdht4ZNFkas+am64YS+02MHvcQGrPGlvvJbB1DGDOaJ/Xyl1tucnPH73J+dfn76k43EvTRFouTaTl0kRaLk2k5Wpl85wN7F59DbVnzagB36d2G3h4yRXUnjU31l1A7TYwq3YwtWeNrfcS2DoGMGe0z2vlrrbc5J0nb3f+5cX1FYd7aZpIy6WJtFyaSMulibRcrWyes4Fddy+h9qwZee7p1G4DG26YTe1Zs2LWBGq3gZkXDKf2rLH1XgJbxwDmjPZ5rdzVlpscfvpu59grj1Fct8eutTdSf1aYdh186i7qB65fE2m5NJGWSxNpuTA+bZW1iTSb52yg5d7l1J41NeedSe02sK7xamrPmsY5l1G7DdRdOJLas8bWewlsHQOYM9rntXJXW25ycNs65+M9Wymum9r97HzoNqdLpxO8bW+9ZibdJg44Ns4RtON8zG5w/UkkrMtcgjfc2IIMcQmjpBLpv7rgf/wzbXNBm75wCdsuKIlEutYF5w7KHytwxCWskkqkC8UMQrxY2wspiUT6DBd2XsQSbYYP91SipBJC3Cd2r6L2MUgaY6Z8MTPK1+5iSiJuG1xY29DmqPezlc1zUdm4cjHa4LHlrhV0m7Bsf2AltUdl8rgRXrvOO7O/s7/5QbpNGGoGnk3tUTCxCsK2DcODNy6g9qi8t3OzM26o92+XvbixbcKwbO5Uao8C2hSMV6E1uxgzLh5D7XEwbZx72QXUH4ak7+U9N3hf3+uB12ybsCQ5BpLqYwBzhnuctJQvJ0lCbbnJvh9tdv75rZ0U103thlsWeB8Yd/Y+s8kDrxfPmU63lWKODXZsuOs4fz67wfXHTVg7zu+9Kyxs063tZVHFbddUF9MulhTCbhZpJDjz2l6GUtxE2iSiIChmC6u4iXSxmEGIk0lyJIqbSP/RxbQtqNdckHyhb8GP+IZV3IQQfce0K5iQ4j1iCiGe2CZs/4fYtUpUKGaF2h1GceJm7hNrm/FhUodwLyX3s5XNc1EYO/R8r33v7v6h88oTD3qvn753Jd02DM+ua6L2KKAtmPvx+uHblnnvg9uEZcT5A6g9CbD2xGnb2puWUHsUzNqLeOE97iXubXC7MNxwdR21RyFujIJcMWE8tccB7btyyiXemGD+MCR5LxEzk0OZsXl347XHbReWJMdA3149vDbh9Xlnnhbr3mLOcPdPQ4VykiTUlpvs3fG084d9r1BcN7Ub4H9u49qO9z957qmi+4RlzuUTvZ/Bcxjy2Q2uP07CiqozEpgwTzJIwIpt41fcRNokBzhnMClE4hUleTCKk0gjgTFJAouHJEZBxU2kC8XMyLRP2s64ibR50Cl2XulTddxEGskqhNgV61OF4sokjXFQhWImaTdTnLjhARYJs3m48AsTOirVfkni0MrmuSi4x8p5v/7Om4+zSXhmw73UHoVgO+K0a8Sg86g9CdAuxI35wnD/rY3UHgW0pdBaKOH6+jnUHgW0Kc79CzL90gupPSpP3t/kJoc9nZsX1jtjhg+m24QhyXsZBO2K07ZSjwFmDwPmDHf/UqtYTpKE2nKTnzz/I+efDr1Fcd3UboD/2Uc3HGfzvzdgu2LHY7BzFLIbXH8SH6EIk7zAb25WGCXRLgjnDSYvsOEBIKqS+ow0i1mxOBZS3ETaiMUMQsJl7NJ2JvUZ6WLnRYKIinlYJfERBShsIi0ZA3H6gl+FjpNFIm3EEmm8D45NSRxa2TwXBfdYoWxh2bZxHbVHAe2YPW2K9/qh1d7XmB63TViGDz6f2uPy09d2x2oXuG/VTdQehbht8bN0/tXUHoWoa34+pk2aQO1RMW27cfECZ8yIocf5w5LkvQyCNmIcMF8YSjUGQJx7iznD3T9Nlep8bbnJmy/ucn7zzmGK66Z2Q5/q3t42h9583WPWFdOK7iMFx3vmicdC2w2uP41EOkyiHVSpE+kgaX60wwjnDSrYrmB1rpBKmUibX7kb+V+HUSkTafPbDiBNCtNKpNnfERSTdPt8KnQcGxPpoGAL+wDSyua5KLjHcjqfeKL3es/u553RNW2fSQ5uF5bmRzdRe1QGnHN2ThujMmzIYGqPC9qFtY75wnLPHbdRexQQqyBYj9m2xVi8YD61RwF9K9iu3T/aSrcNw9TLJlF7FNDnVyxd7L3GT7wPbhOWJO8lMHkVePDuNXSbsJRqDKCNgPnCgDnDvb40VarzteUmb7zymvPBL96juO6O1zu3t3TcXL995gzvP9S4Qa12mp/ekuMLi/+4r738ynE+HNdvK2Q3uP6wCSs+DtFxfhh8KpYowxdMzIpJkkj728WqWSyR9kua6IdNpIN/cBlUsXPiWiTtkiTS/nYFHyJgYzHzxxbvJQqbSMeJGdpnPusVVpKE0N+u4B/BFUpIzUMIfkoU9jr8n3dm+xQ6TqkTaX+7gjGTJNK4xjBqZfNcMSZcMsG00SNoH/CDH3hzrt8n5eknnqL2Yvjbtfbe+z1b586dnVEjR3qv8TNOu4YNHUrtxbhjVVsl3BD0x2mT4a6mNdReDH+7TMyC7UHcsB77bWFZdN1Cai9GvvzAz4L53ncHU18YLp8yhdqL4W8X8pUDb+/LaUfjDcs6+lwUot7LYjHb/MhGz44xGvSFJeoYwDg07Qr2JfQ71l4JmDPcYySpuDlJVLXlJq++8RPnlx/8E8V1U3s+Xnntx+J9ioHj/bD52dB2g+svdUU6WMkMq1JXpOP8+riUFemgJO2SJNKFlC9mjLBK66MdELYJm3iVuiJt+n/Y9vgliW8hFTpOqRPpQsqXSAerz5I4tLJ5LgnuW/uQt3AyXxiefHobtUu57Y7ViEeOrbpPH+eSCRNzbGEZOmw4tcdh5KgxXpuYT8Lqu+6j9igEY7as8cbjbGG5btFSak+KqO0CUy6fRu1ScA/RDgbbvhhJ3ssgew/8NHK7QNJjAHNFnPYYMGe4x0lTpTpfW27y8o8PO+/+9hjFdVN7PrD9ves2UV9UcMynn9kV2m5w/aVOpFEhjLJQlzKRxmdo/W1iC3ohpZVIm0pjWJUykQ5K0i4orURa+uBW6kQabYmSREPSGOdToePka3cxlSqRxm++/N/SYb5JJqxa2TyXBO6xnZfePEh9YXiiuYXapdywwvtKrBxb585dnBmzr8qxhWXI8BpqjwPa95PD71OfhKZ71lF7FNAm/1oYJ2bXLmmk9iS4eOJkr23MF4bJ0+qoPS7odyNHj6O+MCR5L4OsarrvuDEhIckx8NwLb8Rqix/MGe6x0lSpzteWm7z09i+dn/3+LxTXTe2GmjEXeNsYLp40lW4Hnnzu1aLH8+M/riHoxzH9Nj+uP07C6v9sqh+/gu/DKm4iHWwT8Fe6gj6J4iTS5uMa7PwmsfAjScLiJtLBc4NgddAIPoniJtLBdpnzm4cNP5LPlcdNCM1XAfoxDyFBuyGsJNsyBc/rP16hdodRnLjhIx7Bc/uT+aBP8pGYVjbPRcE9Vg5Lb7qTbheWx555kdqjEGwbYNuFYcjw0dQelSvmNMRqj58779tI7VF49qW2jyoYTux8Et0uDAuW3kztUfC3ycC2C8tl02dTe1zQ/5HLMF8YkryXyKGCMcP9ZduGIckxEGwXKJTzFQJzhrt/qVUoJ0lKbbnJ7gO/dY589N8orpvabQBte3znj6kPuP6kKr9Jy9Z2QUlVpJNWUhXpUiipinTSSqoiXQolPZklKVvj1srmORvY/Nzr1J41g2vGUrsN3P7A49SeNdcsW0XtNjBpxlxqzxpb7yWwdQxgzmif18pdbbnJ84c/dA4d+0+K66Z2G0DbHt21n/qA69dEWi5NpOXSRFouTaTlamXznA1sbPkJtWfN4Jrx1G4Dq9b9kNqzZn7jndRuA5Pq5lF71th6L4GtYwBzRvu8Vu5qy012HvnIOfjJZxTX7fHA1teoPytMu1oOfUj9wPVrIi2XJtJyaSItF8anrbI2kWbznA1sbNlL7VkzaOR4areBVQ9tofasaVjeRO02MLGuntqzxtZ7CWwdA5gz2ue1clfxRLqccS9NE2m5NJGWSxNpuTSRlksTaSGaSMvRRFqOJtJyKi6Rfv6nHzmH/vRZxeFemibScmkiLZcm0nJpIi1XK5vnbGDjzr3UnjWD3SSC2W1g1fot1J41891EmtltYJKbSDN71th6L4GtYwBzRvu8Vu5qy01efOdj551/+bzicC9NE2m5NJGWSxNpuTSRlquVzXM28OiufdSeNUPcJILZbeCODc3UnjULVjRRuw1cNrOe2rPG1nsJbB0DmDPa57VyV1tu8tq7R533/u2LisO9NE2k5dJEWi5NpOXSRFquVjbP2cBTL+yj9qwZOqqW2m1gzSPN1J41C29aTe02MGVWA7Vnja33Etg6BjBntM9r5a623OTN9z5xfvPp3yoO99I0kZZLE2m5NJGWSxNpuVrZPGcDzS8doPasGTa6ltpt4J5N26g9axbfvIbabWDq7AZqzxpb7yWwdQxgzmif18pdbbnJ3l/9yflD698rDvfSNJGWSxNpuTSRlksTabla2TxnA8+8epDas2bEmFpqt4H7H91G7Vlz/a1rqN0Gpl85n9qzxtZ7CWwdA5gz2ue1cldbbvIPVyx3/mHemoqj6vxaas8aW9sFqk4fRO1ZUzWhgdptoKrTSdSeORaPa3faoXYrsDRu1vYzF1vHZ1WP/tRuA1Wjp1F71uj6JMfWewlsHQM2r+ki3OvwEunv7fjEOWHf3yqOb9WvofassbVd4JuXNlB71nxnwwFqt4F/cCcqZs8am8c1EmlmtwFb42ZrPwO2js9vDKqldhv49q3bqD1rdH2SY+u9BLaOAZvXdAm4Di+R7tryiXPK/r9VHN9zJwRmzxpb2wW+405UzJ41nR8+QO028I9ugsPsWWPzuEYizew2YGvcbO1nwNbx+S03iWB2G+i0chu1Z42uT3JsvZfA1jFg85ouAdfhJdI9dx5zqg9+WXF0blhN7Vlja7vACRMbqD1rum3cT+028I2e/ak9a2we10ikmd0GbI2brf0M2Do+v+MmEcxuA11XbaX2rNH1SY6t9xLYOgZsXtMl4Dq8RLr/rmPOGYe/rDhOnr+a2rPG1naBzpMaqD1rem/aT+028E03wWH2rLF5XCORZnYbsDVutvYzYOv4/N7gWmq3ge63baX2rNH1SY6t9xLYOgZsXtMl4Dq8RPqc3cecgUe+rDi6X7Oa2rPG1naBru5ExexZc9rm/dRuA99yExxmzxqbxzUSaWa3AVvjZms/A7aOz05uEsHsNtDn9q3UnjW6Psmx9V4CW8eAzWu6BFyHl0gPevGYM+KdLyuO3gtWU3vW2Nou0O2yBmrPmnMe3U/tNvBtN8Fh9qyxeVwjkWZ2G7A1brb2M2Dr+Ow8pJbabeC0O7ZSe9bo+iTH1nsJbB0DNq/pEnAdXiJd89IxZ/zPvqw4+rkTArNnja3tAj3ciYrZs+b8x/ZTuw18x01wmD1rbB7XSKSZ3QZsjZut/QzYOj5PcpMIZreBs+/cSu1Zo+uTHFvvJbB1DNi8pkvAdXiJ9PiXjzkT3/2y4jjj2tXUnjW2tgtUT26g9qwZ8cR+areB7/XqT+1ZY/O4RiLN7DZga9xs7WfA1vF5sptEMLsNnNe0ldqzRtcnObbeS2DrGLB5TZeA6/AS6QmvHHWm/+KLiuOc61ZTe9bY2i7Qb0oDtWfN2Cf2UbsNnOAmOMyeNTaPayTSzG4DtsbN1n4GbB2f3YbWUrsNDGlqpvas0fVJjq33Etg6Bmxe0yXgOrxE+vLXjjpXvvdFxXHewtXUnjW2tguc5k5UzJ41Fz21j9ptoJOb4DB71tg8rpFIM7sNJBm3b3fu6sF8UmztZ8DW8dndTSKY3QZq1jRTe9bo+iTH1nsJbB0DpZ4z+k2Ylco6g+vwEulZbxx1FnzwRcUxeNFqag/LhM2vezciyOg7nqDbhyVuu0C+trFtJZx5eQO1hwVtQOLgt3Xuc3rstl329D5ql3DVgb86p7UPLnD+gtvodlJOdBMcZg8L2oIY+W2Tmw959uk7P8ixS4g7rnFutOGCtTty7Ky9UnAMZreBpOZD9DdcJ8Yq80uJ288M/rmD+aMQZ3zm62dmrPptUnoOq6V2Gxh3VzO1S5j12kdOtwHDvDghXmwbKUmsT2hX9agJXruwHmA+Y9tJibs+lYok7qWJlXlv1oC4+UYSYwDtCMK2k5DEml4I9EG0MzivJA2uwz1PVdXVe446S3/1RcUx3J0QmD0so5Y/kNNxDLVux2bbhyVuu0C+trFtJZzjTlTMHhbWjiTaNu2H+6hdgmmHny5uQsi2ldDZTXCYPSymLcw2feuhHLuEuOMa50Yb0Nf8dtZeKXH3LyVJzYd92xMJ5otC3H5mMPcPzH7+A7qNlDjjk/UztMu00b+tlN5uEsHsNnDh3c3UHhZ/jPywbSUksT6xdk12H+DYthLirk+lIu69BCZO+d5HJYkxYNrih20nIYk1vRhJtbUQuA73HFVV17kLx82//qLiGLV4NbWHZXx7sjpn2yHqj0rcdoFSte3cqQ3UHha0CRSzSZm9ZR+1xyGJdoEuvftTe1iC7fhO564dtjj3N+64xrnRBvQ1vz3Y3ijE3b+UJDUfJhEnP3H7mQFtmvzADu8n+hrbRkqc8cn6mYkd8G8rpY+bRDC7DUx0ky9mD4uZJ8z7mmtv897X7/ogZzspSaxPfnq0V8z7j55A/RLirk+lIu69BMH+HnwflSTGQFL3z08p1vQgScWwELgO9xxVVct+/LHT9NvPK47xS5qoPSwXrVjr3YSGZw5Sf1TitguUqm3nT6un9rCgTaCYTcq85n3UHpUBE9t+bTzmulXUL+EkN8Fh9rD443NZ0+Pe69PdSQs/49zfuOMa50Yb0Nf8dn97oxJ3/1KS1HyIa+za53Tqi0LcfgaGzV7cEfsk7qMhzvgM9jPEzLQtbvv6Dx9P7TYw9Z5mag9LMD75xquUJNYnP70GDPXalcRcG3d9KhVx7yXw38/vtj8k3fDmh8dtJyWJMWDaBnA/bz78Kd1OQtJrOsM/35UKXId7jqqqW9762Ln/d59XHBe5EwKzh2XijW3JapD6x1+j24clbrsAa9vCHx2k20oY4k5UzB6WYJv8sO3Dcu3WfdQuxd+egW4yzbaR0tVNcJg9LP744OfJbiJh7m+cexp3XOPcpm0Mtk9Y4u5fSpKaD3GNZ7oPRMwXhbj9DPjv3Zx1273X+BncTkqc8Wn6Gfo85la8nra67YHStDUqp7lJBLPbQN29zdQelpr2JCEI4si2D0sS65Mf0y7mkxJ3fSoVce8l8N9DgDHAtpOSxBgItg2w7SQktaYXIol1tBi4DvccVVV3vv2x8/DvP684Ll3aRO1hmXJT20244bmD3vvrnmyb5EFwWwlx2wWCbUuK4dPrqT0sLD5JxGzpM/uoPSqDJ331R4fML+FkN8Fh9rCYdvjbk8T9jTuucW60AW3x2/3tjErc/UtJUvMhrvHsMROoLwpx+9m973zqtWne+u0dtiTuJYgzPv39DD+/17mrZ0+ibWe4SQSzR8W0CcSde6+8r5naJfhjNnNN28NHcLxKSWJ9MphY3fzS+9QvJe765Adj07QPsG3CksS99Lejz7ltVXzkHMHtpCQ9BkbPaXuAi9vPkl7TGWZ8JJ0n+cF1uOeoqrp338fOE3/8vOKYfH0TtYdl+s1tN+Hm7Qc7bHgP/NtJidsuwNqWBCPdiYrZw8Lik0TMVvxoH7XHIYl2gVPcBIfZw2LaAe545X3PlsT9jTuucW60AW3x201b/TYpcfcvJUnNh7jGAWMnUF8U4vazob6HxyBsewlxxqfpZ8G2JNG2s0aMp3YbqF/bTO1RmbholRevh37+KfWHJYn1CZj7Z+a0JIi7PpWKJO5lsL8H30cl6TFw/VNtBcXguiClFGt6kFLlSX5wHe45qqrWuwvHM//8ecUx7YYmag/LrFvabsLtOw567298+quKdHBbCXHbBYJtS4qxV9RTe1hYfJKI2apn91G7hO59T3ce2vuh97rmsq+SiuB2UrpV96f2sJh2nOcmXcaWxP2NO65xbrQBbfHbTXv9Nilx9y8lSc2HuMYTunSlvigk1c/8tiUPt328Y8riVTl2KXHGp+lnwN/fWXulnOMmEcxuA9e6yRezhwVzGdYkvDb3MW68QBLrk2nLPW4SzfxRibs+lYq49xIE7x/WK7x/7N1Pc7aTEncMYEw23P249xr307QzbruSWNOLYdZ55ksKXId7jqqqRw985Dz/0WcVR92yJmoPy9xb25KZIFt++Re6fVjitgvkaxvbVkLtjHpqDwtrRxJtW/3cXmqXYNrhJ+69BKe6CQ6zh8W0xW8z9/funQdy7BLijmucG21AW/x21l4pcfcvJUnNh0nEyU+cfrZ5/4deW6YvWXWcL4l2xhmfpp/16Htajj2Jdg2oGU/tNrDkgS3UHhYTNz9sOylJrE/BdhnYthLirk+lIu69BMEYmTEbHBdS4o6Bda99lTwbGh/ZTreVkMSaXgzTXuZLClyHe46qqh8e/Mh59ePPKo457oTA7Flja7vARe5ExexZc9/2vdRuA93dBIfZs8bmcY3JjdltIKm4DR7X9hlM5ouCrf0M2Do+z3OTCGa3gcYHt1B71uj6JMfWewlsHQNpzBmYfzt16Up9SYHrQB5d9dzhj5y3j31WccxrbKL2rLG1XWBCXT21Z836lr3UbgM93ASH2bPG5nGNCY7Zw4L98/HUG+/TfcKSVNxefP8vXntu37Sd+qXY2s+ArePzfDeJYHYbuGXdFmrPGl2f5Nh6L4GtY6DUcwbWAcy/j+w6QP1Jgetwz1NVtfPIR87BTz6rOBqWN1F71tjaLjDRnaiYPWs2up2V2W2gp5vgMHvW2DyuMcExe1iwfz6a97xP9wlLknE7sUtXD+aTYms/A7aOz0Ejx1O7Dax6aAu1Z42uT3JsvZfA1jFQ6jlj+LgJic29hcB1uOuOJtJpoxOVHE2k5VRyIl1KbI2bJtJyNJGWo+uTHE2k5di8pkvQRDojdKKSo4m0HE2ko6GJtBxNpOVoIi1HE2k5mkiXlo5EevdPP3aO/PnziuOaFU3UnjW2tgtMmllP7Vmz+fl91G4DPfv0p/assXlcI5FmdhuwNW629jNg6/gc7CYRzG4Dt69vpvas0fVJjq33Etg6Bmxe0yXgOrxE+uWfH3Xe/dcvKo5rb1xN7Vlja7vA5FkN1J41T+zeR+020MtNcJg9a2we10ikmd0GbI2brf0M2Do+h4yqpXYbaHq4mdqzRtcnObbeS2DrGLB5TZeA6/AS6Td+ecz54C9fVhyLbl5N7Vlja7vA5bMbqD1rnn5xP7XbABIcZs8am8c1EmlmtwFb42ZrPwO2js9ho2up3Qbu2riV2rNG1yc5tt5LYOsYsHlNl4Dr8BLpt97/k/O7f/97xbHkljXUnjW2tgtMmzOf2rNm6ysHqd0GevftT+1ZY/O4RiLN7DZga9xs7WfA1vE53E0imN0G7t28jdqzRtcnObbeS2DrGLB5TZeA6/AS6Z69qp1qd5KuNDp3OYnas8bWdoETOnWi9qzp1r0ntdvAN775TWrPmh69+1C7DSCRZnYbsDVutvYzYOv4/PZ3vkvtNtD1lG7UnjW6Psmx9V4CW8eAzWu6hG7de7Ql0g8emupsOTq34ri88Txqzxpb2wVGzziN2rPmlh0XU7sNnFLdidqzxuZxjUTam3zs1GntP21Ta/tPG3Vx+0/b9Mv2nzZqYftP2/RA+08b9Xz7T9tk672EbB0Dts4ZUrVdx7pDM52tR6+pOKY2Dqb2rLG1XWDMjDOpPWtW7phE7TbQrfpEas8am8e1O+1oIi2XJtJyaSItlybScmkiLVdlJdIPHbra2XZ0ScUxrXEYtWeNre0CY2acTe1Zs3LHVGq3ASTSzJ41No9rd9rRRFouTaTl0kRaLk2k5dJEWq7KSqQ3HLrW+dHRGyuO6Y0jqT1rbG0XGDtjALVnzW07ZlK7DXSr7kztWWPzuHanHU2k5dJEWi5NpOXSRFouTaTlqqxE+pFDS53njt5WcVzROJbas8bWdoFxMwZSe9bcvmMutdtAt+ou1J41No9rd9rRRFouTaTl0kRaLk2k5dJEWq7KSqQ3Hl7hbD92V8VxRWMttWeNre0C4+oGU3vW3NEyn9ptoFv1SdSeNTaPa3fa0URaLk2k5dJEWi5NpOXSRFquykqkNx1e5bQce7DimNF4MbVnja3tAuPrhlF71jS1LKJ2Gzi1uiu1Z43N49qddjSRlksTabk0kZZLE2m5NJGWq7IS6c2HVzs7j22sOOoaJ1J71tjaLjC+bgS1Z01Tyw3UbgOnVp9M7Vlj87h2px1NpOXSRFouTaTl0kRaLk2k5aqsRPqxw/c5u449WXHMbJxM7Vlja7tAbd0oas+aNS03UrsNnFp9CrVnjc3j2p12NJGWSxNpuTSRlksTabk0kZarshLpJw4/5LxwbFvFMatxGrVnja3tAhfUjaH2rLmrZSW128Cp1d2oPWtsHtfutKOJtFyaSMulibRcmkjLpYm0XJWVSD95eJPz4rGWSLi7O4PGne/cuGkZ9UcFx8SxmS8ssxpnUHvW2NoucEHdeGrPmrtbmqjdBk6tPpXasybOuC41GNuYeyyVJtJyaSItlybScmkiLZcm0qVV23U8dfgp5+VjL0fC3Z3aw/Ds+8+aBbUDvz/OscHsxtnULmHiVRNz2of3bDsJSbQL+OPH/FG4sO5Capfgjxe4adNNdDsJ97bcS+0S6pbWHdc2tp2U7tXdqT0K9SvrvXYNHjeY+iXEGdeG+3fdf1zMHnnjEbqthPZjJaG/uvjbN8QlruIm0q+5+NtkiKskEumpLkm3C0piUQy2K4l7GSeJ+MKFxWeei7+df3SJoqjJV5MLznvEe3e88rU7rOIk0mY8BmViZdjmEkVRE2l/v/crqfEQJ5HOFzOjWpc4bYs6BjD+8p3X2A3LXKQqRSJdqO8bnyEptV3H04e3Oa8cezMS7u7UHgbs+8gbj1EfiHNsMKfxKmoPy3PvP39cG+K2CcRtF0Dc0JanDm5NpE2GC+suofaoTLxqciLtu7flQWqPA9q1dtd66pPQvboHtUcBbapfeY2bSA+lfglxxrUB8UmyfxlwTJe4QiKBRShpJV2RNgtSXCWRSKMdZ7S99ITFBYlZXMVdFPHw4b+XJlmNq6hJBM5tEpiggja8j5L0R0m+cL+QuKPvs0S6ULvDKmoijXOGuW9x7m2URBp9y/TzYueFP8p4iJpIh4kZfHHuaZQxgMQY5zMPGkFFbYtfSSfSheKE+49+UAq1XUfz4Rbn9WP7I+HuTu2GfP4Hd22KvG9Yrmysp/awjJt8gTNk3PAcG9o0f+XCHJuUuO0KEjdOfi6uu5TaoxLmPodhbcvD1B4HtAvtYz4JSKSZXUrPfr2dNc1rvf4V7HdRiDOuDUndvyA4pktcJXEMpqQTabQziWQ1qUQai40R3mMhj6u4iyKLURL3N+6vtYNtMAmGXyaxlSpOFTNfIm0UJ3ZxP9oR5txR2xfnox02JtJG+dqF5G+DS9qJtFG+80Zti19JJ9JGpWpvPrVdx9bDLzlvHPtZJNzdqd2Qz3/ZVVe4yUKN9xPb9OxX7Ww5+ELONsWOXYy5jQuoPSw4//yVS3NsaDPw26TEbVeQuHHyc3HdZdQelTMHnuN06nIi9UlY2/IYtUcF9zCJdoHu1T2pXQL6vrmP6HNx+xiIM64N63Z1fMOGx/X33Uq3k9J+vLjCMZAEml/ZJZGsQkkm0t1ckrhWKIlE2rQHv1pPskoTd1FEW4KJYRJxSzqRZglsmASN6euaSCMxjNq+UibSGBNR21WqRNrYbUykDbifUZRWIo3fwMFmHoJBEsUDo7br2Hb4DWfPsQ8i4e5O7cUYOm6Ut+9dzZu99zfcd8dxx4p6bMPcxkXUHhac/5qVjTk2tBv4bVLititI3Dj5ubjucmqPwqNv7EysbQ+0PE3tUtAeQ89+feg2UrpX96J2CWjPzvcPeK/R5+L2MRBnXPtpPvia9/OhXc1eO88cOOC4baS034O4wjHMZy3NZBn1s5d+JZlI4+MKSSWrSf2xIdpkPpdpSyJtEvwgcaWJtFylTKTNfcbPKCpFIg2bAQ90UVSKRBptMR8Zsi2RNu0yH1uLEre0EmlzDabQYtqcVDLddh3PHHnb+fEnv4+Euzu1F2PouDEefhuOtX73cznv/X4pVy1fSu1h6dWvrzN+yqQc24ldOjsLVt2UY5MSt11B4sbJzyV106ldyq4P3vHa9fiel6hfyrqWZ6g9DriXgPkk9KjuTe1hQX/yj4Xg+6jEGdf5wP1Mor/hGC5xFTxG1IQmqCQT6STaY5TURzv8n+fFAhj1j+X8KsWimETskk6kTSXfLzyMFEpq8+nrmEjDFyeBKfVHOzAWosQu6UQayZ+/n9mWSAcVpW1pJ9J+FRs/ErVdx4+OHHLe+uRoJNzdqb0Yt21u++9mfhveP3PoQM57v1/K1csbqT0sc5YuLdrGKMRtV5C4cfIzoW4GtUtBm57Y8wb1RWFdyw5qjwO7v1HoUV1N7WEZP6XtDzIZbPuwxBnX+diwu+0PcJlPQvv1xVXwGPgVYxJ/fJhUIo2JOon2GCWVSPsVZ4H2K+lFMal2JZ1Isz++wvsoyeHXLZGOGie/Sp1I5/vjumJKOpH2fwwhiFRf90QaCtrwwJTEby+htuvYfuRdZ+8n/xYJd3dqNxTyw7fivge917VTph63bbFjF2Pe8puoXUKxNkYhiXb5SaJNhkvrZlG7BLTnjs2PU19UNrS8QO0SevXr7zyy+2Xv9f1b27468LpVdxy3nZQe1X2oPSpo07BxtdQnIc64NpzYpUtJYobjuMQVklRTtTELoP8bKaIqqUQa7Yn6K2ympBLp4MdhkqjMxF0UkWCZSjleJxW7pBNpyB/DOL8F+Tol0v6YxVHSiTTmD8wdkPmVf5TxkHQiHVScB8ukE2nEJ4mYpZ1Im9+8mfklKbVdx44jv3L2fdIaCXd3ajcU8r/8wUfOWQMHedtcftU1x/mLHbsY9ctvpXYJxdoYhSTa9fSeQ16bgrBtJVxadyW1hwXxYu1Ce9n2YdnQ8iq1S3ju0PvO8HEXeu3p1e/7zsbde+h2UnpU96X2qCxctca5YMp06pMQZ1wb/DHDOMB7tp2U9n6RhLA441iYJJNIoqEkEmlUlIIfAYirpD4jjUUPMUP74lYIjeIuirh35tfqSX1uG4qaRJg+6scvE8M4bY2SfOGeBduFBNEo6ANSRU2kC52b+TBGpIqSSOMeBc9tEj88rCUxHqIm0sF2ASYktFHnkyhjIF9FHPLHDMUMtC2Kkk6kg20Ffpl+gLYnWeBou46WI793DnzyH5Fwd6f2JIh77Iblt1N71tjaLjCx7mpqz5pHWt6kdhvoWd2P2rMmzrguNRjbmHssVZKfkU5SSSXSpVCpqktxFbciXUrFrWKWSnEr0qVUnIp0KWXrvYRsHQO2zhlStV3HziMfOQc/+SwS7u7O8HETnNWbt1N/VHBMHJv5wtKwvInas8bWdoGJdfXUnjUbW/ZSuw30rO5P7VkTZ1yXGoxtzD2WShNpuTSRlksTabk0kZZLE+nSKn4ibTOaSMvRRFqOJtJy3GlHE2m5NJGWSxNpuTSRlksTabk0kS4HNJGWo4m0HE2k5bjTjibScmkiLZcm0nJpIi2XJtJyVVYivfunHztH/vx5xXHNiiZqzxpb2wUmzayn9qzZ/Pw+areBnn36U3vW2Dyu3WlHE2m5NJGWSxNpuTSRlksTabkqK5F++edHnXf/9YuK49obV1N71tjaLjB5VgO1Z80Tu/dRuw30chNpZs8am8e1O+1oIi2XJtJyaSItlybScmkiLVdlJdJv/PKY88Ffvqw4Ft28mtqzxtZ2gctnN1B71jz94n5qtwEk0syeNTaPa3fa0URaLk2k5dJEWi5NpOXSRFquykqk33r/T87v/v3vFceSW9ZQe9bY2i4wbc58as+ara8cpHYb6N23P7Vnjc3j2p12NJGWSxNpuTSRlksTabk0kZarshLpHXt+6uz79Z8rjvrFK6g9a2xtF7j08pnUnjUPb9lJ7TbQs1c1tWeNzePanXYAElYbwT8YYPas+e/EZgv4RxbMnjW/IzZbuIPYbOApYrOFPcRmA7beS2DrGLB1zpCS1D+1UqlUKpVKpVKpVCqVSqVSqVQqlUqlUqlUKpVKpVKpVCqVSqVSqVQqq/T/1vTt5Iw/rbNSBvTv+m38oRb+gh9/jauEA/H6nwGbUph/ddGYyfjY5cuATSkMYva/AzalMPgDMo2ZHKydzK7kBzFDf2M+hfO/NaeWcdJ3v+Gc3+sE6lM4iNnZp36X+hROjxO/pTETgmdOwHwKB/FCX2M+hYNxqTGTgTUT6wDzKRzE7Lvf/Ed9FrAH1AD+XxdPrR+uqnH+88HxShlw58X9MJBs/qpPG4V42foVpLYKX42qMZMJXymKCVYVXoiZzV+RbaPwrVsaM7mwdqpkQszQ31ThpTm1kPGnneT8ZNH51KdwELMfzjyb+hTOvGE9NGZC8MwJmE/hIF7oa8yncDAuNWYysGZiHWA+hYOY9ev6HX0WsEc5NYDWP94x3vm/NkxUyoA7JpyhBWm5tCAtlxak5dKCtFxakJZLC9LRpEmoXFqQlktzaiHjTj/ZeWvpCOpTOIjZ03POoz6Fc/Xwao2ZEDxzAuZTOIgX+hrzKRyMS42ZDKyZWAeYT+EgZv1O/p4+C9ij3IL0P62Z4Pyfm6YrZcBtE8/RgrRcWpCWSwvScmlBWi4tSMulBelo0iRULi1Iy6U5tZCxZ3Rz3lw2lvoUDmL25Nwh1KdwrqrppzETgmdOwHwKB/FCX2M+hYNxqTGTgTUT6wDzKRzErN/JJ+izgD3KLUj/9p6pzn97fK5SBqy67DwtSMulBWm5tCAtlxak5dKCtFxakI4mTULl0oK0XJpTCxl7Znfn9RUXU5/CQcwenzeS+hTO3JGnacyE4JkTMJ/CQbzQ15hP4WBcasxkYM3EOsB8Cgcx63tKJ30WsEe5Belfr53l/H+fXqCUASunDNaCtFxakJZLC9JyaUFaLi1Iy6UF6WjSJFQuLUjLpTm1kDFn9XReu/ky6lM4iNljDeOoT+FcOfpMjZkQPHMC5lM4iBf6GvMpHIxLjZkMrJlYB5hP4SBmfU85UZ8F7FFuQfr9dfOcf996vVIG3DJ1uBak5dKCtFxakJZLC9JyaUFaLi1IR5MmoXJpQVouzamFjD67t/PKyunUp3AQs80LLqI+hTNnzDkaMyF45gTMp3AQL/Q15lM4GJcaMxlYM7EOMJ/CQcz6duuszwL2KLcg/d7DC51Pn71FKQNunj5aC9JyaUFaLi1Iy6UFabm0IC2XFqSjSZNQubQgLZfm1EJGn9PXeen22dSncBCzTddNoj6FM3vcuRozIXjmBMyncBAv9DXmUzgYlxozGVgzsQ4wn8JBzPp066LPAvYotyD97sZG5992rFbKgJtmjNeCtFxakJZLC9JyaUFaLi1Iy6UF6WjSJFQuLUjLpTm1kFE/6O+8cGc99SkcxOyRRVOpT+HMGj9IYyYEz5yA+RQO4oW+xnwKB+NSYyYDaybWAeZTOIhZn1NP0mcBe5RbkP7Z47c6/5/da5Uy4MaZF2lBWi4tSMulBWm5tCAtlxak5dKCdDRpEiqXFqTl0pxayKgBpzm77rqO+hQOYrZhaR31KZxZFwzVmAnBMydgPoWDeKGvMZ/CwbjUmMnAmol1IGhX8oOY9Tm1qz4L2KPcgvRPn1rt/OnljUoZsHz2RC1Iy6UFabm0IC2XFqTl0oK0XFqQjiZNQuXSgrRcmlMLGXnuGc7Oe2+gPoWDmK1fNpf6FE7dhSM0ZkLwzAmYT+EgXuhrzKdwMC41ZjKwZmIdYD6Fg5hVdz9ZnwXsUW5B+tCWtc7R154WsbJhBm6o06XTCc64IQM83tjURLdV2uJl4oS4gecfuJVuW4jGK6dgXy1Iy6QFabm0IC2XFqTl0oK0XFqQjiZNQuVCzLQgLVOknPrrTM15Zzk77r+Z+hQOYrZueQP1KZwZF43WmAnBMydgPoWDeKGvMZ/CwbjUmMnAmol1gPkUDmJW3f0UfRawR7kF6QPPPOx89ONnRdy6YLZXVB07dCD1h2XuZO8rKPJy3pnfd3656wm6b5a89vh93rX727pz/Z102yDS7f0su2o69s26ID3E5YhLx7W41Lrk0zIX/7bFKHSsKLKhIN3NZZuL/zqbXMJog4t/vyCvuSQtGwrSUWIW7JeMUsQLsqEgHaef+RWMY5RjhJEtBWlc3xcu5npx/YVUbEyCeS6lkC0F6XKKGYTjZy1pzPyKs29U4TxZF6SnuvzVxVw3KCbkKP5YBYEP25RCkXLqUoM8Gvm02768IB9n+5aamoHnOM+tu536siaY5wfpcuIJ3vMA27eUIGYP3HQd9WUF4sBilA88R7LjlIoZl4yzLmZ+EL++vbrTWBnS7mt45gTMlyV4fmbxCZLF2ES80NeYzzZMLccQt6YTFYxLG2O2f9sGb473xyhIVnUqrJlYB5gvS2yPWXWPbmhDpSipZ/6slFuQ3vfcE84f335BxM3XXe1d+Nhhg6g/DF1O7OQdY1LtaOq/csqlHQH++Yvb6DZpc9fyRR1tQgyeuu/2jvfbH7mX7hNEur2f6+fNwr5ZFaT9hWV0eDwomvdxi8jm4REDK2llWZDGQ6+JEQqhZ/jeF5s0EFOzLWKfprIsSMeJmSmkZjEhZ1mQjhMzv7C4mbGI/lfqeGZdkDbX+kcX//XGKfb5C69J/3INyrogXYqY+ROqUhWlceysFCdmpYh3WOE8WRWkMY/h/Lh+9AnMQXgPCsmMP+yH+SwoxNAcpxTraqScupS88tR6c71eDsu26durh+c/96zTqb+UjDj/XOdH6++iviwxMcGzCPOb5yDA/KUEMVt7y/XUZzN43kO8EFvmLyXTJ1xgbczwLG3iYsvzLsAzJ2C+LMHzc1ZjrxiIF/oa89mE6XOYx5Ko6cQB47IcYuYH49T0wSzihjUT6wDz2crbzz7WEbMs1gDErHePU3H+cldSz/xZK7cg/XbLVuf3B94QcdOi+d6Fjxk+hPqL8dzmdSZw3mu2DejcXrTG+Zif8daOLR37PfnAXXSbpAh7HX6k2/tZ2jAX+2b9CWkj/4MdXkeV+fRTqR6wbfiEtF8mZsUmDbNdKT81mE+2fWVH2JiZYk0WE3KWBWmmsDEzMgscCjlY3KBSxzPrgnRQSRT7MF5N7OPMi/lkyyekjZKImX8tKVVfw7FtUZyYJRHvsMJ5sv6EtBH6BdpT6D76k/RCY8//S6OkFSmnLiUmXwfMD17a8mjHNlFy0zgMHzTQeeaRtdSXJeeefaYXj3zPOXOmXub5+/buSf2lBDG7b+UK6rMVEy88n73zagvdppRMn3ixlTEz4zOLflQMPHMC5ssS/7M382cJ4oW+xnw2gLGHvobYmRpJ3JpOXDAubY5ZPkwcs4gb1kysA8xnM4hVVmMXMevd0/srlEqUiWsW9Y+oyi1I/3h3i/PbI/tFrFiy0Lvw0SOGU38xXtj2QxM471hsG4DjS8/z5vPb3YTnRG+/xx9aS7dJimce39RxHXjNtgki3d7PkmvqsW8lFaTNwzWK0qVSORak/UUtFAfxAI1PyBkbiob4rVgpCl5QuRekg6B/4VOYpYoXVM4FadPfguPQxLNUC1wlFaTxFyNmf4xPFMdKoUosSJu5DXErlXB8WxQnZknEO6xwnnIqSIfZBkoid8mnSDl1KWm65UZzrQXzTrNNoZy8FAwfPMhp3vww9WXNuru++mqAPr17e+8nXnSB9x7PGaV+xsgHYnbP7Supz0bMMyPAMxrbptRMm3SplTFDv0JcECPTv8wzLBhwztme7/Abr9D9SwmeOQHzZYn/2TsI6gWY87KIF0C80NeYL2sw9kyc/OPQjM+oNZ24YFzaGrMgiBviZcbo7OlT6XalBmsm1gHmsxWsl6b/YYyybUoJYta7p/eXT5UoE9tSPa+XQrkF6T0vveT86uc/E7H8+qXehY+qqaH+MDz/7LNO585fLbqFiHOeUrL1qSc72ojXbJsg0u39LLp2AfatlIK0+TPtUhYhoHIsSPsfrFEkRMHQfGoVQvELcTPb+H1JqFwL0vgT7WBfRGwQP3+8EL+kVa4FafNpQfyCIyhT/CrVAlfOBWn/L42CYMwmXegyqqSCNIr2ZlxG2V8inMMWxYlZnH2lwnm0IC1TpJy61Dxwz93meouC/J4do1QMGzLE+eHjj1Ff1hx468fOzCuu6IjNgHPO6XiN55fNGzbQ/UoNYnb3nXdSn234+x6e+9g2aXD55MusjJmJDUBf8z8bvv7iCzn9D6/9+5YaPHMC5ssa9CXEx29D7C69+OKOeGG8+v1pgHihrzFflmCuQkz6VFd785rfl0RNJw4YlzbGzICYmT4VZEFD/XHxTAOsmVgHmM9G/PNYlPpXEiBmvXp5n2qvRJn4lup5vRTKqQG0vv7aHuf9934tonHZcu/CR40cfZyvpWWXCcpx1NXNOm77QlRX9/H2u/22O6k/KSZM+Or7qoO8+sobdB/QvOWr7xDCa7ZNEOn2fhYuXIx9ky5Im+9qZBQqdMZ5qPN/Zyj7nsckVYqCdNSYQWa7QpNG2AfrMMeKolIUpAv9c0sU9wrJbBf3Ov33LWlhYk26IF3qmJniVr5tivnjKmcxSkhxYpZEsQ/j3xRZS/HLtlIUpP1fdRCk2Pf6R4kZ5nz/p6JL9Wlyv3CuJJV2zIzi7CsVzpNkQTpOzDAHmW3zyf9LokJ9yj9HJK1IOXVUouauQbCt2Q85PNumVAwdOsx5+qkt1FcK8Dzhj5Of++9/wNtm/76DTufOnT1bvucW2M1+mzY+SrcpFYjZmjV3U18pCBMzBnxmu7RjFOTyKVOtjJmx4bnav78f88wNmL9U4JkTMF8pSKp+4D9OobiWAsQLfY35SkGYmBWq2YTxlxqMS9tiFoZrrrm2Y79S16mCYM3EOsB8pcKsiUFQq2PbA/8aIIltKUDMevXy/iLFVtlQJ0lTuQXpV/bsd37x6w9F3LD8Fu/CR44eS/1JYM5R3acv9dvA09taTAfwXrNtgki393Pd4huwb7l/Qtr/YJn0J3uZyvET0oiL2S7fJISiTrFtoqpcPyFdTKaYU4qviClFQTqOwsTM/6nxMCRdYC1FQTqOkir2+b+jNulia7l/Qtpsn1Yh2gjntEVx+lmcfaXCecrpE9L+NRFjMJ8w/2ObYkXwKIqUU2cNcnm37c6MWVdSfykZOmyE88SW56gvK8zzB2B+g4lbKZ+FGIhZ090PUJ8t+J+P7n3gYbpNmkyZeoWVMcOYQ4wKPevOv9b7MFLqz8N45gTMZzNZ9j3EC32N+bLikkvbvr9dwvZdr9JjlQKMS9tiFoa3D/6iI16IMdumVGDNxDrAfDbgH4NZ5BUMxKxXb+/T7pUoE++4dZI0lVuQfumtd5yf/+5fRFx/423ehdeMHk/9YcAx7ln3qPPimz/tsD37wlsdx456fByvc+cu3v4bHn+GbpMUT/3oxY624jXbJoh0ez/XLlmBfcu5IO3/BJP0U9VRVY4FacgfKzw4m+I9fvofzgs9eEdVORak4UORBnHz/6LDxMsUX/GzFJ/KL8eCdDGZ4lecYxRSORakMW+hoIVxF5zD8FUw/u96L0XcyrUgjTnMxCXpX6CFEc5ri8LGjCnOvlLhPOVUkIb8eQnGovmlB+Z89DuzDpQqfpFy6lJzxex5Xj781pHfdNiQg1488XITKy/39u+TFkOGj3Qe37qL+rICzxEmLtV9+nnPKv7YIZbnnDuwY5so+XwcELM7791AfTbgj19W/SrI5GkzrY0Z+hhihWdX/3Orv5/B539eTgM8cwLmyxLEouG6G44bd4gX6gZZ9j3EC32N+WzF1F3i1HTigHFpY8wQD6yRwVoVXvtrVeiP/vUhDbBmYh1gvixBHc/U4DB3pR2XQiBmvXp737xQiTL9sVTP66VQbkH6xX0fOO/88b+KWHrzau/Ca8ZeSP1heGL7G85Fk6Y71X37myB6r6+4cr7nY/uEYffb7zkndjnJO976p3bSbaJy613rO9paDLY/MP4o17jg+luxb1YF6UJ/ShCEyf/nuqX4Dt98yrIg7b/mYuQr0OMh2hQhAB6o8dUTpSzqZFmQjhMzxASxMZ+AA2nEC8qyIJ1EP2My/Q5jvxTKuiBtilPFCC7w+CUHCtL+cQnQ71B4lcRYqqwL0lFihmJg2P2AKSImKRw3K0XtZ1CcfeMKx82qIF3oa7H85CssYwziGP74oUBdqrnMKFJOXWru3vC0l6+b3Bicc+4gp37RCi9nZvukxZARY5xHf/QK9WUNYoNnEsTKxM2G2CFmd6zdTH02YPoZYsT8WXDZ9Cutjpnpa/5n4qz7GZ45AfNlCeKBuGBOM7GyIV4A8UJfYz5bMTUd1GSYv9RgXNoaM6ydwVoVQN9DTejNn39I9ys1WDOxDjBflpi+FIa0+xti1rN3X5y73FWqZ/60lVuQ3nXwD87hj/+niMW33utd6IhxF1O/kh/EDTy2cy/1F2L+stuxry2fkC4X2fYJ6XKQbZ+QLgdlWZAuV2VdkC5H2fYJ6XIR1k6VTIiZLZ+QLhdFyqm/zgyuGeds2v5j6lM4iNltDz5FfQpn0oyrNWZC8MwJmE/hIF7oa8yncDAuNWYysGZiHWA+hYOY9az2/hpFZYdyC9I7j3zkHPzkMxGLVq31iqondunqDB83waN5z/t0W6UtXiZOiBvYvPsA3bYQDcubsK8WpGXSgrRcWpCWSwvScmlBWi4tSEeTJqFyIWZakJYpUk79dWbQyPHOxpa91KdwELNVD22hPoUzsa5eYyYEz5yA+RQO4oW+xnwKB+NSYyYDaybWAeZTOIhZz2rvk+4qOxS/IK1kgxakI0kL0nJpQVouLUjLpQVpubQgHU2ahMqlBWm5NKcWogVpOVqQlqMFaTlakJajBWk5WpCWowVpOVqQtk5akC5XtCAdSVqQlksL0nJpQVouLUjLpQXpaNIkVC4tSMulObUQLUjL0YK0HC1Iy9GCtBwtSMvRgrQcLUjL0YK0dcotSO/+6cfOkT9/rpQB16zQgnQEaUFaLi1Iy6UFabm0IC2XFqSjSZNQubQgLZfm1EIGuw/Vm5/fR30KBzG7fX0z9SmcSTPrNWZC8MwJmE/hIF7oa8yncDAuNWYysGZiHWA+hYOY9eyjBWmLlFuQfvnnR513//ULpQy49kbvv5dqQVomLUjLpQVpubQgLZcWpOXSgnQ0aRIqlxak5dKcWsiQUbXOE7v3UZ/CQcyaHm6mPoUzeVaDxkwInjkB8ykcxAt9jfkUDsalxkwG1kysA8yncBCzXlqQtkm5Bek3fnnM+eAvXyplwKKbtSAdQVqQlksL0nJpQVouLUjLpQXpaNIkVC4tSMulObWQYaNrnadf3E99Cgcxu2vjVupTOJfPbtCYCcEzJ2A+hYN4oa8xn8LBuNSYycCaiXWA+RQOYqYFaauUW5B+6/0/Ob/7978rZcCSW9ZoQVouLUjLpQVpubQgLZcWpOXSgnQ0aRIqlxak5dKcWshw96F66ysHqU/hIGb3bt5GfQpn2pz5GjMheOYEzKdwEC/0NeZTOBiXGjMZWDOxDjCfwkHMevfVgrRFyqkB/O3Sy2c6V1w5XykDzjlvMAbSxy4oFirhQLw+DdiUwvzKRWMm47DL/wzYlMIgZv9PwKYUZo+LxkwO1k5mV/KDmKG/MZ/C+X8unao5tYRu3Xs64y6aSH0KBzEbOnIs9SmcfqedoTETgmdOwHwKB/FCX2M+hYNxqTGTgTUT6wDzKRzE7IROnfRZwB5QA/ibi6fWb23/xPn23r8pZcA35q3xYD6Fg3j946UN1KdwvnnLNo2ZkG9uOOD84/m11KdwELN/6NGf+hQO1muNmRw316F2JT+ImeaHMjA2NWYysG5iLWA+hePFzM3TmE/hIKfVmMnQZ045+swpR5855egzpxx95rQLcz+8arSr1k4tnzid9/9NKQO+Xe8mBi7Mp3AQr2+5Cx3zKZzvrtymMRNywsMHnG8MqqU+hYOY/aO7GDGfwsF6rTGT4+Y61K7kBzHT/FAGxqbGTAbWTawFzKdwEDPkacyncJDTasxk6DOnHH3mlKPPnHL0mVOOPnPahbkfXjXaVWs3N3nuceBvShnQqWGNB/MpHMTruxMbqE/hdHGTA42ZjK6PHHC+7SYHzKdwELNv9OxPfQoH67XGTI6b61C7kh/ETPNDGRibGjMZWDexFjCfwkHMkKcxn8JBTqsxk6HPnHL0mVOOPnPK0WdOOfrMaRfmfnjVaFet1TuPOf0PfqmUASc1rPZgPoWDeHVyFzrmUzjdVm3VmAnpsXG/8103OWA+hYOYfdNdjJhP4WC91pjJcXMdalfyg5hpfigDY1NjJgPrJtYC5lM4iBnyNOZTOMhpNWYy9JlTjj5zytFnTjn6zClHnzntwtwPrxrtqvX03cecc458qZQB3a5Z7cF8Cgfx6jKpgfoUTq/bt2rMhPTdvN85YXAt9SkcxOxb7mLEfAoH67XGTI6b61C7kh/ETPNDGRibGjMZWDexFjCfwkHMkKcxn8JBTqsxk6HPnHL0mVOOPnPK0WdOOfrMaRfmfnjVaFet575wzBny0y+VMqCnu9AB5lM4iNcplzVQn8Lp5yYHGjMZZz663znRTQ6YT+EgZt92FyPmUzhYrzVmctxch9qV/CBmmh/KwNjUmMnAuom1gPkUDmKGPI35FA5yWo2ZDH3mlKPPnHL0mVOOPnPK0WdOuzD3w6tGu2od+uIxZ/Q7XyplQJ8Fqz2YT+EgXt3dhY75FM4Zd2zVmAk5151YuwyppT6Fg5h9x12MmE/hYL3WmMlxcx1qV/KDmGl+KANjU2MmA+sm1gLmUziIGfI05lM4yGk1ZjL0mVOOPnPK0WdOOfrMKUefOe3C3A+vGu2qdfRLx5yLfv6lUgZ8/9rVHsyncBCvXpMbqE/h/ODOrRozIUMe3+90dZMD5lM4iNl3e/WnPoWD9VpjJsfNdahdyQ9ipvmhDIxNjZkMrJtYC5hP4SBmyNOYT+Egp9WYydBnTjn6zClHnznl6DOnHH3mtAtzP7xqtKvWi14+6kx59wulDDjLXegA8ykcxKuPu9Axn8IZ1NSsMRMy6ol9zilucsB8Cgcx+567GDGfwsF6rTGT4+Y61K7kBzHT/FAGxqbGTAbWTawFzKdwEDPkacyncJDTasxk6DOnHH3mlKPPnHL0mVOOPnPahbkfXjXaVetlrx51Zv7yC6UMGHDdag/mUziIV/8pDdSncIavbtaYCal9cp9z6tBa6lM4iNkJ7mLEfAoH67XGTI6b61C7kh/ETPNDGRibGjMZWDexFjCfwkHMkKcxn8JBTqsxk6HPnHL0mVOOPnPK0WdOOfrMaRfmfnjVaFetV7x+1Jn3/hdKGXD+wtUezKdwEK/TL2+gPoUzek2zxkzIhKf3OT3c5ID5FA5i1sldjJhP4WC91pjJcXMdalfyg5jZmB+eVbfYaxvoP2EW3SYrMDY1p5aBdRNrAfMpHMQMeRrzKRzktBozGfrMKUefOeXoM6ccfeaUU+7PnEMaH+jIfb/duSvdppww98O9Hk+tV75x1Fn4wRdKGTB00WoP5kuLGt+ACAO2Z8dJC8TrLHehY740kcTt8uZD9BhpUXtXc6YxC8aqUDz82/UZNYFukwZT3Im117Ba6kuTzn1Oz4kJAwvZjJ0f0P3TBDE70V2MmC8N0F/8cWHbgPoDf/Vi5t82qzGK9TrLmOG6/XEoNL+HjW8aZH3+cgQxsy0/HHvHE9b0KQbGpk0xO3XAsJx4AawRbNuswLqJtYD5So1kPgvmJVnmG4gZ8jTmUzjIaW2I2UVrdxyXTwQZMHMx3TdtbHjmRK7KYhTEppjZ8MxZTmT9zAnCPHeePmFW0W3SwpZnzmCen49Ca2taZP3MmQT+nA79kW1TLpj74V6Lp9Zr9hx1lv/6C6UMqFm82oP50mLM8txJe+a2Q3Q7W0C8BkxtoL40Kae4XXJ3c6Yxk8TKv12/0RPoNmlQt2WfU+0mB8yXJt9xH3SGX3tbTswWHfyrc9GduYUccNWuD3L2TRvErHPv/tSXBugv/niwbaY9+nrONoasxi/W6yxjhuv2xwFjlW0HwsQ3LbI+fzmCmNmUH2Ie8/cnzGlsuyzB2LQlZlgHTKzOujT3QRo+tk8WYN3EWsB8pSbsfNadFPazzDcQM+RpzKdwkNNmHbOBs7766w6AOQzzGnyTHtiR4+vS5/Tj9k8bG545MUYRC8TKn7OynBbznH/fLLDlmbOcyPqZExR77gyOz6zzD1ueOf15fpZrYhiyfuZMAsyB/n6IZ1S2XTlg7od7HZ5al7551LntN18oZcBYd6EDzJcWF6zInbSvfuYQ3c4WEK+B7kLHfGlSTnGbfE9zpjGTxMq/3WnuYsi2SYO5zfucfm5ywHy20DPwUL3i0F/pdmmBmHVxFyPmSwP0F388ivn9ZDV+sV5nGTNctz8OGKtsO1AsvmmS9fnLEcTMpvwwuC6wbbIGY9OGmC3YnfvQgrl+2oO5D9SzHnud7ps2WDexFjBfqSk2nwX9frLMNxAz5GnMp3CQ02YdM3//YWsnxqR/G4zZ4DZpYsMzZyGCOUaWY9JgyzNnOZH1Myco9NwZXAeGzFqcs28W2PLM6R+DNoy/QmT9zJkU5RTzQpj74V6Hp9YVb33s3PW7z5UyoHZJkwfzpcUlN67tGAj56H3uUGfcdauc5W9+SI+RJojX4Gn11JcmYeIGlrzwPt0/Tabd25xpzMLGKsgZ7sTMjpcG87fuc/oPH099aXNyka/twNhk+6UNYnaSuxgxXxqgv/jjYuwYg9/1/Ukt4hXskwt+dDDnWGmB9TrLmOG6/XGQwI6XFlmfvxxBzGzKD/3jNcu5vhAYmzbEzD9/1a3b3mE/d2LuJ6VXHvk0Z78swLqJtYD5Sk1wPsM8b3zDZ3/1aVbEE/msf9ss+yBihjyN+RQOctqsYxbMzfxjE3lHcHz6+2MW2PDMmY/geARZ5WV+bHnmLCeyfuYEYZ47sQ7Y0MeALc+cwecoBuJmQ20j62fOpAj2VRvyuCiY++Feg6fW237ysbPunz5XyoBLljZ5MF9aXBZi0vbzPXciWvXjD+mx0gDxGuYudMyXJmHjtuLF9+n+aTLrvuZMYybtY4azxkygx0uDRdv2Oae7yQHzpc0pRQrSADFm+6YJYtbVXYyYLw3QX/wxgS3Y95Y8e7CgPW2wXmcZM1y3Pw4S2PHSIuvzlyOImU35ob8vZTnXFwJjM+uYjfIVUs+fOCvHt+ann+bEMejPAqybWAuYr9QE5zPM84gR8lZj8/c1/7ZZ9kHEDHka82VNn3OH5sTJT5bPAshps44Z+lah+ATJOk+z4ZmT4Z/jAGKK2LJt08aWZ07GhQtX5cTNz9yHttN90iDrZ04QzPHzgb7H9k8bW545Me6Cz0OoY7B4ZtnHQNbPnElhy/NoXMz9cK/BU+tdez92Nv/hc6UMmHR9kwfzpcXUm3MHwornDh63DWz+bc5xE/fgNmmBeNVMr6e+NAkTN1u46v7mTGMmiZV/uyz72bJn9jlnjhhPfbbQN/AgNHbOYrpdWiBmJ7uLEfOlAfqLPx7+94iVf1tbxi/W6yxjFpzbERe2HQjGl22TFlmfvxxBzGzKD/19Kcu5vhAYm1nGrGH99pw4hWH2msfpsdIC6ybWAuYrNSxX9b9f/ORrOdv7fVn2QcQMeRrzZU0wz/Cz5icf0n3SADmtrTEzBPtjVnmGwYZnTj+Yq/zx8T7w9PL7dNussOWZkzFhUf6CNNYOtk8aZP3MCQrl+Ohjfl+3vqfn7JsF5fDMifXTH7dCzwtpkPUzZ1LY8jwaF3M/3Gvw1PrAvo+dH/7z50oZcPkNTR7MlxYzbskdCCt3HDxuG9j829Reufi4bdIC8Rp9RT31pUmYuNnC/LXNmcZMEiv/dueOnUC3SYObn93nnO0mB8xnC/3Py31QHH7ZLLpdWiBmp1T3p740QH/xx8OA/hfc1pbxi/U6y5gF53YWK0MwvmybtMj6/OUIYmZTfujvT1nO9YXA2MwqZmv3Hv8n7GFZ/cr79JhpgHUTawHzlZrgfGY4oUtX55F3Pz1ue/82WfZBxAx5GvMpHOS0NscMYxD9zvSvrPMzYMMzJ1j4cO4v2hCnLOesQtjyzFlOZP3MCYrl+MG1Isu6BiiHZ07MYf6YYRyz7dIi62fOpAj2VbZNOWDuh3sNnlo37v/Y2f7h50oZcIW70AHmS4s5gYFQjNPOG0qPkxaI1zh3oWO+NJHE7f5X36fHSItFDzRnGrNgrFa3HKTbAf92A90HRLZNGtzx3D7nB25ywHxpgTj541GIrMclQMy6uYsR86UB+os/JnjIeXjfh3RbSZ8sJVivs4xZsI8hLmw7EIwv2yYtsj5/OYKY2ZQfBsfgk7/4lG6XJRibWcUMc7qJTfe+p9NtDIidP5bFti8lWDexFjBfqWFr5tTFq+i2wL9dlvkGYoY8jfkUDnLarGMWNkcr1AfTxIZnzpGBolYxrrn7cXqctLDlmbOcyPqZE4TJ8TEu/dtk2dfK7Znzhoe302OkSdbPnEnhz/WyzEPiYu6Hex2eWp88+JHz4sefKWXArGVNHsyXFndsyf0TjCA9+p7mjJk8y7lx43a6f9ogXhfMqKe+NCkWNz8bXn+fHiMtbnhwS6YxQ98xsejUpWvBeJzum5gvnbuIbpMGd2/f65xbM5760gSxw/jDODRxAYgT4nPfzgN0vyxAzE51FyPmSwPEKWzfWXTPV38qWqxPlhKs11nGDNeN6zexKDTPz1jyVfKO/si2SQu0gdmV/CBmNuWHz7z3l47+BObdupZulyUYm1nEDPO6iUvY+SmYk2COY9uVGqybWAuYr9QgTpK4+ee+LPMNxAx5GvMpHOS0NsQM42zQuNxf1pr87PH9H9J9ssKGZ05/HhGGrOYxgy3PnOVE1s+cIOxzp/+5Icu81pZnTsQJY9T/LA4wx8Fu05yW9TNnEvhzPYA8jm1XDpj74V6Hp9Zthz5y9hz9TCkD5jY2eTCfwkG8LnYXOuZTODeu26IxE/LAjr3OQDc5YD6Fg5h1dxcj5lM4WK81ZnLcXIfalfwgZrblhyt9D41g5/t/odtlBcam5tQysG5iLWA+hYOYIU9jPoWDnFZjJkOfOeXoM6ccfeaUo8+ccirhmfNMX+H/sqsW0W3KBXM/3Gvx1Npy+CNn/7HPlDKg3l3oAPMpHMTr0rp66lM4K93kQGMm4+GWvc4gNzlgPoWDmPVwFyPmUzhYrzVmctxch9rTYNOu3E80SMC+7JhpgPPbmB9OdZNwE5/h4ybQbbICY1NzahlYN7EWMJ/CQcyQpzGfwkFOqzGToc+ccvSZU44+c8rRZ0455f7MedXSr/5axLbcNwrmfrjX46l155GPnIOffKaUAQ3LmzyYT+EgXhPdhY75FM6qh7ZozIRsRHIwcjz1KRzErKe7GDGfwsF6rTGT4+Y61K7kBzHT/FAGxqbGTAbWTawFzKdwEDPkacyncJDTasxk6DOnHH3mlKPPnHL0mVOOPnPahbkfXjXalRakywhNDuRociBHkwM5mhzI0eRAjhako+HmOtSu5Acx0/xQhhak5WhBWo4WpOVoQVqOPnPK0WdOOfrMKUefOeXoM6ddmPvhVaNdtT7/04+cQ3/6TCkD5rsLHWA+hYN4TXIXOuZTOKvWb9GYCdm4c68z2E0OmE/hIGZYjJhP4WC91pjJcXMdalfyg5hpfigDY1NjJgPrJtYC5lM4iBnyNOZTOMhpNWYy9JlTjj5zytFnTjn6zClHnzntwtwPrxrtqvXFdz523vmXz5UyYMGKJg/mUziI12Uz66lP4dyxoVljJuTRXfucIW5ywHwKBzHr2ac/9SkcrNcaMzlurkPtSn4QM80PZWBsasxkYN3EWsB8CgcxQ57GfAoHOa3GTIY+c8rRZ045+swpR5855egzp12Y++FVo121vvbuUee9f/tCKQMW3rTag/kUDuI1ZVYD9SmcNY80a8yEPPXCPmfoqFrqUziIWS93MWI+hYP1WmMmx811qF3JD2Km+aEMjE2NmQysm1gLmE/hIGbI05hP4SCn1ZjJ0GdOOfrMKUefOeXoM6ccfea0C3M/vGq0q9Y33/vE+c2nf1PKgMU3r/FgPoWDeE2d3UB9CueeTds0ZkKaXzrgDBtdS30KBzHr7S5GzKdwsF5rzOS4uQ61K/lBzDQ/lIGxqTGTgXUTawHzKRzEDHka8ykc5LQaMxn6zClHnznl6DOnHH3mlKPPnHZh7odXjXbVuvdXf3L+0Pp3pQy4/tY1HsyncBCv6VfOpz6Fc/+j2zRmQp559aAzYkwt9SkcxKx33/7Up3CwXmvM5Li5DrUr+UHMND+UgbGpMZOBdRNrAfMpHMQMeRrzKRzktBozGfrMKUefOeXoM6ccfeaUo8+cdmHuh1eNdvUf120c6dy84wKlDBg94/sezKdwEK9zx/WkPoUzcdE5GjMhs+8c7PT9QVfqUziIWedu36E+hbNw4yiNWQTcXAdcrIhAzOYFbEph/qeLxkzGxy4rAzalMIjZxoBNKcxhF42ZjF3tMJ/CQbzQ15hP4WBcasxkYM3EOsB8CgcxQ47GfEr64H78h4un1gcPXeE0H52nlAFTG8/3YD6Fg3iNmXE69Smca9aN1pgJuXXHBOfsmh7Up3AQs27VnahP4WC91pjJcXOdjt/Cq0ILMTut7aUqpFpdNGYy/dIFDyeq8ELMFra9VIXU8y4aM5keaEcVXogX+poqvDAuNWYyYc3EOqAKL8QMOZrKDuXcj9Z1h650th5dqJQBUxuHejCfwkG8xsw4i/oUzoJ1tRozISt3THHOrulFfQoHMetWfSL1KRys1xozOW6uowVpubQgLZcWpOXSgrRcWpCWSwvScmlBWi4tSMulBWm5tCAtlxak7VJuQXr9oQbnmaPLlDJgWuMID+ZTOIjX2Bk/oD6Fc+26izVmQlbtuMI5p6aa+hQOYtatujP1KRys1xozOW6uowVpubQgLZcWpOXSgrRcWpCWSwvScmlBWi4tSMulBWm5tCAtlxak7VJuQfrhQwudZ4/eopQB0xtHezCfwkG8xs04l/oUznXrJmnMhNy+Y7ZzTk1f6lM4iFm36i7Up3CwXmvM5Li5jhak5dKCtFxakJZLC9JyaUFaLi1Iy6UFabm0IC2XFqTl0oK0XFqQtku5BelHDi1znjvapJQBVzSO92A+hYN4jZtxPvUpnIXrpmrMhNy+Y57zg5r+1KdwELNu1SdRn8LBeq0xk+PmOlqQlksL0nJpQVouLUjLpQVpubQgLZcWpOXSgrRcWpCWSwvScmlB2i7lFqQ3Hr7J2XHsXqUMmNF4oQfzKRzEa3zdEOpTOIvWXaExE3JnywLnBzXfpz6Fg5idWt2V+hQO1muNmRw319GCtFxakJZLC9JyaUFaLi1Iy6UFabm0IC2XFqTl0oK0XFqQlksL0nYptyC96fDtTsux9UoZMKNxggfzKRzEa3zdcOpTOIvXzdaYCWlqWeL8oOZ06lM4iNmp1SdTn8LBeq0xk+PmOlqQlksL0nJpQVouLUjLpQVpubQgLZcWpOXSgrRcWpCWSwvScmlB2i7lFqQfPXy38/yxR5UyoK5xkgfzKRzEq7auhvoUzpJ1V2vMhKxuaXQG1JxJfQoHMUNxlfkUDtZrjZkcN9fRgrRcWpCWSwvScmlBWi4tSMulBWm5tCAtlxak5dKCtFxakJZLC9J2Kbcg/fjhB53dx7YoZcDMxss9mE/hIF4X1I2mPoWzdN01GjMhd7Xc4gyoOZv6FA5idmr1KdSncLBea8zkuLmOFqTl0oK0XFqQlksL0nJpQVouLUjLpQVpubQgLZcWpOXSgrRcWpC2S7kF6ScPP+K8eOy5VNnwxv3mAbGDeSvn0G1toFOXE3LaevrA79PtSs2sxis8mE/hIF4X1I2jPoVzw7qFGjMhd7fc7pxb8wPqUziI2anV3ahP4WC91pjJaV+7VTIhZlpclUkL0nJpQVouLUjLpQVpubQgLZcWpOXSgrRcWpCWSwvSdilYkH7ceenY7lS5b9c9HcVd5k+DGzctd8ZMHu106tKpoy09+/VwJl41wfnR+1vpPlm3e3bjTA/mywLEcPC4QR0xAXgPO9s+CxCvC+suoL4sQV9Cf0PM5q28im6TFTesW2pNzBAnjMnTB57e0ccwZmF7+I2H6D5ZcE/LXc65NQOoL21MzEz/sjlm3atPpb6swRrg73OIHdsubbBe2xAzxMe/duYDfZHtnzbt7bFJ3VyWuRxx8cfsjy5NLjYI7cm6uPqaiz8+hfjCJWvZVJA+w2WDC/qUP0aI6TwXW2RTQRox2+byVxcTM7yGDWPWFmVVkEZ8zJyFn2FU64I+h75nYmrmuTRjmlVBOkrMjOLsm4SyKkijX2DuMv2lmMxcZ2JlQL+b6pKmsipIR42Zf33IKmZZFaSlMWPC2mD2x1qRlrIsSCN3NfM55vdCCo5JRlo5b7kUpKPO+/nGNI6R9pgOo9yC9NOHtzivHHstVdbueqAjUMxfSs4YeIZ3XjxM169scJ46+MMOH9pVt3Sm88gbm3L28fuzajeY03ilB/OlCeJm4oDXz72/3bMjlmMnj83xBfdNG8TrwrqLqC9tmppX0yKODXHy07huuRUxGzxuiNefEDfTx/DT3/8QT+PLkntb7nfOqzmP+tLExOzmTbd0zG2Iz5L7lubELLhfFiBm3au7U1+WIG4mVhOvmuT9RFzZtmmD9dqGmGW9Fkppb6sNQsJoEnk8vKAwaIoy+ImkEQmlsWUptLEcPu0bJXEvlWwoSKPvmD6GBxP/A+MQF3+Rv9jDZBqyoSCNOJiYIGaIE4RYYoz642mD0ixIIxbBB1xQbLz5Y4o+h7kPQkxRgAh7nKSUZkE6asygOPsmrTQL0ugX/rnJTyGhLyFeGKemj0H+cQvSmuvSLEjHjRkKi2aug5B/+GPm95VSaRako8aMyfzi0l+UTktpF6T9c7afYuMq7HZpyOaCdJx5H+PWv72/+Iw5EXNhWkV/iXIL0lsOP+e8duztVHlg1yMdwWb+UtGpy4neORtWXkf9xciq3YYrG+d5MF9aLL1veUcMtr//It1mdfN9HdsgZmybtEC8LqqbQH1psumNp5wh44blxMPEKGp/LBXL191iRcwK4R+LNsTv/pb1znk151OfLfhjlvW4BIhZ9+oe1JcVZu7q2a+XN7+hb+E9xi7bPm2wXtsQM39fYn7baG9r1kLCadpiQ3JeTGin7QVp8yCY5ieTCsmGgrT/wTGf8NACvw0PKTYUpE28CsXDFB/wC6OslWZB2hT7jEzfKfSg7J/r8n0yC4Uhs00a/TDNgnSUmBnF2TdppVmQxlyOfoB+AYWZx8LIHCOt+KVZkC51zNIYl1CaBekkYub/YAHmOv8v39JSmgVp/OICcTO/8PFfrxakk1HUeR/3BtuhP5o+XS7KLUg3H97lvH7scKo8uOsx00GpvxhDxo0Q7z9/5WJv+579elN/GOK2Oy5XNs73YL60MLG/7Kpp1G8wcULcmT8tEK+L6yZRX9bYEqMgy9fdZm3MDNffd3NH/DAu2TZpsrZlk3NezWDqs4UzBp7txSvOHJgkiFn36p7UlwVmjcAcV8iWJVivbYhZ1muhlPa2Zi2TYCKxLwehrTYXpM2f2tqUiNtQkIbMJ20QG/+DIOJkfFkUuJjKpSBtCheIadZKsyAdVJgHZROrYr8oCnOspJRmQTqoONeZZoyCSrMgHVSUQmFQ/l+MFBrbSSrNgnRQScTM/xUW/k+cl1JpFqSDksbMFGP9eYe/QJuW0ixIB+W/3mKF5rDbpSGbC9JBhZ33TXz9xexyUW5BetvhV5w9x36RKg/tetoEkPpLwdBxIzvOWYhOXTo7j76xnR4ji3b7mdt4nQfzpYW5/mtW3kD9BhNv/GT+tEC8Lq6bQn1ZEzaWaXPjuiZrYwZuuG9VR+zwmm2TNg+0POEMrBlKfWmzctO9HfHxg7HYfPBluk8WIGbdq3tRX9qY+So4FvHexM5vzwqs1zbEDP3I37cYPftV511L06a9TVkrJz4FQMHQhgIr2mJrQdr/EJnWQ3MY2VKQhtCH/HEy2PYLERsK0oiJPz7+PoUHaRRpUIAw22Qt2wvSYR+mkyighZUWpOUq54K0vxiNr2hIS+VSkMYcZ7b1g18ipV08LJeCtNk2OBb9Bdq0VC4FafOXRfnAuppWMbXSCtL++1AMGz8IEyxIv+m8eew3qbJ+1zMdQWL+UjB03GjvfPjJ/OCalSs62rX14J7j/Fm0289VjYs9mC8tzPUjVsxvMPEeP/lS6k8LxOuSuqnUlzVhY5k2N667x8qYPf/+IefMgQO8mOEXR3jPtsuCB1uanYE1w6gvazCXLbvvTi9mps+t2vQg3TZNELMe1b2pLy3Qh3r16+PF5O7mx47zmzWh0LqRJlivs45ZGGYvvbajr7G4pk17W7KWaQceavLJJKE2fAUF2mFjQRoPLyaWaT84F5MtBWlTYMXDHv6kEzIFalNYxU8UbbKWDQVpyMTHfILcxAjFLPQ5U4yAP2tVWkEacS61tCAtV7kWpP2/YEp7jSiXgnRQmP8wz/nnv7SKWOVQkDbfO82+sslfGExL5VKQLiT/dx+n8VVYlVyQzncfMK5NzmdbUTq3IP2jI/udtz75MFU27G4xAaT+UrBg1S3e+Xr160v9wN8uvC7kD/rS4OrlN3gwX1oMHdf2Twvxk/nB7g+++vTvbZsfptukBeI1oe4K6ssaEyP0TebPipseesCqmKE/nTnwPC9WJ3bp4jyx51W6XZasa3nOOX/kCOqziTlL276CAmQdR8SsR3U19aWFmc8kZBk3rNdZxywsJl42zG/tbclaJsEslBTGeaBMWmiDbQVpfwJu458o2lCQNg8fhR7w/EX9rIvSthSki8l80ssU+LOU7QXpsPOYKX6l8aCsBWm5yq0g7S9EZ7U+lGtB2i9/oTCN+c72grR/m7CUOm6VUJCG0pzfKq0gDZn7UGi+SzPGEuUWpJ878lPn7U/+nCqP7H7BBJD6S8Gzh450nPO6VbfRbYaNG+/5e/XrR/1ZtNvPvOUrPJgvLZ7a8+OicTxr4EDPj3gyf5ogXhPqZlJf1hSLY1bc8tB6a2I25aqrO+KEvse2sYH1Lc87548cSX228OIHv/bmNsQShX22TZogZj2q+1CfLWBsIl42zGUA67XtMQO1U6Z09DP0O7ZNmrTPIVnLXwRkSbxtn2RAO2wqSGfxfaBS2VCQNjEK+4uPrL/yxPaCNOJj2yeMbC9IQyZm+bYz31WL7TD3lVpakJarXArS/rU1618YVUJB2nwaGKTxC0vbC9LF5C/QpqVKKEhjrCZxnLCqxIK0+SVcvnXUf6+y+iVdPuUWpLcfec/Z+8mnqfLI7ldNcKi/GMPGXRBp/5c++KNz1sBBHfsy7tj8JN0XxG13XOYtv9mD+dIEcezVr39O3IIUimOaIF6X1s2mvjR59tBXnxovBvoZO0Za3PLQpsxjJokXeGrPfnqctNjQ8pJz/sjR1JcWiAGLTZC5S5fT/dMGMUNxlfls4bpVTV7MsOYwf9pgvbYhZsE+xbCln4H2NtkgPNyZQg0DPhu+RgFCe2wpSPu/79KWoiCTDQVpPJT4/+w6H9gmjUJgMdlQkPYXJRiIlS3jEkqzIF3sO0ANiGFQ/sIWI82xnGZBOk7M4uybtNIsSJvCSjGCBZqw8QJpFKvTLEhHjVmhHMSAfdJaH9IsSEeNWSFVekHa/wufYviFGLJt/KTZz2wuSMeZ94vdH1tyvaByC9ItR37n7P/kv6fKpt1vdQSK+W0l63bXL1/lwXwKB/G6tG4u9SmclQ89oTET8nDLG86gkWOpT+EgZj2q+1KfwsF6rTGT075uq2RCzGz6hHQ5yIaCdLnJhoJ0uSnNgnSlKM2CdKUozYJ0pSjNgnSlKM2CdKUozYJ0pcjmgvTXUcGC9IfOgU/+M1U27/7qk3zMbytZt7th+Z0ezKdwEK+JdfOoT+GsfOiHGjMhj7T8xBk0cjz1KRzErGd1P+pTOFivNWZy2tdtlUyImRZXZdKCtFxakJZLC9JyaUFaLi1Iy6UFabm0IC2XFqTl0oK0XcotSO888pFz8JPPUqV5z/sdhV3D1UtX0W1t4MQuXXPaevbAoXS7UtOwvMmD+RQO4jWxrp76FM6qh7ZozIRsbNnrFaSZT+EgZj2r+1OfwsF6rTGT0752q2RCzLS4KpMWpOXSgrRcWpCWSwvScmlBWi4tSMulBWm5tCAtlxak7VL2BWklGlqQlqMFaTlakJajBWk5WpCWowXpaLi5jhak5dKCtFxakJZLC9JyaUFaLi1Iy6UFabm0IC2XFqTl0oK0XFqQtku5Bennf/qRc+hPnyllwPzlTR7Mp3AQr0l19dSncFat36IxE7Jx515n8Mjx1KdwEDMUV5lP4WC91pjJcXMdLUjLpQVpubQgLZcWpOXSgrRcWpCWSwvScmlBWi4tSMulBWm5tCBtl3IL0i++87Hzzr98rpQBC1Y0eTCfwkG8LptZT30K544NzRozIY/u2ucMGTme+hQOYtazT3/qUzhYrzVmctxcRwvScmlBWi4tSMulBWm5tCAtlxak5dKCtFxakJZLC9JyaUFaLi1I26XcgvSr7x51fvlvXyhlwHU3rfZgPoWDeE2Z1UB9Cmf1I80aMyFPvrDPGTqqlvoUDmLWq09/6lM4WK81ZnLcXEcL0nJpQVouLUjLpQVpubQgLZcWpOXSgrRcWpCWSwvScmlBWi4tSNul3IL0m+994vzm078pZcDim9d4MJ/CQbymzm6gPoVzz6ZtGjMhzS8dcIaNrqU+hYOY9e7Tn/oUDtZrjZkcN9fRgrRcWpCWSwvScmlBWi4tSMulBWm5tCAtlxak5dKCtFxakJZLC9J2KbcgvfdXf3L+0Pp3pQy4/tY1HsyncBCv6VfOpz6Fc/+j2zRmQp559aAzYkwt9SkcxKx33/7Up3CwXmvM5Li5jhak5dKCtFxakJZLC9JyaUFaLi1Iy6UFabm0IC2XFqTl0oK0XFqQtks59+P/52Ie1hRFURRFURRFURRFURRFURQlaVCHVqlUKpVKpVKpVCqVSqVSqVQqlUqlUqlUKpVKpVKpVCqVSqVSqVQqlUqlUqlUKpVKpVKpVCqVSqVSqVQSVVX9/wHiOhnz6tNZ6AAAAABJRU5ErkJggg==)"
      ]
    },
    {
      "cell_type": "code",
      "execution_count": null,
      "id": "597e5aae-6636-4356-aa89-d2c7f8bfdd61",
      "metadata": {
        "id": "597e5aae-6636-4356-aa89-d2c7f8bfdd61",
        "outputId": "9ab114ff-f0fc-4bd1-cb12-83c700f9feb6"
      },
      "outputs": [
        {
          "name": "stdout",
          "output_type": "stream",
          "text": [
            "Бензин (АИ-92-К5)\n"
          ]
        }
      ],
      "source": [
        "item = 'Бензин (АИ-92-К5)'\n",
        "print(item[ : ])"
      ]
    },
    {
      "cell_type": "code",
      "execution_count": null,
      "id": "7506a942-e1c1-4066-a527-ea7afafaf3ed",
      "metadata": {
        "id": "7506a942-e1c1-4066-a527-ea7afafaf3ed",
        "outputId": "883df81b-bed5-4a4d-990a-c1ff572d8b7a"
      },
      "outputs": [
        {
          "name": "stdout",
          "output_type": "stream",
          "text": [
            "А-2К\n"
          ]
        }
      ],
      "source": [
        "item = 'Бензин (АИ-92-К5)'\n",
        "print(item[-9 : -1 : 2])"
      ]
    },
    {
      "cell_type": "markdown",
      "id": "04c07963-24a2-4e97-bdb9-cb46f7f1349c",
      "metadata": {
        "id": "04c07963-24a2-4e97-bdb9-cb46f7f1349c"
      },
      "source": [
        "![image.png](data:image/png;base64,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)"
      ]
    },
    {
      "cell_type": "markdown",
      "id": "a3bb7fb1-9a30-4289-8d5f-f27cda86de68",
      "metadata": {
        "id": "a3bb7fb1-9a30-4289-8d5f-f27cda86de68"
      },
      "source": [
        "### Конкатенация строк"
      ]
    },
    {
      "cell_type": "markdown",
      "id": "3666d458-6d82-49d7-8e62-799c727abeda",
      "metadata": {
        "id": "3666d458-6d82-49d7-8e62-799c727abeda"
      },
      "source": [
        "Конкатенация - сложение двух строк, в результате создается новая строка.  \n",
        "Используется арифметический оператор `\"+\"`."
      ]
    },
    {
      "cell_type": "code",
      "execution_count": null,
      "id": "cd27b203-4aa9-46b3-9064-6e6027fb6c6e",
      "metadata": {
        "id": "cd27b203-4aa9-46b3-9064-6e6027fb6c6e"
      },
      "outputs": [],
      "source": [
        "item = 'Бензин (АИ-92-К5)' \n",
        "market_section = '''Секция биржи: \"Нефтепродукты\"'''"
      ]
    },
    {
      "cell_type": "code",
      "execution_count": null,
      "id": "5c34652f-d123-40d3-84ec-32f6ac26f975",
      "metadata": {
        "id": "5c34652f-d123-40d3-84ec-32f6ac26f975",
        "outputId": "3ac1fbef-e36e-48eb-c123-74952ba7b29a"
      },
      "outputs": [
        {
          "name": "stdout",
          "output_type": "stream",
          "text": [
            "Бензин (АИ-92-К5) торгуется Секция биржи: \"Нефтепродукты\"\n"
          ]
        }
      ],
      "source": [
        "info = item + ' '+ 'торгуется' + ' ' + market_section\n",
        "print(info)"
      ]
    },
    {
      "cell_type": "markdown",
      "id": "9baa4ec0-597b-4f33-8dec-05c2e28b4a94",
      "metadata": {
        "id": "9baa4ec0-597b-4f33-8dec-05c2e28b4a94"
      },
      "source": [
        "### Дублирование строки"
      ]
    },
    {
      "cell_type": "markdown",
      "id": "6f2aacdb-7d74-427a-9ada-495857b94e06",
      "metadata": {
        "id": "6f2aacdb-7d74-427a-9ada-495857b94e06"
      },
      "source": [
        "Строки можно дублировать - умножать на число.  \n",
        "Используется арифметический оператор `*`."
      ]
    },
    {
      "cell_type": "code",
      "execution_count": null,
      "id": "b1174a12-3fa3-410b-af08-90481daa7352",
      "metadata": {
        "id": "b1174a12-3fa3-410b-af08-90481daa7352"
      },
      "outputs": [],
      "source": [
        "item = 'Бензин (АИ-92-К5)' \n",
        "station_mnpz = \"Яничкино\"\n",
        "station_yanpz = \"Новоярославская\"\n",
        "station_onpz = \"Комбинатская\""
      ]
    },
    {
      "cell_type": "markdown",
      "id": "95c5e3c9-9cc6-4705-a94a-a9a94c49de6b",
      "metadata": {
        "id": "95c5e3c9-9cc6-4705-a94a-a9a94c49de6b"
      },
      "source": [
        "Выведем на экран переменные. Для повышения читаемости сформируем прерывистые разделительные линии.  \n",
        "Разделитель легко формируется, если продублировать строку \"_\"."
      ]
    },
    {
      "cell_type": "code",
      "execution_count": null,
      "id": "3982ef28-21eb-468c-90c7-5bd82349af56",
      "metadata": {
        "id": "3982ef28-21eb-468c-90c7-5bd82349af56",
        "outputId": "8e3bb30b-073f-469a-d18f-4cf8074fc8f1"
      },
      "outputs": [
        {
          "name": "stdout",
          "output_type": "stream",
          "text": [
            "----------------------------------------\n"
          ]
        }
      ],
      "source": [
        "# разделительная линия - формируется строка из 40 нижних подчеркиваний\n",
        "divider = '-' * 40\n",
        "print(divider)"
      ]
    },
    {
      "cell_type": "code",
      "execution_count": null,
      "id": "cbde018e-804f-4203-95ed-70f68b3081c0",
      "metadata": {
        "id": "cbde018e-804f-4203-95ed-70f68b3081c0",
        "outputId": "cd50ae23-fd54-480d-a996-a2661838af3c"
      },
      "outputs": [
        {
          "name": "stdout",
          "output_type": "stream",
          "text": [
            "Яничкино: Бензин (АИ-92-К5)\n",
            "----------------------------------------\n",
            "Новоярославская: Бензин (АИ-92-К5)\n",
            "----------------------------------------\n",
            "Комбинатская: Бензин (АИ-92-К5)\n"
          ]
        }
      ],
      "source": [
        "print(station_mnpz + ': ' + item)\n",
        "print(divider)\n",
        "print(station_yanpz + ': ' + item)\n",
        "print(divider)\n",
        "print(station_onpz + ': ' + item)"
      ]
    },
    {
      "cell_type": "markdown",
      "id": "41b402eb-a1d0-4750-acdb-72a9f5420807",
      "metadata": {
        "id": "41b402eb-a1d0-4750-acdb-72a9f5420807"
      },
      "source": [
        "## Методы строк"
      ]
    },
    {
      "cell_type": "markdown",
      "id": "5d02a4f6-d8bb-4823-afdc-954e62949bac",
      "metadata": {
        "id": "5d02a4f6-d8bb-4823-afdc-954e62949bac"
      },
      "source": [
        "В Python есть набор встроенных методов для работы со строками. Методы - по сути те же функции (как ранее использованные `print()`, `len()` и т.д.), но привязанные к объекту.  \n",
        "Вызов метода осуществляется с помощью скобок и пишется через точку от объекта (в данном случае имени строки).  \n",
        "Описание методов можно найти в [документации](https://docs.python.org/3/library/stdtypes.html#text-sequence-type-str).  \n",
        "Ранее в лекции отмечалось, что строки в Python относятся к категории неизменяемых последовательностей. Это означает, что *все строковые методы возвращают новую строку, которую потом следует присвоить переменной*."
      ]
    },
    {
      "cell_type": "markdown",
      "id": "e7842c71-9df1-4a32-b5a3-46f64357e96f",
      "metadata": {
        "id": "e7842c71-9df1-4a32-b5a3-46f64357e96f"
      },
      "source": [
        "Рассмотрим некоторые методы:\n",
        "- upper();  \n",
        "- lower();  \n",
        "- replace();  \n",
        "- find()."
      ]
    },
    {
      "cell_type": "markdown",
      "id": "b8889b68-091c-4baf-81da-3fefa90d9860",
      "metadata": {
        "id": "b8889b68-091c-4baf-81da-3fefa90d9860"
      },
      "source": [
        "### Методы upper() и lower()"
      ]
    },
    {
      "cell_type": "markdown",
      "id": "13f876ac-8031-45a1-b644-a56f6e232e91",
      "metadata": {
        "id": "13f876ac-8031-45a1-b644-a56f6e232e91"
      },
      "source": [
        "upper() - преобразование строки к верхнему регистру.  \n",
        "lower() - преобразование строки к нижнему регистру"
      ]
    },
    {
      "cell_type": "markdown",
      "id": "b2a02f9e-b0db-4c24-b582-948aaed859f3",
      "metadata": {
        "id": "b2a02f9e-b0db-4c24-b582-948aaed859f3"
      },
      "source": [
        "В прошлом уроке мы рассматривали данные биржевых торгов за день по бензину АИ-92 с заводов Газпромнефть (информация СПбМТСБ).   \n",
        "Попробуем провести преобразования на примере одного из заголовков таблицы. "
      ]
    },
    {
      "cell_type": "code",
      "execution_count": null,
      "id": "c23a4306-062b-4874-832c-3acf1948d240",
      "metadata": {
        "id": "c23a4306-062b-4874-832c-3acf1948d240"
      },
      "outputs": [],
      "source": [
        "table_header = 'Объем Договоров в единицах измерения'"
      ]
    },
    {
      "cell_type": "code",
      "execution_count": null,
      "id": "dafb1d0a-354e-4d8c-a314-9d8be949d7f1",
      "metadata": {
        "id": "dafb1d0a-354e-4d8c-a314-9d8be949d7f1",
        "outputId": "a439a100-13d8-4277-c482-6442a33cf7d0"
      },
      "outputs": [
        {
          "name": "stdout",
          "output_type": "stream",
          "text": [
            "ОБЪЕМ ДОГОВОРОВ В ЕДИНИЦАХ ИЗМЕРЕНИЯ\n"
          ]
        }
      ],
      "source": [
        "upper_table_header = table_header.upper()\n",
        "print(upper_table_header)"
      ]
    },
    {
      "cell_type": "code",
      "execution_count": null,
      "id": "bf03f0e3-b09f-4794-ac77-01765b7cdbc4",
      "metadata": {
        "id": "bf03f0e3-b09f-4794-ac77-01765b7cdbc4",
        "outputId": "1bc657ce-3350-4711-fcea-bbd66da6bc4a"
      },
      "outputs": [
        {
          "name": "stdout",
          "output_type": "stream",
          "text": [
            "объем договоров в единицах измерения\n"
          ]
        }
      ],
      "source": [
        "lower_table_header = table_header.lower()\n",
        "print(lower_table_header)"
      ]
    },
    {
      "cell_type": "markdown",
      "id": "52aa8679-6224-4c79-9455-9966839ab25e",
      "metadata": {
        "id": "52aa8679-6224-4c79-9455-9966839ab25e"
      },
      "source": [
        "### Метод replace()"
      ]
    },
    {
      "cell_type": "markdown",
      "id": "b949c989-1771-44b2-9df7-29b43cf774e4",
      "metadata": {
        "id": "b949c989-1771-44b2-9df7-29b43cf774e4"
      },
      "source": [
        "Метод replace() производит замену подстроки на новую подстроку. \n",
        "\n",
        "**string.replace(old, new, count)**  \n",
        "old - подстрока, которую нужно заменить   \n",
        "new - подстрока, которая заменит исходную  \n",
        "count - сколько раз вы хотите заменить старую подстроку новой (необязательно)"
      ]
    },
    {
      "cell_type": "code",
      "execution_count": null,
      "id": "92ea131e-7e5d-4523-9e50-f344e4e7a5a3",
      "metadata": {
        "id": "92ea131e-7e5d-4523-9e50-f344e4e7a5a3",
        "outputId": "6414c7f8-d577-4edd-fdb9-560429637344",
        "colab": {
          "base_uri": "https://localhost:8080/"
        }
      },
      "outputs": [
        {
          "output_type": "stream",
          "name": "stdout",
          "text": [
            "Базис поставки\n",
            "Базис отгрузки\n"
          ]
        }
      ],
      "source": [
        "# заменим подстроку \"поставки\" на \"отгрузки\"\n",
        "table_header = 'Базис поставки'\n",
        "print(table_header)\n",
        "replaced_table_header = table_header.replace('поставки', 'отгрузки')\n",
        "print(replaced_table_header)"
      ]
    },
    {
      "cell_type": "code",
      "execution_count": null,
      "id": "e22fe901-0e96-4939-94d2-fae33f04947b",
      "metadata": {
        "id": "e22fe901-0e96-4939-94d2-fae33f04947b",
        "outputId": "6b92ff19-8c42-43ae-d896-c365721c43e1",
        "colab": {
          "base_uri": "https://localhost:8080/"
        }
      },
      "outputs": [
        {
          "output_type": "stream",
          "name": "stdout",
          "text": [
            "объем_договоров в единицах измерения\n"
          ]
        }
      ],
      "source": [
        "# заменим один пробел на нижнее подчеркивание \n",
        "table_header = 'объем договоров в единицах измерения'\n",
        "new_table_header = table_header.replace(' ', '_', 1)\n",
        "\n",
        "print(new_table_header)"
      ]
    },
    {
      "cell_type": "code",
      "execution_count": null,
      "id": "f8c283d5-f30d-4572-bbab-d7306862a81f",
      "metadata": {
        "id": "f8c283d5-f30d-4572-bbab-d7306862a81f",
        "outputId": "8a57d3ae-43ef-45e8-e1d9-ad73b5b66c92",
        "colab": {
          "base_uri": "https://localhost:8080/"
        }
      },
      "outputs": [
        {
          "output_type": "stream",
          "name": "stdout",
          "text": [
            "объем_договоров\n"
          ]
        }
      ],
      "source": [
        "# скорректируем заголовок таблицы, оставив только \"объем_договоров\", используя срезы\n",
        "# индекс первого пробела 15\n",
        "final_table_header = new_table_header[0:15]\n",
        "print(final_table_header)"
      ]
    },
    {
      "cell_type": "markdown",
      "id": "f3b4eb2a-55d6-447a-bf4c-2d322ed28c08",
      "metadata": {
        "id": "f3b4eb2a-55d6-447a-bf4c-2d322ed28c08"
      },
      "source": [
        "### Метод find()"
      ]
    },
    {
      "cell_type": "markdown",
      "id": "e17af55d-d471-4c09-a3b3-bfbc09c22bb0",
      "metadata": {
        "id": "e17af55d-d471-4c09-a3b3-bfbc09c22bb0"
      },
      "source": [
        "Метод find() ищет подстроку в строке. Возвращает индекс *первого вхождения* подстроки или *-1* (если ничего не найдет).\n",
        "\n",
        "**string.find(substring, start, stop)**  \n",
        "substring - подстрока, которую нужно искать в строке string  \n",
        "start - индекс начала поиска (необязательно)  \n",
        "stop - индекс конца поиска (необязательно)"
      ]
    },
    {
      "cell_type": "markdown",
      "id": "a7210c38-0422-4d40-a014-ef4f1c01edd7",
      "metadata": {
        "id": "a7210c38-0422-4d40-a014-ef4f1c01edd7"
      },
      "source": [
        "![image.png](data:image/png;base64,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)"
      ]
    },
    {
      "cell_type": "code",
      "execution_count": null,
      "id": "d03cbe78-cfc8-4288-acf2-0c9a0ddfa5ca",
      "metadata": {
        "id": "d03cbe78-cfc8-4288-acf2-0c9a0ddfa5ca",
        "outputId": "d797009a-3ce6-41f5-872f-7fe45c654dbf",
        "colab": {
          "base_uri": "https://localhost:8080/"
        }
      },
      "outputs": [
        {
          "output_type": "stream",
          "name": "stdout",
          "text": [
            "8\n",
            "12\n"
          ]
        }
      ],
      "source": [
        "# найдем индекс подстроки \"АИ\" в строке \"Бензин (АИ-92-К5)\"\n",
        "item = 'Бензин_(АИ-92-К5)'\n",
        "print(item.find('АИ'))\n",
        "print(item.find('2'))"
      ]
    },
    {
      "cell_type": "markdown",
      "id": "b0503daf-e2f0-4f7d-9c0d-5e4c85b54b1b",
      "metadata": {
        "id": "b0503daf-e2f0-4f7d-9c0d-5e4c85b54b1b"
      },
      "source": [
        "Cделаем наименование товара компактнее - оставим 'АИ-92', используя срез.  \n",
        "Вспомним, что срез формируется `string[start : stop]`. Позиция stop в срез не входит.  \n",
        "Чтобы в срез попала подстрока 'АИ-92' полность, необходимо выбрать с 8 по 13 символ."
      ]
    },
    {
      "cell_type": "code",
      "execution_count": null,
      "id": "a6e63eb9-fdbf-4284-b5de-9788399fd06a",
      "metadata": {
        "id": "a6e63eb9-fdbf-4284-b5de-9788399fd06a",
        "outputId": "e7f23289-589d-4559-f2e5-1277d886a2f1",
        "colab": {
          "base_uri": "https://localhost:8080/"
        }
      },
      "outputs": [
        {
          "output_type": "stream",
          "name": "stdout",
          "text": [
            "АИ-92\n"
          ]
        }
      ],
      "source": [
        "item_92 = item[8:13]\n",
        "print(item_92)"
      ]
    },
    {
      "cell_type": "markdown",
      "id": "30dc8dea-69a4-4997-806d-38cb9c0c1839",
      "metadata": {
        "id": "30dc8dea-69a4-4997-806d-38cb9c0c1839"
      },
      "source": [
        "Рассмотрим ситуацию, когда в строке нет искомой подстроки.  \n",
        "Ищем вхождение подстроки \"92\" в строку \"Бензин (АИ-92-К5)\" в интервале с 7 по 12 символ.   \n",
        "Выбирая в качестве второй границы интервала 12 символ, помним, что она в срез не войдет."
      ]
    },
    {
      "cell_type": "code",
      "execution_count": null,
      "id": "6e100d57-4e02-4a2d-8d97-772454d1fbfb",
      "metadata": {
        "id": "6e100d57-4e02-4a2d-8d97-772454d1fbfb",
        "outputId": "10c404c3-c49a-4108-b9b0-24b2041ebaee",
        "colab": {
          "base_uri": "https://localhost:8080/"
        }
      },
      "outputs": [
        {
          "output_type": "execute_result",
          "data": {
            "text/plain": [
              "-1"
            ]
          },
          "metadata": {},
          "execution_count": 6
        }
      ],
      "source": [
        "item = 'Бензин_(АИ-92-К5)'\n",
        "item.find('92', 7, 12)"
      ]
    },
    {
      "cell_type": "markdown",
      "id": "3a8b6e6d-f329-4fcb-bd57-01df13d8a410",
      "metadata": {
        "id": "3a8b6e6d-f329-4fcb-bd57-01df13d8a410"
      },
      "source": [
        "Подстрока не найдена - возвращается -1."
      ]
    },
    {
      "cell_type": "markdown",
      "id": "8b821e4c-d542-4717-846a-a90932133232",
      "metadata": {
        "id": "8b821e4c-d542-4717-846a-a90932133232"
      },
      "source": [
        "## Форматирование строк"
      ]
    },
    {
      "cell_type": "markdown",
      "id": "d435290a-2841-4263-9ef1-38706fa659bf",
      "metadata": {
        "id": "d435290a-2841-4263-9ef1-38706fa659bf"
      },
      "source": [
        "Часто возникает ситуация, когда необходимо создать строку, подставив в нее определенные значения, полученные во время выполнения программы. Подстановка данных в таком случае выполняется при помощи форматирования строк."
      ]
    },
    {
      "cell_type": "markdown",
      "id": "f37657f3-7b94-4b96-ac05-44d645c72a05",
      "metadata": {
        "id": "f37657f3-7b94-4b96-ac05-44d645c72a05"
      },
      "source": [
        "Способы форматирования строк:  \n",
        "- f-строки;\n",
        "- format()."
      ]
    },
    {
      "cell_type": "markdown",
      "id": "c74e0295-72e8-4587-8172-7cfa7d21d97a",
      "metadata": {
        "id": "c74e0295-72e8-4587-8172-7cfa7d21d97a"
      },
      "source": [
        "С версии Python 3.6 - используем f-строки, с версии 3 - format()."
      ]
    },
    {
      "cell_type": "markdown",
      "id": "c564f3c6-fa2c-45b8-8d31-343c786a50f8",
      "metadata": {
        "id": "c564f3c6-fa2c-45b8-8d31-343c786a50f8"
      },
      "source": [
        "### f-строки"
      ]
    },
    {
      "cell_type": "markdown",
      "id": "72dab053-e396-4da2-b9d2-be099c690c96",
      "metadata": {
        "id": "72dab053-e396-4da2-b9d2-be099c690c96"
      },
      "source": [
        "Появились в версии Python 3.6.  \n",
        "Синтаксис:  \n",
        "**f'текст{переменная}текст'**"
      ]
    },
    {
      "cell_type": "markdown",
      "id": "a6702608-6a3e-4758-a0de-7e9aad967903",
      "metadata": {
        "id": "a6702608-6a3e-4758-a0de-7e9aad967903"
      },
      "source": [
        "#### Пример"
      ]
    },
    {
      "cell_type": "code",
      "execution_count": null,
      "id": "4ec41446-2664-453e-9165-ca027cc9725c",
      "metadata": {
        "id": "4ec41446-2664-453e-9165-ca027cc9725c"
      },
      "outputs": [],
      "source": [
        "item = 'Бензин (АИ-92-К5)' \n",
        "station = \"Яничкино\"\n",
        "price_per_tone = 37740     \n",
        "sales_per_day = 565.245  \n",
        "revenue_per_day = price_per_tone * sales_per_day\n",
        "percent_of_sales = sales_per_day / (840 + 565.245 + 1320)"
      ]
    },
    {
      "cell_type": "code",
      "execution_count": null,
      "id": "ac68e9dc-9093-4352-be29-2e2848ac0fef",
      "metadata": {
        "id": "ac68e9dc-9093-4352-be29-2e2848ac0fef",
        "outputId": "721e860c-7f59-4ba3-dbaf-220c295599d2"
      },
      "outputs": [
        {
          "data": {
            "text/plain": [
              "'Отгрузка Бензин (АИ-92-К5) за 10 мая со станции Яничкино составляет 565.245 тонн'"
            ]
          },
          "execution_count": 31,
          "metadata": {},
          "output_type": "execute_result"
        }
      ],
      "source": [
        "f'Отгрузка {item} за 10 мая со станции {station} составляет {sales_per_day} тонн'"
      ]
    },
    {
      "cell_type": "markdown",
      "id": "5271c85e-e1dd-4350-8df2-8fd362eba3dc",
      "metadata": {
        "id": "5271c85e-e1dd-4350-8df2-8fd362eba3dc"
      },
      "source": [
        "В фигурные скобки можно размещать не только переменные, но и **функции, методы, вычисления**."
      ]
    },
    {
      "cell_type": "code",
      "execution_count": null,
      "id": "921fec90-3ea6-46ef-b87d-9f1ae3651e39",
      "metadata": {
        "id": "921fec90-3ea6-46ef-b87d-9f1ae3651e39",
        "outputId": "bd1d574a-b2ea-49b5-879e-7d279bd140a9"
      },
      "outputs": [
        {
          "data": {
            "text/plain": [
              "'Отгрузка Бензин (АИ-92-К5) за 10 мая со станции ЯНИЧКИНО составляет 565.245 тонн'"
            ]
          },
          "execution_count": 32,
          "metadata": {},
          "output_type": "execute_result"
        }
      ],
      "source": [
        "f'Отгрузка {item} за 10 мая со станции {station.upper()} составляет {sales_per_day} тонн'"
      ]
    },
    {
      "cell_type": "code",
      "execution_count": null,
      "id": "7dbf38c1-6a23-4b76-b5b2-75b5b91aa99b",
      "metadata": {
        "id": "7dbf38c1-6a23-4b76-b5b2-75b5b91aa99b",
        "outputId": "60668298-353c-4e20-8a3d-b84a26f16f62"
      },
      "outputs": [
        {
          "data": {
            "text/plain": [
              "'Отгрузка Бензин (АИ-92-К5) за 10 мая со станции ЯНИЧКИНО составляет 600 тонн'"
            ]
          },
          "execution_count": 33,
          "metadata": {},
          "output_type": "execute_result"
        }
      ],
      "source": [
        "f'Отгрузка {item} за 10 мая со станции {station.upper()} составляет {60*10} тонн'"
      ]
    },
    {
      "cell_type": "markdown",
      "id": "cc2fdc8e-93a2-4814-84d8-b50c4db2a03b",
      "metadata": {
        "id": "cc2fdc8e-93a2-4814-84d8-b50c4db2a03b"
      },
      "source": [
        "#### Форматирование чисел"
      ]
    },
    {
      "cell_type": "markdown",
      "id": "518a89dd-46fd-4f4a-95dd-72a86c7bc27c",
      "metadata": {
        "id": "518a89dd-46fd-4f4a-95dd-72a86c7bc27c"
      },
      "source": [
        "Установить определённое количество цифр после точки в вещественных числах (float) можно следующим образом: `{переменная:.Nf}`, где  \n",
        "N – количество знаков после точки. "
      ]
    },
    {
      "cell_type": "code",
      "execution_count": null,
      "id": "33eed8b5-1896-440e-a168-7df49a8ad7fe",
      "metadata": {
        "id": "33eed8b5-1896-440e-a168-7df49a8ad7fe",
        "outputId": "f0d71f97-413a-49d1-ee95-6d5b8a3ae034"
      },
      "outputs": [
        {
          "data": {
            "text/plain": [
              "'Отгрузка Бензин (АИ-92-К5) за 10 мая со станции ЯНИЧКИНО составляет 565 тонн'"
            ]
          },
          "execution_count": 34,
          "metadata": {},
          "output_type": "execute_result"
        }
      ],
      "source": [
        "f'Отгрузка {item} за 10 мая со станции {station.upper()} составляет \\\n",
        "{sales_per_day:.0f} тонн'"
      ]
    },
    {
      "cell_type": "code",
      "execution_count": null,
      "id": "7360dcdf-0636-44c5-95db-9fa6864fec94",
      "metadata": {
        "id": "7360dcdf-0636-44c5-95db-9fa6864fec94",
        "outputId": "8b4a5527-0f36-42da-82db-e7149b84c51c"
      },
      "outputs": [
        {
          "data": {
            "text/plain": [
              "'Отгрузка Бензин (АИ-92-К5) за 10 мая со станции ЯНИЧКИНО составляет 565.2 тонн'"
            ]
          },
          "execution_count": 35,
          "metadata": {},
          "output_type": "execute_result"
        }
      ],
      "source": [
        "f'Отгрузка {item} за 10 мая со станции {station.upper()} составляет \\\n",
        "{sales_per_day:.1f} тонн'"
      ]
    },
    {
      "cell_type": "markdown",
      "id": "d17b08b7-17cc-46cc-98eb-c960f1c3eea7",
      "metadata": {
        "id": "d17b08b7-17cc-46cc-98eb-c960f1c3eea7"
      },
      "source": [
        "Для форматирования процентов работает шаблон `{переменная:.N%}`, где  \n",
        "N — количество знаков после точки."
      ]
    },
    {
      "cell_type": "code",
      "execution_count": null,
      "id": "08ea5b5a-190e-4355-abfc-0ce15dbd9f5e",
      "metadata": {
        "id": "08ea5b5a-190e-4355-abfc-0ce15dbd9f5e",
        "outputId": "65d22a2a-059f-4d93-edf0-38edd1d9e261"
      },
      "outputs": [
        {
          "data": {
            "text/plain": [
              "'Отгрузка Бензин (АИ-92-К5) за 10 мая со станции ЯНИЧКИНО составляет 565 тонн или 20.7% общего объема'"
            ]
          },
          "execution_count": 36,
          "metadata": {},
          "output_type": "execute_result"
        }
      ],
      "source": [
        "f'Отгрузка {item} за 10 мая со станции {station.upper()} составляет \\\n",
        "{sales_per_day:.0f} тонн или {percent_of_sales:.1%} общего объема'"
      ]
    },
    {
      "cell_type": "markdown",
      "id": "636208ec-e5d5-4c34-b33b-eb1fb74fe659",
      "metadata": {
        "id": "636208ec-e5d5-4c34-b33b-eb1fb74fe659"
      },
      "source": [
        "### format()"
      ]
    },
    {
      "cell_type": "markdown",
      "id": "0f2044ec-009f-424a-ba05-f82108e29703",
      "metadata": {
        "id": "0f2044ec-009f-424a-ba05-f82108e29703"
      },
      "source": [
        "Синтаксис:  \n",
        "**'текст {}'.format(переменная)**"
      ]
    },
    {
      "cell_type": "code",
      "execution_count": null,
      "id": "67557e73-99b9-449a-bdbb-7a0038d5abfb",
      "metadata": {
        "id": "67557e73-99b9-449a-bdbb-7a0038d5abfb",
        "outputId": "50475c7b-3b31-4fc1-e765-3015e684e1d6"
      },
      "outputs": [
        {
          "data": {
            "text/plain": [
              "'Отгрузка Бензин (АИ-92-К5) за 10 мая со станции Яничкино составляет 565.2 тонн'"
            ]
          },
          "execution_count": 37,
          "metadata": {},
          "output_type": "execute_result"
        }
      ],
      "source": [
        "'Отгрузка {} за 10 мая со станции {} составляет {:.1f} тонн'\\\n",
        ".format(item, station, sales_per_day)"
      ]
    },
    {
      "cell_type": "markdown",
      "id": "0536009f-1cb6-4e38-be8b-4f48618d2b8b",
      "metadata": {
        "id": "0536009f-1cb6-4e38-be8b-4f48618d2b8b"
      },
      "source": [
        "Также как и в f-строках в скобках метода format() к аргументам можно применять функции, методы и вычисления."
      ]
    },
    {
      "cell_type": "code",
      "execution_count": null,
      "id": "9f5d38e3-73f5-4806-9c88-80db9d2fd7c7",
      "metadata": {
        "id": "9f5d38e3-73f5-4806-9c88-80db9d2fd7c7",
        "outputId": "9d6915ad-4fa8-4341-bb6f-1f75444b2168"
      },
      "outputs": [
        {
          "data": {
            "text/plain": [
              "'Отгрузка Бензин (АИ-92-К5) за 10 мая со станции ЯНИЧКИНО составляет 565 тонн'"
            ]
          },
          "execution_count": 38,
          "metadata": {},
          "output_type": "execute_result"
        }
      ],
      "source": [
        "'Отгрузка {} за 10 мая со станции {} составляет {:.0f} тонн'\\\n",
        ".format(item, station.upper(), sales_per_day)"
      ]
    },
    {
      "cell_type": "markdown",
      "id": "4df1acca-507c-4310-8d11-8a7779a792a6",
      "metadata": {
        "id": "4df1acca-507c-4310-8d11-8a7779a792a6"
      },
      "source": [
        "## Итоги\n",
        "1. Строка – это упорядоченная последовательность символов. \n",
        "2. Для создания строки используются кавычки - одинарные, двойные, тройные (для многострочных).\n",
        "3. Длину строки (количество символов в строке) определяем функцией len().\n",
        "4. К символу в строке можно обратиться по индексу - str[index]. У первого символа строки индекс 0. Возможна обратная нумерация: тогда у последнего символа строки индекс -1.\n",
        "5. Строки можно \"складывать\" - конкатенация - с помощью оператора +.\n",
        "6. Строки можно дублировать - с помощью оператора *.  \n",
        "7. Методы строк разнообразны. Применяются к строке через \".\". Методы, изменяющие регистр - upper() и lower(). Метод замены подстроки в строке - replace(). Метод поиска подстроки - find().  \n",
        "8. Строки можно форматировать для повышения читабельности и удобства. С версии Python 3.6 - используем f-строки, с версии 3 - format()."
      ]
    },
    {
      "cell_type": "markdown",
      "id": "fcb57198-637e-43db-afec-0a0d2c72cd8e",
      "metadata": {
        "id": "fcb57198-637e-43db-afec-0a0d2c72cd8e"
      },
      "source": [
        "## При подготовке конспекта использованы:"
      ]
    },
    {
      "cell_type": "markdown",
      "id": "88da171d-3d90-4890-87a3-9a80af0d8f3f",
      "metadata": {
        "id": "88da171d-3d90-4890-87a3-9a80af0d8f3f"
      },
      "source": [
        "[Документация Python](https://docs.python.org/3/library/stdtypes.html#text-sequence-type-str)  \n",
        "[Strings and Character Data in Python](https://realpython.com/python-strings/#string-indexing)  \n",
        "[Строки в Python и функции для работы с ними](https://pythonchik.ru/osnovy/python-stroki)  \n",
        "[Кольцов Д.М., Дубовик Е.В. Справочник РУТНОN. Кратко, быстро, под рукой](https://www.rulit.me/data/programs/resources/pdf/Kolcov_Spravochnik-Python_RuLit_Me_678922.pdf)               \n",
        "Python для детей. Самоучитель по программированию / Джейсон Бриггс  \n",
        "[Строки](https://pyprog.pro/python/py/str/str.html)  \n",
        "[41 вопрос о работе со строками в Python](https://habr.com/ru/company/ruvds/blog/500296/)  \n",
        "[Строки. Функции и методы строк](https://pythonworld.ru/tipy-dannyx-v-python/stroki-funkcii-i-metody-strok.html)"
      ]
    }
  ],
  "metadata": {
    "kernelspec": {
      "display_name": "Python 3",
      "language": "python",
      "name": "python3"
    },
    "language_info": {
      "codemirror_mode": {
        "name": "ipython",
        "version": 3
      },
      "file_extension": ".py",
      "mimetype": "text/x-python",
      "name": "python",
      "nbconvert_exporter": "python",
      "pygments_lexer": "ipython3",
      "version": "3.8.8"
    },
    "colab": {
      "provenance": [],
      "collapsed_sections": [
        "b74f9387-4ce1-423f-a3f8-7ac9f0c0ba4d",
        "eeed0d94-f744-4aa3-8356-ed55709a0aa5",
        "b69adcd4-4941-4a65-b4ec-dc7fbce2dbfc",
        "1c43ab0b-6961-4bcd-bdb8-765772df70c1",
        "c0fe635d-8440-46cd-9cde-baf8e6c14c8e",
        "a3bb7fb1-9a30-4289-8d5f-f27cda86de68",
        "9baa4ec0-597b-4f33-8dec-05c2e28b4a94",
        "b8889b68-091c-4baf-81da-3fefa90d9860",
        "52aa8679-6224-4c79-9455-9966839ab25e",
        "f3b4eb2a-55d6-447a-bf4c-2d322ed28c08",
        "c564f3c6-fa2c-45b8-8d31-343c786a50f8",
        "a6702608-6a3e-4758-a0de-7e9aad967903",
        "cc2fdc8e-93a2-4814-84d8-b50c4db2a03b",
        "636208ec-e5d5-4c34-b33b-eb1fb74fe659"
      ],
      "include_colab_link": true
    }
  },
  "nbformat": 4,
  "nbformat_minor": 5
}