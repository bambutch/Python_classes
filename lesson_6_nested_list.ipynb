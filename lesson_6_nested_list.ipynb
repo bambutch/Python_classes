{
  "cells": [
    {
      "cell_type": "markdown",
      "metadata": {
        "id": "view-in-github",
        "colab_type": "text"
      },
      "source": [
        "<a href=\"https://colab.research.google.com/github/bambutch/python_classes/blob/main/lesson_6_nested_list.ipynb\" target=\"_parent\"><img src=\"https://colab.research.google.com/assets/colab-badge.svg\" alt=\"Open In Colab\"/></a>"
      ]
    },
    {
      "cell_type": "markdown",
      "id": "96855dad-aa97-4ea3-973c-49e8c1767146",
      "metadata": {
        "id": "96855dad-aa97-4ea3-973c-49e8c1767146"
      },
      "source": [
        "# Конспект 6"
      ]
    },
    {
      "cell_type": "markdown",
      "id": "a9f8c35d-e04e-41c8-b102-820a56fb122e",
      "metadata": {
        "id": "a9f8c35d-e04e-41c8-b102-820a56fb122e"
      },
      "source": [
        "# Вложенные списки: формируем, перебираем, используем методы списков"
      ]
    },
    {
      "cell_type": "markdown",
      "id": "ee7823d9-4530-498e-9085-dbff8b009d84",
      "metadata": {
        "id": "ee7823d9-4530-498e-9085-dbff8b009d84"
      },
      "source": [
        "В данном уроке мы:  \n",
        "- узнаем, что такое вложенный список;  \n",
        "- научимся создавать вложенные списки;  \n",
        "- освоим особенности перебора вложенных списков с помощью цикла for;\n",
        "- попробуем реализовать базовые операции при работе с вложенными списками (len(), индексы, суммирование, умножение);  \n",
        "- посмотрим, как работают некоторые методы с вложенными списками (добавление и удаление элементов, сортировка, поиск элемента по индексу)."
      ]
    },
    {
      "cell_type": "markdown",
      "id": "ca4eda16-df21-4dbd-aa9a-7b001aa04abd",
      "metadata": {
        "id": "ca4eda16-df21-4dbd-aa9a-7b001aa04abd"
      },
      "source": [
        "Элементами списка могут быть разные объекты, в том числе *другие списки*.  \n",
        "Такой список называется **вложенным (nested list)** или **список списков (list of lists)**.  \n",
        "Элемент вложенного списка — **подсписок (sublist)**."
      ]
    },
    {
      "cell_type": "markdown",
      "id": "c6e4521a-95d7-4618-afb1-c460794f87a7",
      "metadata": {
        "id": "c6e4521a-95d7-4618-afb1-c460794f87a7"
      },
      "source": [
        "С помощью вложенного списка можно воспроизвести в Python привычные таблицы."
      ]
    },
    {
      "cell_type": "markdown",
      "id": "fd5f6874-2312-4712-801c-23b42f19524f",
      "metadata": {
        "id": "fd5f6874-2312-4712-801c-23b42f19524f"
      },
      "source": [
        "## Создание вложенного списка"
      ]
    },
    {
      "cell_type": "markdown",
      "id": "88fd20fb-b4a4-4b24-b865-ca9b87ffdeb8",
      "metadata": {
        "id": "88fd20fb-b4a4-4b24-b865-ca9b87ffdeb8"
      },
      "source": [
        "Вложенный список создается путем размещения последовательности подсписков, разделенных запятыми."
      ]
    },
    {
      "cell_type": "markdown",
      "id": "cd5e9a16-a9bf-4612-b32f-7bf84ade7337",
      "metadata": {
        "id": "cd5e9a16-a9bf-4612-b32f-7bf84ade7337"
      },
      "source": [
        "**Пример**"
      ]
    },
    {
      "cell_type": "markdown",
      "id": "6b1be0e4-2934-4d43-b5c1-54aa4d8b51f3",
      "metadata": {
        "id": "6b1be0e4-2934-4d43-b5c1-54aa4d8b51f3"
      },
      "source": [
        "Вернемся к таблице с отгрузками."
      ]
    },
    {
      "cell_type": "markdown",
      "id": "e654a9c1-f0e5-42df-bbb8-ddef35b0411d",
      "metadata": {
        "id": "e654a9c1-f0e5-42df-bbb8-ddef35b0411d"
      },
      "source": [
        "![image.png](data:image/png;base64,iVBORw0KGgoAAAANSUhEUgAABCwAAADvCAMAAAF5+IU9AAAAAXNSR0IArs4c6QAAAARnQU1BAACxjwv8YQUAAACuUExURQAAAAAAAAAAAAAAAAAAAAAAAAAAAAAAAAAAAAAAAAAAAAAAAAAAAAAAAAAAAAAAAAAAAAAAAAAAAAAAAAAAAAAAAAAAAAAAAAAAAAAAAAAAAAAAAAAAAAAAAAAAAAAAAAAAAAAAAAAAAAAAAAAAAAAAAAAAAAAAAAAAAAAAAAAAAAAAAAAAAAAAAAAAAAAAAAAAAAAAAAAAAAAAAAAAAAAAAAAAAAAAAAAAAAAAAF7IU6UAAAA6dFJOUwDDsMu45sDu23Qg473rxfOf+6dA8JzKdrciv+1Yx2DP6pbXL3DfSszngK7v3Ii295A8/6uF9KBnqBMDfNv4AAAACXBIWXMAABcRAAAXEQHKJvM/AABKjklEQVR4Xu19CcPqsHYcjZ06S5fX3rYOKUlK6aNJ67TBoQH+/x/rzJwjWwYDBtss39Xc++Fdlo9Go11afBN++XYi1L59FAO8sVksdr57F/TG4JsjDPCGvrCui8MA9+WNoq4XB+5u7eQAfE+gPIJXe+PK+wZ4o6wWp/L8vkHeWIIa2OBvaSe4fzoFt+go+OC3kEGgEU+udHkIYm/Ui90+OB1Q4t89lIu173Wt8UCUOfNGfv+lN3H+FefIF3W2qeoSWz9juBcoOZy2kCzN7F3kDA3fJ7CP24pNvcjwRXjbORi+5Q63VR3HhnDD34/f3UknOuh648igqArs5uWx7Lm9H4MoOhydT3wA83njIR/d80ZdaVPuVtjpY0cXfr2qHrTLXW/kNVzMwU+G8zBv7BYZdu7eG+NF3LjnpV8Vfc0UcRgYBfvE0V1oXne0eG5BivN8CS/WhW5cZQtY19UZ+IXwxv5lBL8COue7HZgexWkFdnNkVcwrfAx6gl/oRQ7m1Hzg1IjOrwUCn47s7fge+Jg/2kEuB1tvaCdbcfPXA/B3vp0ItW9b0DuLxemOuX9ZkAbj3AXD7/zeNZ6uF+sM1yJriBvNMRMFHDAN7Evxfp3EIoSTDofg3Bc4s1kg2HdwI7rWeILKzj19KnMKPZbxCFs3SfUdrOHiZUzRm8i6xhtH2/Ab/zAAf+XbiVD7toV5x/x3/Vt/dRPqu2DA8tsj5HXF0Khq0Kxxi5Q71MeQW8N58g8ZQMorqVR3su0IlIe8ET4sgjgLd3MWDfwcSzfMi/jBXbxIzBN+EiYmzZNofBGz/wEMF+VbiGxxQAwdnA+w6GsR2E+MwNMh8oB/7+OTeFFfK0dmvn0YUHYU54Yi+KJAhoxBzKJexLg6W+iCow6JKVAyv7Epd88UhM/9dx4iD5TLHc/Eknu+mADKc+d7FHYQ/f3cHXiI4B8STEtM64s8UZvXM1h+OMf9NMS+6AZKSJLL3WDLBluc6JLnUC/z7KeWDgQrRZB72J2OylDmo6VrTIg8zqFrGMmLibQr+KKujqqLYX7KzgwAi2SToPEFcpsobmV1Xg32BUjhRByLkSHSxT0/4Xq56xRrHP2+QJQQ+89wQu68cx4FN0byFWtC8BKW72FKGlP1NIzhsWVxL2JXj1/7fXElwFEg6LqhA6kJC030Bgvnu2xRr1C2qqkrSAMCeF8Jpy8Tpyu+sEfOwfrGuvtx+M+Mhhefn8U05Xrz073cmhVrGITnuGKLdVMr3gBPm8XXqkERcAaJBS/RaQTNbrlblKq37UlqzRf6f4ZeX5SdqpsGlHGKdXsNoQMv8XgnXoiLJGDdlXyDkh/8vyT+8DhSL7Z4R90pEuM+emE1qOB+A9OU6c1Phpi9lwC588sI2GcLfG9dN00nLcwKrNwJOBQsx0NFxAvs5ptS9GEdyEVaIFbh3GVo9fmih1iCnu5epI/Ocx9PoJ8XCWNA5Ugg3CBT4CmivozdU37pfUxjC/h5g9LjhqWFVc4EbJqvCK7sFutcRZUajkPC1tkim0CxzjCNLZBI1JJ0SjmP1rcTlqFobeHWhfv2KljiQ20xF5rP7RbEHrDCI4oy2hbTytcZxjtd12pzQQQrS5RIbtJ1vC3EW/P0ATsV3lexK8K1DMtCeSm34DrUCuFJ/Gd7w2pRN7lw26p1u2TVCT/Fv6lm5vc+ckQmeIaO49/tAkOvLfAEH2fvi95agughduco9zlLXvoYvS+rFidraO3FKYO0BBu47zK4gExnjsI7LWonfVvgLBttrXCGTZlnm+ae6XDdFspY94v1U2R6BtN/7y3csUVf2eCTbNFLWwcIhGJMybiKP8QsBOzplmI89VnRQyJOnudH+vugiIWILJYjXb37LQSewf29t9Y5K0N5acMMBb8DAqCib1VmNy3xBMbaYl6cGegyTAcZeyi+yhYz4/tsMXHEiDDWFqrytLQTDPY8BWtOlHEeG67d501/pqqGv8S0vLiav3oSrS2YHaFc9PVxmwrT2mJqPMYr3P3YA2f4BTarkriUxcH2Ac49aItcvYoGAYkro5dS6qXS6T6o6hn/zFnepBvxw/xQSKEPyLQvDnZCqLfM5JO7B+R9wbSzLPkvuGC2YMXmFjsD/D3cFnjxDtmHyyrXKwiFc3lSBfQLlPQhPcwu0nfQ9/x1fGwcUXnlsW8Zi4+1hTDMFsVK2V3ezQ1ihrqWlOrNR54dh6XDvxA11/ZKOtWmi7cw3BYsVyMK3vcLXq6b7O3mod40GXwhZXBlaU9g1zP7J2u13YUREQVdgy2GfRRtgWTKXonfK+2v5xhuCyjXCb65r0EmE4bNiZKwYddqP9MA7q34gwsoBA2QtkfwE+LIVPgJtihQcmV04d11tciX4Dco5VQr8gKXN3mWL/I1FKG4GmF/8X4OyrIm4r5eQpcYaIs1YymzzFEXhH7Aeyc1mUq64F/rxNynFyipQ+GQA0Caas6yj5tu5Mfv8K0bPce4ybPWQoF/OeXET/biF+RNIx/NFtdvjDGUF6W0E24u7+RazL/M7dED8q90sM87S1ymekJO7jn7IH5CHElISLgFVpcmEH/mFvkqdLo0TYeZnJ0Xv40tamR4TqVl1q7geU9f5DPipsmPs4VyacBGmUxllS5yBiNt4Xlq1USxSYr/iY+zBfPa8ltel7s8L2uOEzrDOFuUOQco1IuNZbt3dRg/8HG2YAfn0wrZ5lyTmGzBkIltgWI6895Nv80mPn6eLQZglKe7VTGxnX93W8T4/WxxHXecpca8DkPfFjw9sd/u2cK3r8HAThbu6dNqsmFJhru8qNjXsuT/Cv+u1mlNBNqCI12s1RevzfGzY1YgtpJ5mudKv8CfUOnEB5AEsecJ/netW6peJ2eXONzOb8KG44yI+7yobZKI0kcdzQv2Gsz5QRwfyGOvqvdPdpinYSkQCZ5TVzW2GQRb6AFko+DYWWUV78tgC2QoaAt8Ey14HJS/0IQ0Wb3JMwXPvbrGXsDDFIL7WhBuqxer3HrjZqeclKjkjxbB0zjHyVSw5dUiN2uwrvZk07sU1lwaoa73eV5w1iXxglWaTsK7tpgCUgE2a9yjlZG6i95IedvTdCMeNXQmKnCx62gZuoC+zBZn4TMKM3n6ZbZAWExmjG+3xeL4lNj0YhZPL285m+f4v6baVDn7QVcZItaeujsParxsscmRdPMdeotv2ER1iqJ9n6fZnpXxbjaN26kzIM1Y5dQG3MAu2Rsm1TjJ+2sks+vbJj7iEWygRjt4MaMbNix/DtQ50kB21qb2H+VhpRIAvi9mVa+n+UnIPNQqj/eBoz5xU3GsOYoG+9zgB6kkXAd7b9sCj27xAqTk+MMvUgNO4DYP+DH4L5H37v06ZRu3inDVFnz2Ki+ONpPZ8ahpGHBXhU8jLw600V1bvAWySIyLT5vC0910VfhAW9zHLLaof19b9OD3tsWpI7O/ty3YjaHFR9miKKvFoT5tUGhSXw+bSzOUy1uM9zSrAk6cMvFzecHSGUur9CGTcDvJ43WsdVPYAmLJHiufagtkYgpkDLekBDJXyF0pUyFeWEcjx0hPw1FWBaDYzMxni8/iRYyL4nuLkZ4GKciLi/LR59riBmbydLJFi9jZG6wcBhSLOGwRBFSRDsnBpKB4oPw1NINYlRqrYKB/zgHJ8KJctj53drTX8UKzBbwA6R80ZmI4JKEssA4rRLGqmlUnKut7HXIHHL3M/0i/AXN2Hfqk0kJtbTxLfavFKjjGERYHOg/foKCH48vqS5TnS6WAuNQXEOOwR5l++UCBUn0Klrbf6x0fVE6LXDhLXrS18TZfWGZzMPFwvaahV3AAV1gXf2FsHBsvjnwAydWQjr+DwcoGeBrBNMgWtMSmSTL7bIGT/EROO6zQh7Mox9u9tEVbG09ewLQ8Udcr/KzzNRL95Trf4Dvrqu5mYAmYwGyhfP5e1UzT4ch6L+U7hvECfqDtuNdrC36P+xC3DXb2w/Cop3tJcYk/jJ2D7h34e99OjP/pNvkqzETm2FlNLDQGiH2Io/pBDFxfm7/jSWxyVT7fj9i8KT9ZJTX9gT/tn2GVr5C52EhTgrOsLFUCyfKPvoUxDBklusED/70PmJIFK7/fVHo6wLJU90HpiEaB2OvxecCl0APmVXw60ghztrntZJXmdASbEgVaJOcAjKbrd6EGYHtBczgd4Cfydkj+AolgWLLEvdSb6zP/2R3mrKWvzUmaiDu0BXsb8NxQWxxxv/0HCuVTpgO8xmBDeN22BT4b9/FDAPmG6yOETFcL5iLNp5wUyJwViWAOmY5O6LHn4ogN6/P7e3KmowBns3JAeQT5BvaD5H/kgpkPZ4HjEnaP7w4u5nwYBnu6VyWu4g9j5zJ9B/7MtxPj37lNvgozkTl2Nore9e5Sa+4jWyxXUl7FxGLSohmTuIqjLVFEumULvHqnYvTixO9Zc2BktdhoFooueI/mZ0IiwlZiOltnEFLGLIgopzjjygMrloOgnvwHjYVH8ID2uz2nuoD6atw3nuJ/HEwHiLsNO72dv2jHsSpsT/qqaz7OVquMVctMR8+c9ad2sAUKq1Qe5smWnuKKNusbLusONjw0trh+5+OgL+AeV/K7maYqQ2Cvhnfw39Y47M0VsOJtySodhrScXbOsTexYbVQu2OGPXwwX8MNmG78s931cby/0RGMLZUEnA7+IDRr4qW7bghTXmxl48Dyf609SdRc2Gwb7bWc/FoM9HSg9DD/bFo/hK22RkJCQkJBwCy+bH+R1b3pZej1J/vYzcxeJFs8j0WICDHnTsa5U98H2lqeN/g5aaFfl6au4cjHR4h5sdv5i7UuoP4vPpMW1a4kWd2AtZTSguuXgiGvl2B6njqB+HNg8dgfvpMVJfnUvL7Zs4ba7+Iuj+hBqRAMSLe7BjHWoFwVTEhyRFhmrfAXWERa3hVp4Jy1Kr9njMXtT5Zov0U8AVbmoq9KazQ2JFneR1Xmh5mzscJtXOXuprXCEOFZzes5PpYUhX6zh18wuiRaFD9s7svkG106gRRbnmxItXoR30MIQtKIPXMi2D4kWL8L7aPEMEi1ehN+IFpP4oA/vpwU7mIVCyCToGnpd1xnbu2fA59CCeTHs1xxMwsEBPLCczJP4HFrsPbOW5/uQx8ztTJHh+/K1cm+nuuIGlzRQpQ+xoTlDFG9fykrKt5YVe1N6Z2ue3WzsGH95eYRpNbE5/pBjRIZXb+PvRXeg+FgO8U5kkxc7OM4hl3wHXmjhxIwHMszZfrHQzKCO0bQ48RtPW5XcuY4mXlfjPeO6c34ALfAHWqxoKpv+ReW3Lb4MwdXMrZ/zM1lGtQ1oca3be4cW3vOVvW5XDNe6VG82OYNN6EAT/hiE2NkVKjrAzBrIrXPt0p8B0XGdgVM4xn8EP/jApzimjnywcHJasNIudmi8WmSZimf14qiPLY8V37OHebYR/R7D22mxYuhSLfRpipz6K6zEX7Ooz89k9EZEl7ZYH2qv7LpAx9AHhgysw0BhuCK4AhUAjlAPNVD6g9MKu/yAHfY1Y/CqMzP/cBwjOl7zK4rFGvQjLTiyq1ULC6dACznVYhQtZsNwWuhj+F1hR1PgDk+++t+k6NlsbkBqMQhjDN34oxN0LTqeuLiHNAi//eC0vms1+wR8PS0MLS0Irv8yECN16aW0uL7qTYzh3x5hI7Vq8ePUQhg+sG0kLYbjZYZ+ihbn+Hm0QEZuOTzDm2hxATrw7bQYi0SLS8CFZ3zLF9dWYLNWohMSPaZ/5ZqplHaRIdcIHeR7d94u8wDeTAv7srBXodTtFQ34b5vLIyZbyOnu6hVPXGK4oeUg8sy2Jj1LOf6KYVCpmfUUKLLQCZZDOO4YHkTxRsGFWyykmDVCWQTnCrai4mmewfXnabHmYJusDAUycmFVHzlRF3ez9aJmcWqXo6g9+JMC3k8LD1z3uX2xKgm48SMutNkeFeWGaZeNfL/Eg7TAn73sKVrUJxY8OTsIDv2fecuLp+5aQws8hEA71HnB28bQYpHXOedCZRUnuG204DkQM881TxosBx/aAw/h3bSA/63OhY3Q9aLCB+HLtPwyv4q34P/BNn6tyOtqh6Bc7O3RMzxGi02dsb6Uu0/QAvcisK0fADvhqKqKNZ4rSneu2jR4d9PQApcp73sjyn79FC3mx5tpcQ4LklsBc+ua4WWGvu0VqcVtcIRposWL8CG0GIhEixch0WI8Ei2ex1BanOpyZ9nQHiRa9IGmrcvFulbrko7wY83U3sq98LZ0XFNhHGbeMZd30dDt+ARaWDcAZotxV13qc/qRaNGHerGpWGLbqWJiwzk/YEdrpmaRi0c4wJFaZEiLwxG0KFAy+2RaWOkTZY8CRRS10ev8JRIt+lAfD9QAlDRVqi9WrHvxZmpv5dbaW7beCtWigp13quL7ZFqw2hFfURxQ0mZXEglHHxItHoXU4nG8lxZ2UmpB3KCOIdHiUXwlLQxOCy3IdBvw7V98Hla+nR8ve9M/+3Z21L4dhf/o9PgsfLJaPIlPUIvh6Pctp6Gb6AVP4Rcyb5wGEpk565XPYkGGPNKSHYrlvQGjgYdgFlrAk2t5T/3A2cF7NSUtUDxGkYeNeSz5hFY9gtMdD7ALsssHu83znOoXullkyI5GvmXnduuP7uXYhhZ9neD3OCp2KK9lvOR3cMPSmUptJ17bLfIsZ9GeAyC1AlK9V9Gf7rExTW/qxy/3dkwLFahgiVszHz6OWWjBWQ9CT1zOP8y9KWmxtWHSxoh2fsc1y00DrcOlnpBPQlgAGocA+1br2LfBodbBQIveTvB0EZkXHh0yv4PN+AQ3/NuViCikBQp0fCfOGjG9AzzyPv5ELxhYXMS6QwvLL3HohHamwRy08J4oBwsj+XtKWjQdw7mcF9HaYzgt1NXcl+RhL30b+oCQbn3LebH31mbsaNSCp847wVPESAs4ANJ27vANfxH6zPiWWqRW5w6VvM1jqRVOX8Mv3MXO2zEt9CFSEfsap8lIzEgLAr88wqdPToulLETYq4iBtOAtPlYlHAZajPbtgNc/jVmkvRcve9N0tOhHExyThEuixYswNy0avJkWcyLR4nkkWkyARIte9Pv2/fUWuS2FFzo06rez47nwsZiFFvKf/iMHx0zcamSW03KX3mtbJ9oyCPKOnvm0y3bDTegx7R1VTl1UNjIa5yLf8nUsCNudxMrLKeaACqMIJhU11bJsV2yoq/5Q6A1l1CkAWuRH+YhuG+xd4derY0ZjDlqU7Fy7VumJX9AW+Z5GLQdZWrTPjz6ePLHLQGulO+Cgd8CrP1R1uFLJP/JtcChyUKM4eRerp0gLC6CC81iU6hUdTlkfBBJGP9OAtIDrR5vHQafiHcIKrqMxCy3otXrnoZhZv4ZRtCCg4KeqYGy2orrQjh01gcdrB9qFtQ0a04Fd+rCwAmvkW9VFgCXYqL4Le9IWnuYGtPBdnYRaFNtwSjfg//RqgXgAX/grzna4cJmZYSzmSUTWUjMYjlVCE1R+wyVwjcJQ4LNDQoL/nnroMtmyVly9h1pLIMsFHdrGdibw7Wx4WUbwdW+a3tBXwv/K6ceQaPEivMzQiRYTINGiF/2+ZU5jx58zrFEiaLI7M4KBtUN+nklnU1i2Agm/esVJuqbB5LRQ5izjuL3FiVPMYVPRt0/T4tJBGCAEzZrjH9nLQOdzHw15F37/3vKQa7bH03Ea9ZZvmVlSUbYDLvX3GvyyLJGxoaGFbMEdbJQjnwDT0mJZH2FhTVlXs8THzYGmf7Yk0ucgsrMhxtIIbpAwPZQO7oAtpv6YOw6KmDcj32qxT7CgdRCRkqLAt5fFIl+xSGBDXpn5pYvuajOfQfuH+3ccxqh3h1kDH8Qv54DKqQa4EmjBaPGwk1cwtVp4KZ39EAh2R6C3ny+gXjrIX7OOCn95afVJOlVYX/S74GDq0nrjsAJiXahZmpVhrW+DQ62DuFiBRDrBBvLsxDH7B4Y0ez7EI/hRjCxVYgp/vIUFpzCynz1vdPoB/FocTZk48P1CLaR8D7vZj5loYb6V14/8GU2LyEHf15Z/G5cJ/NFoAw2Tl+qfUO/2IpXOYRP71gZI8Vqot8BrQSSfhZSdK1SzGbpgHXSvPQJaVNY3DX+cSnTN+znfRjOyX5ceAgLrxKo7iecFLeAtSwcnwCy0YC3nCgm4qVymsWmjaNF10E2BPdobhmC4bJi28LJuuA32l0M48jE8zSOkDeqiN9a382LqwLqOl71pekNbnuACA2hxH/Dtr8/D//Dt/HjZm/7Kt7Oj9u0o/C+nR0JCQkJCQkJCQkJCwiuhSpCEhBgTVX9MjD/6dnb8tW9nx9/6dn78hW/H4B8SLV6DRIsJkGjxPBItxiPRoheJFvexqqwL1OJQ1L73ON5Bi6bJ+TpKjhC5RKLFXXCejR1bnotqd33a23v4UFpcaYVNtLgHzca5YLeRUYb6TFpcW3k/0eIevEtzvWVHt6JYNLM7+bLJHKg3YB6v99KiMxH1SmukCLrGfsM+rVVAosU9BAOWWjCHY3jtTFjWyfu53sNbacGhpgd1tCQt2Oex0NBm9gW1Trwc8KvevYZEi3tw81ivRRmyrjlSgYNvNRFUvdh8ulq4X1V/yS6Qu731hLR+oja6QrOdBSRa3ENhE/x5H3bRQsMR3Gyh+/M9vJcWOtQGalFA+TSaPnQfRsZpXa+36kduSLS4B5vb7ch+8NjhyGAarF5UKKqCEPmOWnHfhu+lBagdTVvPk6IFiWAr4+sSfwyJFnexURd27Jxq74oOQSZLwiJwnr7cxlto4cBexeyxwp5qgcyzaMEz7DyeWV/w9isSLV6Ed9DCcSOAq/7arEQL386Oz6RFqs7qx+9Oi32q/O7D70CLJ5Bo8SIkWkyARIvn8XZalCr+tDXp0+H9tNCn+f4UOKfFLGYTPoAWvjM5PoAW/jcVurTYZbXNRzMDEi3G4z20yAqoxUrVp9PjY2jhrbK+xrDVqVrl2bP4HFp483mW56od3CzKKvclmDRtKGsHWW9sE3/kmjCiDzEtOIEQ7LXivEZ5ZdWPbM0qslxPc94JteDn+Qavy1Whmmnaqk2xKADczwVN5UGrr2wR0YKBUCGcbK0n/OfKznpIG2/g4Z9vAsbnLY6L0CoLD9RabyYMM7hSVzIAb6eFmo3w5yvrcMEcX92F612GhgVNMoy/MFEU/uvBHsS00NSqcBHusrMGl3VaMXD5FoJOsIWOWy2vyT4d9ZJdgYqNOMX/ti3oww4iWuD6olotSoSPP9WhRQgnbra26xivFqpJt1ZZW3p6cdQMtrrjWbydFlxQSubigdFC/XEYSTlLvdbq2dv6WMVWkyRn4ApipfXauUBMC85OhIARmXZlTVf0HqeFzusebI0W+CN7vFlDMmX9JGzN7w5iWkCCqpxzZPPB2hb8VmaatGjCCX+7Aof2EDFBIhK3yoK6XJMM+8+7SrydFjltFD6jSwsEQ7a+Qotgk0t08hZIaRgwJedV3JVwxeYVvEeL8riyHsbkB5MUWvomLdqNnMO/Vi3acLI//gZMQgtukHjBUvxETyt15Vm8nRb+ZVcSEZzR9/UkIvrrQYcWyKYAcIg3FySXZkVzWtjZTiKCzKkSEpzZMg/DwOXbbSn4LmJa4LmQ4OG/rQOvI2y64ZQf4iR/JC3Y6WcdWmWZJcOrQGg4ydzO80WwwbSwDBc/z8CQs/nhhuEKLdw1umtZTgZYk+XMkRJHWU54IcpyXslnd2mBW0UBTpV2lOaQBoEWluXEPfgzWuAEUzWbus77ZTK2YwfB3lWobpYTj1TwMZ9n7jOihYWTglCEj1tHRtFiPjxBC5nUd5hoDsM1WnQ2NzD4Ree0eAjhLesrxZyOLyJaGOzqLZ/yWuf6z6MFY5UkeRC+iRYnFkX6sJERAp6jxboj7V9Pi0bsAy2AjS/ZNADX8hZDMdh4E9CiXVLmJi5oMQTI4MT4eWrB2avZd3EYxtJiMEbR4iE8RYsz/ERaRNu7SLToxQ/Mcvp2GBItevHzaMGu+wOG8zgSLS7ADOwPTERWta+xMASJFpdAvPp2WoxFosUlltVTtGA9X8X1KFXddqozG8ed56ruZMxVZd8uX+QaycTW3AfxXlrkWR4qSq1mk1+EL2aNI77Pq79ZJ8nFWlC0Y4NQXbG+E0lYf+3CUFqs8qyAJSu8d0UTwuHwwoH4C9qcFZ91xVBg7esGPvNGdvaBgBywIhWO01HeyXpaPoCA05mnaAFfsvEDZikL1dUX1kTXXXAI38RX4f/X0YIBLj+X+CIGM/7ji/HhJfjS0kJcMVqUsj7u3PbXLgxXC3JBLXEyITdP0ALs3bJuHk7gqPCGkWrFVjoOYOcRQk4b/j/hAb1Cf5sxtOB+3Txu290a9qRa7OGhoxrx1Zr7IN6vFgwX+D5jk4E+zmjBRYmtCytocap50miBH1IGt1oj5zkeo4XWMa53O3uTv3AgSIvKFiSCUuxyfAnHFrLxAyzm+UO241GBk+YwQlHkZ3TA9eowLS18HSrswlC7jNMq8IavowX8S7/D9+5zRDzRotqQFkEt6lNLi1V9VBzcXAm/52jxpFrYomEA1WK7Xx1cLXTGaNEe4a8+HG23UCIyjhYwmSciSn5xRX/eRsfPY4JirbkP4v20YGgvbIakYrGG7JEBx4rBE2hxPOqk0ULWwIfXp6q34filiQj94X2yGArwK2jhjezwpyciXBEdG96sBxYZ8x48sxxBiybLaY3Jck/LkykRkYdoLr7q22iR5Zm3MzPLudpLgAsFe0QLHJEWyCFm9UZ5uHpRsHNMX9fdx2gxMsupvhpWFiAtUCJQlpPt8uwogCDxtnsFGv4rWlvCo79naPECvJcW52DghN9+lHeJP5wWY3G7gDogtJEEJVoMwG9GC9ySaPEifA8tfkLl91j8drQYhkSLFyHRYgIkWjyPRIvx+J1pcWNm+0SLF+HzaHFrZvtEixfh82hxK9wTLXoBm6iFjLOkl2x0PNS7pmlaw8fViUDj/fjH6kjVIWbWNH2Jj6CFja9nv/jDkUOeOPS9F4kWvbCWZhv9W6qpA7Sgodg0zUYgDR/nGduwop9N7qzy4plLfAYt9GfDW5uZ7fuQaNGL2lqawYaV0aIgLdqm6eOeTSE5T6ppmi0P+LcMbYaX+BhaWAOZ/b/a0pJo0YvQ0gzRAC3227X3FyC4AS28LpxHpMVRM3uc2EfLLpzhk2iRH9ZqTEu0uIZrtIBRap8lveQs2eov4E3T2NRLG6Qe+jftfB6gwsb79uCDEhElkNjBd3Bm+z4kWvQitDQzcwlacLi3spzKVuIspIJZTnWL458S6tqGRPfb8720gO+1gZ9JBOacQQ61rTOJvECixcN4zl5vVgunhX6R07TOJNeRaPEwvpEW7CcFmNdPSgBvItHiYXwjLRzm9QEzPyZavAgfQYvBIC3+4vPwl76dHX/j29nx576dHzvfjsE/JbV4Db5PLXz3k5Bo8TxmpIXODe+DPjlAi6NVK7v39LuuffXJU15nd7NNgzAPLbY1h18Ce9YSlKzfmJIWa43AgIW8gNF2PmZ9xABa7OoCJVYZuA4beFNLa8u3H0sL1hjJH+YJ/J7YkqmZK/bISi+Hz491C7PQQm1RrBo4sfJozfHBU9IiyzSkAwawqePMVIRmfb1PCwasj4PxsU4w7d4GVZtvP5cW2uK33VEEzNm0zZ37he8hmIUWOcjAPwQYfunPejMhLeSgbzhF9DHQwpZOv0+LHDEqV78smz1Yg+dYEcoafhz60GQOMVpvcs1FYNDdpEXvrPga777jVKMIqTDUv1CzAPsb7DQLKY9wADZq9NlO0xpsbEZ8DtOijF0FaCES0BGdaHawKa/1EngCs9BiySYTCPKRYz/l72M5IS0Qr8PEo4jza2vOJ2zw4KC8xdbqLuxXj+GMVAS7x1K04C5TJW4Nlt7UvbPiS0TYDKBLfgcXoi/3gXI2gtLu1yDffKWm53ZGfOzepsXJfdB4JWgX3hXMMAHmyVvUGUe8LzXITx9b5hPSgk01ZgKORqfjOiD4riG0ODKW40mLYFKOU50XrsRlTloEg+uUQXs4rzgLWnRnxWfYq0MSNn6HP+q0WJy2zARQLWwULBzTtAbYckZ8pI73aIGPV/ulPx7TohHNCTALLWgBDtrGR85BCzqovHdmofoELTyH4BkM7lr7sHUnGEwLfF07K766rd2kRV2VTPrxH4mXXbJpDXxGfIjgvUQkOOyPNzvIZVlGK9Tzj8M8tNCPzUph358fJqYFjVi4BZ6ihW6VR92e/GGIY5PbRAbhDl0WtIebemfFt/HuJFObiGRIRPbgmmjBS7zZNixAZAcmIjZPDieMxe4dtaCgNY7o1xRTb4CLD8zrfQuzqYVNuC+1AL8nLYnww6tDw4rHacFeFjSf4jkynMp9Ui2OCEH5tsly0tK4022tDUO3Z1Z8kQu04Fh7iFDIcjJfqZ5JUossZDnx5jCgHu6FGfH3sNhNWohZfI37iL9H5lfpT/UbsPNjMQst2kUKSAv2a1hPSYstHCwQDASNKFpoT2YaoBbuv9x6clpRf4NgwknzrWjxFJSIzIVUy/kwmlg2MBG5iUSLF2FuWrQ5rUSL8fg5atFgKlr89efh//p2dvxv386O/+7b+fE3vh0DlgSdIZ+EpBbP472JyKxItHgeiRbjkWjRiyu0qOqc0wr60evxx4XVS2zrsG5fzh2BNURFmCBxLOahRaHlEDmyGQWEKeot7LtP5qCsYBNTsIKIL9JlqyAaQgurt5A7tW2sqrCpZemnxUnnvErpHSAtGO6crLqlhco+2GEtndeAj8UstKBHVxmHMWvcmdp2RtLCfnewiOonQv0/DMFQsiNNmrwbQIvj2h4F7EkL76OoJd8aLdY16yAJ3eVvxQtVCrXK7zV4pQP+r0o/5dXii11h9Y8TAbTQAsHssHBJC211djRmoYV7jZvSGp9GtokcXBvwV6qCghIRwFnVfRcHm4GJiKaPDoMNVUV6Yhx034oW9cGUgX8GaVSXFpQbHfCY47h1ymnBGnaOv5wK7IYDJ7d70UKIaAEsOV3uBJiHFrmJNHZhG25GtqBmPswRu3s5pwYjQ3UMlxkgsMoQWnjLvKmEBT5cD7SwFlS/aKcc21pt6S0tim1EC/z4KaeFFD96fCxEi9NCHRYu1QISrf49E2AeWsCLCDn6expaEGXB/gjtqGIHFFvwrhN49TC10AqXsVjkti63+Za0MLIAYQtw2mic32kWBwT+NscRm9Rwjxpo/BQb0UAfPRk9PhakBVIREbiPFoCYOBrzJSJmlIN6Hy2m6J0Fd9b1egehiPorepcLwM7h0jBa6H53h5slHAq0sN5ZUgs673cBWk6DtAhqgV27il9FZD81o1oge7Hvp4Uiiyg+GvPQYqvsGf2NOMjNyL6cdMK5cER8ZZbRYI3rfpn7eO19WrCPHB/yjOuBSdIK8b/wSV28LyekQX098Wc3XmQ58aExLeAHPxXnLRRq08Bogb9eWvBtdnY0ZqEFpzUAa1eFwnKCnt9crREOFmsLBYsRSC/Y3xnwy1pQZkhJhLZjQscuVYAXSmTaTs/voxWDebeu29KAuBxogRfKQ+GebO+nnBYzlETUs6ufFnzbNFmLeWgBRVbIraKRF+MSkZUNPGnDib+QTaG5fKg5Q8GARGSrcSIyJWAsA3R8a5zIu5FqOQfgykCZgXmLm0i0eBGmp4WyFT1ItBiPb1aLK5iKFn/4PPx7386Ov/ft7PhXvp0f/+zbMfi7pBavwfephe9+EhItnseMtOC5nnlHd5nKQ/ODtAjTFuiFLARbccy8NlUdyeS0UE0CSqasMdpbuXFcAbXHwTbMvCS8qwtePtSsSBtAC5vIYHGqWHux2BQaEiBv3i6g4lzPcp5lvbq61MC04BjUFcvp2Jf/RItmZ6fNFJiaFqoWLG1OgArcrZcjq7N6HGTTma7h6MQTS05RjngEBsFq92khGy7xzImtIm7RfNhEBj2n++6cB3/U6CbIAr+UO/K77+zJ6qYOZhwmpoW1ZObsGXNQPC9DdfKTtOhzcFGE9rHjHgYpOF8zW/BpFpjnPi18IoOu8nCzX7tvRYu+iQy0izOsTpRw46euKvKU48Gg4l7BaXMT7POqyvcaYsYhhTu8ktNflxwClVdWm/YAVMtJYKO9mBaCb8ZiYlrYVAKAIjkAzeXe001lfQ7ubNAmoLiBcMGvt29AMQblLTiRAQf5gSA10hIQhM+X5taNiQx4rNYZ/JEWBwg6UyJ4D7TgTPlOC5+bQIfsB7Bj/MADJfjE9iL4nJceQxhsaG/3LIVO2QXO3D8JJs9bmL/DYMPA5hEN65cOAvZrGws/+2EyMIQWmshANgXvmHpYJzK8hM7cGLFOldCY1ayEfh10l66TFqcaWmbdY3BGcxMo7F3Z650yL7sSr9kXbG3V6QfQoQW3wb7BLsuJeDETLWCOAj+aGJVnRtMidhDwk9pEtNgw2g9SC9qRREDM54OrCs9mtffAu0ELEqihBf4VdMcu5bv6RFqYWoS5CWJacAaKVX3U3BY7JDKP08LeJWnUHv0YdvaWb+bRaMxGC+5YFoA/IzrtXTpo+4TKExYuyGI4aYbRwh8LT5uDK8sJ3ZrIAF5oEhFoByfBYfCCtPnxyJyP04L3sE2dh3skIlvO91FRXizsQOAn1CKetoA7MS04Y9mikiCNxiy0oK+PlfWvw5ES7lG06DoI+A4i+eK4VvStVmaXIbTwiQw4Cc461wwqCFnamymLfNtkOanJcNbfx029b7Kc9JACRkkcKzRitdDcBBb27Amvp81R3Mnge4YW7bQFcK1LC3lLrBmPWWhxsjkBlMjmOKIRR9Gi66CfZE6vKJTnqCuOBNDlQb2zfCKDOn5a5Q6+ihvR4vOQajkH4EpkG5iI3ESixYswPS3Wlvu8QKLFeHyzWlzBVLT49Xn4e9/Ojr/z7ez4R9/Oj5Vvx+BfnB4JCQkJCQkJCQkJCQkJCQkJCQkJCQkJCQk/G5+4lvYHYvWy9b1fhr9Z+c6PwZ//s+/8HNRTrI0+Bf7pP1IsTDMSbuPXy3qAvAx//ct3fgz+9g++83NQT9F7Zgr8A22bxGIQklh8AZJYzIckFsORxOILkMRiPiSxGI4kFg/jVE40dnwwkljMhyQWw5HE4go2WV0XeV7UdWYzqCw2lY14DJM5vQ6/i1jYQtnCTvNFPIOdJscajCQWw5HEohenaN71Y11w5ONhspnuHkYSi+FYPaYVSSweQBKLXhRciCigrDnhSlEsdse6rtZLURnosHKzRiYktwJKjuyIdkDdp1PICL+zWGxh8+Jo58M5zloHLNecMTWPQooG1yoTCDRcC2uGrJhBrNa9GcIkFsORxKIPkAffE2yR1qLOoBOntWU0AmMN4DY5i7ILl6rJ66OJzZKawp1x+H3ForSJd7c2425HLJD5UwAgrCIV8AM8ju1Gv6XNBbysgo50kMRiOJJY9KFHLEA8L5gcNHlnRywgCk7YjCqR1ztb9Tqrt0ksejFMLFZhrrCTDNwRiwbx0crCxnDa2xrUjiaz0kESi+FIYtEH8CpiGaSAcwEHJjvp8rrSMv11duKpBmAuxGLJgsi+XvUz9EH8tmJhM+MacAllDsHyFMu1zheewxA0ga6Bk3YzbKAgVjONX7vSQRKL4Uhi0Qtkf5vp3E6V8hRHWwyTEqAKiZCgMe/Q5iwEiAWFYovnklj048GchSHYUqY/mhKwfqkVi22cszDtQJbQapIOSSxGIolFPzZFnYm5KFCo2MwyheosMlv5NYjFMmNRGIqxx1kcUGQoFouqLkDcJBb9GFhnsbd1mHaFcgxnYqFwWBWdmmZ3wsIKgbinWNCJ5RGZC146QxKL4UhicRXbIzKu1bHtgXViDbtaQwhkcpW59ePdGndnex1ILEBSHCSx6McVsehAJYrVka1MB+lzRywWG11Zdesptt4OtWRwVKUeC8Fm86ifIYnFcCSx+AL8LmLRQVT98AhSP4v5kMTiC5DE4gGkHpyzIYnFF+C3FIsXIYnFcCSx+AIksZgPSSyGI4nFFyCJxXxIYjEcSSy+AEks5sPbxOKsw9k3IIkFqNLCz3wY7onF17CtRRKLsyEF34AkFm1c+9jguy4WJ3Y1Yrfmoq6P6lTwJUhiccm2zuDYdtRs6c07a39guWePHutC8loksegRi5139yG871Xu/Xw8kDwPWfka390HdlsGdOgAtIIL7RhrIecQygdwVSzWNhGPPiBMwXEq6eWMHUp5hWdIM3szEbUstp+084vALnxdTZ5uOCyfd7Rd2tW5iV2iiqPOtC+xXd17p/3ymlic4piwdX+oEXXnTakrfW04sm/vxqfQ6KoOcWfevsDHiEVncCy8Dl+HUbP6OHCKDzCYGRpZO+HKy5DEgiMabceD72D9g3eFhjSrNybAUacWSOxl7AG4KUjA8wd0IzjNk0frLO63+JvW3REMd3FNLPAOxSpTO3wHPJNbDgNsCy88sdu5EL7F0f0koDWER3VYxLtN48tCT8k1aYrXYPeo3+gl5gIj+VNi4TEB+SX1w3R/WOR3edjDbXxFr1h4fOqIRdfbl3inWGhUHD0d+8x8TfioWX3csihsALOGNb8JSSwQOj5aycQCgaU+2wwXhFKIYGE4EtgKKgaxIFUvHrDQ1KhqJBc64BHccR4cA9MH4ppYhMTJxAIbecpgMYY3VM0I2jOx6H4S4M6Fr+MOxQAQRS26hQ7VwM6G2EUvkQv7GpmbyCt96BeLKsSEvV5cmn9jschqmBtne8SiiU9dsbj0dgefkLOoxJKzwbHNqFl+3BafZJ/jYf0WJLEAMV3YLfgC1XzPI5gTL+zhVkN+uvIAd0r9tUcIaUPRlyG+jmtiEeZ/MQLZSNlTiRIRUMlX3PP4DnTF4uyTgHAiEotmh64xIw/Vs2zIYp+D1/yQ6CV0AfE5+u4r6BcLuuTg+zLzj72c8gA9OOEmfAUUXukyIhSOuvEpBEj4rK63z/AJYsFdpDtGinhwrL4EH6dwsM9pchZ17sWr1yGJhXIAggUfwmRwzoIZ7ssH7MYbOQu7cTiuV3CikL7eMPpsuIcThzCdsOVe8MJT+7Inchauo0ZRlP/hWlzhEr4qvAQ3MD4/KxZNzkLY+qQAjVhYdsLFwrxsR934dC4Wl96O8H6xYG3PimIhE9vg2GjULG+U5+1zvKSGS3csPANmEIsoN+zBpaSiga6o3i/UCU6LB8WiCvNUhOBrqyDIuRDB2gI+I0OITipcnz/gsVYh3NZZ8AH/eLj1UBXndbEAeVZ7Zlf3K0s48SKKxQ4lYYtY+PEJOC7EovtJQAibSCyUEcaXmY1Q/rc9iCQ/GTTH5eglCFO9y8SiiQ+X6BeLJUyISMLos0Mcd6ENYlHbu3vFIo5P52LRersH7xQLQ3E0MnQGx0ajZpFjVGIUPsdqpeeIOffwIrFoSOpncotDDQunxENi0QSZQ14/a9zQNgRSpzUktHKcPbBCsPsVU8Wz1pBH271uiQUR2RcRzXyJ5BQUM2tvnW5nYtH9JCBErkgsSk5S3DJz3ZT8Jfb2WdFLPD4/Kxbw0V5RBu7S/RZijkWqXrGI41McpvbBrbcv8Dax+EK8RyyatA6Ubi5NhQfFovEs0D16DhcxcjzuicVsOLeHlTGGo7waR6+JRYs8isHx/iPwGtJb3k5iMRxvylkE7Lvzpk2CJBaToWMPNog+phUrr/HowevE4o63k1gMxyxiEcPO9ImF8pkzFL0erLP4ArxNLObDfbF4EZJYDMd7cxas+51cLpJYfAGSWHwh3lRnkYXWgBt1YM8iicUXIInFF+I9YoFypKtFdb2e+lkksfgCJLH4QrypGHLK67pit/gH+zIOQRKLL8D7xWJtffGSWAzHDGLxbiSx+AJ8QM5ir+qyF4lF2/fD+ofEvW8Wp4P3x7JKf0H90LgYhffZcgdsnLP1Mtnk2IQOJzYYd1781mLhQRMW23ZcHyUdWhLXyh6FI8sshRZTG5Nx3okwCnaEqkIfl4bmqqYWi6jXEo7i5VAuelHrIHzFhKBYdE222DK36XEhKqaaH+JAgSdP66IufMWWswXszU0LAPf30h1RRzLC7lEX8JeJhZnS/NUdi5yHFbetx2pkdd50ws3tWRvnrGDaqaewh5gPxp0Xv7lYyL6Ivk474NYoaT9A3CK7okDFr7m1JG2x7YpFN9hPmrGgWX1vAObIWQRZgG+cqsyWv0Es3GSwOyIOfINf+KKw/jfwFf3QDRR4h3HN14bDEWNcs4A93QwBYP6m4MMRSAZvbO/RcON3iEV3xJCNsG0Rbm0Qh8VGBwwm7w1vIRYG486LJBYU+KjTzq1R0gqwaCS0BapFJbm1rfNwJ3/DtQYeoPu6UtQYijnFIg9jxfRRrxeLxmQCdNsSTq4Ty4t7dRzvBkozpwCPIAE+DjAsYK8Dc1P+DiPmEc8smMM9+sh3iEU7zI577ZEh3LrYWUYIWSqFhSM3gQzKJ91oBuPOi1QMIaIBKn6GIN06o6QZjPFIaC6jrtlLcEQGgpbNnfxVqGoTBzuATGOXILcxp1i0HOPe+cjv+AsnRRCL1mQA10fnoFn6bY0ywgmJp6KSrGfArY2i0bqKNw7ciSy9vBxG6CvRNUcWG9jf4J/M0x+Us8htDE64FbkpbS0zEc42mo4CCT8Du2aP5qvmQ8pZAGGINnFrlDQCTGEWxMKCz47glpzrE4tusDOvvUfmos3N3MPPzVlEJjPoVfQFhSJD8VDxvBsouxDXujkLIQSpuXk2Yh7xix8b7tFHvrnOgme9ziJzM4RbbeK1E7MUUVioJGbBpIIXDGYcTWLxDB4WC0ZeHRO3Rkkz3FjxZpHnXCxs5GO40wLernWDHbESv7jidXj38aI6C/nKzr5ILCKT7UM9RIgLq1p1eYrnnUChd5j/WOpemvN8AfvgJr7Cap5MLGB/XQz3vK3OAui2hqiKOQz+Dbeqxpf3aKovL4bYMx5MHI/Z8Mg/bk6kYkjTEhBwfZT0+UjoOCohedBREIsWcCgO9qPnKRBLjTf3MadYBKq+pTUkNpm8YS0c5oujZwPkhzZQdHm5LtrYdbGAPRDEwlIBOdJMNRruqbh9kVj8CPzWYnEPE46SHoU5xOLNoFg8i1bnRmH9yn4WPwJJLG4gicVseL9YpB6cDyOJxRcgicV8SGIxHEksvgBJLOZDEovhSGLxBUhiMR+SWAxHEosvQBKL4TiV6tk0GEkshiOJxRcgicV9NN0zfd2UoUhiMRxJLL4ASSzu4vBsC0kSi+H43cXCuxuFQczsGBQWug/jjnDNmj/jYdJltL44scVB6JEXujCpK1Bo5/P5BtT1SNDZYUhi4cijFepXYTgZwme5KIoFVzg56183AEkshiOJBX+3iLyK2Gx73+i3rG2JcHb0UzzvDpOGlvgCc7yptL7+20Jdb/vEwucbgGRYLjmJhe88hNzWUIMVD+woYaNabCnTIvRavzHtfx+SWAxHEgv8dJb9bhe6t6mU9rUN5ugOk+6sL94kcrZuao9YhPkGDt7DOYnFk2JhYWB21jp/CI69BN7Hwx3CcJ6BSGIxHEks4kHMYF280H2FgggnVlA8Z9HBgegfhk1gJ8dfC92pUdK51q6lWETzDawKvy+JxRMIozosuFT+2Jr8mnWBR8exJLEYjiQWl8t+axAS1QBCwZHSxsTuMOnO+uJNzsJwnrOwzIXT2aZ3ae4ZhCQWjs4K9bRlhj0VO45h4HCzMuZAJLEYjiQWRi5F7O5C9ziBEjCLJIrn3WHSrLMAS31l531dUEl8HfUzsejMN5B7mTqJhe/cgZXeAlhngY2vUM/wqcJAfws7n2qPwWOn7yKJxXAksbAUyXIWnYXueUJTKng87wyTxuXO+uIrraN+6AhBEIt2vgEIjld1JLHwnTs4F4vuCvXI7nmGAjoRjbRPYjELfnexeBZNncUr8DsXQ3begC00dRYOb2oagyQWw5HE4jkksRiHoWKx7MyB3hELtkaP1ookFg8gicUXIFVwzgcTi4SEhIR7+DOKhXQj4Q5SzuILkHIW8yEVQ4YjicUXIInFfEhiMRxJLL4ASSzmwyNiES0N9WhH0R8BicUBRTdbyMm6KHeaqa0HwoIjqNiPuarrwvvB4MGCD2Y4FfobfAC+SCzWdV3B5N4vkQAJ3dywKi3LTkifKRYb9iyBD629Qp/SHBE2G/8ZwslpxGLFl4KRtB8s12BDBgewdy2tmXE9Bg3ji22bxGI4KBb7aKSeSUOPWOQtDaAtasHatiw/PjrYb0Z8j1jYyhjsWhRISEHWvsY9ACt2N/9Isdg0PiRXMv8ERKKmW9SlWLQnJxGLYL/wcsFXtDaE9aOscx2tCuZ2bNuKxS4sxh7JTrdbR49YqBtfM22BYCvB4xb10/MYEi/gvjtbBT52I/IG4M8A8siKCUu1luC5ezafAi41UyRY35NNrs2p5H0ZV2ECzlaRfxgUi9i818QijNcWYClkLvArbwvHYJX343vEYm0xB4z2wZRFsWy02VnAgZYfKRYW8Zh0nA2M4VlQ9XSRs4hPTlkMaewHnCxr7ABFLV64HNvsAx3bBrHArd5jP8RTbTrwqObACQ52RTxcWidz73uDHBecQIrq7iHiwFbmQ3UUwauiVeC7bnS9EbyvbVlXVJelFuE3lyh4FD6fIgHvXMIFWHhnMprXR7jpjnY98QwoFvB1sXKVa8QiAs40VjdItky7Pg9fVAxZMidhZAFWZlUxrrE3Y9eH1lnYCNqqKZQCiLdNovKCYgjAxJILixugFVGiBdY6rRc7lDoQRy9t62LhQ9Na9IuFnifgNH6brLVWyw1iQffbVzPbg1PmRRcLl1dNdtBx48wbwaed2Gev9hgPqebI6EivKRbNspsOWb3riWfgFZybknmf63UWSSzmgK3vyQSBfLHJGr5GLJY2GRBXHA1x1QfZOV4jFoCP3yM6+QrFWoMPM1ur0qJjWxcLi4ERhohF+5D2miQW4tV+vPY6C7g3ndT5VNeN9kgIPrXtyhzBLw5CiYLFrI6l4UTIQqAUIj3HI7zhYhX5R2FigYBv1oHsFQt4N1JsG78T3/RJ+BqxaOZpQXqyW6IIwn0XC458F444/kixaNLwsAb9BhnUOFnsUDggnJxSLNpKn3VcWMZZt2FTucFqtjPbnucsdoV7sIfcw3IWegmuRzkLGCdawL2zCnzXjTNvxGIB6bMbkbbgN2QP+FSTsyirPVzP+TZeRbbDXDua1WNPPAOJBV4frHBNLPDx7RuO9rVZCAJg+Cq/s+NrxEIVbATFYqXGKGbtqhymbCagJXs+UixsnirAxAJE7AzjeIFYLPMQIV24EJ/8BBHNmRVm4DOx6Nj2rM5i1cZP/nZzzxdigRd67or1+0EsVAfY1lnQBUQoOetioUjMPBlOdd3oeAO8MJPyCPfxikqu2HqMtxpcr7PQnIKWb8l4Gn6gWLAIduGJZ2AVnGFSgCANl2JhFRvcoW9dmZHrLBk6yz0+2E59AL6uGAJmuEEBNzdsy4yzVXR9cjHEq+nykDVt0YhFnNBMmrMATUlJ2M9sFvI4hriNxIohJCxjT2zbIBY4ZutFM/p9kFjACpetIWHe5qg1xGfZoHu4hujcWQX+rDUkeAPOVZYxkFjgBCI9x+BLpr0YEsbks6EjXoIetoASndxltf90PfEMfv0R2mQZYOGqWACbNXxb+KQNBk3xEJa7/xB8UQWnhXE7PQPQmPtUMqDFtQ+t4IxI7vFECF8zv1ggp9C0GBItVYnorbSmxzQ/amzbisXL0NRZfBu8gvMn4ZvEYhg+VCwGozMnhWHaOosRSGIxHEksvgBfLhbdOSkMv7NYfC2SWHwBvj1n0YMPE4u/TRiAf/y3vvNz8N//0Xd+DP7zv/Kdn4P6z33n3fiT/0OxkG4k3EHKWXwBUs5iPqRiyHAksfgCJLGYDw+JhY3Lcvi53wgUCxqgbfssrDX5svU0bh4LLc5qFG6aiD8D3yQWvtayH3Ga+6b1/TOaTg8e3BbeaoD05Q+iaBNX7m/FCO830n3avs+a2ScSCy7HUNjiDDt/FbHrkFV3Env3x7NNp+u2H3PoZ/FbIYhFM+4UBgnSYCeAIBYtKRr5UKcy64r2KfgesfC1lnc2omGlLlowpvq3fUinrKztr8dQpw9PWadTddOnmFhZ/z7vV9x92roZntbqWDmJWCDGkn+QpKifz6mKOwg2naRlbReL/k5ZdxH3F/mNxSI/BpNu63UjBHYGuCIW29Abtemb/xH4HrEofCCAAFqbNTWgLFpB+Z3dvZthDESzMuA+io7RMFOg6RyoeNV5epP7lCeK4ZOIRe4jXvPID5CryKhQJqco2Jobj7u2bcQCDxY2I86G3e5tXGXkFNAsERXEoukxoc/17t64hGtNbNGNugS1ylfdu8KRuwfLmid6Gps/AC4WTS/0ojIhwFfI98IVsWgA1eha9a34GrHgkHTmzDNRvumrrKELTV/l9w4kQxrMfKd1Wm4CveVGd/qIFoh5SLs7TxtOK8t0TFhnsY3GvcJrLklC1Fv7CInyD+jYNohF7gLIsVhERP8W7bLWAI77xKK0YaE9YlHJa527/CiIRUh0cfRBEaqBiwVCV6K5hicbsYhgZxrLB7MDui/K970fXyMWNJ1noyEXjUnFmybHS6u/TyzyWpMswYfwHNIEZfeR0SezuVfoAy6A8grv7DwtaBI8xsbJxOLIhLiZ0AJa4XtEm+OwMb1u4o5tXSw8ZW9xfuxAKV1fbPfjNyCIBURJ11jE5I0ausZLy8pGVXTuwlEDSmzwfXeUy6cgiAW8D/1fMSAbsbA7gHCmTyyAE+79ILn4JrEQfWyet48UiwCOi1VVhPIKiDF2Oh533IBDDqOqCsCeDlCEnjBnESXEQc4M+6YU5ONMR4sF7nL5sfsvchbQ0U1wS5WvucWjsl7DN/Jk9y5JB6CjrxELFkROsu5gsVjllmPTp0ZseDO+Riws0SFovmbgdElCMocsvHlavZAbbusJAU3pBZzNqCdwqHqThe59Wl87qVg4QVmpEGV0Nk1eHlxucWbbUAwJuqc5JoCI/g3gTnC/XyyOqiJxsXDowLMTdLp7V0csvqUYQgYcj9LlwWKxLJSjBJDUhIzg+/E9FZwhm2xzcfpcLeA4QgGZDdFFkzK8TSzgC4vlmsFkU1hK3VTFRnNfOkCJtv7g7OmQoOhoErEIFSahOaRNmYnuTDiEa0rHtnEFZzNTOE+J/lGlBw/aKNwvFvbGa2KBX6hE966uWECqvqCCk7thnorBYuHfxjqskMX4BHyPWJCgRUtQSC4z+UYUZOY/YCkA+iJrFitoGwwEELzltOolIAgNEHu6T3eOpslZwGKK4O6hvMPDaJYWh7O2Y9tGLBLugmLxw/BFYjEQ76+zGIDcIuJATFsMGYEkFsORxOIL8A1isY6bLO8jicUXIonFF+ArchaP4cPE4h8SBuBf/rfv/Bz88V9858fgT/7Od34O6n/ynXfjX/8bioV0I+EOUs7iC5ByFvMhFUOGI4nFFyCJxXyYXyy2mgH/JyCJxRcgicV8eEQsvKfIlg229ztN7b0NOTTsfj9MLE5HfFPOFuvQUbftzh/6i9iHB/AMm6vVzB11XPkAfLxYtB1W1LOi8DHe7EzNRYbaXglv62cxyIfEyZa+aoFbop4j6ugUnrZ+Ft4rYhqx6Hak0rv5ErXLhGuKqvbucOnZfhYmFqvOWLWrOLfMD4DEIm97jB1cPfvEovl4O9N0ycMzDzWbzYwPF4sSUutR0RfSsqET28BBjX/UcBFAq5a9WCyG+RDYIMK1rCDCImu2BFhYCEyr4jQDRMrJenCGVQltGGlQuJVGoIcOWGt21AJh9W7Tto5tW7HYramF8CnuDuh8nEUBXA3FinjVFyqRduAso8ehPmiKHR9yG8bu28p9Z/02bQKujKPuuGPgfUubG4lWNwdKk6DdEeeLoyXsmoCKaGLsXKBYWJ91B/xPPwwQi0MYGtKoxmfgo8Uir/NT3BWWgP3iTK0uB65j58VjQ4b6ECwoVjEriOaQDzhxdKftCDo9ZTHkpG7nG9cpw8F1xNB07SwZozu2DWIBX7H/ss2Iw1Pu9xj4uiWyWm6Ko60nh6SSD+Y1B8EDkCI+u69toIrPbGRxfUk5wrYrFniUcuA+aK9y4Cou2HRIcsDWa8SNdAzFAZo1TCgSnpoREAt/d4B1/pZUNeD56C77RscGZbPzfrVvxRcVQwCat9NZHuQDGxtr8+Y3FkOAKz40dLnTEoMRsnUlvgvCgzgxmVgwKdYIdehA3hY8EAErFaAU98PoMNYjnNnWxQL5nlgOeZPvREAqD+cb3XFxsiwTInOmqJzVGiCIgr1nQCQ/iuvbOjebnOUsHMFe4WqzgDNBB9YuZAF6ceGx761i0bzavyi6K/rGPct+8Ue9H98lFgAiX2tsW0i3tTZvfq9YAH0+NHS5c18sfP3fSXMW5iMUnsyPisXQEHulFZkyDYVV1dyZbV0sutEWOD8m9CD0RnRv8ie2h8i8ZLZlX6/kVvvx4TIuBZvAi5yHi3EHRycULoiwuHiI9h3bUhTDrF87K6xAuHDDqSm5BP/MBhZDogorQMsy41zz6ptiIUDRfe8T8HViwZyr2RaE99xzk6q8ZaasIT40dAgdpc8sW29D6QOZCdvZNoNSpxQLcpbRMJCSfvLBkQ1XuURwsV5qor+Obc9zFrvCHjyjuGAfCxeZT7nMWVAotjCPXolvti/FZST9uMw73LKdnEUzienxTCwaf9Y5p6RizkI3+LQ6fAX9c7KZwl6Ts6CX2xDXAGLa5a5YNOEBf/ZY9m34GrHYZk43hDqzrCgON6rdzG5BEr9NLG750BBTBwhTRVgtRWgQ0AwdqvlrhGYKsVhaER5gTh96ZvlxRVO8y+JqM+GmoHqFjm3P6izwnPnZKN1ynPBrp0JpfFtnwW+WFECQYDCLHiiMuIPcIPnXRFm9YiGdQinGXxauep3FRrUech/yC0dsKlBOOcVzcEO3v0gsqE2FSLAMw9Rhl+bV9u0xLfwMrMXg4UPNpQ/A9+QscktTEAUt0M30hrfO7j3Ih0IT9E6YSvwG/xkzEH/xgM/nDep7xQExSc4C0YW0RXzku+E9fze9hGv2bpZ6GO14h0+A0T+7t1oVmhXZb4iFoj7N0m0NwdY01aOHOdi0hphm9YiFcj1s84C5aLXmKgyoK3JB7rOGFFFu6+9laxNKRZYveZVYAJs1hK3ID7CsMEQsYC0WAjNbCeJj8E3FkAOsXq1lPxU7Dbr8znVDhvmQOBcL8DuOcrauh55uitYAbp+mGLKl+83brr4b/JYSWNajY9tWLBLuIYjFD8LHi8XDeLlYPIPHmsSmrbMYgSQWw5HE4gvwDWLRTrw5CEksvhBJLL4AX5GzeAyfJRb/4Y8JA/Cn/9d3fg7+35/6zo/Bf/tPvvNz8B/+0nfejf/6X0w0EhISEhISEhISEhISEhISEhISEhISEhISEhISEn5nLBb/H2qrBsjY8D1pAAAAAElFTkSuQmCC)"
      ]
    },
    {
      "cell_type": "markdown",
      "id": "980ff120-8943-4da0-905b-3551629c50b6",
      "metadata": {
        "id": "980ff120-8943-4da0-905b-3551629c50b6"
      },
      "source": [
        "Отобразим таблицу, используя вложенный список.  \n",
        "\n",
        "Структура вложенного списка:  \n",
        "- первый уровень - общий список `[]`;  \n",
        "- второй уровень - подсписки, соответствующие строкам таблицы;  \n",
        "- третий уровень - конкретные строки и числа из соответствующик ячеек таблицы."
      ]
    },
    {
      "cell_type": "code",
      "execution_count": null,
      "id": "b59c27ed-4cfe-4bfc-8947-a7bc3a894944",
      "metadata": {
        "id": "b59c27ed-4cfe-4bfc-8947-a7bc3a894944",
        "outputId": "d0e66b4c-6d6b-43ec-d7c9-4ee743e66e69"
      },
      "outputs": [
        {
          "name": "stdout",
          "output_type": "stream",
          "text": [
            "[['ст. Новоярославская', 'ЯНОС', 840, 821.1, 37780], ['ст. Яничкино', 'МНПЗ', 600, 597.523, 37740], ['ст. Комбинатская', 'ОНПЗ', 1320, 1321.002, 36690]]\n"
          ]
        }
      ],
      "source": [
        "# создание вложенного списка\n",
        "sales = [\n",
        "    ['ст. Новоярославская', 'ЯНОС', 840, 821.1, 37780],\n",
        "    ['ст. Яничкино', 'МНПЗ', 600, 597.523, 37740],\n",
        "    ['ст. Комбинатская', 'ОНПЗ', 1320, 1321.002, 36690]\n",
        "]\n",
        "\n",
        "print(sales)"
      ]
    },
    {
      "cell_type": "markdown",
      "id": "0376d27d-999a-4600-8394-70c6e59da5a5",
      "metadata": {
        "id": "0376d27d-999a-4600-8394-70c6e59da5a5"
      },
      "source": [
        "## Длина списка"
      ]
    },
    {
      "cell_type": "markdown",
      "id": "c9daa49d-b44e-474d-a013-6f0dd59779f4",
      "metadata": {
        "id": "c9daa49d-b44e-474d-a013-6f0dd59779f4"
      },
      "source": [
        "**Длина списка** - количество подсписков во вложенном списке.  \n",
        "Чтобы узнать длину вложенного списка, используем функцию `len()`."
      ]
    },
    {
      "cell_type": "markdown",
      "id": "e9775842-5755-4bb6-a800-284c17dd1bbb",
      "metadata": {
        "id": "e9775842-5755-4bb6-a800-284c17dd1bbb"
      },
      "source": [
        "**Пример**"
      ]
    },
    {
      "cell_type": "markdown",
      "id": "55420150-9f68-4426-ac06-226b7b24786f",
      "metadata": {
        "id": "55420150-9f68-4426-ac06-226b7b24786f"
      },
      "source": [
        "Узнаем длину вложенного списка `sales`."
      ]
    },
    {
      "cell_type": "code",
      "execution_count": null,
      "id": "5e2b0996-4526-455d-b899-441d1a7a7b15",
      "metadata": {
        "id": "5e2b0996-4526-455d-b899-441d1a7a7b15",
        "outputId": "7c29a78b-9666-481b-8baa-118911520af1"
      },
      "outputs": [
        {
          "name": "stdout",
          "output_type": "stream",
          "text": [
            "3\n"
          ]
        }
      ],
      "source": [
        "sales = [\n",
        "    ['ст. Новоярославская', 'ЯНОС', 840, 821.1, 37780],\n",
        "    ['ст. Яничкино', 'МНПЗ', 600, 597.523, 37740],\n",
        "    ['ст. Комбинатская', 'ОНПЗ', 1320, 1321.002, 36690]\n",
        "]\n",
        "print(len(sales))"
      ]
    },
    {
      "cell_type": "markdown",
      "id": "09ace27b-d3bd-4a41-bd5e-d8cccd7c8b8f",
      "metadata": {
        "id": "09ace27b-d3bd-4a41-bd5e-d8cccd7c8b8f"
      },
      "source": [
        "Список `sales` состоит из 3 подсписков."
      ]
    },
    {
      "cell_type": "markdown",
      "id": "eedb1d4d-6237-4f0b-b96f-b5d972e8e595",
      "metadata": {
        "id": "eedb1d4d-6237-4f0b-b96f-b5d972e8e595"
      },
      "source": [
        "## Индексы"
      ]
    },
    {
      "cell_type": "markdown",
      "id": "271a8152-097c-4675-82ee-ae8479a4c9bd",
      "metadata": {
        "id": "271a8152-097c-4675-82ee-ae8479a4c9bd"
      },
      "source": [
        "Чтобы добраться к элементам вложенного списка, нужно указывать два индекса: \n",
        "- первый индекс укажет подсписок; \n",
        "- второй индекс укажет элемент подсписка."
      ]
    },
    {
      "cell_type": "markdown",
      "id": "19295062-1e27-46a3-a87c-e3c5b426e298",
      "metadata": {
        "id": "19295062-1e27-46a3-a87c-e3c5b426e298"
      },
      "source": [
        "![image.png](data:image/png;base64,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)"
      ]
    },
    {
      "cell_type": "code",
      "execution_count": null,
      "id": "1cff1c9d-04dc-4700-8bc7-8a8ce1c5f79f",
      "metadata": {
        "id": "1cff1c9d-04dc-4700-8bc7-8a8ce1c5f79f"
      },
      "outputs": [],
      "source": [
        "# создание вложенного списка\n",
        "sales = [\n",
        "    ['ст. Новоярославская', 'ЯНОС', 840, 821.1, 37780],\n",
        "    ['ст. Яничкино', 'МНПЗ', 600, 597.523, 37740],\n",
        "    ['ст. Комбинатская', 'ОНПЗ', 1320, 1321.002, 36690]\n",
        "]"
      ]
    },
    {
      "cell_type": "markdown",
      "id": "ca1f78ce-6321-4c16-862e-8fbb35cb8c11",
      "metadata": {
        "id": "ca1f78ce-6321-4c16-862e-8fbb35cb8c11"
      },
      "source": [
        "Выведем на экран подсписок с информацией об отгрузке со ст. Новоярославская"
      ]
    },
    {
      "cell_type": "code",
      "execution_count": null,
      "id": "6acce620-32a2-44d8-bd41-dbaad6e9758a",
      "metadata": {
        "id": "6acce620-32a2-44d8-bd41-dbaad6e9758a",
        "outputId": "0a8d2ee5-c733-4d87-df02-b83c6a53ee1b"
      },
      "outputs": [
        {
          "name": "stdout",
          "output_type": "stream",
          "text": [
            "['ст. Новоярославская', 'ЯНОС', 840, 821.1, 37780]\n"
          ]
        }
      ],
      "source": [
        "# выведем подсписок\n",
        "print(sales[0])"
      ]
    },
    {
      "cell_type": "markdown",
      "id": "490a67dd-26e7-4ac7-8f88-e3749723b862",
      "metadata": {
        "id": "490a67dd-26e7-4ac7-8f88-e3749723b862"
      },
      "source": [
        "Найдем план отгрузки со ст. Новоярославская - данные находятся в третьем столбце таблицы. В индексации подсписок 0, элемент 2."
      ]
    },
    {
      "cell_type": "code",
      "execution_count": null,
      "id": "b5654448-6040-416e-b3c4-611707477f33",
      "metadata": {
        "id": "b5654448-6040-416e-b3c4-611707477f33",
        "outputId": "44a3a04c-6637-4db2-b55a-1bb4a21eab6a"
      },
      "outputs": [
        {
          "name": "stdout",
          "output_type": "stream",
          "text": [
            "840\n"
          ]
        }
      ],
      "source": [
        "# найдем план отгрузки со ст. Новоярославская\n",
        "print(sales[0][2])"
      ]
    },
    {
      "cell_type": "markdown",
      "id": "1daaa19a-7486-4863-b631-9de5c1675cf6",
      "metadata": {
        "id": "1daaa19a-7486-4863-b631-9de5c1675cf6"
      },
      "source": [
        "Найдем завод, который производит отгрузку со ст. Яничкино"
      ]
    },
    {
      "cell_type": "code",
      "execution_count": null,
      "id": "10986bef-4f31-4afe-9771-5af758df0e1c",
      "metadata": {
        "id": "10986bef-4f31-4afe-9771-5af758df0e1c",
        "outputId": "c6ea4908-319c-4bb2-f759-d929694f75d1"
      },
      "outputs": [
        {
          "name": "stdout",
          "output_type": "stream",
          "text": [
            "МНПЗ\n"
          ]
        }
      ],
      "source": [
        "# найдем МНПЗ\n",
        "print(sales[1][1])"
      ]
    },
    {
      "cell_type": "markdown",
      "id": "d2156395-d50b-4559-bffc-41ce216ab749",
      "metadata": {
        "id": "d2156395-d50b-4559-bffc-41ce216ab749"
      },
      "source": [
        "Найдем цену продажи со ст. Комбинатская"
      ]
    },
    {
      "cell_type": "code",
      "execution_count": null,
      "id": "bdb4a43a-6e44-4e40-a74d-372e1662fef9",
      "metadata": {
        "id": "bdb4a43a-6e44-4e40-a74d-372e1662fef9",
        "outputId": "2b443b9d-ca95-4f6e-9f7b-351cf67129ba"
      },
      "outputs": [
        {
          "name": "stdout",
          "output_type": "stream",
          "text": [
            "36690\n"
          ]
        }
      ],
      "source": [
        "# найдем цену продажи со ст. Комбинатская\n",
        "print(sales[2][4])"
      ]
    },
    {
      "cell_type": "markdown",
      "id": "836616c8-78f6-4c3b-a5ee-241f616fb8b4",
      "metadata": {
        "id": "836616c8-78f6-4c3b-a5ee-241f616fb8b4"
      },
      "source": [
        "Если переводить на аналогию с таблицей, то первый индекс двумерного списка показывает строку таблицы, второй - столбец."
      ]
    },
    {
      "cell_type": "markdown",
      "id": "c8b28588-26af-4f80-851c-0f76bd98e3a0",
      "metadata": {
        "id": "c8b28588-26af-4f80-851c-0f76bd98e3a0"
      },
      "source": [
        "## Цикл for по вложенному списку"
      ]
    },
    {
      "cell_type": "markdown",
      "id": "e25fc267-bd7a-407a-b8bc-568ae6949e98",
      "metadata": {
        "id": "e25fc267-bd7a-407a-b8bc-568ae6949e98"
      },
      "source": [
        "Цикл for работает и с вложенными списками."
      ]
    },
    {
      "cell_type": "code",
      "execution_count": null,
      "id": "0be52dfe-ebaf-437a-acbc-6d2a8624ef2f",
      "metadata": {
        "id": "0be52dfe-ebaf-437a-acbc-6d2a8624ef2f",
        "outputId": "8868760e-3baf-4d36-dcfb-72b33dc65e6d"
      },
      "outputs": [
        {
          "name": "stdout",
          "output_type": "stream",
          "text": [
            "['ст. Новоярославская', 'ЯНОС', 840, 821.1, 37780]\n",
            "['ст. Яничкино', 'МНПЗ', 600, 597.523, 37740]\n",
            "['ст. Комбинатская', 'ОНПЗ', 1320, 1321.002, 36690]\n"
          ]
        }
      ],
      "source": [
        "# создание вложенного списка\n",
        "sales = [\n",
        "    ['ст. Новоярославская', 'ЯНОС', 840, 821.1, 37780],\n",
        "    ['ст. Яничкино', 'МНПЗ', 600, 597.523, 37740],\n",
        "    ['ст. Комбинатская', 'ОНПЗ', 1320, 1321.002, 36690]\n",
        "]\n",
        "\n",
        "# цикл по вложенному списку - выводим \"строки\" таблицы\n",
        "for row in sales:\n",
        "    print(row)"
      ]
    },
    {
      "cell_type": "markdown",
      "id": "b26ccd74-32e1-491f-b744-05db559413a1",
      "metadata": {
        "id": "b26ccd74-32e1-491f-b744-05db559413a1"
      },
      "source": [
        "В примере перебираются и выводятся элементы вложенного списка - подсписки (= строки таблицы)."
      ]
    },
    {
      "cell_type": "markdown",
      "id": "bab59f4f-ac71-4497-ae09-74be18e977e8",
      "metadata": {
        "id": "bab59f4f-ac71-4497-ae09-74be18e977e8"
      },
      "source": [
        "В цикле можно обратиться и вывести отдельный элемент подсписка (= колонка таблицы)."
      ]
    },
    {
      "cell_type": "code",
      "execution_count": null,
      "id": "24a87608-bc73-4527-8ac8-f854c050e031",
      "metadata": {
        "id": "24a87608-bc73-4527-8ac8-f854c050e031",
        "outputId": "473519b3-c7f8-49fd-88f7-9bb537b441eb"
      },
      "outputs": [
        {
          "name": "stdout",
          "output_type": "stream",
          "text": [
            "ЯНОС\n",
            "МНПЗ\n",
            "ОНПЗ\n"
          ]
        }
      ],
      "source": [
        "# создание вложенного списка\n",
        "sales = [\n",
        "    ['ст. Новоярославская', 'ЯНОС', 840, 821.1, 37780],\n",
        "    ['ст. Яничкино', 'МНПЗ', 600, 597.523, 37740],\n",
        "    ['ст. Комбинатская', 'ОНПЗ', 1320, 1321.002, 36690]\n",
        "]\n",
        "\n",
        "# цикл по вложенному списку - выводим \"столбцы\" таблицы\n",
        "for row in sales:\n",
        "    print(row[1])"
      ]
    },
    {
      "cell_type": "markdown",
      "id": "a07ff338-0a02-4336-9f6e-de788fabceae",
      "metadata": {
        "id": "a07ff338-0a02-4336-9f6e-de788fabceae"
      },
      "source": [
        "Мы с вами посмотрели, как добраться во вложенном списке до \"строки\" и \"столбца\".  \n",
        "Попробуем добраться до \"ячейки\" (элемента подсписка).  \n",
        "Используем **вложенный цикл**."
      ]
    },
    {
      "cell_type": "markdown",
      "id": "c50977b9-e8e6-4209-b773-5c6f0a14f67c",
      "metadata": {
        "id": "c50977b9-e8e6-4209-b773-5c6f0a14f67c"
      },
      "source": [
        "![image.png](data:image/png;base64,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)"
      ]
    },
    {
      "cell_type": "code",
      "execution_count": null,
      "id": "ece33d0a-9b43-42bc-bac8-c41178d5802e",
      "metadata": {
        "id": "ece33d0a-9b43-42bc-bac8-c41178d5802e",
        "outputId": "4c848b7f-3a2c-4ac2-aafd-2ec2ef1fedf8"
      },
      "outputs": [
        {
          "name": "stdout",
          "output_type": "stream",
          "text": [
            "ст. Новоярославская\n",
            "ЯНОС\n",
            "840\n",
            "821.1\n",
            "37780\n",
            "----------------------------------------\n",
            "ст. Яничкино\n",
            "МНПЗ\n",
            "600\n",
            "597.523\n",
            "37740\n",
            "----------------------------------------\n",
            "ст. Комбинатская\n",
            "ОНПЗ\n",
            "1320\n",
            "1321.002\n",
            "36690\n",
            "----------------------------------------\n"
          ]
        }
      ],
      "source": [
        "# создание вложенного списка\n",
        "sales = [\n",
        "    ['ст. Новоярославская', 'ЯНОС', 840, 821.1, 37780],\n",
        "    ['ст. Яничкино', 'МНПЗ', 600, 597.523, 37740],\n",
        "    ['ст. Комбинатская', 'ОНПЗ', 1320, 1321.002, 36690]\n",
        "]\n",
        "\n",
        "for row in sales:        # перебираем подсписки\n",
        "    for element in row:  # в каждом подсписке перебираем элементы\n",
        "        print(element)   # печатаем каждый элемент подсписка\n",
        "    print('-' * 40)      # в конце перебора каждого подсписка"
      ]
    },
    {
      "cell_type": "markdown",
      "id": "9056ddcd-065b-4ad2-8d98-6a46462f39cd",
      "metadata": {
        "id": "9056ddcd-065b-4ad2-8d98-6a46462f39cd"
      },
      "source": [
        "![image.png](data:image/png;base64,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)"
      ]
    },
    {
      "cell_type": "markdown",
      "id": "540194fc-6c5c-4cfd-878d-ddb86d14f29a",
      "metadata": {
        "id": "540194fc-6c5c-4cfd-878d-ddb86d14f29a"
      },
      "source": [
        "## Суммирование во вложенном списке "
      ]
    },
    {
      "cell_type": "markdown",
      "id": "0717df58-bf07-4a50-8b61-2f1b38c4d220",
      "metadata": {
        "id": "0717df58-bf07-4a50-8b61-2f1b38c4d220"
      },
      "source": [
        "Определим общий объем отгрузки.  \n",
        "Данные об объеме отгрузки хранятся в подсписках - индекс 3.  \n"
      ]
    },
    {
      "cell_type": "code",
      "execution_count": null,
      "id": "2ba975b2-aa1b-4cc1-958d-9c8451a26eb6",
      "metadata": {
        "id": "2ba975b2-aa1b-4cc1-958d-9c8451a26eb6",
        "outputId": "36ce5cc9-7b7a-46ff-e1bb-55d1acf07ef9"
      },
      "outputs": [
        {
          "name": "stdout",
          "output_type": "stream",
          "text": [
            "Общий объем продаж составлят: 2739.625\n"
          ]
        }
      ],
      "source": [
        "# создание вложенного списка\n",
        "sales = [\n",
        "    ['ст. Новоярославская', 'ЯНОС', 840, 821.1, 37780],\n",
        "    ['ст. Яничкино', 'МНПЗ', 600, 597.523, 37740],\n",
        "    ['ст. Комбинатская', 'ОНПЗ', 1320, 1321.002, 36690]\n",
        "]\n",
        "\n",
        "# цикл\n",
        "total_sales = 0              # переменная-счетчик       \n",
        "for row in sales:            # row перебирает все подсписки \n",
        "    total_sales += row[3]    # в переменную добавляем факт отгрузки - элемент с индексом 3\n",
        "print(f'Общий объем продаж составлят: {total_sales}')"
      ]
    },
    {
      "cell_type": "markdown",
      "id": "c84c13bd-edaf-429f-8af8-2aed7860c3eb",
      "metadata": {
        "id": "c84c13bd-edaf-429f-8af8-2aed7860c3eb"
      },
      "source": [
        "## Добавление элементов"
      ]
    },
    {
      "cell_type": "markdown",
      "id": "1ac81954-c330-43af-94e4-908d2c4252cd",
      "metadata": {
        "id": "1ac81954-c330-43af-94e4-908d2c4252cd"
      },
      "source": [
        "Добавление новых элементов в основной список - аналогично обычному списку.  \n",
        "Посмотрим, как добавить элементы к подспискам.  "
      ]
    },
    {
      "cell_type": "code",
      "execution_count": null,
      "id": "51c09e78-02e1-4816-953b-61020b6241e9",
      "metadata": {
        "id": "51c09e78-02e1-4816-953b-61020b6241e9",
        "outputId": "0d9307ad-375a-4bd6-b7dd-f48c14d9f73b"
      },
      "outputs": [
        {
          "name": "stdout",
          "output_type": "stream",
          "text": [
            "['ст. Новоярославская', 'ЯНОС', 840, 821.1, 37780, 31021158.0]\n",
            "['ст. Яничкино', 'МНПЗ', 600, 597.523, 37740, 22550518.02]\n",
            "['ст. Комбинатская', 'ОНПЗ', 1320, 1321.002, 36690, 48467563.38]\n"
          ]
        }
      ],
      "source": [
        "# создание вложенного списка\n",
        "sales = [\n",
        "    ['ст. Новоярославская', 'ЯНОС', 840, 821.1, 37780],\n",
        "    ['ст. Яничкино', 'МНПЗ', 600, 597.523, 37740],\n",
        "    ['ст. Комбинатская', 'ОНПЗ', 1320, 1321.002, 36690]\n",
        "]\n",
        "\n",
        "# цикл\n",
        "for row in sales:                         # row перебирает все подсписки \n",
        "    revenue = round(row[3] * row[4], 2)   # рассчитываем выручку\n",
        "    row.append(revenue)                   # добавляем элемент к подсписку\n",
        "\n",
        "for row in sales:                         # выведем подсписки на отдельных строках\n",
        "    print(row) \n",
        "        "
      ]
    },
    {
      "cell_type": "markdown",
      "id": "93c3a2dd-6bea-45c7-bba7-0b4344d7316a",
      "metadata": {
        "id": "93c3a2dd-6bea-45c7-bba7-0b4344d7316a"
      },
      "source": [
        "## Сортировка"
      ]
    },
    {
      "cell_type": "markdown",
      "id": "6c615ef5-7876-4d41-bf58-7fdf18bf6d2e",
      "metadata": {
        "id": "6c615ef5-7876-4d41-bf58-7fdf18bf6d2e"
      },
      "source": [
        "При сортировке списка списков все подсписки упорядочиваются в соответствии с указанным индексом в качестве ключа."
      ]
    },
    {
      "cell_type": "markdown",
      "id": "2b6031bd-f537-4048-bac3-3e71a8de0a92",
      "metadata": {
        "id": "2b6031bd-f537-4048-bac3-3e71a8de0a92"
      },
      "source": [
        "### sort()"
      ]
    },
    {
      "cell_type": "markdown",
      "id": "a754b46d-a61b-4394-8918-a30fd8d13079",
      "metadata": {
        "id": "a754b46d-a61b-4394-8918-a30fd8d13079"
      },
      "source": [
        "`sort()` сортирует список списков в Python по первому элементу каждого внутреннего списка.  \n",
        "Этот метод вносит изменения в сам исходный список. "
      ]
    },
    {
      "cell_type": "code",
      "execution_count": null,
      "id": "02d3c9ea-8520-40f7-b472-4d55153a2301",
      "metadata": {
        "id": "02d3c9ea-8520-40f7-b472-4d55153a2301",
        "outputId": "b6be04b7-f224-4b1f-de8f-baa0109335d3"
      },
      "outputs": [
        {
          "name": "stdout",
          "output_type": "stream",
          "text": [
            "['ст. Комбинатская', 'ОНПЗ', 1320, 1321.002, 36690]\n",
            "['ст. Новоярославская', 'ЯНОС', 840, 821.1, 37780]\n",
            "['ст. Яничкино', 'МНПЗ', 600, 597.523, 37740]\n"
          ]
        }
      ],
      "source": [
        "# создание вложенного списка\n",
        "sales = [\n",
        "    ['ст. Новоярославская', 'ЯНОС', 840, 821.1, 37780],\n",
        "    ['ст. Яничкино', 'МНПЗ', 600, 597.523, 37740],\n",
        "    ['ст. Комбинатская', 'ОНПЗ', 1320, 1321.002, 36690]\n",
        "]\n",
        "\n",
        "# сортируем список  \n",
        "sales.sort()\n",
        "\n",
        "# выводим сортированный список\n",
        "for row in sales:               \n",
        "    print(row) "
      ]
    },
    {
      "cell_type": "markdown",
      "id": "21c3f9f1-ca3e-4e15-a01b-b721e83544ea",
      "metadata": {
        "id": "21c3f9f1-ca3e-4e15-a01b-b721e83544ea"
      },
      "source": [
        "Также, как и для обычных списков, можно использовать аргумент `reverse = True` для сортировки по убыванию."
      ]
    },
    {
      "cell_type": "code",
      "execution_count": null,
      "id": "400ba0fb-60b3-4428-861a-08d102db72a5",
      "metadata": {
        "id": "400ba0fb-60b3-4428-861a-08d102db72a5",
        "outputId": "12980318-ea10-47c9-88da-358604fd6ba4"
      },
      "outputs": [
        {
          "name": "stdout",
          "output_type": "stream",
          "text": [
            "['ст. Яничкино', 'МНПЗ', 600, 597.523, 37740]\n",
            "['ст. Новоярославская', 'ЯНОС', 840, 821.1, 37780]\n",
            "['ст. Комбинатская', 'ОНПЗ', 1320, 1321.002, 36690]\n"
          ]
        }
      ],
      "source": [
        "# создание вложенного списка\n",
        "sales = [\n",
        "    ['ст. Новоярославская', 'ЯНОС', 840, 821.1, 37780],\n",
        "    ['ст. Яничкино', 'МНПЗ', 600, 597.523, 37740],\n",
        "    ['ст. Комбинатская', 'ОНПЗ', 1320, 1321.002, 36690]\n",
        "]\n",
        "\n",
        "# сортируем список по убыванию\n",
        "sales.sort(reverse = True)\n",
        "\n",
        "# выводим сортированный список\n",
        "for row in sales:               \n",
        "    print(row) "
      ]
    },
    {
      "cell_type": "markdown",
      "id": "98bbc652-14e5-430b-a623-df6957f0c146",
      "metadata": {
        "id": "98bbc652-14e5-430b-a623-df6957f0c146"
      },
      "source": [
        "### sorted()"
      ]
    },
    {
      "cell_type": "markdown",
      "id": "56bd5c7a-9db9-4254-a944-95412741ac46",
      "metadata": {
        "id": "56bd5c7a-9db9-4254-a944-95412741ac46"
      },
      "source": [
        "Функцию `sorted(`) можно применить для сортировки вложенного списка по определенному элементу подсписка.  \n",
        "Здесь необходимо воспользоваться аргументом `key` и однострочной функцией `lambda`.  \n",
        "О функциях мы будем говорить в дальнейших уроках."
      ]
    },
    {
      "cell_type": "markdown",
      "id": "f9db927c-7b56-4cec-bd2d-583ded2f4840",
      "metadata": {
        "id": "f9db927c-7b56-4cec-bd2d-583ded2f4840"
      },
      "source": [
        "**Синтаксис:**  \n",
        "`sorted(list_name, key=lambda row: row[index_number])`"
      ]
    },
    {
      "cell_type": "code",
      "execution_count": null,
      "id": "26697dd8-d4a7-442d-af10-eac3d79784b0",
      "metadata": {
        "id": "26697dd8-d4a7-442d-af10-eac3d79784b0",
        "outputId": "a67742de-6998-40c0-f162-e4e1dfe168a8"
      },
      "outputs": [
        {
          "name": "stdout",
          "output_type": "stream",
          "text": [
            "['ст. Яничкино', 'МНПЗ', 600, 597.523, 37740]\n",
            "['ст. Новоярославская', 'ЯНОС', 840, 821.1, 37780]\n",
            "['ст. Комбинатская', 'ОНПЗ', 1320, 1321.002, 36690]\n"
          ]
        }
      ],
      "source": [
        "# создание вложенного списка\n",
        "sales = [\n",
        "    ['ст. Новоярославская', 'ЯНОС', 840, 821.1, 37780],\n",
        "    ['ст. Яничкино', 'МНПЗ', 600, 597.523, 37740],\n",
        "    ['ст. Комбинатская', 'ОНПЗ', 1320, 1321.002, 36690]\n",
        "]\n",
        "\n",
        "# сортируем список по объему отгрузки - это элемент с индексом [3]\n",
        "sorted_sales = sorted(sales, key = lambda row: row[3])\n",
        "\n",
        "# выводим сортированный список\n",
        "for row in sorted_sales:               \n",
        "    print(row) "
      ]
    },
    {
      "cell_type": "markdown",
      "id": "7a3d4e16-a4df-44f3-ac22-c9bc3ef7590d",
      "metadata": {
        "id": "7a3d4e16-a4df-44f3-ac22-c9bc3ef7590d"
      },
      "source": [
        "В функции `sorted()` также возможна сортировка по убыванию - аргумент `reverse = True`"
      ]
    },
    {
      "cell_type": "code",
      "execution_count": null,
      "id": "2ffba4b0-29d4-4b53-ab75-6a9701002cd4",
      "metadata": {
        "id": "2ffba4b0-29d4-4b53-ab75-6a9701002cd4",
        "outputId": "e49900e0-b406-4c5b-90d2-074743aa4e21"
      },
      "outputs": [
        {
          "name": "stdout",
          "output_type": "stream",
          "text": [
            "['ст. Комбинатская', 'ОНПЗ', 1320, 1321.002, 36690]\n",
            "['ст. Новоярославская', 'ЯНОС', 840, 821.1, 37780]\n",
            "['ст. Яничкино', 'МНПЗ', 600, 597.523, 37740]\n"
          ]
        }
      ],
      "source": [
        "# создание вложенного списка\n",
        "sales = [\n",
        "    ['ст. Новоярославская', 'ЯНОС', 840, 821.1, 37780],\n",
        "    ['ст. Яничкино', 'МНПЗ', 600, 597.523, 37740],\n",
        "    ['ст. Комбинатская', 'ОНПЗ', 1320, 1321.002, 36690]\n",
        "]\n",
        "\n",
        "# сортируем список по объему отгрузки - это элемент с индексом [3]\n",
        "sorted_sales = sorted(sales, key = lambda row: row[3], reverse = True)\n",
        "\n",
        "# выводим сортированный список\n",
        "for row in sorted_sales:               \n",
        "    print(row) "
      ]
    },
    {
      "cell_type": "markdown",
      "id": "04f9f5b9-dd97-440c-b762-85e8567387b4",
      "metadata": {
        "id": "04f9f5b9-dd97-440c-b762-85e8567387b4"
      },
      "source": [
        "## Итоги\n",
        "1. Вложенный список (nested list) или список списков (list of lists) - список, элементами которого являются другие списки.  \n",
        "2. Вложенный список создается путем размещения последовательности подсписков, разделенных запятыми.\n",
        "3. Длину списка (количество подсписков в списке) определяем функцией `len()`.\n",
        "4. Чтобы добраться к элементам вложенного списка, нужно указывать два индекса: \n",
        "- первый индекс укажет подсписок; \n",
        "- второй индекс укажет элемент подсписка.  \n",
        "5. Цикл `for` во вложенных списках позволяет:  \n",
        "    - вывести подсписки (= строка таблицы);  \n",
        "    - вывести элементы подсписка (= столбец таблицы);  \n",
        "    - вложенный цикл позволяет обратиться к любым элементам подсписка (= ячейка таблицы).\n",
        "6. С помощью цикла for можно производить различные действия во вложенном списке - суммировать, добавлять новые элементы в подсписки, сортировать подсписки.\n",
        "7. Сортировать вложенный список можно используя метод sort() и функцию sorted(). \n",
        "    - sort() сортирует вложенный список по первому элементу каждого внутреннего списка;  \n",
        "    - sorted() позволяет сортировать вложенный список по определенному элементу подсписка. Для этого потребуется аргумент `key` и  `функция lambda`.  "
      ]
    },
    {
      "cell_type": "markdown",
      "id": "f7b63954-5288-48f2-a642-1d7eff4c66dc",
      "metadata": {
        "id": "f7b63954-5288-48f2-a642-1d7eff4c66dc"
      },
      "source": [
        "## При подготовке конспекта использованы:"
      ]
    },
    {
      "cell_type": "markdown",
      "id": "2868e974-d84f-4abe-badc-398d5debf1a5",
      "metadata": {
        "tags": [],
        "id": "2868e974-d84f-4abe-badc-398d5debf1a5"
      },
      "source": [
        "[Python Nested List](https://www.learnbyexample.org/python-nested-list/)  \n",
        "[What are nested lists in Python?](https://www.educative.io/answers/what-are-nested-lists-in-python)  \n",
        "[Sort Nested List in PythonSort Nested List in Python](https://linuxhint.com/sort-nested-list-python/https://linuxhint.com/sort-nested-list-python/)  \n",
        "[Сортировка списка списков в PythonСортировка списка списков в Python](https://www.delftstack.com/ru/howto/python/sort-list-of-lists-in-python/https://www.delftstack.com/ru/howto/python/sort-list-of-lists-in-python/)  \n",
        "[10 Important Tips for Using Nested Lists in Python10 Important Tips for Using Nested Lists in Python](https://betterprogramming.pub/10-important-tips-for-using-nested-lists-in-python-38ceca68be35)"
      ]
    }
  ],
  "metadata": {
    "kernelspec": {
      "display_name": "Python 3",
      "language": "python",
      "name": "python3"
    },
    "language_info": {
      "codemirror_mode": {
        "name": "ipython",
        "version": 3
      },
      "file_extension": ".py",
      "mimetype": "text/x-python",
      "name": "python",
      "nbconvert_exporter": "python",
      "pygments_lexer": "ipython3",
      "version": "3.8.8"
    },
    "colab": {
      "provenance": [],
      "collapsed_sections": [
        "2b6031bd-f537-4048-bac3-3e71a8de0a92",
        "98bbc652-14e5-430b-a623-df6957f0c146"
      ],
      "include_colab_link": true
    }
  },
  "nbformat": 4,
  "nbformat_minor": 5
}