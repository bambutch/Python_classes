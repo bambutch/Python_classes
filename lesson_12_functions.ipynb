{
  "cells": [
    {
      "cell_type": "markdown",
      "metadata": {
        "id": "view-in-github",
        "colab_type": "text"
      },
      "source": [
        "<a href=\"https://colab.research.google.com/github/bambutch/python_classes/blob/main/lesson_12_functions.ipynb\" target=\"_parent\"><img src=\"https://colab.research.google.com/assets/colab-badge.svg\" alt=\"Open In Colab\"/></a>"
      ]
    },
    {
      "cell_type": "markdown",
      "id": "9115f144-093f-46c0-a8c0-34e47ca013eb",
      "metadata": {
        "id": "9115f144-093f-46c0-a8c0-34e47ca013eb"
      },
      "source": [
        "# Конспект 12"
      ]
    },
    {
      "cell_type": "markdown",
      "id": "8fbf0fbf-910b-4ec4-99d8-0fa866396f6a",
      "metadata": {
        "id": "8fbf0fbf-910b-4ec4-99d8-0fa866396f6a"
      },
      "source": [
        "# Функции: синтаксис, логика, применение"
      ]
    },
    {
      "cell_type": "markdown",
      "id": "0bdbd130-788a-4490-9562-7a5fa5ec7084",
      "metadata": {
        "id": "0bdbd130-788a-4490-9562-7a5fa5ec7084"
      },
      "source": [
        "В данном уроке мы:  \n",
        "- узнаем, для чего нам нужны функции;  \n",
        "- научимся создавать собственные - пользовательские функции;  \n",
        "- проведем границу между параметрами и аргументами функции;  \n",
        "- посмотрим, чем отличаются позиционные и именованные аргументы;\n",
        "- затронем локальные и глобальные переменные;\n",
        "- познакомимся с анонимными функциями."
      ]
    },
    {
      "cell_type": "markdown",
      "id": "4b3cc0e8-855e-4ddf-82a1-f13de9af02b8",
      "metadata": {
        "id": "4b3cc0e8-855e-4ddf-82a1-f13de9af02b8"
      },
      "source": [
        "**Функция** - набор инструкций, выделенный в отдельный блок.  \n",
        "\n",
        "К настоящему моменту мы с вами активно использовали `встроенные функции` python и `функции библиотек` (numpy pandas):  \n",
        "- `print()` - функция вывода, например, на экран;  \n",
        "- `type()` - функция, возвращающая тип данных;  \n",
        "- `max()` - поиск максимального значения;  \n",
        "- `sorted()` - функция сортировки списка;  \n",
        "- `dict()` - функция преобразования данных в словарь и т.д.\n",
        "\n",
        "Вы можете писать собственные функции для решения повторяющихся задач - `пользовательские функции`.   "
      ]
    },
    {
      "cell_type": "markdown",
      "id": "879d60fc-c4f1-4802-9b37-db61ad1c5dcf",
      "metadata": {
        "id": "879d60fc-c4f1-4802-9b37-db61ad1c5dcf"
      },
      "source": [
        "**Примеры аналитических задач, где может потребоваться написание функции**  \n",
        "1. Визуализации: когда вам необходимо построить аналогичные графики для ряда датасетов.  \n",
        "2. Заполнение пропусков или формирование нового столбца на основании данных других столбцов.  \n",
        "3. Проверка статистической значимости результатов А/В тестов: функция бутстрап."
      ]
    },
    {
      "cell_type": "markdown",
      "id": "dd3f2f5c-8448-42aa-b74f-9e69eeaef9d9",
      "metadata": {
        "id": "dd3f2f5c-8448-42aa-b74f-9e69eeaef9d9"
      },
      "source": [
        "## Определение и использование функции"
      ]
    },
    {
      "cell_type": "markdown",
      "id": "5f55a1e8-74ef-4905-b351-4e8dcc685529",
      "metadata": {
        "id": "5f55a1e8-74ef-4905-b351-4e8dcc685529"
      },
      "source": [
        "**Синтаксис определения новой функции**"
      ]
    },
    {
      "cell_type": "markdown",
      "id": "85d4a4d0-97b2-45b5-8308-c3c0c09c75cc",
      "metadata": {
        "id": "85d4a4d0-97b2-45b5-8308-c3c0c09c75cc"
      },
      "source": [
        "![image.png](data:image/png;base64,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)"
      ]
    },
    {
      "cell_type": "markdown",
      "id": "640f08e9-619a-41af-858b-86d472ffcc27",
      "metadata": {
        "id": "640f08e9-619a-41af-858b-86d472ffcc27"
      },
      "source": [
        "`def` — ключевое слово (definition):  сообщает Python, что начинается определение функции.  \n",
        "`имя функции`: оно может быть произвольным (ограничения те же, что и для обозначения переменных).  \n",
        "`пара круглых скобок ()`: внутри них могут быть разделенные запятыми параметры. Параметров может не быть вовсе, может быть один или несколько.  \n",
        "`двоеточие :` завершает строку определения функции.    \n",
        "`новая строка + отступ`: 4 пробела или одно нажатие клавиши tab.  \n",
        "`тело функции`: действия, которые должна осуществлять функция при вызове.    \n",
        "В теле функции может быть опциональный оператор `return`, возвращающий значение при выходе из функции."
      ]
    },
    {
      "cell_type": "markdown",
      "id": "51b45a06-9cda-437b-930d-98b452e07476",
      "metadata": {
        "id": "51b45a06-9cda-437b-930d-98b452e07476"
      },
      "source": [
        "Пользовательская функция определяется по мере необходимости в любой ячейке блокнота.  \n",
        "Хороший тон - вынести все пользовательские функции в самое начало блокнота к импорту библиотек и модулей."
      ]
    },
    {
      "cell_type": "markdown",
      "id": "2b38a5c3-e0ab-4fef-9770-105ccdd3b02e",
      "metadata": {
        "id": "2b38a5c3-e0ab-4fef-9770-105ccdd3b02e"
      },
      "source": [
        "Функцию можно использовать неограниченное количество раз (**многократный вызов функции**).  \n",
        "Вызов собственной функции не отличается от вызова встроенной: указываете имя функции и в круглых скобках аргументы."
      ]
    },
    {
      "cell_type": "markdown",
      "id": "ac493320-514a-4d66-8ec4-8ef85ed49331",
      "metadata": {
        "id": "ac493320-514a-4d66-8ec4-8ef85ed49331"
      },
      "source": [
        "Создадим две пользовательских функции:  \n",
        "- функция, которая выполняет действие, но не возвращает значение (вывод подсписков вложенных списков);  \n",
        "- функция, которая возвращает результат (выручку с учетом предоставленной скидки)."
      ]
    },
    {
      "cell_type": "markdown",
      "id": "82f04cb7-3b2f-463c-9f29-99b5738b23d0",
      "metadata": {
        "id": "82f04cb7-3b2f-463c-9f29-99b5738b23d0"
      },
      "source": [
        "### Пользовательская функция, выполняющая действие"
      ]
    },
    {
      "cell_type": "markdown",
      "id": "f0893a9c-013e-4387-8502-acc1318aef01",
      "metadata": {
        "id": "f0893a9c-013e-4387-8502-acc1318aef01"
      },
      "source": [
        "В примерах нескольких уроков выводились подсписки вложенного списка на отдельной строке, используя цикл for (урок_7, урок_11).   \n",
        "Улучшим старый код, написав функцию."
      ]
    },
    {
      "cell_type": "markdown",
      "id": "493adacb-7d15-48b8-b131-20cc4969b011",
      "metadata": {
        "id": "493adacb-7d15-48b8-b131-20cc4969b011"
      },
      "source": [
        "**Пример**"
      ]
    },
    {
      "cell_type": "markdown",
      "id": "edd2dc19-9b30-4f6c-bda1-ddd1b5ba14d2",
      "metadata": {
        "id": "edd2dc19-9b30-4f6c-bda1-ddd1b5ba14d2"
      },
      "source": [
        "Вывод подсписков с помощью цикла for."
      ]
    },
    {
      "cell_type": "code",
      "execution_count": null,
      "id": "22bf2d68-be60-43f1-8fd5-81de2a843148",
      "metadata": {
        "id": "22bf2d68-be60-43f1-8fd5-81de2a843148",
        "outputId": "cf7d142b-29fc-405f-b0a6-f2497f4c0fd5"
      },
      "outputs": [
        {
          "name": "stdout",
          "output_type": "stream",
          "text": [
            "['name_1', 720]\n",
            "['name_2', 60]\n",
            "['name_3', 240]\n",
            "['name_4', 1200]\n"
          ]
        }
      ],
      "source": [
        "# создадим список списков из наименования клиента и годовым объемом продаж\n",
        "year_purchase = [\n",
        "    ['name_1', 720],\n",
        "    ['name_2', 60],\n",
        "    ['name_3', 240],\n",
        "    ['name_4', 1200]\n",
        "]\n",
        "\n",
        "        \n",
        "# выведем каждый список из вложенного списка на отдельной строке \n",
        "for name in year_purchase:       \n",
        "    print(name)     "
      ]
    },
    {
      "cell_type": "markdown",
      "id": "a1920f2c-6de9-4ce1-b870-d87631829adf",
      "metadata": {
        "id": "a1920f2c-6de9-4ce1-b870-d87631829adf"
      },
      "source": [
        "Функция для вывода подсписков."
      ]
    },
    {
      "cell_type": "code",
      "execution_count": null,
      "id": "883ca0c9-3e72-47c2-978a-b1b60ea158f1",
      "metadata": {
        "id": "883ca0c9-3e72-47c2-978a-b1b60ea158f1"
      },
      "outputs": [],
      "source": [
        "def pretty_nested_list_print(nested_list):                                 #1\n",
        "    '''                                                                  \n",
        "    Функция выводит подсписки вложенного словаря на отдельной строке       #2\n",
        "    '''    \n",
        "    for name in nested_list:                                               #3\n",
        "        print(name)                                                 "
      ]
    },
    {
      "cell_type": "code",
      "execution_count": null,
      "id": "f5520f4b-c521-401f-a39f-f855e1dcd937",
      "metadata": {
        "id": "f5520f4b-c521-401f-a39f-f855e1dcd937",
        "outputId": "7d0437ea-4afa-40ca-f957-8a7a2712ec1d"
      },
      "outputs": [
        {
          "name": "stdout",
          "output_type": "stream",
          "text": [
            "['name_1', 720]\n",
            "['name_2', 60]\n",
            "['name_3', 240]\n",
            "['name_4', 1200]\n"
          ]
        }
      ],
      "source": [
        "# вызовем пользовательскую функцию, вложенный список передадим как аргумент       \n",
        "pretty_nested_list_print(year_purchase)                                    #4"
      ]
    },
    {
      "cell_type": "markdown",
      "id": "1a890035-4721-4f75-ba21-e5cd93eb87f3",
      "metadata": {
        "id": "1a890035-4721-4f75-ba21-e5cd93eb87f3"
      },
      "source": [
        "В этом примере представлена простая структура функции.   \n",
        "\n",
        "**`#1`:**  \n",
        "`def` - ключевое слово, сообщает Python, что вы определяете функцию;  \n",
        "`pretty_nested_list_print` - имя функции  \n",
        "`(nested_list)` - параметр функции (вложенный список);  \n",
        "\n",
        "**`#2`:**  \n",
        "описание функции, тройные кавычки указывают на то, что это строка;  \n",
        "\n",
        "**`#3`:**  \n",
        "тело функции, решает задачу - вывести подсписки на отдельных строках;  \n",
        "\n",
        "**`#4`:**  \n",
        "вызов функции - приказывает Python выполнить содержащийся в ней код: `имя_функции(аругмент)`.  \n",
        "\n",
        "Функцию можно использовать неограниченное количество раз.  \n",
        "Код вывода подсписков пишется один раз в функции.  \n",
        "Каждый раз, когда вы захотите вывести подсписки новых вложенных списков, вы вызываете функцию с новыми данными."
      ]
    },
    {
      "cell_type": "markdown",
      "id": "55683c33-9df4-48a5-8289-50b50a3ddaf0",
      "metadata": {
        "id": "55683c33-9df4-48a5-8289-50b50a3ddaf0"
      },
      "source": [
        "### Пользовательская функция, возвращающая значение"
      ]
    },
    {
      "cell_type": "markdown",
      "id": "d33c20de-9901-4063-ad39-88a00a63cde7",
      "metadata": {
        "id": "d33c20de-9901-4063-ad39-88a00a63cde7"
      },
      "source": [
        "Создадим *функцию, рассчитывающую выручку с учетом скидки*:  \n",
        "- если объем продаж `sale` меньше 120, продажа по цене прейскуранта;  \n",
        "- если объем продаж `sale` больше или равен 120, но меньше 600 -  продажа по цене прейскуранта минус 100;  \n",
        "- если объем продаж `sale` больше или равен 600 -  продажа по цене прейскуранта минус 200."
      ]
    },
    {
      "cell_type": "code",
      "execution_count": null,
      "id": "4ad3d002-796a-43be-9925-2c4c478227d1",
      "metadata": {
        "id": "4ad3d002-796a-43be-9925-2c4c478227d1"
      },
      "outputs": [],
      "source": [
        "# определение функции\n",
        "def get_revenue(sale, price):\n",
        "    '''\n",
        "    Функция рассчитывает выручку - на основе цены со скидкой\n",
        "    '''\n",
        "    if sale < 120:\n",
        "        price_with_discount = price \n",
        "    elif sale > 600:\n",
        "        price_with_discount = price - 200\n",
        "    else:\n",
        "        price_with_discount = price - 100\n",
        "    \n",
        "    return(round(price_with_discount * sale, 2))\n"
      ]
    },
    {
      "cell_type": "code",
      "execution_count": null,
      "id": "4cf5b9c8-9fb0-4a42-b7be-8a40972f0afa",
      "metadata": {
        "id": "4cf5b9c8-9fb0-4a42-b7be-8a40972f0afa",
        "outputId": "2995eee4-d1df-4a03-b20b-894fb67c8508"
      },
      "outputs": [
        {
          "data": {
            "text/plain": [
              "8256000"
            ]
          },
          "execution_count": 5,
          "metadata": {},
          "output_type": "execute_result"
        }
      ],
      "source": [
        "# вызовем функцию для аргументов - sale=240, price=34500\n",
        "\n",
        "get_revenue(240, 34500)"
      ]
    },
    {
      "cell_type": "markdown",
      "id": "eac2de1c-143b-4a71-8a71-9d5608f05b92",
      "metadata": {
        "id": "eac2de1c-143b-4a71-8a71-9d5608f05b92"
      },
      "source": [
        "В данном примере функция **возвращает значение** фактической выручки.  \n",
        "\n",
        "Главная ценность возвращаемых значений в том, что их можно использовать в дальнейшем коде:  \n",
        "- присваивать переменным,  \n",
        "- совершать с ними разные операции,  \n",
        "- передавать как аргументы в другие функции."
      ]
    },
    {
      "cell_type": "markdown",
      "id": "e98668cc-2d76-417e-a812-7394ed27104c",
      "metadata": {
        "id": "e98668cc-2d76-417e-a812-7394ed27104c"
      },
      "source": [
        "Вспомним пример из урока_7 \"Список списков\", в котором мы рассчитывали выручку.  \n",
        "Попробуем рассчитать выручку, используя функцию `get_revenue()` и вывести значения подсписков, используя функцию `pretty_nested_list_print()`."
      ]
    },
    {
      "cell_type": "code",
      "execution_count": null,
      "id": "c51808f7-f392-4403-ac5b-6c8b2465dd91",
      "metadata": {
        "id": "c51808f7-f392-4403-ac5b-6c8b2465dd91",
        "outputId": "e24a8eb9-5929-49ae-be79-d8fee2c24f2d"
      },
      "outputs": [
        {
          "name": "stdout",
          "output_type": "stream",
          "text": [
            "['ст. Новоярославская', 'ЯНОС', 840, 821.1, 37780, 30856938.0]\n",
            "['ст. Яничкино', 'МНПЗ', 600, 597.523, 37740, 22490765.72]\n",
            "['ст. Комбинатская', 'ОНПЗ', 1320, 1321.002, 36690, 48203362.98]\n"
          ]
        }
      ],
      "source": [
        "# создание вложенного списка\n",
        "sales = [\n",
        "    ['ст. Новоярославская', 'ЯНОС', 840, 821.1, 37780],\n",
        "    ['ст. Яничкино', 'МНПЗ', 600, 597.523, 37740],\n",
        "    ['ст. Комбинатская', 'ОНПЗ', 1320, 1321.002, 36690]\n",
        "]\n",
        "\n",
        "# цикл\n",
        "revenue = 0                     # переменная-счетчик       \n",
        "for row in sales:               # row перебирает все подсписки \n",
        "    revenue = get_revenue(row[3], row[4])  # рассчитываем выручку, используя функцию\n",
        "    row.append(revenue)         # добавляем элемент к подсписку\n",
        "\n",
        "pretty_nested_list_print(sales) # выведем подсписки на отдельных строках\n",
        "        "
      ]
    },
    {
      "cell_type": "markdown",
      "id": "21e70957-6e72-4146-a83c-b450c9c0eaa0",
      "metadata": {
        "id": "21e70957-6e72-4146-a83c-b450c9c0eaa0"
      },
      "source": [
        "## Параметры и аргументы функции"
      ]
    },
    {
      "cell_type": "markdown",
      "id": "14cfdde3-85b8-4f50-8812-326d6df18d72",
      "metadata": {
        "id": "14cfdde3-85b8-4f50-8812-326d6df18d72"
      },
      "source": [
        "Параметры функции задаются при ее определении в круглых скобках `()`.  \n",
        "Количество параметров не ограничено, может быть равно 0."
      ]
    },
    {
      "cell_type": "markdown",
      "id": "969beb9c-1054-4b9c-989e-270bab45984c",
      "metadata": {
        "id": "969beb9c-1054-4b9c-989e-270bab45984c"
      },
      "source": [
        "В ранее определенной функции `get_revenue(sale, price)` `sale` и `price` - это параметры функции."
      ]
    },
    {
      "cell_type": "markdown",
      "id": "fad26f1a-612e-492c-be10-ed457d8b8d9f",
      "metadata": {
        "id": "fad26f1a-612e-492c-be10-ed457d8b8d9f"
      },
      "source": [
        "При вызове функции в нее передаются аргументы.  \n",
        "**Аргументы** — это информация, переданная в функцию.  \n",
        "Они представляют собой реальные значения, соответствующие параметрам, которые были указаны при объявлении функции."
      ]
    },
    {
      "cell_type": "markdown",
      "id": "0ca41505-ecd8-467f-8d74-35df590d15f3",
      "metadata": {
        "id": "0ca41505-ecd8-467f-8d74-35df590d15f3"
      },
      "source": [
        "При вызове функции `get_revenue(240, 34500)` - 240 и 34500 - аргументы.  "
      ]
    },
    {
      "cell_type": "markdown",
      "id": "ca478d4f-9744-41da-86ab-0e3cf72e0923",
      "metadata": {
        "id": "ca478d4f-9744-41da-86ab-0e3cf72e0923"
      },
      "source": [
        "Для каждого параметра  функции можно определить **значение по умолчанию**.   \n",
        "Делается это в блоке параметров функции, формат: `ключ=значение`. Вокруг `=` нет пробелов. Это правило стиля: помогает отличить параметр по умолчанию от присваивания значения переменной.\n",
        "\n",
        "Если при вызове функции передается аргумент, соответствующий данному параметру, Python использует значение аргумента, а если нет — использует значение по умолчанию. \n",
        "Если для параметра определено значение по умолчанию, вы можете опустить соответствующий аргумент при вызове функции."
      ]
    },
    {
      "cell_type": "markdown",
      "id": "e77af2c9-267c-4609-9067-71fa6695705f",
      "metadata": {
        "id": "e77af2c9-267c-4609-9067-71fa6695705f"
      },
      "source": [
        "Значения по умолчанию вы можете присвоить любому количеству параметров.  \n",
        "Параметры со значениями по умолчанию должны определяться **последними в списке параметров**."
      ]
    },
    {
      "cell_type": "markdown",
      "id": "7d613a68-8acb-4863-a6a8-9ac4e528a8c8",
      "metadata": {
        "id": "7d613a68-8acb-4863-a6a8-9ac4e528a8c8"
      },
      "source": [
        "Определим функцию, рассчитывающую цену со скидкой.  \n",
        "Известно, что чаще всего используется скидка 5%."
      ]
    },
    {
      "cell_type": "code",
      "execution_count": null,
      "id": "73fdf399-4c59-404c-8d90-a6ac2ed69fe4",
      "metadata": {
        "id": "73fdf399-4c59-404c-8d90-a6ac2ed69fe4"
      },
      "outputs": [],
      "source": [
        "# определение функции\n",
        "def get_price_discount(price, discount=0.05):\n",
        "    '''\n",
        "    Функция рассчитывает цену со скидкой\n",
        "    '''\n",
        "    price_with_discount = price * (1 - discount)\n",
        "    \n",
        "    return(round(price_with_discount, 2))\n"
      ]
    },
    {
      "cell_type": "markdown",
      "id": "0cb10bc0-8b60-4326-bcdf-94801eeda90e",
      "metadata": {
        "id": "0cb10bc0-8b60-4326-bcdf-94801eeda90e"
      },
      "source": [
        "Параметр скидка discount имеет значение по умолчанию, в любом вызове `get_price_discount()` ее можно опустить."
      ]
    },
    {
      "cell_type": "code",
      "execution_count": null,
      "id": "8be26843-fa94-4c87-85bf-2f3ed76d7a99",
      "metadata": {
        "id": "8be26843-fa94-4c87-85bf-2f3ed76d7a99",
        "outputId": "00d8f933-1a7a-476f-d8a3-5352b2ddd316"
      },
      "outputs": [
        {
          "data": {
            "text/plain": [
              "32775.0"
            ]
          },
          "execution_count": 8,
          "metadata": {},
          "output_type": "execute_result"
        }
      ],
      "source": [
        "get_price_discount(34500)"
      ]
    },
    {
      "cell_type": "markdown",
      "id": "b7c345d3-aeff-4ae9-abf1-e90b12aceee2",
      "metadata": {
        "id": "b7c345d3-aeff-4ae9-abf1-e90b12aceee2"
      },
      "source": [
        "Можно изменить значение параметра по умолчанию при вызове функции."
      ]
    },
    {
      "cell_type": "code",
      "execution_count": null,
      "id": "e96447b2-7107-4911-82d1-bf997a2c0764",
      "metadata": {
        "id": "e96447b2-7107-4911-82d1-bf997a2c0764",
        "outputId": "842f9e2d-acbf-43e1-f5d3-a6dd81417381"
      },
      "outputs": [
        {
          "data": {
            "text/plain": [
              "31050.0"
            ]
          },
          "execution_count": 9,
          "metadata": {},
          "output_type": "execute_result"
        }
      ],
      "source": [
        "get_price_discount(34500, 0.1)"
      ]
    },
    {
      "cell_type": "markdown",
      "id": "6c289bd8-76a0-477a-847b-008880d1ea5c",
      "metadata": {
        "id": "6c289bd8-76a0-477a-847b-008880d1ea5c"
      },
      "source": [
        "## Позиционные и именованные аргументы"
      ]
    },
    {
      "cell_type": "markdown",
      "id": "268a9aa9-6121-4c8c-b37d-583118e78b14",
      "metadata": {
        "id": "268a9aa9-6121-4c8c-b37d-583118e78b14"
      },
      "source": [
        "Существуют несколько способов передачи аргументов функциям:\n",
        "- позиционный  \n",
        "- именованный.\n",
        "\n",
        "**Позиционные аргументы** перечисляются в порядке, точно соответствующем порядку записи параметров.  \n",
        "**Именованные аргументы** состоят из имени параметра и значения."
      ]
    },
    {
      "cell_type": "markdown",
      "id": "5d0b1b19-ed34-4b69-8f58-a6e95f11186d",
      "metadata": {
        "id": "5d0b1b19-ed34-4b69-8f58-a6e95f11186d"
      },
      "source": [
        "### Позиционные аргументы"
      ]
    },
    {
      "cell_type": "markdown",
      "id": "5e1c5c11-638b-4a6e-b148-5905cf2fdb02",
      "metadata": {
        "id": "5e1c5c11-638b-4a6e-b148-5905cf2fdb02"
      },
      "source": [
        "Пока что мы имели дело только с позиционными аргументами.  \n",
        "При вызове функций в них передаются только **значения**.  \n",
        "Все эти значения **идут по порядку и соответствуют параметрам**, указанным при определении функции."
      ]
    },
    {
      "cell_type": "code",
      "execution_count": null,
      "id": "4cf0619e-6a8d-4601-b622-80a1418bf6a4",
      "metadata": {
        "id": "4cf0619e-6a8d-4601-b622-80a1418bf6a4",
        "outputId": "26a1e534-48f2-40c4-c7d1-459298ebdfa5"
      },
      "outputs": [
        {
          "name": "stdout",
          "output_type": "stream",
          "text": [
            "36650\n"
          ]
        }
      ],
      "source": [
        "# определение функции\n",
        "def get_discount_sum(price, discount_sum):\n",
        "    '''\n",
        "    Функция рассчитывает цену со скидкой\n",
        "    '''\n",
        "    price_with_discount = price - discount_sum\n",
        "    \n",
        "    print(price_with_discount)\n",
        "\n",
        "# вызовем функцию\n",
        "get_discount_sum(36800, 150)\n",
        "    "
      ]
    },
    {
      "cell_type": "markdown",
      "id": "ecbf3567-94b5-467a-9414-67f68054fcef",
      "metadata": {
        "id": "ecbf3567-94b5-467a-9414-67f68054fcef"
      },
      "source": [
        "В функции `get_discount_sum()` опеределено два параметра - при вызове функции мы передали два аргумента. То есть *число аргументов точно соответствует числу параметров*.  \n",
        "Мы передали аргументы *в том же порядке следования*, что и параметры - сначала `price`, затем `discount_sum`."
      ]
    },
    {
      "cell_type": "markdown",
      "id": "5beaf471-0e2b-44b3-a67e-8ccebed51afa",
      "metadata": {
        "id": "5beaf471-0e2b-44b3-a67e-8ccebed51afa"
      },
      "source": [
        "Попробуем нарушить правила передачи позиционных аргументов."
      ]
    },
    {
      "cell_type": "markdown",
      "id": "d182a98f-470d-4a1e-96c3-21c863abd136",
      "metadata": {
        "id": "d182a98f-470d-4a1e-96c3-21c863abd136"
      },
      "source": [
        "- число аргументов не соответствует числу параметров функции:"
      ]
    },
    {
      "cell_type": "code",
      "execution_count": null,
      "id": "a25abfa4-5666-41f5-991f-ba8fb2763dfb",
      "metadata": {
        "id": "a25abfa4-5666-41f5-991f-ba8fb2763dfb",
        "outputId": "fecb0793-fdbe-41a9-a5d8-66908b94d180"
      },
      "outputs": [
        {
          "ename": "TypeError",
          "evalue": "get_discount_sum() takes 2 positional arguments but 3 were given",
          "output_type": "error",
          "traceback": [
            "\u001b[1;31m---------------------------------------------------------------------------\u001b[0m",
            "\u001b[1;31mTypeError\u001b[0m                                 Traceback (most recent call last)",
            "\u001b[1;32m<ipython-input-11-c4dc19f9dc5d>\u001b[0m in \u001b[0;36m<module>\u001b[1;34m\u001b[0m\n\u001b[0;32m      1\u001b[0m \u001b[1;31m# число аргументов больше числа параметров\u001b[0m\u001b[1;33m\u001b[0m\u001b[1;33m\u001b[0m\u001b[1;33m\u001b[0m\u001b[0m\n\u001b[1;32m----> 2\u001b[1;33m \u001b[0mget_discount_sum\u001b[0m\u001b[1;33m(\u001b[0m\u001b[1;36m36800\u001b[0m\u001b[1;33m,\u001b[0m \u001b[1;36m150\u001b[0m\u001b[1;33m,\u001b[0m \u001b[1;36m2\u001b[0m\u001b[1;33m)\u001b[0m\u001b[1;33m\u001b[0m\u001b[1;33m\u001b[0m\u001b[0m\n\u001b[0m",
            "\u001b[1;31mTypeError\u001b[0m: get_discount_sum() takes 2 positional arguments but 3 were given"
          ]
        }
      ],
      "source": [
        "# число аргументов больше числа параметров\n",
        "get_discount_sum(36800, 150, 2)\n"
      ]
    },
    {
      "cell_type": "code",
      "execution_count": null,
      "id": "5a26fcc2-95af-4ee3-bb28-a48f4062131a",
      "metadata": {
        "id": "5a26fcc2-95af-4ee3-bb28-a48f4062131a",
        "outputId": "bba49860-797c-4ad0-ac5a-8a82663f594b"
      },
      "outputs": [
        {
          "ename": "TypeError",
          "evalue": "get_discount_sum() missing 1 required positional argument: 'discount_sum'",
          "output_type": "error",
          "traceback": [
            "\u001b[1;31m---------------------------------------------------------------------------\u001b[0m",
            "\u001b[1;31mTypeError\u001b[0m                                 Traceback (most recent call last)",
            "\u001b[1;32m<ipython-input-12-a3e450fcde82>\u001b[0m in \u001b[0;36m<module>\u001b[1;34m\u001b[0m\n\u001b[0;32m      1\u001b[0m \u001b[1;31m# число аргументов меньше числа параметров\u001b[0m\u001b[1;33m\u001b[0m\u001b[1;33m\u001b[0m\u001b[1;33m\u001b[0m\u001b[0m\n\u001b[1;32m----> 2\u001b[1;33m \u001b[0mget_discount_sum\u001b[0m\u001b[1;33m(\u001b[0m\u001b[1;36m36800\u001b[0m\u001b[1;33m)\u001b[0m\u001b[1;33m\u001b[0m\u001b[1;33m\u001b[0m\u001b[0m\n\u001b[0m",
            "\u001b[1;31mTypeError\u001b[0m: get_discount_sum() missing 1 required positional argument: 'discount_sum'"
          ]
        }
      ],
      "source": [
        "# число аргументов меньше числа параметров\n",
        "get_discount_sum(36800)\n"
      ]
    },
    {
      "cell_type": "markdown",
      "id": "1e55c80d-bac0-4fa4-8e0b-7c1f7c7ba3a4",
      "metadata": {
        "id": "1e55c80d-bac0-4fa4-8e0b-7c1f7c7ba3a4"
      },
      "source": [
        "Python в обоих случаях указал на ошибку несоответствия количества аргументов числу параметров."
      ]
    },
    {
      "cell_type": "markdown",
      "id": "dfed10d9-3bb4-47cd-afe1-0caf5d335f0b",
      "metadata": {
        "id": "dfed10d9-3bb4-47cd-afe1-0caf5d335f0b"
      },
      "source": [
        "- порядок следования аргументов не соответствует порядку следования параметров функции"
      ]
    },
    {
      "cell_type": "code",
      "execution_count": null,
      "id": "0a6258cf-8324-4463-894e-10f8fa2d57a1",
      "metadata": {
        "id": "0a6258cf-8324-4463-894e-10f8fa2d57a1",
        "outputId": "d3f904c8-bf02-4415-a46a-4451f315442d"
      },
      "outputs": [
        {
          "name": "stdout",
          "output_type": "stream",
          "text": [
            "-36650\n"
          ]
        }
      ],
      "source": [
        "get_discount_sum(150, 36800)\n"
      ]
    },
    {
      "cell_type": "markdown",
      "id": "df3690de-7111-4e77-b5f7-bbaa482bd1c7",
      "metadata": {
        "id": "df3690de-7111-4e77-b5f7-bbaa482bd1c7"
      },
      "source": [
        "Синтаксической ошибки нет - есть смысловая ошибка: цена не может быть отрицательной величиной"
      ]
    },
    {
      "cell_type": "markdown",
      "id": "235be87a-58e1-431f-9012-3d851793fd41",
      "metadata": {
        "id": "235be87a-58e1-431f-9012-3d851793fd41"
      },
      "source": [
        "### Именованные аргументы"
      ]
    },
    {
      "cell_type": "markdown",
      "id": "0fe4834f-58f9-483b-80b9-deef95b8b319",
      "metadata": {
        "id": "0fe4834f-58f9-483b-80b9-deef95b8b319"
      },
      "source": [
        "В случае именованных аргументов при вызове функции не просто передаются значения.    \n",
        "Указывается **имя параметра**, за затем **значение**, которое хотите ему присвоить (ключ=значение).  \n",
        "Все ключи совпадают с параметрами, указанными при определении функции."
      ]
    },
    {
      "cell_type": "markdown",
      "id": "e3dc3ba4-564e-441d-83d8-4cd9fd3dfe42",
      "metadata": {
        "id": "e3dc3ba4-564e-441d-83d8-4cd9fd3dfe42"
      },
      "source": [
        "Передадим функции `get_discount_sum()` именованные аругменты."
      ]
    },
    {
      "cell_type": "code",
      "execution_count": null,
      "id": "0c113a1e-3780-461f-ade2-4381cc7cde9e",
      "metadata": {
        "id": "0c113a1e-3780-461f-ade2-4381cc7cde9e",
        "outputId": "0ebb6fcd-d1c7-4642-8b3c-f055f46d763a"
      },
      "outputs": [
        {
          "name": "stdout",
          "output_type": "stream",
          "text": [
            "36650\n"
          ]
        }
      ],
      "source": [
        "get_discount_sum(price=36800, discount_sum=150)"
      ]
    },
    {
      "cell_type": "markdown",
      "id": "73d8d901-cc9e-438e-9206-2dfb8a465710",
      "metadata": {
        "id": "73d8d901-cc9e-438e-9206-2dfb8a465710"
      },
      "source": [
        "Порядок передачи именованных аргументов не имеет большого значения.\n",
        "Можно написать код следующим образом, и это не вызовет ошибку."
      ]
    },
    {
      "cell_type": "code",
      "execution_count": null,
      "id": "4db6a67d-f5b2-4dc6-9b59-74ce4c8fc972",
      "metadata": {
        "id": "4db6a67d-f5b2-4dc6-9b59-74ce4c8fc972",
        "outputId": "f17306b4-0ba5-4555-b99b-0319e03ff3de"
      },
      "outputs": [
        {
          "name": "stdout",
          "output_type": "stream",
          "text": [
            "36650\n"
          ]
        }
      ],
      "source": [
        "get_discount_sum(discount_sum=150, price=36800)"
      ]
    },
    {
      "cell_type": "markdown",
      "id": "3c9ed8af-5bb6-4062-9e9f-9752293c2025",
      "metadata": {
        "id": "3c9ed8af-5bb6-4062-9e9f-9752293c2025"
      },
      "source": [
        "Количество передаваемых аргументов по-прежнему имеет значение."
      ]
    },
    {
      "cell_type": "code",
      "execution_count": null,
      "id": "c1554c70-f12c-46a5-a239-01039f24e018",
      "metadata": {
        "id": "c1554c70-f12c-46a5-a239-01039f24e018",
        "outputId": "0edc0ce5-b66c-448e-8ccc-cc71ae0e1c97"
      },
      "outputs": [
        {
          "ename": "TypeError",
          "evalue": "get_discount_sum() missing 1 required positional argument: 'discount_sum'",
          "output_type": "error",
          "traceback": [
            "\u001b[1;31m---------------------------------------------------------------------------\u001b[0m",
            "\u001b[1;31mTypeError\u001b[0m                                 Traceback (most recent call last)",
            "\u001b[1;32m<ipython-input-16-d750051be815>\u001b[0m in \u001b[0;36m<module>\u001b[1;34m\u001b[0m\n\u001b[1;32m----> 1\u001b[1;33m \u001b[0mget_discount_sum\u001b[0m\u001b[1;33m(\u001b[0m\u001b[0mprice\u001b[0m\u001b[1;33m=\u001b[0m\u001b[1;36m36800\u001b[0m\u001b[1;33m)\u001b[0m\u001b[1;33m\u001b[0m\u001b[1;33m\u001b[0m\u001b[0m\n\u001b[0m",
            "\u001b[1;31mTypeError\u001b[0m: get_discount_sum() missing 1 required positional argument: 'discount_sum'"
          ]
        }
      ],
      "source": [
        "get_discount_sum(price=36800)"
      ]
    },
    {
      "cell_type": "markdown",
      "id": "fbe17506-65c3-453a-9079-46d4ab09b25a",
      "metadata": {
        "id": "fbe17506-65c3-453a-9079-46d4ab09b25a"
      },
      "source": [
        "Именованные аргументы удобны при большом количестве параметров функции."
      ]
    },
    {
      "cell_type": "markdown",
      "id": "01a7e980-0a8d-4c41-95d2-4511a5efae41",
      "metadata": {
        "id": "01a7e980-0a8d-4c41-95d2-4511a5efae41"
      },
      "source": [
        "### Комбинация способов передачи аргументов"
      ]
    },
    {
      "cell_type": "markdown",
      "id": "f6475e0e-4712-4fef-8884-a0a9b4e36897",
      "metadata": {
        "id": "f6475e0e-4712-4fef-8884-a0a9b4e36897"
      },
      "source": [
        "При вызове функции можно использовать одновременно и позиционные, и именованные аргументы.  \n",
        "В этом случае порядок имеет значение.  \n",
        "Позиционные аргументы всегда идут первыми. Все именованные аргументы должны следовать за позиционными."
      ]
    },
    {
      "cell_type": "code",
      "execution_count": null,
      "id": "48c1145d-7c27-4e7f-8fa5-d51d3c8c75c9",
      "metadata": {
        "id": "48c1145d-7c27-4e7f-8fa5-d51d3c8c75c9"
      },
      "outputs": [],
      "source": [
        "# определение функции\n",
        "def get_sale_param(sale, price, discount_sum):\n",
        "    '''\n",
        "    Функция рассчитывает параметры отгрузки\n",
        "    '''\n",
        "    price_with_discount = price - discount_sum\n",
        "    revenue = price_with_discount * sale\n",
        "      \n",
        "    print(sale, price_with_discount, revenue, sep = '\\n')"
      ]
    },
    {
      "cell_type": "code",
      "execution_count": null,
      "id": "11c44668-163c-4dcf-a8ee-f6cff626eb4f",
      "metadata": {
        "id": "11c44668-163c-4dcf-a8ee-f6cff626eb4f",
        "outputId": "93ac2ee1-19d8-407b-b1ee-ea69b03f014d"
      },
      "outputs": [
        {
          "name": "stdout",
          "output_type": "stream",
          "text": [
            "240\n",
            "36650\n",
            "8796000\n"
          ]
        }
      ],
      "source": [
        "get_sale_param(240, 36800, discount_sum=150)"
      ]
    },
    {
      "cell_type": "markdown",
      "id": "22c71e72-479e-4406-9388-c79f54332dbc",
      "metadata": {
        "id": "22c71e72-479e-4406-9388-c79f54332dbc"
      },
      "source": [
        "Изменим порядок следования позиционных и именованных аргументов."
      ]
    },
    {
      "cell_type": "code",
      "execution_count": null,
      "id": "658732ca-a12e-4a89-97b6-2f9cbf5bec94",
      "metadata": {
        "id": "658732ca-a12e-4a89-97b6-2f9cbf5bec94",
        "outputId": "1dc05675-8843-4cd2-bf53-806936b4b1dc"
      },
      "outputs": [
        {
          "ename": "SyntaxError",
          "evalue": "positional argument follows keyword argument (<ipython-input-19-bb02fe820b5a>, line 1)",
          "output_type": "error",
          "traceback": [
            "\u001b[1;36m  File \u001b[1;32m\"<ipython-input-19-bb02fe820b5a>\"\u001b[1;36m, line \u001b[1;32m1\u001b[0m\n\u001b[1;33m    get_sale_param(240, discount_sum=150, 36800)\u001b[0m\n\u001b[1;37m                                          ^\u001b[0m\n\u001b[1;31mSyntaxError\u001b[0m\u001b[1;31m:\u001b[0m positional argument follows keyword argument\n"
          ]
        }
      ],
      "source": [
        "get_sale_param(240, discount_sum=150, 36800)"
      ]
    },
    {
      "cell_type": "markdown",
      "id": "73652b46-7f8b-49ed-82f3-afc7191142b3",
      "metadata": {
        "id": "73652b46-7f8b-49ed-82f3-afc7191142b3"
      },
      "source": [
        "Python указал на ошибку: позиционный аргумент следует за именованным аргументом."
      ]
    },
    {
      "cell_type": "markdown",
      "id": "702aee05-9571-4a4f-833e-c8886addcce5",
      "metadata": {
        "id": "702aee05-9571-4a4f-833e-c8886addcce5"
      },
      "source": [
        "Смешанная запись бывает удобна, когда у функции есть обязательные параметры и множество необязательных."
      ]
    },
    {
      "cell_type": "markdown",
      "id": "4a0cae86-45c7-42a8-ab76-e72a953a7af3",
      "metadata": {
        "id": "4a0cae86-45c7-42a8-ab76-e72a953a7af3"
      },
      "source": [
        "## Локальные и глобальные переменные"
      ]
    },
    {
      "cell_type": "markdown",
      "id": "6b22a9c2-418c-4c11-a5a3-51f48fd42842",
      "metadata": {
        "id": "6b22a9c2-418c-4c11-a5a3-51f48fd42842"
      },
      "source": [
        "Когда вы создаете переменную внутри функции, она является **локальной**, что означает, что она существует только внутри функции."
      ]
    },
    {
      "cell_type": "markdown",
      "id": "c0ef6edf-7a68-4315-a0b8-2860e4161c91",
      "metadata": {
        "id": "c0ef6edf-7a68-4315-a0b8-2860e4161c91"
      },
      "source": [
        "Вернемся к функции `get_discount_sum()`."
      ]
    },
    {
      "cell_type": "code",
      "execution_count": null,
      "id": "142d7394-a6bb-4769-93a4-6706fa0989d1",
      "metadata": {
        "id": "142d7394-a6bb-4769-93a4-6706fa0989d1"
      },
      "outputs": [],
      "source": [
        "# определение функции\n",
        "def get_discount_sum(price, discount_sum):\n",
        "    '''\n",
        "    Функция рассчитывает цену со скидкой\n",
        "    '''\n",
        "    price_with_discount = price - discount_sum\n",
        "    \n",
        "    print(price_with_discount)"
      ]
    },
    {
      "cell_type": "markdown",
      "id": "37ecaef8-cc74-422d-936e-1ff68f9777b3",
      "metadata": {
        "id": "37ecaef8-cc74-422d-936e-1ff68f9777b3"
      },
      "source": [
        "Когда выполнение функции `get_discount_sum()` завершается, переменная `price_with_discount` уничтожается. Если мы попытаемся вывести ее, то получим исключение."
      ]
    },
    {
      "cell_type": "code",
      "execution_count": null,
      "id": "4ec1cd62-4e42-4f95-9d0a-2c26dc4a5f91",
      "metadata": {
        "id": "4ec1cd62-4e42-4f95-9d0a-2c26dc4a5f91",
        "outputId": "396770e4-ff60-45aa-e776-f60bbb8527b6"
      },
      "outputs": [
        {
          "name": "stdout",
          "output_type": "stream",
          "text": [
            "36650\n"
          ]
        }
      ],
      "source": [
        "# вызовем функцию\n",
        "get_discount_sum(36800, 150)"
      ]
    },
    {
      "cell_type": "code",
      "execution_count": null,
      "id": "528f97f8-cbb3-48b2-b1df-756ba20a868c",
      "metadata": {
        "id": "528f97f8-cbb3-48b2-b1df-756ba20a868c",
        "outputId": "a1c564b7-2836-44af-9546-0931542fcb0e"
      },
      "outputs": [
        {
          "ename": "NameError",
          "evalue": "name 'price_with_discount' is not defined",
          "output_type": "error",
          "traceback": [
            "\u001b[1;31m---------------------------------------------------------------------------\u001b[0m",
            "\u001b[1;31mNameError\u001b[0m                                 Traceback (most recent call last)",
            "\u001b[1;32m<ipython-input-22-1e48a512b6df>\u001b[0m in \u001b[0;36m<module>\u001b[1;34m\u001b[0m\n\u001b[1;32m----> 1\u001b[1;33m \u001b[0mprint\u001b[0m\u001b[1;33m(\u001b[0m\u001b[0mprice_with_discount\u001b[0m\u001b[1;33m)\u001b[0m\u001b[1;33m\u001b[0m\u001b[1;33m\u001b[0m\u001b[0m\n\u001b[0m",
            "\u001b[1;31mNameError\u001b[0m: name 'price_with_discount' is not defined"
          ]
        }
      ],
      "source": [
        "print(price_with_discount)"
      ]
    },
    {
      "cell_type": "markdown",
      "id": "5d7461e0-8c13-4068-942e-59bb4200509b",
      "metadata": {
        "id": "5d7461e0-8c13-4068-942e-59bb4200509b"
      },
      "source": [
        "**Глобальные переменные** — это те, что объявлены вне функций. К ним можно обращаться откуда угодно. "
      ]
    },
    {
      "cell_type": "code",
      "execution_count": null,
      "id": "a71cc1aa-3a38-45f0-aac1-c541570bf5f5",
      "metadata": {
        "id": "a71cc1aa-3a38-45f0-aac1-c541570bf5f5",
        "outputId": "58ba828d-354a-48e1-a0e9-bebc383af59b"
      },
      "outputs": [
        {
          "name": "stdout",
          "output_type": "stream",
          "text": [
            "36650\n"
          ]
        }
      ],
      "source": [
        "# глобальная переменная price\n",
        "price = 36800\n",
        "\n",
        "# определение функции\n",
        "def get_discount_sum(price, discount_sum):\n",
        "    '''\n",
        "    Функция рассчитывает цену со скидкой\n",
        "    '''\n",
        "    price_with_discount = price - discount_sum\n",
        "    \n",
        "    print(price_with_discount)\n",
        "\n",
        "# вызов функции    \n",
        "get_discount_sum(price, 150)    "
      ]
    },
    {
      "cell_type": "markdown",
      "id": "1865cce6-6a27-479c-a5bd-bbaec231b52c",
      "metadata": {
        "id": "1865cce6-6a27-479c-a5bd-bbaec231b52c"
      },
      "source": [
        "## Анонимные функции"
      ]
    },
    {
      "cell_type": "markdown",
      "id": "4907f404-9ba6-4a14-8b0b-d545990754e2",
      "metadata": {
        "id": "4907f404-9ba6-4a14-8b0b-d545990754e2"
      },
      "source": [
        "В Python можно определить функцию, не давая ей имени- **анонимную функцию**.  \n",
        "Обычные функции определяются с помощью ключевого слова `def`, анонимные функции определяются с помощью ключевого слова `lambda`."
      ]
    },
    {
      "cell_type": "markdown",
      "id": "48a9328f-2e51-4708-80bd-f1f32fc7c6ee",
      "metadata": {
        "id": "48a9328f-2e51-4708-80bd-f1f32fc7c6ee"
      },
      "source": [
        "**Синтаксис**  \n",
        "`lambda [arg1, arg2, ..]: [выражение]`\n"
      ]
    },
    {
      "cell_type": "markdown",
      "id": "fbce33a3-62d6-4a5a-a260-1c692b6e444f",
      "metadata": {
        "id": "fbce33a3-62d6-4a5a-a260-1c692b6e444f"
      },
      "source": [
        "Лямбда-функции бывают полезны в случаях, когда нужна небольшая одноразовая функция. "
      ]
    },
    {
      "cell_type": "markdown",
      "id": "041d904d-ebe6-4b0a-89f9-73f9c0a07884",
      "metadata": {
        "id": "041d904d-ebe6-4b0a-89f9-73f9c0a07884"
      },
      "source": [
        "**Пример**  \n",
        "Отсортируем список с данными по продажам по объему отгрузки с помощью лямбда-функции."
      ]
    },
    {
      "cell_type": "code",
      "execution_count": null,
      "id": "b1bb7694-4ba8-418c-bd19-7905ff368ca4",
      "metadata": {
        "id": "b1bb7694-4ba8-418c-bd19-7905ff368ca4",
        "outputId": "074b41df-27a0-4c26-edc6-aa2ec59160a2"
      },
      "outputs": [
        {
          "name": "stdout",
          "output_type": "stream",
          "text": [
            "['ст. Яничкино', 'МНПЗ', 600, 597.523, 37740]\n",
            "['ст. Новоярославская', 'ЯНОС', 840, 821.1, 37780]\n",
            "['ст. Комбинатская', 'ОНПЗ', 1320, 1321.002, 36690]\n"
          ]
        }
      ],
      "source": [
        "# создание вложенного списка\n",
        "sales = [\n",
        "    ['ст. Новоярославская', 'ЯНОС', 840, 821.1, 37780],\n",
        "    ['ст. Яничкино', 'МНПЗ', 600, 597.523, 37740],\n",
        "    ['ст. Комбинатская', 'ОНПЗ', 1320, 1321.002, 36690]\n",
        "]\n",
        "\n",
        "# сортируем список по объему отгрузки - это элемент с индексом [3]\n",
        "sorted_sales = sorted(sales, key = lambda row: row[3])\n",
        "\n",
        "# выводим сортированный список\n",
        "for row in sorted_sales:               \n",
        "    print(row) "
      ]
    },
    {
      "cell_type": "markdown",
      "id": "f146aed9-a2b3-420a-8555-56a56bc7b723",
      "metadata": {
        "id": "f146aed9-a2b3-420a-8555-56a56bc7b723"
      },
      "source": [
        "Преобразование элементов списка с помощью лямбда-функции. \n",
        "Рассчитаем количество отгруженных вагонов для списка с объемами отгрузки, исходя из нормы загрузки вагона - 60 тонн.\n",
        "\n",
        "Кроме лямбда-функции используем функцию `map()` и функцию `list()`."
      ]
    },
    {
      "cell_type": "markdown",
      "id": "fc373976-8400-4949-a9a8-167b756aa5f3",
      "metadata": {
        "id": "fc373976-8400-4949-a9a8-167b756aa5f3"
      },
      "source": [
        "**Синтаксис `map()` для списка**:  \n",
        "`map (функция, список)`  \n",
        "\n",
        "**Описание**:  \n",
        "`map()` применяет функцию к каждому элементу в списке.  \n",
        "\n",
        "Для того, чтобы получить новый список - результат работы `map()` необходимо преобразовать в список с помощью функции `list()`."
      ]
    },
    {
      "cell_type": "code",
      "execution_count": null,
      "id": "5188304a-4591-4a04-9ae3-ccf5b0a4546f",
      "metadata": {
        "id": "5188304a-4591-4a04-9ae3-ccf5b0a4546f",
        "outputId": "97ffa3e7-897e-441a-d06a-d674a6dd7e15"
      },
      "outputs": [
        {
          "name": "stdout",
          "output_type": "stream",
          "text": [
            "[9.0, 4.0, 22.0, 11.0, 1.0, 7.0]\n"
          ]
        }
      ],
      "source": [
        "# список с объемом отгруженной продукции в тоннах\n",
        "sale = [540, 240, 1320, 660, 60, 420]\n",
        "\n",
        "# рассчитаем отгрузку в вагонах\n",
        "number_of_tanks = list(map(lambda number: number / 60, sale))\n",
        "\n",
        "# выведем количество вагонов\n",
        "print(number_of_tanks)"
      ]
    },
    {
      "cell_type": "markdown",
      "id": "b05b961b-f9e3-46dc-b864-b7fbf7af4ffb",
      "metadata": {
        "id": "b05b961b-f9e3-46dc-b864-b7fbf7af4ffb"
      },
      "source": [
        "## Итоги\n",
        "1. Функция - набор инструкций, выделенный в отдельный блок. Функции сделают ваш код компактнее и читабельнее.  \n",
        "Использование функций соотвествует принципу программирования Python - Don't Repeat Yourself - не повторяйся.\n",
        "2. В Python есть встроенные функции. Для решения повторяющихся задач можно написать *пользовательскую функцию*.  \n",
        "3. Обявление пользовательской функции:  \n",
        "    `def имя_функции(параметр_1, параметр_2, … , параметр_n):`  \n",
        "    `....<действие>`\n",
        "4. Функция может производить действие или возвращать значение (в теле функции должен быть оператор `return`).  \n",
        "5. Параметры функции задаются при ее определении в круглых скобках `()`.  \n",
        "6. Аргументы - реальные значения, соответствующие параметрам, которые были указаны при объявлении функции.  \n",
        "7. Для параметра  функции можно определить *значение по умолчанию*. Если для параметра определено значение по умолчанию, можно опустить соответствующий аргумент при вызове функции.   \n",
        "8. *Позиционные аргументы* перечисляются в порядке, точно соответствующем порядку записи параметров. При вызове функций в аргументы передаются только значения.  \n",
        "9. *Именованные аргументы* передаются при вызове функции в формате `(имя_параметра=значение)`.  Порядок передачи именованных аргументов не имеет большого значения\n",
        "10. При вызове функции можно использовать одновременно и позиционные, и именованные аргументы. Порядок передачи аргументов - сначала позиционные, затем именованные.  \n",
        "11. Глобальные переменные — переменные, которые объявлены вне функций. К ним можно обращаться откуда угодно.   \n",
        "12. Переменные, объявленные внутри функции — локальные. К ним обратиться из кода вне тела функции нельзя.  \n",
        "13. В Python можно определить функцию, не давая ей имени- *анонимную функцию*: `lambda [arg1, arg2, ..]: [выражение]`   \n"
      ]
    },
    {
      "cell_type": "markdown",
      "id": "2e74ba38-9a42-41a4-86a5-8f6d80c4558e",
      "metadata": {
        "id": "2e74ba38-9a42-41a4-86a5-8f6d80c4558e"
      },
      "source": [
        "## При подготовке конспекта использованы:"
      ]
    },
    {
      "cell_type": "markdown",
      "id": "706cbb48-7c28-4faa-af9c-a6f45479dc1d",
      "metadata": {
        "id": "706cbb48-7c28-4faa-af9c-a6f45479dc1d"
      },
      "source": [
        "1. [Функции в Python — синтаксис, аргументы, вызов, выход](https://pythonchik.ru/osnovy/funkcii-v-python)  \n",
        "2. [Функция в Python: руководство для начинающих](https://pythonist.ru/funkcziya-v-python-rukovodstvo-dlya-nachinayushhih/)  \n",
        "3. [Функции и их аргументы в Python 3](https://pythonist.ru/funkczii-i-ih-argumenty-v-python-3/)  \n",
        "4. [Встроенные функции Python: какие нужно знать и на какие не стоит тратить время](https://tproger.ru/translations/python-built-ins-worth-learning/)\n",
        "5. [Аллен Б. Дауни Основы Python. Научитесь думать как программист](https://t.me/python_360_reserv/16) \n",
        "6. Мэтиз Эрик. Изучаем Python. Программирование игр, визуализация данных, веб-приложения.  \n",
        "7. Наоми Седер Python. Экспресс-курс. \n",
        "8.[Lambda-функции в Python с их синтаксисом и примерами](https://pythonist.ru/lambda-funkczii-v-python-s-ih-sintaksisom-i-primerami/)  \n",
        "9. [Функция map() в Python](https://pythonist.ru/funkcziya-map-v-python/)\n"
      ]
    }
  ],
  "metadata": {
    "kernelspec": {
      "display_name": "Python 3",
      "language": "python",
      "name": "python3"
    },
    "language_info": {
      "codemirror_mode": {
        "name": "ipython",
        "version": 3
      },
      "file_extension": ".py",
      "mimetype": "text/x-python",
      "name": "python",
      "nbconvert_exporter": "python",
      "pygments_lexer": "ipython3",
      "version": "3.8.8"
    },
    "colab": {
      "provenance": [],
      "collapsed_sections": [
        "55683c33-9df4-48a5-8289-50b50a3ddaf0",
        "5d0b1b19-ed34-4b69-8f58-a6e95f11186d",
        "235be87a-58e1-431f-9012-3d851793fd41",
        "01a7e980-0a8d-4c41-95d2-4511a5efae41"
      ],
      "include_colab_link": true
    }
  },
  "nbformat": 4,
  "nbformat_minor": 5
}