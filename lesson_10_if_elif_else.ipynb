{
  "cells": [
    {
      "cell_type": "markdown",
      "metadata": {
        "id": "view-in-github",
        "colab_type": "text"
      },
      "source": [
        "<a href=\"https://colab.research.google.com/github/bambutch/python_classes/blob/main/lesson_10_if_elif_else.ipynb\" target=\"_parent\"><img src=\"https://colab.research.google.com/assets/colab-badge.svg\" alt=\"Open In Colab\"/></a>"
      ]
    },
    {
      "cell_type": "markdown",
      "id": "ce94e8e2-85d6-48c4-8fe9-934a7e4fc2bf",
      "metadata": {
        "id": "ce94e8e2-85d6-48c4-8fe9-934a7e4fc2bf"
      },
      "source": [
        "# Конспект 10"
      ]
    },
    {
      "cell_type": "markdown",
      "id": "1c4e3a36-5fe0-41f6-a0a1-79d2938d5c85",
      "metadata": {
        "id": "1c4e3a36-5fe0-41f6-a0a1-79d2938d5c85"
      },
      "source": [
        "#  Условные конструкции: if-elif-else"
      ]
    },
    {
      "cell_type": "markdown",
      "id": "bd5c7f00-2314-4b3f-8327-ff72ec0b9675",
      "metadata": {
        "id": "bd5c7f00-2314-4b3f-8327-ff72ec0b9675"
      },
      "source": [
        "В данном уроке мы:  \n",
        "- узнаем, что такое условный оператор if;  \n",
        "- посмотрим полную конструкцию if-else;  \n",
        "- разберемся с дополнительными ветками кода с конструкцией if-elif-else."
      ]
    },
    {
      "cell_type": "markdown",
      "id": "42ea66e3-c632-40fe-b258-604c03a0b398",
      "metadata": {
        "id": "42ea66e3-c632-40fe-b258-604c03a0b398"
      },
      "source": [
        "Для решения многих задач (фильтрация таблиц, расчеты при выполнении определенных условий, поиск максимальных и минимальных значения и т.д.) нам недостаточно *линейного алгоритма*, когда вычисления выполняются строго последовательно.  \n",
        "В таких случаях мы используем *алгоритм с ветвлением*: условный оператор `if` и конструкции с ним: `if-else`, `if-elif-else`."
      ]
    },
    {
      "cell_type": "markdown",
      "id": "9a117d22-9e20-4b16-b8c2-109a9074001f",
      "metadata": {
        "id": "9a117d22-9e20-4b16-b8c2-109a9074001f"
      },
      "source": [
        "**Примеры аналитических задач, где необходимы условные конструкции.**   \n",
        "\n",
        "1. Анализ и сегментация базы заемщиков по сумме кредита.  \n",
        "Определив шкалу, вы будете сопоставлять фактические суммы с границами кластеров, то есть проверять выполнение условие:   \n",
        "если сумма попадает в кластер с минимальной суммой - клиенту присвоим статус массовый заемщик,   \n",
        "если в кластер со средних суммами - статус средний заемщик,  \n",
        "если в кластер крупных сумм - статус крупный заемщик.  \n",
        "\n",
        "2. Формирование шкалы скидок  \n",
        "Проанализировав объемы продаж по клиентам, формируете шкалу скидок. Если клиент приобрел меньше минимальной границы - скидка не предоставляется, если  выборка попала в минимальный сегмент выборки - скидка 100 руб., в средний - скидка 250 руб., в высокий - 400 руб."
      ]
    },
    {
      "cell_type": "markdown",
      "id": "40df361f-773b-491e-8b98-60c22b5d3d24",
      "metadata": {
        "id": "40df361f-773b-491e-8b98-60c22b5d3d24"
      },
      "source": [
        "## Условный оператор `if`"
      ]
    },
    {
      "cell_type": "markdown",
      "id": "ec6a8842-776b-4c90-bbe4-a48893698762",
      "metadata": {
        "id": "ec6a8842-776b-4c90-bbe4-a48893698762"
      },
      "source": [
        "**Синтаксис `if`:**  \n"
      ]
    },
    {
      "cell_type": "markdown",
      "id": "dac5e4c7-382c-4db8-9812-198c1c3b7658",
      "metadata": {
        "id": "dac5e4c7-382c-4db8-9812-198c1c3b7658"
      },
      "source": [
        "![image.png](data:image/png;base64,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)"
      ]
    },
    {
      "cell_type": "markdown",
      "id": "69b1d92d-9c83-4b14-a2a4-28fe2d03d3d8",
      "metadata": {
        "id": "69b1d92d-9c83-4b14-a2a4-28fe2d03d3d8"
      },
      "source": [
        "**Состав if-блока:**\n",
        "\n",
        "- Ключевое слово `if`, с которого и начинается блок кода.\n",
        "- Затем идет `условие`.  \n",
        "Его значение может оцениваться как истинное (True) или ложное (False), то есть это логическое выражение.\n",
        "- `Двоеточие` отделяет условие от следующих за ним инструкций.\n",
        "- Новая строка и `отступ` из 4 пробелов (размер отступа оговорен в соглашениях по стилю Python).\n",
        "- `Тело конструкции`.  \n",
        "Это код, который будет запускаться только в том случае, если наше условие выполняется, т.е. имеет значение True. В теле может быть несколько инструкций. В этом случае нужно быть внимательным: все они должны иметь одинаковый уровень отступа."
      ]
    },
    {
      "cell_type": "markdown",
      "id": "b8a2e442-444d-4b73-813c-33cf1e0e90c1",
      "metadata": {
        "id": "b8a2e442-444d-4b73-813c-33cf1e0e90c1"
      },
      "source": [
        "**Пример**"
      ]
    },
    {
      "cell_type": "markdown",
      "id": "9eaa8c1f-01b9-4320-bdf2-619fa2f0d108",
      "metadata": {
        "id": "9eaa8c1f-01b9-4320-bdf2-619fa2f0d108"
      },
      "source": [
        "- Если температура больше или равна 37 - нужно обратить внимание на свое здоровье. Если логическое выражение вернёт True, оператор if выполнит команды из тела конструкции.  "
      ]
    },
    {
      "cell_type": "code",
      "execution_count": null,
      "id": "f9c4f238-28d5-4cdd-87d2-0237a1bb6c6e",
      "metadata": {
        "tags": [],
        "id": "f9c4f238-28d5-4cdd-87d2-0237a1bb6c6e",
        "outputId": "ab1cf53e-504f-468b-b091-c85fc8a8500b"
      },
      "outputs": [
        {
          "name": "stdout",
          "output_type": "stream",
          "text": [
            "Обратитесь к врачу.\n"
          ]
        }
      ],
      "source": [
        "# линейное выполнение алгоритма\n",
        "temperature = 37.0\n",
        "\n",
        "# условная конструкция\n",
        "if temperature >= 37.0:\n",
        "    print('Обратитесь к врачу.')"
      ]
    },
    {
      "cell_type": "markdown",
      "id": "2bc5e3c1-53bc-4b95-8290-95ad45e6df12",
      "metadata": {
        "id": "2bc5e3c1-53bc-4b95-8290-95ad45e6df12"
      },
      "source": [
        "- Вспомним задачу по поиску максимального объема продаж в списке - в ней мы использовали условный оператор `if`, сравнивая очередной элемент из списка с максимальным значением."
      ]
    },
    {
      "cell_type": "code",
      "execution_count": null,
      "id": "ad33b18f-950a-411f-a617-c77d705cd86d",
      "metadata": {
        "id": "ad33b18f-950a-411f-a617-c77d705cd86d",
        "outputId": "fce871c9-b613-4f10-b255-9df87691548b"
      },
      "outputs": [
        {
          "name": "stdout",
          "output_type": "stream",
          "text": [
            "Максимальный объем продаж: 1320 тонн\n"
          ]
        }
      ],
      "source": [
        "# создаем список\n",
        "sales = [840, 600, 1320, 300, 780, 60, 180]\n",
        "\n",
        "# поиск максимума\n",
        "\n",
        "max_sales = 0\n",
        "for sale in sales:\n",
        "    if sale > max_sales:\n",
        "        max_sales = sale\n",
        "\n",
        "# результат\n",
        "print(f'Максимальный объем продаж: {max_sales} тонн')    "
      ]
    },
    {
      "cell_type": "markdown",
      "id": "7c2777cc-5696-485e-8c4f-5fa9a84cd825",
      "metadata": {
        "id": "7c2777cc-5696-485e-8c4f-5fa9a84cd825"
      },
      "source": [
        "Этот код не пытается описать все возможные случаи. Если логическое выражение вернёт False, ничего не произойдёт: Python просто пропустит код из условной конструкции. Поэтому такую условную конструкцию называют неполной."
      ]
    },
    {
      "cell_type": "markdown",
      "id": "1a7d33c7-cb50-4375-9d5e-3e5747ecab86",
      "metadata": {
        "id": "1a7d33c7-cb50-4375-9d5e-3e5747ecab86"
      },
      "source": [
        "## Конструкция `if-else`"
      ]
    },
    {
      "cell_type": "markdown",
      "id": "08f7c3c9-81c3-4a8a-a2fb-b2236ad3d433",
      "metadata": {
        "id": "08f7c3c9-81c3-4a8a-a2fb-b2236ad3d433"
      },
      "source": [
        "Оператор `if` запускает код только при выполнении условия. Иначе ничего не происходит.  \n",
        "Если же мы хотим, чтобы какая-то часть кода запускалась, когда условие не выполняется, нам нужен еще один оператор – `else`."
      ]
    },
    {
      "cell_type": "markdown",
      "id": "354651dc-8f1b-4f27-8597-52b0000f4f60",
      "metadata": {
        "id": "354651dc-8f1b-4f27-8597-52b0000f4f60"
      },
      "source": [
        "**Синтаксис `if-else`**"
      ]
    },
    {
      "cell_type": "markdown",
      "id": "7fcdd00a-89b7-4752-b831-8c9f6f141a0a",
      "metadata": {
        "id": "7fcdd00a-89b7-4752-b831-8c9f6f141a0a"
      },
      "source": [
        "![image.png](data:image/png;base64,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)"
      ]
    },
    {
      "cell_type": "markdown",
      "id": "8271bfbf-d20e-44cf-a7f1-b09b3ddd7196",
      "metadata": {
        "id": "8271bfbf-d20e-44cf-a7f1-b09b3ddd7196"
      },
      "source": [
        "По сути конструкция `if-else` в Python говорит:\n",
        "\n",
        "«Когда выражение после if оценивается как истинное (True), нужно выполнить следующий за ним код. Но если оно оценивается как ложное (False), нужно выполнить код, следующий за оператором else».  \n",
        "\n",
        "Оператор else записывается на новой строке после последней строки кода с отступом и не может быть записан сам по себе. Оператор else является частью оператора if.  \n",
        "\n",
        "Код, следующий за else, также должен иметь отступ в 4 пробела, чтобы показать, что он является частью конструкции else.  \n",
        "\n",
        "Код, следующий за оператором else, выполняется только тогда, когда условие в if имеет значение False. Если условие в блоке if имеет значение True и, следовательно, запущен код после if, то код в блоке else не запустится.  "
      ]
    },
    {
      "cell_type": "markdown",
      "id": "0c6c5885-00c4-42d4-afcc-847d38cfe3ab",
      "metadata": {
        "id": "0c6c5885-00c4-42d4-afcc-847d38cfe3ab"
      },
      "source": [
        "**Пример**  "
      ]
    },
    {
      "cell_type": "markdown",
      "id": "04c5317a-b1a4-4160-b98d-f9826c8d08e9",
      "metadata": {
        "id": "04c5317a-b1a4-4160-b98d-f9826c8d08e9"
      },
      "source": [
        "- Если температура больше или равна 37 - нужно обратиться к врачу. Если нет - все в порядке,  вы здоровы."
      ]
    },
    {
      "cell_type": "code",
      "execution_count": null,
      "id": "0f5792b9-3a61-459b-a0a0-bfef4e5a5e9c",
      "metadata": {
        "id": "0f5792b9-3a61-459b-a0a0-bfef4e5a5e9c",
        "outputId": "65a1cf9d-7b3b-4a98-e9b9-ec7b54dca696"
      },
      "outputs": [
        {
          "name": "stdout",
          "output_type": "stream",
          "text": [
            "Все в порядке. Вы здоровы.\n"
          ]
        }
      ],
      "source": [
        "# линейное выполнение алгоритма\n",
        "temperature = 36.6\n",
        "\n",
        "# первая ветка кода\n",
        "if temperature >= 37.0:\n",
        "    print('Обратитесь к врачу.')\n",
        "\n",
        "# вторая ветка кода\n",
        "else:\n",
        "    print('Все в порядке. Вы здоровы.')\n"
      ]
    },
    {
      "cell_type": "markdown",
      "id": "e15f54a8-259d-4b74-ace9-a4034a8a49e4",
      "metadata": {
        "id": "e15f54a8-259d-4b74-ace9-a4034a8a49e4"
      },
      "source": [
        "- Сегментируем клиентов по времени совершения последней покупки - если с момента последней покупки прошло меньше 180 дней - \"существующий активный\" , если больше или ровно - \"потенциальный\""
      ]
    },
    {
      "cell_type": "code",
      "execution_count": null,
      "id": "44a22c30-ab71-47a5-8a53-6890d559cc0a",
      "metadata": {
        "id": "44a22c30-ab71-47a5-8a53-6890d559cc0a",
        "outputId": "e39f3c20-c3cd-4dde-fb0b-de4539371836"
      },
      "outputs": [
        {
          "name": "stdout",
          "output_type": "stream",
          "text": [
            "['name_1', 120, 'существующий активный']\n",
            "['name_2', 345, 'потенциальный']\n",
            "['name_3', 284, 'потенциальный']\n",
            "['name_4', 35, 'существующий активный']\n"
          ]
        }
      ],
      "source": [
        "# создадим список списков из наименования клиента \n",
        "# и периода с момента последней покупки (в днях)\n",
        "last_purchase_date = [\n",
        "    ['name_1', 120],\n",
        "    ['name_2', 345],\n",
        "    ['name_3', 284],\n",
        "    ['name_4', 35]\n",
        "]\n",
        "\n",
        "# сегментируем клиентов: если время с последней покупки \n",
        "# меньше 180 дней - \"существующий активный\" , если нет - \"потенциальный\"\n",
        "for name in last_purchase_date:\n",
        "    if name[1] < 180:\n",
        "        name.append('существующий активный') # добавляем элемент в список\n",
        "    else:\n",
        "        name.append('потенциальный')  # добавляем элемент в список\n",
        "        \n",
        "# выведем каждый список из вложенного списка на отдельной строке \n",
        "for name in last_purchase_date:       \n",
        "    print(name)        "
      ]
    },
    {
      "cell_type": "markdown",
      "id": "f7370f8d-e1b3-40cf-9a15-2a6ac59ed2cf",
      "metadata": {
        "id": "f7370f8d-e1b3-40cf-9a15-2a6ac59ed2cf"
      },
      "source": [
        "## Конструкция `if-elif-else`"
      ]
    },
    {
      "cell_type": "markdown",
      "id": "710ad05e-1870-408c-973b-ab7f297864cd",
      "metadata": {
        "id": "710ad05e-1870-408c-973b-ab7f297864cd"
      },
      "source": [
        "Если требуется проверка более одного условия, используем конструкцию `if-elif-else`.  \n",
        "`elif` означает `else + if`."
      ]
    },
    {
      "cell_type": "markdown",
      "id": "34ebf8a2-c749-46aa-91a0-7ecaaffaa33c",
      "metadata": {
        "id": "34ebf8a2-c749-46aa-91a0-7ecaaffaa33c"
      },
      "source": [
        "**Синтаксис `if-elif-else`**"
      ]
    },
    {
      "cell_type": "markdown",
      "id": "4df315df-05a5-47bb-b2bf-2206d6db0cd3",
      "metadata": {
        "id": "4df315df-05a5-47bb-b2bf-2206d6db0cd3"
      },
      "source": [
        "![image.png](data:image/png;base64,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)"
      ]
    },
    {
      "cell_type": "markdown",
      "id": "1e02720e-d066-4a9b-b8e9-782c0bdb413b",
      "metadata": {
        "id": "1e02720e-d066-4a9b-b8e9-782c0bdb413b"
      },
      "source": [
        "**Пример**  "
      ]
    },
    {
      "cell_type": "markdown",
      "id": "22526c6c-e82c-4591-9ef6-7bafff981a5a",
      "metadata": {
        "id": "22526c6c-e82c-4591-9ef6-7bafff981a5a"
      },
      "source": [
        "- Если температура больше или равна 37 - нужно обратиться к врачу, если температура выше 38.5 - вызовите скорую помощь Если нет - все в порядке,  вы здоровы."
      ]
    },
    {
      "cell_type": "code",
      "execution_count": null,
      "id": "03d7a00e-c002-441f-a115-001d36591249",
      "metadata": {
        "id": "03d7a00e-c002-441f-a115-001d36591249",
        "outputId": "49678730-879c-403d-c334-f75c46c3a7a9"
      },
      "outputs": [
        {
          "name": "stdout",
          "output_type": "stream",
          "text": [
            "Вызовите скорую помощь.\n"
          ]
        }
      ],
      "source": [
        "temperature = 39\n",
        "\n",
        "if temperature >= 38.5:\n",
        "    print('Вызовите скорую помощь.')\n",
        "elif temperature >= 37.0:\n",
        "    print('Обратитесь к врачу.')\n",
        "else:\n",
        "    print('Все в порядке. Вы здоровы.')"
      ]
    },
    {
      "cell_type": "markdown",
      "id": "26008da4-444c-40b8-bdd1-b1fbc9d2701d",
      "metadata": {
        "id": "26008da4-444c-40b8-bdd1-b1fbc9d2701d"
      },
      "source": [
        "Ключевое слово elif добавляет ветки в условную конструкцию. Таких веток может быть любое количество. Из них выполнится только одна — та, условие которой исполнилось первым. Остальные ветки будут проигнорированы."
      ]
    },
    {
      "cell_type": "markdown",
      "id": "e1362e42-2339-4684-adeb-220199bab6ba",
      "metadata": {
        "id": "e1362e42-2339-4684-adeb-220199bab6ba"
      },
      "source": [
        "- Есть данные о годовом объеме продаж. Сегментируем клиентов в зависимости от объемов потребления:  \n",
        "    - `<= 60 - массовый сегмент`;  \n",
        "    - `60 - 720 - средний сегмент`;  \n",
        "    - `>= 720 - ключевой сегмент`."
      ]
    },
    {
      "cell_type": "code",
      "execution_count": null,
      "id": "9f16832f-f08a-4600-bf0e-4d79d6ffb08b",
      "metadata": {
        "id": "9f16832f-f08a-4600-bf0e-4d79d6ffb08b",
        "outputId": "a21346ee-efa8-43f5-a562-b385d6372269"
      },
      "outputs": [
        {
          "name": "stdout",
          "output_type": "stream",
          "text": [
            "['name_1', 720, 'ключевой сегмент']\n",
            "['name_2', 60, 'массовый сегмент']\n",
            "['name_3', 240, 'средний сегмент']\n",
            "['name_4', 1200, 'ключевой сегмент']\n"
          ]
        }
      ],
      "source": [
        "# создадим список списков из наименования клиента и годовым объемом продаж\n",
        "year_purchase = [\n",
        "    ['name_1', 720],\n",
        "    ['name_2', 60],\n",
        "    ['name_3', 240],\n",
        "    ['name_4', 1200]\n",
        "]\n",
        "\n",
        "# сегментируем клиентов: \n",
        "    # <= 60 - массовый сегмент;\n",
        "    # 60 - 720 - средний сегмент;\n",
        "    # >= 720 - ключевой сегмент\n",
        "for name in year_purchase:\n",
        "    if name[1] <= 60:\n",
        "        name.append('массовый сегмент') # добавляем элемент в список\n",
        "    elif name[1] >= 720:\n",
        "        name.append('ключевой сегмент') # добавляем элемент в список\n",
        "    else:\n",
        "        name.append('средний сегмент')  # добавляем элемент в список\n",
        "        \n",
        "# выведем каждый список из вложенного списка на отдельной строке \n",
        "for name in year_purchase:       \n",
        "    print(name)        "
      ]
    },
    {
      "cell_type": "markdown",
      "id": "b25b08d7-b9c4-4024-8180-ba95a04c6d3c",
      "metadata": {
        "id": "b25b08d7-b9c4-4024-8180-ba95a04c6d3c"
      },
      "source": [
        "В результате выполнения сегментации определены сегменты клиентов. Создадим для менеджера отдельный список с ключевыми и средними клиентами.   "
      ]
    },
    {
      "cell_type": "code",
      "execution_count": null,
      "id": "6c92f892-8934-4e0a-8858-8d8c43eaf776",
      "metadata": {
        "id": "6c92f892-8934-4e0a-8858-8d8c43eaf776",
        "outputId": "59ecc433-fe60-4d72-b112-e836bbb0588a"
      },
      "outputs": [
        {
          "name": "stdout",
          "output_type": "stream",
          "text": [
            "['name_1', 720, 'ключевой сегмент']\n",
            "['name_3', 240, 'средний сегмент']\n",
            "['name_4', 1200, 'ключевой сегмент']\n"
          ]
        }
      ],
      "source": [
        "# фильтрация строки по ключевым и средним клиентам\n",
        "main_clients = []\n",
        "for name in year_purchase:       \n",
        "    if name[2] == 'ключевой сегмент':\n",
        "        main_clients.append(name)\n",
        "    elif name[2] == 'средний сегмент':\n",
        "        main_clients.append(name)\n",
        "\n",
        "# выведем каждый список из нового вложенного списка на отдельной строке \n",
        "for name in main_clients:       \n",
        "    print(name)        "
      ]
    },
    {
      "cell_type": "markdown",
      "id": "afd74bc0-116b-4a4c-b3d9-3be1a9a81c2f",
      "metadata": {
        "id": "afd74bc0-116b-4a4c-b3d9-3be1a9a81c2f"
      },
      "source": [
        "## Итоги\n",
        "1. В алгоритмах с ветвлением, когда необходима проверка условий для выполнения дальнейших действий, используются:\n",
        "        - оператор `if`: проверка одного условия \n",
        "        - конструкция `if-else`:  проверка двух условий\n",
        "        - Конструкция `if-elif-else`: проверка нескольких условий.  \n",
        "2. Условия в алгоритмах ветвления - логические выражения."
      ]
    },
    {
      "cell_type": "markdown",
      "id": "bdcc338a-c850-4590-8f09-a52fc0546033",
      "metadata": {
        "id": "bdcc338a-c850-4590-8f09-a52fc0546033"
      },
      "source": [
        "## При подготовке конспекта использованы:"
      ]
    },
    {
      "cell_type": "markdown",
      "id": "92ecc46a-cbd9-46ec-8f9d-8b10ebd335fa",
      "metadata": {
        "id": "92ecc46a-cbd9-46ec-8f9d-8b10ebd335fa"
      },
      "source": [
        "1. [if else в Python](https://pythonist.ru/if-else-python/)  \n",
        "2. [Оператор выбора в Python (if else)](https://pythonchik.ru/osnovy/python-if-elif-else)  \n",
        "3. [Виды алгоритмов и типы их схем](https://otus.ru/nest/post/1784/)"
      ]
    }
  ],
  "metadata": {
    "kernelspec": {
      "display_name": "Python 3",
      "language": "python",
      "name": "python3"
    },
    "language_info": {
      "codemirror_mode": {
        "name": "ipython",
        "version": 3
      },
      "file_extension": ".py",
      "mimetype": "text/x-python",
      "name": "python",
      "nbconvert_exporter": "python",
      "pygments_lexer": "ipython3",
      "version": "3.8.8"
    },
    "colab": {
      "provenance": [],
      "include_colab_link": true
    }
  },
  "nbformat": 4,
  "nbformat_minor": 5
}