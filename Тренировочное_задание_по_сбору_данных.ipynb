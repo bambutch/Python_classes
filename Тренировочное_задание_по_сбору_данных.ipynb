{
  "nbformat": 4,
  "nbformat_minor": 0,
  "metadata": {
    "colab": {
      "provenance": [],
      "toc_visible": true,
      "collapsed_sections": [
        "N1UzGf1CtVfa",
        "XFUPJo-qsusT",
        "2kKiYGTFfSpV",
        "cJL8g8Cy96Rd",
        "xGVZmQlN9k8N"
      ],
      "include_colab_link": true
    },
    "kernelspec": {
      "name": "python3",
      "display_name": "Python 3"
    },
    "language_info": {
      "name": "python"
    }
  },
  "cells": [
    {
      "cell_type": "markdown",
      "metadata": {
        "id": "view-in-github",
        "colab_type": "text"
      },
      "source": [
        "<a href=\"https://colab.research.google.com/github/bambutch/python_classes/blob/main/%D0%A2%D1%80%D0%B5%D0%BD%D0%B8%D1%80%D0%BE%D0%B2%D0%BE%D1%87%D0%BD%D0%BE%D0%B5_%D0%B7%D0%B0%D0%B4%D0%B0%D0%BD%D0%B8%D0%B5_%D0%BF%D0%BE_%D1%81%D0%B1%D0%BE%D1%80%D1%83_%D0%B4%D0%B0%D0%BD%D0%BD%D1%8B%D1%85.ipynb\" target=\"_parent\"><img src=\"https://colab.research.google.com/assets/colab-badge.svg\" alt=\"Open In Colab\"/></a>"
      ]
    },
    {
      "cell_type": "markdown",
      "source": [
        "##Большая просьба сдавать работы на проверку, в которых сразу выполнены четыре обязательных задания. "
      ],
      "metadata": {
        "id": "oftpQvqjdgbZ"
      }
    },
    {
      "cell_type": "markdown",
      "source": [
        "##Задание 1. Библиотека VK API"
      ],
      "metadata": {
        "id": "XslJSFkAe5-5"
      }
    },
    {
      "cell_type": "markdown",
      "source": [
        "Напишите код, который получает список названия школ города Кемерово с помощью библиотеки vk_api и записывает результаты в файл JSON."
      ],
      "metadata": {
        "id": "Fv1R9qMftlt9"
      }
    },
    {
      "cell_type": "code",
      "source": [],
      "metadata": {
        "id": "rufJxiJufcPw"
      },
      "execution_count": null,
      "outputs": []
    },
    {
      "cell_type": "markdown",
      "source": [
        "### Возможный алгоритм решения задачи:"
      ],
      "metadata": {
        "id": "v4_ZEnTShH_w"
      }
    },
    {
      "cell_type": "markdown",
      "source": [
        "1.   Получаем токен доступа к API Вконтакте\n",
        "2.   Инициализируем сессию библиотеки VK_API с помощью токена доступа\n",
        "3. Получаем доступ с помощью VK_API к API «ВКонтакте» методом get_api\n",
        "4. Следуя методу из документации для получения городов и используя библиотеку VK_API, составляем запрос на получение информации о городе «Кемерово» и получаем его id из ответа на запрос\n",
        "5. Следуя методу из документации для получения школ и используя библиотеку VK_API, составляем запрос на получение информации о школах города «Кемерово» (по найденному id) и получаем список названия школ\n",
        "10. Конкретный формат не указан, поэтому создаем JSON с удобными ключами.<br>Например: result: {schools: [...]}\n",
        "11. Записываем созданный  словарик  в файл с форматом JSON \n",
        "\n",
        "\n",
        "\n"
      ],
      "metadata": {
        "id": "oYJIXxVOBmHk"
      }
    },
    {
      "cell_type": "markdown",
      "source": [
        "##Задание 2. Запись данных в CSV формат"
      ],
      "metadata": {
        "id": "N1UzGf1CtVfa"
      }
    },
    {
      "cell_type": "markdown",
      "source": [
        "С помощью методов API «ВКонтакте» получите 1000 подписчиков группы «Лентач», отсортирванных по дате регистрации.\n",
        "\n",
        "Вам необходимо собрать следующие данные в CSV файл: пол, название город, семейное положение (ФИО партнера не указывать)."
      ],
      "metadata": {
        "id": "Rg-gNSTzfA7R"
      }
    },
    {
      "cell_type": "code",
      "source": [],
      "metadata": {
        "id": "eSslPXrGfDRb"
      },
      "execution_count": null,
      "outputs": []
    },
    {
      "cell_type": "markdown",
      "source": [
        "### Возможный алгоритм решения задачи:"
      ],
      "metadata": {
        "id": "6rKWxkGBhRvH"
      }
    },
    {
      "cell_type": "markdown",
      "source": [
        "1. Получаем токен доступа к API Вконтакте\n",
        "2. Инициализируем сессию библиотеки VK_API с помощью токена доступа\n",
        "3. Получаем доступ с помощью VK_API к API вконтакте методом get_api\n",
        "4. Следуя методу из документации для получения сообществ и используя библиотеку VK_API, составляем запрос на получение информации о сообществе «Лентач» и получаем его id из ответа на запрос\n",
        "5. Следуя методу (getMembers) из документации для получения участников сообщества и используя библиотеку VK_API, составляем запрос на получение информации о участниках сообщества «Лентач» (по найденному id) и получаем пол, город и СП каждого из участников\n",
        "6. С помощью CSV библиотеки записываем полученные данные в файл с форматом csv\n",
        "\n",
        "\n",
        "\n"
      ],
      "metadata": {
        "id": "yHNVe0qbDCbP"
      }
    },
    {
      "cell_type": "markdown",
      "source": [
        "##Задание 3. Скрещиваем Selenium и BeautifulSoup"
      ],
      "metadata": {
        "id": "XFUPJo-qsusT"
      }
    },
    {
      "cell_type": "markdown",
      "source": [
        "Соберите информацию с сайта nbcomputers.ru (https://www.nbcomputers.ru/catalog/noutbuki/) о ноутбуках данного интернет-магазина.\n",
        "<br>\n",
        "Данные, которые необходимы:\n",
        "* Название ноутбука\n",
        "* Цена ноутбука\n",
        "* Код товара\n",
        "\n",
        "Результат необходимо записать в CSV файл.\n",
        "<br>\n",
        "*(совет: обязательно делайте различные временные промежутки между прокликами)*"
      ],
      "metadata": {
        "id": "9O8NOJs51u8K"
      }
    },
    {
      "cell_type": "code",
      "source": [],
      "metadata": {
        "id": "ORwgF2mYffFf"
      },
      "execution_count": null,
      "outputs": []
    },
    {
      "cell_type": "markdown",
      "source": [
        "### Возможный алгоритм решения задачи в Colab (простой):"
      ],
      "metadata": {
        "id": "wLgQzytJh7V_"
      }
    },
    {
      "cell_type": "markdown",
      "source": [
        "Возможный алгоритм решения задачи в коллабе (простой):\n",
        "1. Установливаем параметры для headless браузера\n",
        "2. Инициализацируем сессию браузера\n",
        "3. Переходим по данной ссылке\n",
        "4. Устанавливаем неявное ожидание\n",
        "5. Инициализируем явное ожидание для нажатия на кнопку \"Больше\"\n",
        "6. С помощью бесконечного цикла жмем на кнопку методом click, пока она кликабельна  (ну и не забываем про селектор)\n",
        "4. Оборачиваем все в trt except.Когда вылетит с ошибкой того, что кнопка не кликабельна => прогрузили все карточки\n",
        "\n",
        "5. С помощью BS находим блок карточек\n",
        "6. Поочереднно собираем необходимые данные с карточки\n",
        "7. Записываем все в файл с форматом csv, используя CSV библиотеку\n",
        "\n"
      ],
      "metadata": {
        "id": "TfOWoc4glonj"
      }
    },
    {
      "cell_type": "markdown",
      "source": [
        "##Задание 4. Фреймворк Scrapy"
      ],
      "metadata": {
        "id": "2kKiYGTFfSpV"
      }
    },
    {
      "cell_type": "markdown",
      "source": [
        "Соберите информацию о заквасках с сайта pro-syr.ru (https://pro-syr.ru/zakvaski-dlya-syra/mezofilnye/)\n",
        "\n",
        "Необходимо собрать следующие данные:\n",
        "* Название продукта\n",
        "* Цена\n",
        "* Есть ли продукт в наличии\n",
        "\n",
        "Результат должен быть записан в CSV файл"
      ],
      "metadata": {
        "id": "A6UOPxtk563f"
      }
    },
    {
      "cell_type": "code",
      "source": [],
      "metadata": {
        "id": "0zUq-Xwlfgjn"
      },
      "execution_count": null,
      "outputs": []
    },
    {
      "cell_type": "markdown",
      "source": [
        "### Возможный алгоритм решения задачи:"
      ],
      "metadata": {
        "id": "Bp_AOQKphZDX"
      }
    },
    {
      "cell_type": "markdown",
      "source": [
        "1. Инициализируем проект SCRAPY\n",
        "2. В папке spiders создаем своего паука\n",
        "3. Создаем класс с пауком и наследуемся от scrapy.Spider\n",
        "4. Называем паука так же, как и класс\n",
        "5. Указываем стартовую ссылку\n",
        "6. Создаем функцию парсинга карточки, где описываем получение данных из карточки в словарь (название, цена и запас). Возвращаем обратно словарь через yield.\n",
        "7. Создаем функцию parse — основую логику перехода по ссылкам\n",
        "8. Получаем ссылки на каждую карточек текущей страницы\n",
        "9. Циклом проходимся по каждой и собираем данные через ранне коллбек функцию\n",
        "10. Дальше в функции parse расписываем переход на следующую страницу. Для этого находим в пагинации ссылку на следующую страницу  и переходим на нее до тех пор, пока она не закончится.\n",
        "11. В командной строке переходим в папку с проектом scrapy (%cd <название проекта>/) \n",
        "12. В командной строке пишем команду !scrapy runspider <название паука или путь до него из папки с проектом> -o <Название файла с форматом csv, куда будет записан результат парсинга>\n",
        "\n",
        "\n",
        "Не забывайте пользоваться scrapy shell!"
      ],
      "metadata": {
        "id": "s2id-iqTmngO"
      }
    },
    {
      "cell_type": "markdown",
      "source": [
        "# **Дополнительно (по желанию)**"
      ],
      "metadata": {
        "id": "uKGJfcM39R62"
      }
    },
    {
      "cell_type": "markdown",
      "source": [
        "##Задание. Собираем данные с помощью Requests"
      ],
      "metadata": {
        "id": "cJL8g8Cy96Rd"
      }
    },
    {
      "cell_type": "markdown",
      "source": [
        "С помощью методов API ВКонтакте получите список высших учебных заведений и названия их факультетов в городе Томск.\n",
        "Результат должен быть записан в файл JSON в следующем формате:"
      ],
      "metadata": {
        "id": "MgvkdXgsex5B"
      }
    },
    {
      "cell_type": "code",
      "execution_count": null,
      "metadata": {
        "id": "UiF3TeikBTrD"
      },
      "outputs": [],
      "source": [
        "\"result\": {\n",
        "  \"cities\": [\n",
        "    {   \n",
        "        \"id\": <ID города>,\n",
        "        \"name\": <Название города>,\n",
        "        \"universites\": [\n",
        "            {\n",
        "              \"id\": <ID ВУЗа>, \n",
        "              \"name\": <Название ВУЗа>\n",
        "              \"faculties\": [<Название факультета>, …]\n",
        "            },\n",
        "            ...\n",
        "        ]\n",
        "    },\n",
        "    ...\n",
        "}"
      ]
    },
    {
      "cell_type": "code",
      "source": [],
      "metadata": {
        "id": "RbPFOD0999QA"
      },
      "execution_count": null,
      "outputs": []
    },
    {
      "cell_type": "markdown",
      "source": [
        "### Возможный алгоритм решения задачи:"
      ],
      "metadata": {
        "id": "eQ8qxWmA-GlI"
      }
    },
    {
      "cell_type": "markdown",
      "source": [
        "1.   Получаем токен доступа к API Вконтакте\n",
        "2.   Настраиваем подключение к API Вконтакте  и устанавливаем базовые параметры (токен и версия) GET запроса\n",
        "\n",
        "---\n",
        "\n",
        "3. Следуя методу из документации для получения городов и используя библиотеку requests, составляем запрос на получение информации о городе «Томск» и получаем его id и название из ответа на запрос\n",
        "\n",
        "---\n",
        "4. Следуя методу из документации для получения университетов и используя библиотеку requests, составляем запрос на получение информации о университетах города «Томск» (по найденному id) и получаем список университетов\n",
        "5. Из полученного списка университетов получаем id и название каждого\n",
        "6. Список id и названия университетов записываем в словарь с информацией о найденном городе под ключем 'universites'\n",
        "---\n",
        "\n",
        "7. Находим метод получения факультетов университета в документации API Вконтакте\n",
        "8. Через цикл по каждому id университета, составляем запрос на получение информации о факультете университета (по найденному id) и получаем список названий факультетов\n",
        "9. В этом же цикле записываем под ключем 'faculties' полученный список\n",
        "---\n",
        "10. Создаем финальный словарь с ключем 'result', значение которого будет еще один словарь 'cities' со значением созданного нами словаря с информацией о городе-университетах-факультетах\n",
        "11. Записываем наш словарь в  файл с форматом JSON\n",
        "\n",
        "\n",
        "\n"
      ],
      "metadata": {
        "id": "1DiivPHK833t"
      }
    },
    {
      "cell_type": "markdown",
      "source": [
        "Пример решения задачи-аналога: https://colab.research.google.com/drive/1kvqcs1R8oRueCa_EajNXdV4w1qr6DCgA?usp=sharing"
      ],
      "metadata": {
        "id": "dI54GXxV-6rp"
      }
    },
    {
      "cell_type": "markdown",
      "source": [
        "##Задание. Библиотека BeautifulSoup"
      ],
      "metadata": {
        "id": "xGVZmQlN9k8N"
      }
    },
    {
      "cell_type": "markdown",
      "source": [
        "Написать код, который соберет список знаменательных дат в формате «чисто месяц год» с первой страницы сайта GCTC.ru (https://www.gctc.ru/main.php?id=98.1)"
      ],
      "metadata": {
        "id": "EvfKn3WArL8X"
      }
    },
    {
      "cell_type": "code",
      "source": [],
      "metadata": {
        "id": "Sdn8-Ot-9eSY"
      },
      "execution_count": null,
      "outputs": []
    },
    {
      "cell_type": "markdown",
      "source": [
        "### Возможный алгоритм решения задачи:"
      ],
      "metadata": {
        "id": "Z5fdkDqd9qq8"
      }
    },
    {
      "cell_type": "markdown",
      "source": [
        "1. Устанавливаем bs4\n",
        "2. Здесь lxml неправильно декодирует html в дерево супа (это можно узнать путем проб и ошибок)\n",
        "3. Устанавливаем любой другой парсер и проверяем, что он нормально декодирует (html5lib подходит)\n",
        "\n",
        "4. С помощью requests инициализируем сессию, используя указанную ссылку, и устанавливем заголовки\n",
        "5. Получаем из проинициализированной сессии text и варим суп\n",
        "6. Получаем главный блок с помощью селектора из которого нужно достать данные\n",
        "7. Получаем все теги h2, которые содержат год \n",
        "8. Создаем результативный массив и в цикле по каждому тегу h2 будем записывать в него полученный результат\n",
        "9. В цикле обрезаем .г у года, Получаем ОДИН h1, который был до div.news h2 с помощью метода find_previous (это и есть день и месяц события)\n",
        "10. Получаем дату+месяц, где первые два символа это день, а остальные символы это название месяца\n",
        "11. Записываем все в результативный массив\n",
        "\n",
        "\n",
        "Не забываем все обернуть в try except и проверять с помощью raise_for_status"
      ],
      "metadata": {
        "id": "ar3LJKizE3E7"
      }
    },
    {
      "cell_type": "markdown",
      "source": [
        "##Задание. Библиотека Selenium"
      ],
      "metadata": {
        "id": "4refkAJceIVx"
      }
    },
    {
      "cell_type": "markdown",
      "source": [
        "Написать код, который выполнит ввод слова «Lenovo» в поисковую строку сайта  nbcomputers.ru (https://www.nbcomputers.ru/) и начнет поиск\n",
        "<br>\n",
        "<br>\n",
        "![Поиск.png](data:image/png;base64,iVBORw0KGgoAAAANSUhEUgAAApQAAAAyCAYAAADiFUvmAAAAAXNSR0IArs4c6QAAAARnQU1BAACxjwv8YQUAAAAJcEhZcwAADsMAAA7DAcdvqGQAAATUSURBVHhe7d3PalNZHMDxeYx5CH2eER/CheAM6GIWA8K8jOAMwiy0MdQQSo2xtknHli7aGvtvNEiQtJTym3uSmzZm0iblitPYzwcO7UnvbaGrL+fck/wQAABQgKAEAKAQQQkAQCGCEgCAQgQlAACFTAzKR1ut+OnFYtx4Mhc/PvrLMAzDMAzDuCYj9d+trAMfb+/kZTjehUH5c70R916tRGn3IPa7h/mrAABcB6n/5rIOvFtbjgevm/mr/3VuUP6SxeTvzfV8BgDAdfawsRb3z4nKsUH56N1O3Kuv5DMAAIi4+2olHmedOGpsUKZnJkt7/+QzAACIeLp7ELcrL/PZmbFBmR7A3D88ymcAABCx1z2Mm1knjhoblOlUDwAAjBrXiYISAICpCUoAAAoRlAAAFCIoAQAoRFACAHzHPn78GEtLS1Eul+PZs2e9r81mM7rdbn5FcYISAOA7dHx83AvHFJHPnz+PWq0Wa2trva/ptTS2trbyq4v5xkHZjkalFKXaZj4fthm1UikqjXY+n0Yr6uX5WNo5zv5rO7E0X4radv4jAIBrrNFo9KIxfU1xOSytTg7C8mtE5YwHZfYPaS1FJbuvlI35+mZ8vcVbAIDZlLa5BzF5kYWFhd4WeNHt75kPSgAAvpSemUzb3KMrk6MG4Vl0lfJKB+VxeyPq1XJv9bG3ArnYiJ3TgO5fP/yrjrZrUR681m6crlyOjv7fmHA/AMCMGjwzOY3LXHueqxuURxuxmObLrWh3j+LoUyuW072LG9H/RPGRIDxJz1P2g3H012/WstcrjeyvD5v+fgCAWZJWHdMBnGmkmJzNoMyi7bxxGpQnR/G58zmOTvrTpN2oDIXhcBCexN7yfJSq1aievnZmclBefD8AwCy57Apl2iIv4v8JysX16HQ6I2O9vyI5tOXd3VmN2tCWd2+MCcqTD2l7uxKr7ZFVx9ykoJx0PwDALBmc8J502Ob9+/ff+TOUnbdRLZWj2mhFJ3+edPwKZTtWs99ZaXyIky9WHc9cHJST7wcAmCUpJFMoXrRKmQ7sVCqVqQ7vTHJ1g3KzFqVSLXv1zIcxQVmtVqM0vxx7va3xywflNPcDAMyatOqYojK9NVA6zT1sf3+/F5Pp50W3u5OrG5QHyzGf5ulQTqcTBxu13rxUrkerd0H/+lKpHPXW4EHLywflNPcDAMyiFJVpBTKFY3q/ybRiOfgIxsGzk+n79Ik6RVzdoIyT+LRZj0p+8rpcqcfm6mL2/UKs9455968v17bzU9/J5YNymvsBAGZV2v5OYTk4zZ0iMs0H29yD5y2LROU3DkoAAK6aolEpKAEAOI3Kad+/cpigBACgJ0VlOsRzWYISAIBCBCUAAIUISgAAChGUAAAUIigBAChEUAIAUIigBACgkKmD8saTudg/PPuQQgAA2Osexs2sE0eNDcpbLxZjbvcgnwEAQMTTrA9vV17mszNjg/Lxu524W1vJZwAAEHHn5Zv4s7Wbz86MDcrkwVIzHjbX8xkAANfZbytv49c3f+ezL50blMn9183eSmVa3kx75gAAXB+p/1IH3qktnxuTyYVBmfzxbqe3V54ewEynegzDMAzDMIzrMVL/pQ4ct809bGJQAgDARQQlAACFCEoAAAoRlAAAFCIoAQAoIOJfo8wRgBFQ9M8AAAAASUVORK5CYII=)\n",
        "\n",
        "*(подсказка: изучите внимательно документацию и методы wait.until, click или send_keys)*"
      ],
      "metadata": {
        "id": "6JTr57BPdOpA"
      }
    },
    {
      "cell_type": "code",
      "source": [],
      "metadata": {
        "id": "ePDfEe4YeMea"
      },
      "execution_count": null,
      "outputs": []
    },
    {
      "cell_type": "markdown",
      "source": [
        "### Возможный алгоритм решения задачи:"
      ],
      "metadata": {
        "id": "fjaTZHAIeLRB"
      }
    },
    {
      "cell_type": "markdown",
      "source": [
        "Возможный алгоритм решения задачи в коллабе (простой):\n",
        "1. Установливаем параметры для headless браузера\n",
        "2. Инициализацируем сессию браузера\n",
        "3. Переходим по данной ссылке\n",
        "4. Находим элемент по селектору\n",
        "5. С помощью метода send_keys и \\n в конце строки (\\n имитирует нажатие кнопки Enter) выполняем поиск\n",
        "\n",
        "Более сложный  и верный с использованием ожиданий\n"
      ],
      "metadata": {
        "id": "x0ngTW2zjv7A"
      }
    }
  ]
}