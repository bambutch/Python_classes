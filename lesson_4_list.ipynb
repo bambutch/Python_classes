{
  "cells": [
    {
      "cell_type": "markdown",
      "metadata": {
        "id": "view-in-github",
        "colab_type": "text"
      },
      "source": [
        "<a href=\"https://colab.research.google.com/github/bambutch/python_classes/blob/main/lesson_4_list.ipynb\" target=\"_parent\"><img src=\"https://colab.research.google.com/assets/colab-badge.svg\" alt=\"Open In Colab\"/></a>"
      ]
    },
    {
      "cell_type": "markdown",
      "id": "de294214-4690-4cf8-b445-b91941450c32",
      "metadata": {
        "id": "de294214-4690-4cf8-b445-b91941450c32"
      },
      "source": [
        "# Конспект 4"
      ]
    },
    {
      "cell_type": "markdown",
      "id": "bf23f35f-063f-4f39-a7b3-37220bf72ca8",
      "metadata": {
        "id": "bf23f35f-063f-4f39-a7b3-37220bf72ca8"
      },
      "source": [
        "# Списки: устройство, методы и преобразования"
      ]
    },
    {
      "cell_type": "markdown",
      "id": "98149379-5a07-4c6e-9410-ca0fe2e71f50",
      "metadata": {
        "id": "98149379-5a07-4c6e-9410-ca0fe2e71f50"
      },
      "source": [
        "В данном уроке мы:  \n",
        "- узнаем тип данных - список;\n",
        "- научимся создавать списки;  \n",
        "- познакомимся с базовыми операциями при работе со списками (len(), индексы, срезы, сложение, умножение);  \n",
        "- посмотрим, как работать с некоторыми методами списков (добавление и удаление элементов, сортировка, поиск элемента по индексу); \n",
        "- научимся преобразовывать строки в списки и обратно."
      ]
    },
    {
      "cell_type": "markdown",
      "id": "0661bc0c-a3e9-4b05-a8cc-03871a000112",
      "metadata": {
        "id": "0661bc0c-a3e9-4b05-a8cc-03871a000112"
      },
      "source": [
        "**Список (list)** - последовательность значений - **элементов** (elements, items).   \n",
        "Значения в списке могут быть любого типа - числа, строки, объекты datetime (с ним вы познакомитесь позднее - при изучении библиотеки Pandas) и т.д.\n"
      ]
    },
    {
      "cell_type": "markdown",
      "id": "707e71dd-9cd2-4dad-a2bb-e0f2cbe63142",
      "metadata": {
        "id": "707e71dd-9cd2-4dad-a2bb-e0f2cbe63142"
      },
      "source": [
        "## Создание списка"
      ]
    },
    {
      "cell_type": "markdown",
      "id": "ef423fc3-0ef1-4514-88e5-ce424b1014ab",
      "metadata": {
        "id": "ef423fc3-0ef1-4514-88e5-ce424b1014ab"
      },
      "source": [
        "Самый простой способ создать (объявить) список:   \n",
        "заключить элементы в квадратные скобки."
      ]
    },
    {
      "cell_type": "markdown",
      "id": "1f696858-0b36-41a5-9837-700dcf57006a",
      "metadata": {
        "id": "1f696858-0b36-41a5-9837-700dcf57006a"
      },
      "source": [
        "### Пример"
      ]
    },
    {
      "cell_type": "markdown",
      "id": "dea2edb0-f61b-4434-bfa0-000a44e41ada",
      "metadata": {
        "id": "dea2edb0-f61b-4434-bfa0-000a44e41ada"
      },
      "source": [
        "![image.png](data:image/png;base64,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)"
      ]
    },
    {
      "cell_type": "code",
      "execution_count": null,
      "id": "e96acd5e-5cf2-4639-9d76-df883f133c4d",
      "metadata": {
        "id": "e96acd5e-5cf2-4639-9d76-df883f133c4d",
        "outputId": "8d6cf9e8-8bec-4243-8678-5d8be8927542"
      },
      "outputs": [
        {
          "name": "stdout",
          "output_type": "stream",
          "text": [
            "['Новоярославская', 'Яничкино', 'Комбинатская']\n",
            "<class 'list'>\n"
          ]
        }
      ],
      "source": [
        "# создание списка с помощью []\n",
        "stations = ['Новоярославская', 'Яничкино', 'Комбинатская']\n",
        "print(stations)\n",
        "print(type(stations))"
      ]
    },
    {
      "cell_type": "markdown",
      "id": "650b067e-53e9-48c1-9b08-b4c20f8eb53e",
      "metadata": {
        "id": "650b067e-53e9-48c1-9b08-b4c20f8eb53e"
      },
      "source": [
        "В данном списке все элементы имеют строковый тип."
      ]
    },
    {
      "cell_type": "code",
      "execution_count": null,
      "id": "581368d5-4157-4350-9d49-998ca4f2ba54",
      "metadata": {
        "id": "581368d5-4157-4350-9d49-998ca4f2ba54",
        "outputId": "e2b52919-f894-4698-918d-5b0a80a494a2"
      },
      "outputs": [
        {
          "data": {
            "text/plain": [
              "[821.1, 597.253, 1321.002]"
            ]
          },
          "execution_count": 2,
          "metadata": {},
          "output_type": "execute_result"
        }
      ],
      "source": [
        "# создание списка с числовым типом данных\n",
        "[821.1, 597.253, 1321.002]"
      ]
    },
    {
      "cell_type": "code",
      "execution_count": null,
      "id": "0920846e-7cb5-47e5-bca0-f9fb313f5dd6",
      "metadata": {
        "id": "0920846e-7cb5-47e5-bca0-f9fb313f5dd6",
        "outputId": "28392076-9672-4955-a757-14fde249f925"
      },
      "outputs": [
        {
          "data": {
            "text/plain": [
              "['АИ-92', 'ст. Новоярославская', 'ЯНОС', 821.1]"
            ]
          },
          "execution_count": 3,
          "metadata": {},
          "output_type": "execute_result"
        }
      ],
      "source": [
        "# создание списка со смешанными типами данных\n",
        "['АИ-92', 'ст. Новоярославская', 'ЯНОС', 821.1]"
      ]
    },
    {
      "cell_type": "code",
      "execution_count": null,
      "id": "20ce831c-0e8a-4249-bf60-90e13c7d72b2",
      "metadata": {
        "id": "20ce831c-0e8a-4249-bf60-90e13c7d72b2",
        "outputId": "ca3eb1c1-b045-425f-c881-bf87f4faa6ab"
      },
      "outputs": [
        {
          "name": "stdout",
          "output_type": "stream",
          "text": [
            "[]\n",
            "<class 'list'>\n"
          ]
        }
      ],
      "source": [
        "# создание пустого списка\n",
        "empty_list = []\n",
        "print(empty_list)\n",
        "print(type(empty_list))"
      ]
    },
    {
      "cell_type": "code",
      "execution_count": null,
      "id": "af888b5e-a009-44a6-91f6-4ab66c637125",
      "metadata": {
        "id": "af888b5e-a009-44a6-91f6-4ab66c637125",
        "outputId": "39b3c881-d600-4621-d082-656bdefb467f"
      },
      "outputs": [
        {
          "data": {
            "text/plain": [
              "range"
            ]
          },
          "execution_count": 5,
          "metadata": {},
          "output_type": "execute_result"
        }
      ],
      "source": [
        "type(range(5))"
      ]
    },
    {
      "cell_type": "markdown",
      "id": "d2448adb-4283-4815-af84-2cd1fcba0b31",
      "metadata": {
        "id": "d2448adb-4283-4815-af84-2cd1fcba0b31"
      },
      "source": [
        "## Базовые операции со списками\n"
      ]
    },
    {
      "cell_type": "markdown",
      "id": "52e94ca1-ad93-49c6-9a2b-95bbdd14c9bc",
      "metadata": {
        "id": "52e94ca1-ad93-49c6-9a2b-95bbdd14c9bc"
      },
      "source": [
        "### Длина списка"
      ]
    },
    {
      "cell_type": "markdown",
      "id": "16449e58-16d9-4c0c-9f41-d6e26e684606",
      "metadata": {
        "id": "16449e58-16d9-4c0c-9f41-d6e26e684606"
      },
      "source": [
        "**Длина списка** - количество элементов в списке.  \n",
        "Узнать длину списка, как и в случае со строками, поможет функция `len()`."
      ]
    },
    {
      "cell_type": "code",
      "execution_count": null,
      "id": "2d9ce5cb-61a1-454e-90d5-e76a7b9f20ec",
      "metadata": {
        "id": "2d9ce5cb-61a1-454e-90d5-e76a7b9f20ec",
        "outputId": "dd4b60d4-c719-4296-cba4-21d224d17da4"
      },
      "outputs": [
        {
          "name": "stdout",
          "output_type": "stream",
          "text": [
            "4\n"
          ]
        }
      ],
      "source": [
        "sales_yanos = ['АИ-92', 'ст. Новоярославская', 'ЯНОС', 821.1]\n",
        "print(len(sales_yanos))"
      ]
    },
    {
      "cell_type": "markdown",
      "id": "db11ae22-5c33-431f-a9d0-8dff05fae970",
      "metadata": {
        "id": "db11ae22-5c33-431f-a9d0-8dff05fae970"
      },
      "source": [
        "Вспомним о форматировании с помощью f-строк и выведем результат \"красиво\"."
      ]
    },
    {
      "cell_type": "code",
      "execution_count": null,
      "id": "893d1bb6-a88e-4934-9169-96ce84a4c135",
      "metadata": {
        "id": "893d1bb6-a88e-4934-9169-96ce84a4c135",
        "outputId": "2007c130-57b0-4a5a-eacf-4429d6245d39"
      },
      "outputs": [
        {
          "data": {
            "text/plain": [
              "'Длина списка sales_yanos 4 элемета'"
            ]
          },
          "execution_count": 7,
          "metadata": {},
          "output_type": "execute_result"
        }
      ],
      "source": [
        "f'Длина списка sales_yanos {len(sales_yanos)} элемета'"
      ]
    },
    {
      "cell_type": "markdown",
      "id": "4a6947c0-1b1a-4921-9110-c734e34145d3",
      "metadata": {
        "id": "4a6947c0-1b1a-4921-9110-c734e34145d3"
      },
      "source": [
        "### Индексы"
      ]
    },
    {
      "cell_type": "markdown",
      "id": "e6756ead-178c-488c-ac64-ddf4147ecec0",
      "metadata": {
        "id": "e6756ead-178c-488c-ac64-ddf4147ecec0"
      },
      "source": [
        "Каждый элемент в списке имеет свой порядковый номер (индекс).\n",
        "Нумерация элементов в списке начинается с 0."
      ]
    },
    {
      "cell_type": "markdown",
      "id": "96a0e53a-1d8c-466b-a990-dee271377b13",
      "metadata": {
        "id": "96a0e53a-1d8c-466b-a990-dee271377b13"
      },
      "source": [
        "Индексы также могут быть указаны с отрицательными числами: в этом случае индексация происходит с конца списка в обратном направлении. -1 относится к последнему элементу."
      ]
    },
    {
      "cell_type": "markdown",
      "id": "175ac6f7-193f-4add-95eb-305946e4f6b6",
      "metadata": {
        "id": "175ac6f7-193f-4add-95eb-305946e4f6b6"
      },
      "source": [
        "#### Пример"
      ]
    },
    {
      "cell_type": "code",
      "execution_count": null,
      "id": "30cbb497-1975-4919-8ef7-a2c4862dd703",
      "metadata": {
        "id": "30cbb497-1975-4919-8ef7-a2c4862dd703"
      },
      "outputs": [],
      "source": [
        "# формируем список с параметрами отгрузки [товар, станция, план, факт, цена]\n",
        "sales_kombinatskaya = ['АИ-92', 'ст. Комбинатская', 'ОНПЗ', 1320, 1321.002, 36690]"
      ]
    },
    {
      "cell_type": "code",
      "execution_count": null,
      "id": "1d9b2565-0b77-4398-9924-d08306950760",
      "metadata": {
        "id": "1d9b2565-0b77-4398-9924-d08306950760",
        "outputId": "83653c6c-f570-4613-db4a-ceef62f4088c"
      },
      "outputs": [
        {
          "name": "stdout",
          "output_type": "stream",
          "text": [
            "АИ-92\n"
          ]
        }
      ],
      "source": [
        "# элемент списка с индексом 0\n",
        "print(sales_kombinatskaya[0])"
      ]
    },
    {
      "cell_type": "code",
      "execution_count": null,
      "id": "d1c36cdd-47d8-42db-bc53-e4a60077a7c5",
      "metadata": {
        "id": "d1c36cdd-47d8-42db-bc53-e4a60077a7c5",
        "outputId": "660eb440-9a77-49f5-e29e-b13d5ecf671e"
      },
      "outputs": [
        {
          "name": "stdout",
          "output_type": "stream",
          "text": [
            "1321.002\n"
          ]
        }
      ],
      "source": [
        "# элемент списка с индексом 4\n",
        "print(sales_kombinatskaya[4])"
      ]
    },
    {
      "cell_type": "code",
      "execution_count": null,
      "id": "1e3c9b97-a253-4989-b277-42497809655a",
      "metadata": {
        "id": "1e3c9b97-a253-4989-b277-42497809655a",
        "outputId": "f5c17d86-0820-4c20-fbac-dd7587398ec7"
      },
      "outputs": [
        {
          "name": "stdout",
          "output_type": "stream",
          "text": [
            "36690\n"
          ]
        }
      ],
      "source": [
        "# элемент списка с индексом -1\n",
        "print(sales_kombinatskaya[-1])"
      ]
    },
    {
      "cell_type": "markdown",
      "id": "affc20fb-e942-4eb9-9d8c-16d27e7b4c22",
      "metadata": {
        "id": "affc20fb-e942-4eb9-9d8c-16d27e7b4c22"
      },
      "source": [
        "### IndexError"
      ]
    },
    {
      "cell_type": "markdown",
      "id": "3461cf5a-d22b-4543-90f5-e561b37f7d44",
      "metadata": {
        "id": "3461cf5a-d22b-4543-90f5-e561b37f7d44"
      },
      "source": [
        "Если обратиться к несуществующему в списке индексу - получим ошибку `IndexError`.  \n",
        "Индекс списка находится вне диапазона."
      ]
    },
    {
      "cell_type": "code",
      "execution_count": null,
      "id": "a1ae2140-ed25-43a6-bfaf-a75f1edad4f4",
      "metadata": {
        "id": "a1ae2140-ed25-43a6-bfaf-a75f1edad4f4",
        "outputId": "afbe828f-a08a-49c6-e450-475b5fd23b92"
      },
      "outputs": [
        {
          "ename": "IndexError",
          "evalue": "list index out of range",
          "output_type": "error",
          "traceback": [
            "\u001b[1;31m---------------------------------------------------------------------------\u001b[0m",
            "\u001b[1;31mIndexError\u001b[0m                                Traceback (most recent call last)",
            "\u001b[1;32m<ipython-input-12-dd288443614a>\u001b[0m in \u001b[0;36m<module>\u001b[1;34m\u001b[0m\n\u001b[0;32m      3\u001b[0m \u001b[1;33m\u001b[0m\u001b[0m\n\u001b[0;32m      4\u001b[0m \u001b[1;31m# обращение к несуществующему элементу\u001b[0m\u001b[1;33m\u001b[0m\u001b[1;33m\u001b[0m\u001b[1;33m\u001b[0m\u001b[0m\n\u001b[1;32m----> 5\u001b[1;33m \u001b[0mprint\u001b[0m\u001b[1;33m(\u001b[0m\u001b[0msales_kombinatskaya\u001b[0m\u001b[1;33m[\u001b[0m\u001b[1;36m6\u001b[0m\u001b[1;33m]\u001b[0m\u001b[1;33m)\u001b[0m\u001b[1;33m\u001b[0m\u001b[1;33m\u001b[0m\u001b[0m\n\u001b[0m",
            "\u001b[1;31mIndexError\u001b[0m: list index out of range"
          ]
        }
      ],
      "source": [
        "# список с параметрами отгрузки [товар, станция, план, факт, цена]\n",
        "sales_kombinatskaya = ['АИ-92', 'ст. Комбинатская', 'ОНПЗ', 1320, 1321.002, 36690]\n",
        "\n",
        "# обращение к несуществующему элементу\n",
        "print(sales_kombinatskaya[6])"
      ]
    },
    {
      "cell_type": "markdown",
      "id": "6be06e07-9447-4420-9d56-77fe57f938ba",
      "metadata": {
        "id": "6be06e07-9447-4420-9d56-77fe57f938ba"
      },
      "source": [
        "### Срезы"
      ]
    },
    {
      "cell_type": "markdown",
      "id": "17ca6caf-989c-464c-a87d-4e0e655b7e24",
      "metadata": {
        "id": "17ca6caf-989c-464c-a87d-4e0e655b7e24"
      },
      "source": [
        "Если нам интересна лишь определенная часть нашего списка - стоит взять его **срез**, чтобы получить нужную часть элементов.  \n",
        "Чтобы сделать срез, используем следующую конструкцию:  **list[start : stop : step]**    \n",
        "Срез берется от индекса `start` (включительно) и до индекса `stop` (не включая его), с шагом `step`.   "
      ]
    },
    {
      "cell_type": "markdown",
      "id": "5505cc44-772c-405f-8ae8-7e927301fc96",
      "metadata": {
        "id": "5505cc44-772c-405f-8ae8-7e927301fc96"
      },
      "source": [
        "Каждый из параметров `start`, `stop`, `step` может быть опущен.  \n",
        "Значения параметров по умолчанию:  \n",
        "`start` = 0  \n",
        "`stop` = длина списка   \n",
        "`step` = 1  "
      ]
    },
    {
      "cell_type": "code",
      "execution_count": null,
      "id": "40370e0a-ccc0-48b5-a3ce-13cb5381c496",
      "metadata": {
        "id": "40370e0a-ccc0-48b5-a3ce-13cb5381c496",
        "outputId": "bbb74876-bf78-454a-fac4-3b7a9e1ae969"
      },
      "outputs": [
        {
          "name": "stdout",
          "output_type": "stream",
          "text": [
            "['АИ-92', 'ст. Комбинатская', 'ОНПЗ', 1320, 1321.002, 36690]\n"
          ]
        }
      ],
      "source": [
        "# список с параметрами отгрузки [товар, станция, план, факт, цена]\n",
        "sales_kombinatskaya = ['АИ-92', 'ст. Комбинатская', 'ОНПЗ', 1320, 1321.002, 36690]\n",
        "\n",
        "# не указываем параметры среза - выводится весь список\n",
        "print(sales_kombinatskaya[:])"
      ]
    },
    {
      "cell_type": "code",
      "execution_count": null,
      "id": "c3fc162e-66a1-4a4a-b571-a77eeeeff46a",
      "metadata": {
        "id": "c3fc162e-66a1-4a4a-b571-a77eeeeff46a",
        "outputId": "bf7c9941-c86c-40b9-e93a-17e2bd4eeb27"
      },
      "outputs": [
        {
          "name": "stdout",
          "output_type": "stream",
          "text": [
            "['ст. Комбинатская', 'ОНПЗ']\n"
          ]
        }
      ],
      "source": [
        "# список с параметрами отгрузки [товар, станция, план, факт, цена]\n",
        "sales_kombinatskaya = ['АИ-92', 'ст. Комбинатская', 'ОНПЗ', 1320, 1321.002, 36690]\n",
        "\n",
        "# срез элементов с первого по третий\n",
        "print(sales_kombinatskaya[1:3])"
      ]
    },
    {
      "cell_type": "code",
      "execution_count": null,
      "id": "1a7cd38e-bb7f-420e-a6df-9e4b6e010e28",
      "metadata": {
        "id": "1a7cd38e-bb7f-420e-a6df-9e4b6e010e28",
        "outputId": "5450b1e6-63ec-4643-8ebe-403a2a703be7"
      },
      "outputs": [
        {
          "name": "stdout",
          "output_type": "stream",
          "text": [
            "['АИ-92', 'ОНПЗ']\n"
          ]
        }
      ],
      "source": [
        "# список с параметрами отгрузки [товар, станция, план, факт, цена]\n",
        "sales_kombinatskaya = ['АИ-92', 'ст. Комбинатская', 'ОНПЗ', 1320, 1321.002, 36690]\n",
        "\n",
        "# срез элементов с нулевого по третий с шагом 2\n",
        "print(sales_kombinatskaya[:3:2])"
      ]
    },
    {
      "cell_type": "code",
      "execution_count": null,
      "id": "79482721-b2ae-4d58-94f5-ef5138d92b1c",
      "metadata": {
        "id": "79482721-b2ae-4d58-94f5-ef5138d92b1c",
        "outputId": "0dcee2e7-2a7c-46af-876f-412ddbebd0be"
      },
      "outputs": [
        {
          "name": "stdout",
          "output_type": "stream",
          "text": [
            "[36690, 1321.002, 1320, 'ОНПЗ', 'ст. Комбинатская', 'АИ-92']\n"
          ]
        }
      ],
      "source": [
        "# список с параметрами отгрузки [товар, станция, план, факт, цена]\n",
        "sales_kombinatskaya = ['АИ-92', 'ст. Комбинатская', 'ОНПЗ', 1320, 1321.002, 36690]\n",
        "\n",
        "# срез элементов в обратном порядке (step = -1 )\n",
        "print(sales_kombinatskaya[: :-1])"
      ]
    },
    {
      "cell_type": "markdown",
      "id": "1ef17a94-cc3f-4a72-a6e8-a1d0f9311880",
      "metadata": {
        "id": "1ef17a94-cc3f-4a72-a6e8-a1d0f9311880"
      },
      "source": [
        "## Сложение списков"
      ]
    },
    {
      "cell_type": "markdown",
      "id": "a9771aa3-e4ed-431d-b483-653436858e58",
      "metadata": {
        "id": "a9771aa3-e4ed-431d-b483-653436858e58"
      },
      "source": [
        "В предыдущих уроках мы с вами выяснили, что в Python можно складывать:"
      ]
    },
    {
      "cell_type": "markdown",
      "id": "4834aa5a-87cd-4dfc-ac08-a4af6c27fc37",
      "metadata": {
        "id": "4834aa5a-87cd-4dfc-ac08-a4af6c27fc37"
      },
      "source": [
        "числа:"
      ]
    },
    {
      "cell_type": "code",
      "execution_count": null,
      "id": "70b1a4f7-4754-411b-b073-8ed3c54d3005",
      "metadata": {
        "id": "70b1a4f7-4754-411b-b073-8ed3c54d3005",
        "outputId": "c10c7021-1659-4342-91c0-b6cb669d51c3"
      },
      "outputs": [
        {
          "data": {
            "text/plain": [
              "443.4"
            ]
          },
          "execution_count": 17,
          "metadata": {},
          "output_type": "execute_result"
        }
      ],
      "source": [
        "256 + 187.4"
      ]
    },
    {
      "cell_type": "markdown",
      "id": "4b6acb78-a20a-42fb-892b-42253444a93c",
      "metadata": {
        "id": "4b6acb78-a20a-42fb-892b-42253444a93c"
      },
      "source": [
        "строки:"
      ]
    },
    {
      "cell_type": "code",
      "execution_count": null,
      "id": "fd7168fc-97c3-45f4-a7e0-aa95b3eed667",
      "metadata": {
        "id": "fd7168fc-97c3-45f4-a7e0-aa95b3eed667",
        "outputId": "a8ef14e1-e314-4da3-b397-e25c761e99d0"
      },
      "outputs": [
        {
          "data": {
            "text/plain": [
              "'станция Яничкино'"
            ]
          },
          "execution_count": 18,
          "metadata": {},
          "output_type": "execute_result"
        }
      ],
      "source": [
        "'станция' + ' ' + 'Яничкино'"
      ]
    },
    {
      "cell_type": "markdown",
      "id": "d6394840-6333-4825-b3c0-d732bb31acff",
      "metadata": {
        "id": "d6394840-6333-4825-b3c0-d732bb31acff"
      },
      "source": [
        "Оператор \"`+`\" работает и со списками:"
      ]
    },
    {
      "cell_type": "code",
      "execution_count": null,
      "id": "a3a05b9f-a258-448e-bf0f-c05284580522",
      "metadata": {
        "id": "a3a05b9f-a258-448e-bf0f-c05284580522",
        "outputId": "1bb0186d-b65f-4e3a-b490-33160dd7f559"
      },
      "outputs": [
        {
          "name": "stdout",
          "output_type": "stream",
          "text": [
            "['АИ-92', 'ст. Новоярославская', 'ЯНОС', 821.1]\n"
          ]
        }
      ],
      "source": [
        "# создаем списки\n",
        "sales_yanos_first_part = ['АИ-92', 'ст. Новоярославская', ]\n",
        "sales_yanos_second_part = ['ЯНОС', 821.1]\n",
        "\n",
        "# складывыем списки\n",
        "print(sales_yanos_first_part + sales_yanos_second_part)"
      ]
    },
    {
      "cell_type": "markdown",
      "id": "5d5d3d4f-ca6f-42bd-835c-f15abed12feb",
      "metadata": {
        "id": "5d5d3d4f-ca6f-42bd-835c-f15abed12feb"
      },
      "source": [
        "Результат сложения списков - **новый список**.  \n",
        "Операция сложения может помочь, если нужно быстро объединить небольшие списки. Далее мы рассмотрим, как это сделать с помощью методов."
      ]
    },
    {
      "cell_type": "markdown",
      "id": "80b6955a-6573-4801-96ad-f2abb83082e8",
      "metadata": {
        "id": "80b6955a-6573-4801-96ad-f2abb83082e8"
      },
      "source": [
        "## Умножение списков"
      ]
    },
    {
      "cell_type": "markdown",
      "id": "50525985-3836-448e-8b18-fa8f0be67afe",
      "metadata": {
        "id": "50525985-3836-448e-8b18-fa8f0be67afe"
      },
      "source": [
        "Оператор \"`*`\" можно применить к спискам.  \n",
        "Результат — новый список, в котором все исходные элементы повторяются n раз в том же порядке."
      ]
    },
    {
      "cell_type": "markdown",
      "id": "0ea96f6c-f203-4188-a379-e250402ca29c",
      "metadata": {
        "id": "0ea96f6c-f203-4188-a379-e250402ca29c"
      },
      "source": [
        "Умножение позволяет сгенерировать новые списки.  \n",
        "На практике вряд ли придется добавлять элементы в список через умножение."
      ]
    },
    {
      "cell_type": "code",
      "execution_count": null,
      "id": "36270a19-aa78-4019-be4a-2e042446b570",
      "metadata": {
        "id": "36270a19-aa78-4019-be4a-2e042446b570",
        "outputId": "d0c50d2f-a5be-4f88-f74a-5dcff342b2a5"
      },
      "outputs": [
        {
          "name": "stdout",
          "output_type": "stream",
          "text": [
            "['АИ-95', 'АИ-92', 'ДТ', 'АИ-95', 'АИ-92', 'ДТ', 'АИ-95', 'АИ-92', 'ДТ']\n"
          ]
        }
      ],
      "source": [
        "# создаем список\n",
        "oil_names = ['АИ-95', 'АИ-92', 'ДТ'] \n",
        "\n",
        "# умножаем\n",
        "print(['АИ-95', 'АИ-92', 'ДТ'] * 3)\n"
      ]
    },
    {
      "cell_type": "markdown",
      "id": "ec3706ca-2f88-424c-aaef-d4572fe4cde9",
      "metadata": {
        "id": "ec3706ca-2f88-424c-aaef-d4572fe4cde9"
      },
      "source": [
        "## Методы списка"
      ]
    },
    {
      "cell_type": "markdown",
      "id": "e0b5a5c9-cb58-4a19-937a-621bbd2cb5a1",
      "metadata": {
        "id": "e0b5a5c9-cb58-4a19-937a-621bbd2cb5a1"
      },
      "source": [
        "Списки — изменяемый (immutable) тип данных. Это означает, что список можно изменять, например, путем добавления или удаления значений."
      ]
    },
    {
      "cell_type": "markdown",
      "id": "cd17f1fe-0093-446e-8cae-a05ff57c4702",
      "metadata": {
        "id": "cd17f1fe-0093-446e-8cae-a05ff57c4702"
      },
      "source": [
        "Для добавления и удаления элементов существует несколько методов."
      ]
    },
    {
      "cell_type": "markdown",
      "id": "7355b683-2a6c-4905-aa8f-263a9aac4095",
      "metadata": {
        "id": "7355b683-2a6c-4905-aa8f-263a9aac4095"
      },
      "source": [
        "### Добавление элементов"
      ]
    },
    {
      "cell_type": "markdown",
      "id": "3aaca529-4092-478f-84a0-257b56db86c3",
      "metadata": {
        "id": "3aaca529-4092-478f-84a0-257b56db86c3"
      },
      "source": [
        "#### 📝 `append()`"
      ]
    },
    {
      "cell_type": "markdown",
      "id": "a7866888-8393-48be-b99b-abb7817691ea",
      "metadata": {
        "id": "a7866888-8393-48be-b99b-abb7817691ea"
      },
      "source": [
        "**Синтаксис:**  \n",
        "`list.append(item)`\n",
        "\n",
        "**Описание:**  \n",
        "Добавляет один элемент в конец списка.  \n",
        "\n",
        "**Параметры:**  \n",
        "item — элемент, который будет добавлен. Это может быть число, строка, словарь, другой список и так далее.  "
      ]
    },
    {
      "cell_type": "markdown",
      "id": "744436f9-313b-42c6-86b6-41c36ec28144",
      "metadata": {
        "id": "744436f9-313b-42c6-86b6-41c36ec28144"
      },
      "source": [
        "**Пример**"
      ]
    },
    {
      "cell_type": "markdown",
      "id": "55c69111-ab5b-4ac5-97a3-212dbf491eb7",
      "metadata": {
        "id": "55c69111-ab5b-4ac5-97a3-212dbf491eb7"
      },
      "source": [
        "Добавим элемент в список `item_station`."
      ]
    },
    {
      "cell_type": "code",
      "execution_count": null,
      "id": "c4d0becd-f7ae-4dd4-9e51-ed544a82879e",
      "metadata": {
        "id": "c4d0becd-f7ae-4dd4-9e51-ed544a82879e",
        "outputId": "4e11c140-6ad9-423f-c2d6-b6e63d559816"
      },
      "outputs": [
        {
          "name": "stdout",
          "output_type": "stream",
          "text": [
            "['АИ-92', 'ст. Новоярославская', 821.1]\n"
          ]
        }
      ],
      "source": [
        "# создаем список\n",
        "item_station = ['АИ-92', 'ст. Новоярославская']\n",
        "\n",
        "# добавляем элемент в список  \n",
        "item_station.append(821.1)\n",
        "\n",
        "# результат - измененный список\n",
        "print(item_station)"
      ]
    },
    {
      "cell_type": "markdown",
      "id": "a200fcff-de4b-4441-a4ea-3b569e84de85",
      "metadata": {
        "id": "a200fcff-de4b-4441-a4ea-3b569e84de85"
      },
      "source": [
        "Но так можно добавить лишь один элемент. Чтобы добавить несколько элементов, вызывают метод extend()."
      ]
    },
    {
      "cell_type": "markdown",
      "id": "1b3b8005-1e0b-4c74-87fb-985595a97dc7",
      "metadata": {
        "id": "1b3b8005-1e0b-4c74-87fb-985595a97dc7"
      },
      "source": [
        "#### 📝 `extend()`"
      ]
    },
    {
      "cell_type": "markdown",
      "id": "7c81eed8-1f9a-4fe0-9442-02c856e8162e",
      "metadata": {
        "id": "7c81eed8-1f9a-4fe0-9442-02c856e8162e"
      },
      "source": [
        "Если нужно добавить элементы одного списка в другой список, используем метод `extend()`."
      ]
    },
    {
      "cell_type": "markdown",
      "id": "862b8c9f-9d19-4e14-b146-e237c734ed7e",
      "metadata": {
        "id": "862b8c9f-9d19-4e14-b146-e237c734ed7e"
      },
      "source": [
        "**Синтаксис:**  \n",
        "`list.extend(iterable)`\n",
        "\n",
        "**Описание:**  \n",
        "Добавляет все элементы итерируемого объекта (списка, кортежа, строки и т. д.) в конец списка.\n",
        "\n",
        "**Параметры:**  \n",
        "iterable — итерируемый объект, элементы которого будут добавлены в список."
      ]
    },
    {
      "cell_type": "markdown",
      "id": "2710c8cb-d8a2-4d8f-a1d1-57f60f57eaea",
      "metadata": {
        "id": "2710c8cb-d8a2-4d8f-a1d1-57f60f57eaea"
      },
      "source": [
        "**Пример**"
      ]
    },
    {
      "cell_type": "markdown",
      "id": "6e0fe03f-7340-4603-b383-bf4faa24931b",
      "metadata": {
        "id": "6e0fe03f-7340-4603-b383-bf4faa24931b"
      },
      "source": [
        "Добавим в список `sales_yanos` элементы списка `sales_yanos_add`."
      ]
    },
    {
      "cell_type": "code",
      "execution_count": null,
      "id": "e280e7c0-ef97-4086-ab2f-ca772943249a",
      "metadata": {
        "id": "e280e7c0-ef97-4086-ab2f-ca772943249a",
        "outputId": "9da52c53-400f-4017-ae0c-2e391788bd7d"
      },
      "outputs": [
        {
          "name": "stdout",
          "output_type": "stream",
          "text": [
            "['АИ-92', 'ст. Новоярославская', 'ЯНОС', 821.1]\n"
          ]
        }
      ],
      "source": [
        "# создаем списки\n",
        "sales_yanos = ['АИ-92', 'ст. Новоярославская', ]\n",
        "sales_yanos_add = ['ЯНОС', 821.1]  \n",
        "\n",
        "# добавляем элементы в список  \n",
        "sales_yanos.extend(sales_yanos_add)\n",
        "\n",
        "# результат - измененный список\n",
        "print(sales_yanos)"
      ]
    },
    {
      "cell_type": "markdown",
      "id": "1bf251da-3201-4512-93fc-03c23ddde151",
      "metadata": {
        "id": "1bf251da-3201-4512-93fc-03c23ddde151"
      },
      "source": [
        "#### 📝`insert()`"
      ]
    },
    {
      "cell_type": "markdown",
      "id": "6b8d063b-d916-40b7-8f93-278a9b4d27d5",
      "metadata": {
        "id": "6b8d063b-d916-40b7-8f93-278a9b4d27d5"
      },
      "source": [
        "Предыдущие методы добавляли элементы в конец списка. Чтобы добавить элемент в произвольное место списка, изпользуется метод `insert()`."
      ]
    },
    {
      "cell_type": "markdown",
      "id": "80c43862-32b4-4517-b24a-bff76aade810",
      "metadata": {
        "id": "80c43862-32b4-4517-b24a-bff76aade810"
      },
      "source": [
        "**Синтаксис:**\n",
        "`list.insert(index, element)`\n",
        "\n",
        "**Описание:**  \n",
        "Добавляет один элемент в список по указанному индексу.  \n",
        "\n",
        "**Параметры:**  \n",
        "`index` – позиция (индекс), на которую будет помещен указанный элемент. Нумерация начинается с нуля. Также поддерживается отрицательная индексация.   \n",
        "`element` — элемент, который нужно поместить в список."
      ]
    },
    {
      "cell_type": "markdown",
      "id": "eee96673-0f4c-4fef-bc9d-f1edbb521ef4",
      "metadata": {
        "id": "eee96673-0f4c-4fef-bc9d-f1edbb521ef4"
      },
      "source": [
        "**Пример**"
      ]
    },
    {
      "cell_type": "markdown",
      "id": "8e89dcde-64c8-4db7-9aaf-ee967cc13426",
      "metadata": {
        "id": "8e89dcde-64c8-4db7-9aaf-ee967cc13426"
      },
      "source": [
        "- Добавим новый элемент в список `item_station` после первого элемента."
      ]
    },
    {
      "cell_type": "code",
      "execution_count": null,
      "id": "f698484e-0399-47f8-9d82-5eeeb918d72e",
      "metadata": {
        "id": "f698484e-0399-47f8-9d82-5eeeb918d72e",
        "outputId": "6333e5aa-6c02-454a-bc7c-3ae675b48a48"
      },
      "outputs": [
        {
          "name": "stdout",
          "output_type": "stream",
          "text": [
            "['АИ-92', 821.1, 'ст. Новоярославская']\n"
          ]
        }
      ],
      "source": [
        "# создаем список\n",
        "item_station = ['АИ-92', 'ст. Новоярославская']\n",
        "\n",
        "# добавляем элементы в список  \n",
        "item_station.insert(1, 821.1)\n",
        "\n",
        "# результат - измененный список\n",
        "print(item_station)\n"
      ]
    },
    {
      "cell_type": "markdown",
      "id": "b2111953-f644-48f9-b934-6fe3cd36e646",
      "metadata": {
        "id": "b2111953-f644-48f9-b934-6fe3cd36e646"
      },
      "source": [
        "- Укажем значение для параметра `index` за пределами длины списка. "
      ]
    },
    {
      "cell_type": "code",
      "execution_count": null,
      "id": "a776d633-8079-4cac-aea3-1c31fda53841",
      "metadata": {
        "id": "a776d633-8079-4cac-aea3-1c31fda53841",
        "outputId": "78e06789-9278-413a-80cd-4c2d690547f4"
      },
      "outputs": [
        {
          "name": "stdout",
          "output_type": "stream",
          "text": [
            "['АИ-92', 'ст. Новоярославская', 821.1]\n"
          ]
        }
      ],
      "source": [
        "# создаем список\n",
        "item_station = ['АИ-92', 'ст. Новоярославская']\n",
        "\n",
        "# добавляем элементы в список  \n",
        "item_station.insert(5, 821.1)\n",
        "\n",
        "# результат - измененный список\n",
        "print(item_station)\n"
      ]
    },
    {
      "cell_type": "markdown",
      "id": "b232a079-afc2-477b-b7f5-96f8a05556e0",
      "metadata": {
        "id": "b232a079-afc2-477b-b7f5-96f8a05556e0"
      },
      "source": [
        "Результат - новый элемент добавлен в конец списка. Код выполняется без ошибки."
      ]
    },
    {
      "cell_type": "markdown",
      "id": "832ef461-cda4-45f5-8c67-4a575d74c527",
      "metadata": {
        "id": "832ef461-cda4-45f5-8c67-4a575d74c527"
      },
      "source": [
        "- Укажем отрицательное значение для параметра `index` за пределами длины списка. "
      ]
    },
    {
      "cell_type": "code",
      "execution_count": null,
      "id": "f398084c-29d5-40cb-8314-69022d856915",
      "metadata": {
        "id": "f398084c-29d5-40cb-8314-69022d856915",
        "outputId": "bdf6b533-3100-43ac-e88d-88534549e876"
      },
      "outputs": [
        {
          "name": "stdout",
          "output_type": "stream",
          "text": [
            "[821.1, 'АИ-92', 'ст. Новоярославская']\n"
          ]
        }
      ],
      "source": [
        "# создаем список\n",
        "item_station = ['АИ-92', 'ст. Новоярославская']\n",
        "\n",
        "# добавляем элементы в список  \n",
        "item_station.insert(-7, 821.1)\n",
        "\n",
        "# результат - измененный список\n",
        "print(item_station)\n"
      ]
    },
    {
      "cell_type": "markdown",
      "id": "ec3338a9-6641-4968-8417-97c29f524438",
      "metadata": {
        "id": "ec3338a9-6641-4968-8417-97c29f524438"
      },
      "source": [
        "Результат - новый элемент добавлен в начало списка. Код выполняется без ошибки."
      ]
    },
    {
      "cell_type": "markdown",
      "id": "de4f7258-9aea-4b0b-95dc-90849bef2d95",
      "metadata": {
        "id": "de4f7258-9aea-4b0b-95dc-90849bef2d95"
      },
      "source": [
        "### Удаление элементов списка\n"
      ]
    },
    {
      "cell_type": "markdown",
      "id": "3d6e76b3-b007-499f-b6c7-a20892c798b9",
      "metadata": {
        "id": "3d6e76b3-b007-499f-b6c7-a20892c798b9"
      },
      "source": [
        "#### 📝 `remove()`"
      ]
    },
    {
      "cell_type": "markdown",
      "id": "cc209561-6711-45cd-a914-6399ef12a9fa",
      "metadata": {
        "id": "cc209561-6711-45cd-a914-6399ef12a9fa"
      },
      "source": [
        "**Синтаксис:**  \n",
        "`list.remove(element)`  \n",
        "\n",
        "**Описание:**  \n",
        "Удаляет первый найденный в списке элемент, значение которого соответствует значению, переданному в качестве аргумента.\n",
        "\n",
        "**Параметры:**  \n",
        "`element` — элемент, который будет удален из списка. Если элемент в списке не найден - ошибка `ValueError`.  \n",
        "\n",
        "**Примечание:**  \n",
        "Если список содержит повторяющиеся элементы, метод `remove()` удаляет только первое вхождение заданного элемента в списке.  \n",
        "Чтобы удалить все вхождения с помощью этого метода можно использовать `цикл while`. Он будет рассмотрен далее по курсу."
      ]
    },
    {
      "cell_type": "markdown",
      "id": "40b6770a-22cb-4674-9707-bdb693819b8e",
      "metadata": {
        "id": "40b6770a-22cb-4674-9707-bdb693819b8e"
      },
      "source": [
        "**Пример**"
      ]
    },
    {
      "cell_type": "markdown",
      "id": "c241eb62-0abc-4ce6-b415-e43afaa921e6",
      "metadata": {
        "id": "c241eb62-0abc-4ce6-b415-e43afaa921e6"
      },
      "source": [
        "- Удалим элемент 'ЯНОС' из списка `sales_yanos`."
      ]
    },
    {
      "cell_type": "code",
      "execution_count": null,
      "id": "58a8825c-7168-4e92-881f-71327dc7e7ac",
      "metadata": {
        "id": "58a8825c-7168-4e92-881f-71327dc7e7ac",
        "outputId": "a3fc71e4-dc9e-4538-a43f-8c5b92d322d2"
      },
      "outputs": [
        {
          "name": "stdout",
          "output_type": "stream",
          "text": [
            "['АИ-92', 'ст. Новоярославская', 821.1]\n"
          ]
        }
      ],
      "source": [
        "# создаем списки\n",
        "sales_yanos = ['АИ-92', 'ст. Новоярославская','ЯНОС', 821.1]\n",
        "\n",
        "# удаляем элемент  \n",
        "sales_yanos.remove('ЯНОС')\n",
        "\n",
        "# результат - измененный список\n",
        "print(sales_yanos)"
      ]
    },
    {
      "cell_type": "markdown",
      "id": "f290eebc-88ae-4080-be34-36bbcc95865e",
      "metadata": {
        "id": "f290eebc-88ae-4080-be34-36bbcc95865e"
      },
      "source": [
        "- Попробуем удалить несуществующий элемент 'МНПЗ' из списка `sales_yanos`."
      ]
    },
    {
      "cell_type": "code",
      "execution_count": null,
      "id": "0a9c4037-f31e-488e-95b9-30cbdf38be7b",
      "metadata": {
        "id": "0a9c4037-f31e-488e-95b9-30cbdf38be7b",
        "outputId": "0d528ffe-4a3d-48b8-b056-3290eda6eaae"
      },
      "outputs": [
        {
          "ename": "ValueError",
          "evalue": "list.remove(x): x not in list",
          "output_type": "error",
          "traceback": [
            "\u001b[1;31m---------------------------------------------------------------------------\u001b[0m",
            "\u001b[1;31mValueError\u001b[0m                                Traceback (most recent call last)",
            "\u001b[1;32m<ipython-input-27-4530d4b9eb8f>\u001b[0m in \u001b[0;36m<module>\u001b[1;34m\u001b[0m\n\u001b[0;32m      3\u001b[0m \u001b[1;33m\u001b[0m\u001b[0m\n\u001b[0;32m      4\u001b[0m \u001b[1;31m# пробуем удалить несуществующий элемент\u001b[0m\u001b[1;33m\u001b[0m\u001b[1;33m\u001b[0m\u001b[1;33m\u001b[0m\u001b[0m\n\u001b[1;32m----> 5\u001b[1;33m \u001b[0msales_yanos\u001b[0m\u001b[1;33m.\u001b[0m\u001b[0mremove\u001b[0m\u001b[1;33m(\u001b[0m\u001b[1;34m'МНПЗ'\u001b[0m\u001b[1;33m)\u001b[0m\u001b[1;33m\u001b[0m\u001b[1;33m\u001b[0m\u001b[0m\n\u001b[0m\u001b[0;32m      6\u001b[0m \u001b[1;33m\u001b[0m\u001b[0m\n\u001b[0;32m      7\u001b[0m \u001b[1;31m# результат - измененный список\u001b[0m\u001b[1;33m\u001b[0m\u001b[1;33m\u001b[0m\u001b[1;33m\u001b[0m\u001b[0m\n",
            "\u001b[1;31mValueError\u001b[0m: list.remove(x): x not in list"
          ]
        }
      ],
      "source": [
        "# создаем списки\n",
        "sales_yanos = ['АИ-92', 'ст. Новоярославская','ЯНОС', 821.1]\n",
        "\n",
        "# пробуем удалить несуществующий элемент  \n",
        "sales_yanos.remove('МНПЗ')\n",
        "\n",
        "# результат - измененный список\n",
        "print(sales_yanos)"
      ]
    },
    {
      "cell_type": "markdown",
      "id": "23ba4721-f5a4-46e0-95fc-18605718e408",
      "metadata": {
        "id": "23ba4721-f5a4-46e0-95fc-18605718e408"
      },
      "source": [
        "Результат - ошибка в выполнении кода: элемента нет в списке."
      ]
    },
    {
      "cell_type": "markdown",
      "id": "c5187120-f8e4-4427-a6fa-750f09df9080",
      "metadata": {
        "id": "c5187120-f8e4-4427-a6fa-750f09df9080"
      },
      "source": [
        "#### 📝 `pop()`"
      ]
    },
    {
      "cell_type": "markdown",
      "id": "f7dca09d-53c0-479c-aa8b-5cfb12d2b6ba",
      "metadata": {
        "id": "f7dca09d-53c0-479c-aa8b-5cfb12d2b6ba"
      },
      "source": [
        "**Синтаксис:**  \n",
        "`list.pop([index])`\n",
        "\n",
        "**Описание:**  \n",
        "Удаляет элемент по указанному индексу из списка и возвращает удаленный элемент.\n",
        "\n",
        "**Параметры:**  \n",
        "`index` — индекс искомого элемента в списке (целое число).   \n",
        "Если индекс не указан, то удаляется последний элемент списка.  \n",
        "\n",
        "**Примечание:**  \n",
        "Если индекс, переданный методу, вне диапазона списка - ошибка `IndexError`."
      ]
    },
    {
      "cell_type": "markdown",
      "id": "2f6e228a-3bb4-489d-be33-df9179547173",
      "metadata": {
        "id": "2f6e228a-3bb4-489d-be33-df9179547173"
      },
      "source": [
        "**Пример**"
      ]
    },
    {
      "cell_type": "markdown",
      "id": "9a98dade-6796-4d5d-b3eb-e6d39b5ced0d",
      "metadata": {
        "id": "9a98dade-6796-4d5d-b3eb-e6d39b5ced0d"
      },
      "source": [
        "- Удалим из списка `sales_yanos` последний элемент."
      ]
    },
    {
      "cell_type": "code",
      "execution_count": null,
      "id": "1d9081cc-6fe2-4b39-ae2c-d46eff15f8de",
      "metadata": {
        "id": "1d9081cc-6fe2-4b39-ae2c-d46eff15f8de",
        "outputId": "29252ddf-95f4-4aaf-b5e3-f6aceca50e15"
      },
      "outputs": [
        {
          "name": "stdout",
          "output_type": "stream",
          "text": [
            "821.1\n",
            "['АИ-92', 'ст. Новоярославская', 'ЯНОС']\n"
          ]
        }
      ],
      "source": [
        "# создаем список\n",
        "sales_yanos = ['АИ-92', 'ст. Новоярославская','ЯНОС', 821.1]\n",
        "\n",
        "# удаляем последний элемент - не указываем индекс  \n",
        "print(sales_yanos.pop())\n",
        "\n",
        "# результат - измененный список\n",
        "print(sales_yanos)"
      ]
    },
    {
      "cell_type": "markdown",
      "id": "befe3138-6a38-4668-bde9-b2a169b69f00",
      "metadata": {
        "id": "befe3138-6a38-4668-bde9-b2a169b69f00"
      },
      "source": [
        "- Удалим из списка `sales_yanos` элемент с индексом 1 - станция отгрузки\n"
      ]
    },
    {
      "cell_type": "code",
      "execution_count": null,
      "id": "5d43ec59-a262-4284-aab8-5dba69301cfd",
      "metadata": {
        "id": "5d43ec59-a262-4284-aab8-5dba69301cfd",
        "outputId": "4930e2de-40fc-478d-f968-1d9b2ce8f62e"
      },
      "outputs": [
        {
          "name": "stdout",
          "output_type": "stream",
          "text": [
            "ст. Новоярославская\n",
            "['АИ-92', 'ЯНОС', 821.1]\n"
          ]
        }
      ],
      "source": [
        "# создаем списки\n",
        "sales_yanos = ['АИ-92', 'ст. Новоярославская','ЯНОС', 821.1]\n",
        "\n",
        "# удаляем элемент с индексом 1 - ст. Новоярославская\n",
        "print(sales_yanos.pop(1))\n",
        "\n",
        "# результат - измененный список\n",
        "print(sales_yanos)"
      ]
    },
    {
      "cell_type": "markdown",
      "id": "7118af08-d964-4424-bdc5-3692705829d3",
      "metadata": {
        "id": "7118af08-d964-4424-bdc5-3692705829d3"
      },
      "source": [
        "#### 📝 `del` "
      ]
    },
    {
      "cell_type": "markdown",
      "id": "bb4767ac-e479-4d0d-8a7c-82ebb132738a",
      "metadata": {
        "id": "bb4767ac-e479-4d0d-8a7c-82ebb132738a"
      },
      "source": [
        "Удалять элементы списка можно с помощью оператора `del`."
      ]
    },
    {
      "cell_type": "markdown",
      "id": "464ae934-1716-4fa7-99cd-11891b3e4e00",
      "metadata": {
        "id": "464ae934-1716-4fa7-99cd-11891b3e4e00"
      },
      "source": [
        "**Синтаксис:**  \n",
        "`del list.([index])` - удаление элемента по индексу  \n",
        "`del list.([start : stop])` - удаление элементов по срезу\n",
        "\n",
        "**Описание:**  \n",
        "Оператор del принимает индекс (срез) удаляемого элемента и удаляет элемент по этому индексу (срезу).\n",
        "\n",
        "**Параметры:**  \n",
        "`index` — индекс искомого элемента в списке (целое число).   \n",
        "`[start : stop]` - срез элементов списка\n",
        "\n",
        "**Примечание:**  \n",
        "Если передаем индекс вне диапазона списка - ошибка `IndexError`.  \n",
        "Если передаем срез вне диапазана - ничего не будет удалено, код отработает без ошибки."
      ]
    },
    {
      "cell_type": "markdown",
      "id": "4022a037-d75d-4351-bcc2-1e87206ea938",
      "metadata": {
        "id": "4022a037-d75d-4351-bcc2-1e87206ea938"
      },
      "source": [
        "**Пример**"
      ]
    },
    {
      "cell_type": "markdown",
      "id": "46e12854-ebbc-4ca4-af14-1c2b0dda61f3",
      "metadata": {
        "id": "46e12854-ebbc-4ca4-af14-1c2b0dda61f3"
      },
      "source": [
        "- Удалим из списка `sales_yanos` элемент с индексом 1 ('ст. Новоярославская')."
      ]
    },
    {
      "cell_type": "code",
      "execution_count": null,
      "id": "b5b7c3b6-8b6d-49a0-b749-8e94ff928a66",
      "metadata": {
        "id": "b5b7c3b6-8b6d-49a0-b749-8e94ff928a66",
        "outputId": "90dc911d-3449-4d14-c134-e873c184cc35"
      },
      "outputs": [
        {
          "name": "stdout",
          "output_type": "stream",
          "text": [
            "['АИ-92', 'ЯНОС', 821.1]\n"
          ]
        }
      ],
      "source": [
        "# создаем список\n",
        "sales_yanos = ['АИ-92', 'ст. Новоярославская','ЯНОС', 821.1]\n",
        "\n",
        "# удаляем элемент с индексом 1\n",
        "del sales_yanos[1]\n",
        "\n",
        "# измененный список\n",
        "print(sales_yanos)"
      ]
    },
    {
      "cell_type": "markdown",
      "id": "0ba1cc2f-d0b7-4164-9589-0ed3d40e9057",
      "metadata": {
        "id": "0ba1cc2f-d0b7-4164-9589-0ed3d40e9057"
      },
      "source": [
        "- Удалим из списка `sales_yanos` второй и третий элементы ('ст. Новоярославская', 'ЯНОС')"
      ]
    },
    {
      "cell_type": "code",
      "execution_count": null,
      "id": "c52ba274-7ff1-4d25-add0-4d88695c4669",
      "metadata": {
        "id": "c52ba274-7ff1-4d25-add0-4d88695c4669",
        "outputId": "2001ee53-6081-464a-9354-996bef0c3d53"
      },
      "outputs": [
        {
          "name": "stdout",
          "output_type": "stream",
          "text": [
            "['АИ-92', 821.1]\n"
          ]
        }
      ],
      "source": [
        "# создаем список\n",
        "sales_yanos = ['АИ-92', 'ст. Новоярославская','ЯНОС', 821.1]\n",
        "\n",
        "# удаляем срез элементов\n",
        "del sales_yanos[1:3]\n",
        "\n",
        "# измененный список\n",
        "print(sales_yanos)"
      ]
    },
    {
      "cell_type": "markdown",
      "id": "7b90d1f7-efc3-4dac-acc8-23d2d0092a46",
      "metadata": {
        "id": "7b90d1f7-efc3-4dac-acc8-23d2d0092a46"
      },
      "source": [
        "### Сортировка списка"
      ]
    },
    {
      "cell_type": "markdown",
      "id": "80e8ba7b-3bbf-4976-9afa-f71dc87677f9",
      "metadata": {
        "id": "80e8ba7b-3bbf-4976-9afa-f71dc87677f9"
      },
      "source": [
        "Элементы списка можно сортировать.   \n",
        "Используем методы `sort()` и `sorted()`."
      ]
    },
    {
      "cell_type": "markdown",
      "id": "68f1d703-16c1-4f94-b34a-f461806a6627",
      "metadata": {
        "id": "68f1d703-16c1-4f94-b34a-f461806a6627"
      },
      "source": [
        "#### 📝`sort()`"
      ]
    },
    {
      "cell_type": "markdown",
      "id": "3651bd84-e0fa-4963-83a3-cb3a38b2e088",
      "metadata": {
        "id": "3651bd84-e0fa-4963-83a3-cb3a38b2e088"
      },
      "source": [
        "**Синтаксис**:  \n",
        "`list.sort()`  \n",
        "\n",
        "**Описание:**  \n",
        "Сортирует элементы данного списка."
      ]
    },
    {
      "cell_type": "markdown",
      "id": "01e1f616-8fc3-4e22-b1ac-5828e2104a66",
      "metadata": {
        "id": "01e1f616-8fc3-4e22-b1ac-5828e2104a66"
      },
      "source": [
        "**Пример**"
      ]
    },
    {
      "cell_type": "markdown",
      "id": "4f55d727-ebec-4ed1-a1c4-d4bb8caa8e8b",
      "metadata": {
        "id": "4f55d727-ebec-4ed1-a1c4-d4bb8caa8e8b"
      },
      "source": [
        "- Отсортируем список `total_sales` по возрастанию."
      ]
    },
    {
      "cell_type": "code",
      "execution_count": null,
      "id": "34d0f839-b084-4beb-9dd4-92579108a225",
      "metadata": {
        "id": "34d0f839-b084-4beb-9dd4-92579108a225",
        "outputId": "4aa55904-2ab9-4f7c-eedf-022cf96d9eb9"
      },
      "outputs": [
        {
          "name": "stdout",
          "output_type": "stream",
          "text": [
            "[60, 180, 300, 600, 780, 840, 1320]\n"
          ]
        }
      ],
      "source": [
        "# создаем список\n",
        "total_sales = [840, 600, 1320, 300, 780, 60, 180]\n",
        "\n",
        "# сортируем список\n",
        "total_sales.sort()\n",
        "\n",
        "# результат - измененный список\n",
        "print(total_sales)"
      ]
    },
    {
      "cell_type": "markdown",
      "id": "cd97efd1-524a-4cd0-a320-7b4b358fd847",
      "metadata": {
        "id": "cd97efd1-524a-4cd0-a320-7b4b358fd847"
      },
      "source": [
        "По умолчанию список отсортирован по возрастанию.  "
      ]
    },
    {
      "cell_type": "markdown",
      "id": "8b6ccc91-ec05-4e00-a937-208112e1f69c",
      "metadata": {
        "id": "8b6ccc91-ec05-4e00-a937-208112e1f69c"
      },
      "source": [
        "- Отсортируем список `total_sales` по убыванию."
      ]
    },
    {
      "cell_type": "markdown",
      "id": "4d1d1524-026d-445f-8c72-7f8060833af5",
      "metadata": {
        "id": "4d1d1524-026d-445f-8c72-7f8060833af5"
      },
      "source": [
        "Для сортировки по убыванию используем аргумент `reverse = True`."
      ]
    },
    {
      "cell_type": "code",
      "execution_count": null,
      "id": "0e6cfb16-38fd-44b7-a461-555fa2d57a9d",
      "metadata": {
        "id": "0e6cfb16-38fd-44b7-a461-555fa2d57a9d",
        "outputId": "957cd527-98f2-49a5-cf7a-2750c0f05dcc"
      },
      "outputs": [
        {
          "name": "stdout",
          "output_type": "stream",
          "text": [
            "[1320, 840, 780, 600, 300, 180, 60]\n"
          ]
        }
      ],
      "source": [
        "# создаем список\n",
        "total_sales = [840, 600, 1320, 300, 780, 60, 180]\n",
        "\n",
        "# сортируем список\n",
        "total_sales.sort(reverse = True)\n",
        "\n",
        "# результат - измененный список\n",
        "print(total_sales)"
      ]
    },
    {
      "cell_type": "markdown",
      "id": "9adfb182-3eef-4aff-9a29-d808ca8ab3c5",
      "metadata": {
        "id": "9adfb182-3eef-4aff-9a29-d808ca8ab3c5"
      },
      "source": [
        "Сортировка элементов списка методом `sort()` производится по умолчанию **лексикографически** — проще говоря, в алфавитном порядке, а также от меньшего значения к большему. Регистр также имеет значение.   \n",
        "Сортировка идет в следующем порядке:\n",
        "1) знаки препинания;  \n",
        "2) A..Z; \n",
        "3) a..z; \n",
        "4) А...Я; \n",
        "5) а..я."
      ]
    },
    {
      "cell_type": "markdown",
      "id": "120066c6-9591-4bc0-bc93-d41de78468c2",
      "metadata": {
        "id": "120066c6-9591-4bc0-bc93-d41de78468c2"
      },
      "source": [
        "**Пример**"
      ]
    },
    {
      "cell_type": "markdown",
      "id": "552cbd3f-2b77-4432-84c3-b42109f3f6e6",
      "metadata": {
        "id": "552cbd3f-2b77-4432-84c3-b42109f3f6e6"
      },
      "source": [
        "Отсортируем список `senders`."
      ]
    },
    {
      "cell_type": "code",
      "execution_count": null,
      "id": "3623f7ac-998f-4d3b-9f02-f46246158377",
      "metadata": {
        "tags": [],
        "id": "3623f7ac-998f-4d3b-9f02-f46246158377",
        "outputId": "c84b30c6-55e4-466c-f594-6175a6d9dfaf"
      },
      "outputs": [
        {
          "name": "stdout",
          "output_type": "stream",
          "text": [
            "['Комбинатская', 'Новоярославская', 'Стенькино', 'Яничкино']\n"
          ]
        }
      ],
      "source": [
        "# список \n",
        "senders = ['Яничкино', 'Стенькино', 'Комбинатская', 'Новоярославская']\n",
        "\n",
        "# сортировка списка\n",
        "senders.sort()\n",
        "\n",
        "# результат - измененный список\n",
        "print(senders)"
      ]
    },
    {
      "cell_type": "markdown",
      "id": "c7b78d56-4e0d-421f-aeb6-831cee787be4",
      "metadata": {
        "id": "c7b78d56-4e0d-421f-aeb6-831cee787be4"
      },
      "source": [
        "#### 📝 `sorted()`"
      ]
    },
    {
      "cell_type": "markdown",
      "id": "f767027a-70b4-4de0-b484-97ee6c7a570a",
      "metadata": {
        "id": "f767027a-70b4-4de0-b484-97ee6c7a570a"
      },
      "source": [
        "**Различие** между методом `sort()` и функцией `sorted()` заключается в следующем:  \n",
        "`sort()` изменяет исходный список ,  \n",
        "`sorted()` не изменяет переданный список и возвращает новый отсортированный список."
      ]
    },
    {
      "cell_type": "markdown",
      "id": "21e11485-05e6-4b87-8677-d256fd4d7e16",
      "metadata": {
        "id": "21e11485-05e6-4b87-8677-d256fd4d7e16"
      },
      "source": [
        "**Синтаксис:**  \n",
        "`sorted(list)`  \n",
        "\n",
        "**Описание:**  \n",
        "возвращает новый отсортированный список"
      ]
    },
    {
      "cell_type": "markdown",
      "id": "4e84eff7-cf38-459c-8214-bb8ecb6d1d3c",
      "metadata": {
        "id": "4e84eff7-cf38-459c-8214-bb8ecb6d1d3c"
      },
      "source": [
        "**Пример**"
      ]
    },
    {
      "cell_type": "markdown",
      "id": "bc4edb0d-a1d8-4cae-8997-ff975003fca2",
      "metadata": {
        "id": "bc4edb0d-a1d8-4cae-8997-ff975003fca2"
      },
      "source": [
        "Отсортируем список `total_sales`."
      ]
    },
    {
      "cell_type": "code",
      "execution_count": null,
      "id": "aed979ca-9018-48c2-83b7-2c016d317b1b",
      "metadata": {
        "id": "aed979ca-9018-48c2-83b7-2c016d317b1b",
        "outputId": "d5276061-2a16-4b00-d107-f9be5d029554"
      },
      "outputs": [
        {
          "name": "stdout",
          "output_type": "stream",
          "text": [
            "Отсортированный список - результат sorted(): ['1320', '180', '300', '60', '600', '780', '840']\n",
            "Исходный список: ['840', '600', '1320', '300', '780', '60', '180']\n"
          ]
        }
      ],
      "source": [
        "# создаем список\n",
        "total_sales = ['840', '600', '1320', '300', '780', '60', '180']\n",
        "\n",
        "# сортируем список\n",
        "sorted(total_sales)\n",
        "\n",
        "# результат - исходный список и новый отсортированный список\n",
        "print(f'Отсортированный список - результат sorted(): {sorted(total_sales)}')\n",
        "print(f'Исходный список: {total_sales}')"
      ]
    },
    {
      "cell_type": "markdown",
      "id": "07862097-85eb-4004-8fbc-f1ebf43f4ea6",
      "metadata": {
        "id": "07862097-85eb-4004-8fbc-f1ebf43f4ea6"
      },
      "source": [
        "### Поиск элементов по индексу"
      ]
    },
    {
      "cell_type": "markdown",
      "id": "7163ab7d-1ec4-4882-9f9f-58c88d70d5d9",
      "metadata": {
        "id": "7163ab7d-1ec4-4882-9f9f-58c88d70d5d9"
      },
      "source": [
        "#### 📝`index()`"
      ]
    },
    {
      "cell_type": "markdown",
      "id": "3f0ca11b-39fe-4ccd-b256-4e563008c4ef",
      "metadata": {
        "id": "3f0ca11b-39fe-4ccd-b256-4e563008c4ef"
      },
      "source": [
        "**Синтаксис:**  \n",
        "`list.index(element, start, end)`\n",
        "\n",
        "**Описание:**  \n",
        "Возвращает индекс первого вхождения искомого значения в списке.  \n",
        "\n",
        "**Параметры:**  \n",
        "`element` — искомое значение;   \n",
        "`start` — индекс, с которого начинается поиск элемента. Необязательный аргумент, по умолчанию равен нулю;  \n",
        "`end` — индекс, до которого ведется поиск элемента. Необязательный аргумент, по умолчанию равен len(list).  \n",
        "\n",
        "**Возвращаемое значение:**    \n",
        "Индекс искомого значения в списке.  \n",
        "\n",
        "**Примечание:**  \n",
        "Если элемент не найден - ошибка `ValueError`.  "
      ]
    },
    {
      "cell_type": "markdown",
      "id": "f8607f99-b848-4876-8184-1dd788f1191f",
      "metadata": {
        "id": "f8607f99-b848-4876-8184-1dd788f1191f"
      },
      "source": [
        "**Пример**"
      ]
    },
    {
      "cell_type": "markdown",
      "id": "6f358a89-4a10-463f-a6f1-30af5236a9ab",
      "metadata": {
        "id": "6f358a89-4a10-463f-a6f1-30af5236a9ab"
      },
      "source": [
        "- Найдем индекс элемента 'ЯНОС' в списке `sales_yanos`."
      ]
    },
    {
      "cell_type": "code",
      "execution_count": null,
      "id": "ab767edf-e84c-4463-bf88-6ba79d24fefb",
      "metadata": {
        "id": "ab767edf-e84c-4463-bf88-6ba79d24fefb",
        "outputId": "cb7496ee-47ed-4c2c-8b37-4030c5f3dbab"
      },
      "outputs": [
        {
          "name": "stdout",
          "output_type": "stream",
          "text": [
            "2\n"
          ]
        }
      ],
      "source": [
        "# создаем списки\n",
        "sales_yanos = ['АИ-92', 'ст. Новоярославская','ЯНОС', 821.1]\n",
        "\n",
        "# поиск элемента - ЯНОС\n",
        "print(sales_yanos.index('ЯНОС'))"
      ]
    },
    {
      "cell_type": "markdown",
      "id": "3c18b8df-29c5-4e8d-988c-79fb393b5385",
      "metadata": {
        "id": "3c18b8df-29c5-4e8d-988c-79fb393b5385"
      },
      "source": [
        "- Найдем индекс элемента 'ЯНОС' в диапазоне списка `sales_yanos`."
      ]
    },
    {
      "cell_type": "code",
      "execution_count": null,
      "id": "fa9b1b1e-6ce1-451c-bc99-ff924f5f9f5a",
      "metadata": {
        "id": "fa9b1b1e-6ce1-451c-bc99-ff924f5f9f5a",
        "outputId": "0e95cbab-8214-4631-9768-e8db6d754a22"
      },
      "outputs": [
        {
          "ename": "ValueError",
          "evalue": "'ЯНОС' is not in list",
          "output_type": "error",
          "traceback": [
            "\u001b[1;31m---------------------------------------------------------------------------\u001b[0m",
            "\u001b[1;31mValueError\u001b[0m                                Traceback (most recent call last)",
            "\u001b[1;32m<ipython-input-37-c0877640c157>\u001b[0m in \u001b[0;36m<module>\u001b[1;34m\u001b[0m\n\u001b[0;32m      3\u001b[0m \u001b[1;33m\u001b[0m\u001b[0m\n\u001b[0;32m      4\u001b[0m \u001b[1;31m# поиск несуществующего элемента - ЯНОС в диапазоне\u001b[0m\u001b[1;33m\u001b[0m\u001b[1;33m\u001b[0m\u001b[1;33m\u001b[0m\u001b[0m\n\u001b[1;32m----> 5\u001b[1;33m \u001b[0mprint\u001b[0m\u001b[1;33m(\u001b[0m\u001b[0msales_yanos\u001b[0m\u001b[1;33m.\u001b[0m\u001b[0mindex\u001b[0m\u001b[1;33m(\u001b[0m\u001b[1;34m'ЯНОС'\u001b[0m\u001b[1;33m,\u001b[0m\u001b[1;36m0\u001b[0m\u001b[1;33m,\u001b[0m \u001b[1;36m1\u001b[0m\u001b[1;33m)\u001b[0m\u001b[1;33m)\u001b[0m\u001b[1;33m\u001b[0m\u001b[1;33m\u001b[0m\u001b[0m\n\u001b[0m",
            "\u001b[1;31mValueError\u001b[0m: 'ЯНОС' is not in list"
          ]
        }
      ],
      "source": [
        "# создаем списки\n",
        "sales_yanos = ['АИ-92', 'ст. Новоярославская','ЯНОС', 821.1]\n",
        "\n",
        "# поиск несуществующего элемента - ЯНОС в диапазоне\n",
        "print(sales_yanos.index('ЯНОС',0, 1))"
      ]
    },
    {
      "cell_type": "markdown",
      "id": "1c91d0f2-672f-4266-b1f3-e83b19271e51",
      "metadata": {
        "id": "1c91d0f2-672f-4266-b1f3-e83b19271e51"
      },
      "source": [
        "Результат - ошибка: элемента нет в списке."
      ]
    },
    {
      "cell_type": "markdown",
      "id": "e9b68185-a0d2-41a4-9070-5f56c60bef82",
      "metadata": {
        "id": "e9b68185-a0d2-41a4-9070-5f56c60bef82"
      },
      "source": [
        "- Попробуем найтие индекс несуществующего элемента 'МНПЗ' в списке `sales_yanos`."
      ]
    },
    {
      "cell_type": "code",
      "execution_count": null,
      "id": "bce6b9fd-7a23-4f8b-8631-9e11de0cd38c",
      "metadata": {
        "id": "bce6b9fd-7a23-4f8b-8631-9e11de0cd38c",
        "outputId": "a019267f-86ed-46b8-c5b3-f9d23deae29d"
      },
      "outputs": [
        {
          "ename": "ValueError",
          "evalue": "'МНПЗ' is not in list",
          "output_type": "error",
          "traceback": [
            "\u001b[1;31m---------------------------------------------------------------------------\u001b[0m",
            "\u001b[1;31mValueError\u001b[0m                                Traceback (most recent call last)",
            "\u001b[1;32m<ipython-input-38-6271a658d2b6>\u001b[0m in \u001b[0;36m<module>\u001b[1;34m\u001b[0m\n\u001b[0;32m      3\u001b[0m \u001b[1;33m\u001b[0m\u001b[0m\n\u001b[0;32m      4\u001b[0m \u001b[1;31m# поиск несуществующего элемента - МНПЗ\u001b[0m\u001b[1;33m\u001b[0m\u001b[1;33m\u001b[0m\u001b[1;33m\u001b[0m\u001b[0m\n\u001b[1;32m----> 5\u001b[1;33m \u001b[0mprint\u001b[0m\u001b[1;33m(\u001b[0m\u001b[0msales_yanos\u001b[0m\u001b[1;33m.\u001b[0m\u001b[0mindex\u001b[0m\u001b[1;33m(\u001b[0m\u001b[1;34m'МНПЗ'\u001b[0m\u001b[1;33m)\u001b[0m\u001b[1;33m)\u001b[0m\u001b[1;33m\u001b[0m\u001b[1;33m\u001b[0m\u001b[0m\n\u001b[0m",
            "\u001b[1;31mValueError\u001b[0m: 'МНПЗ' is not in list"
          ]
        }
      ],
      "source": [
        "# создаем списки\n",
        "sales_yanos = ['АИ-92', 'ст. Новоярославская','ЯНОС', 821.1]\n",
        "\n",
        "# поиск несуществующего элемента - МНПЗ  \n",
        "print(sales_yanos.index('МНПЗ'))\n"
      ]
    },
    {
      "cell_type": "markdown",
      "id": "19298938-caf6-42bf-992e-75708878006e",
      "metadata": {
        "id": "19298938-caf6-42bf-992e-75708878006e"
      },
      "source": [
        "Результат - ошибка: элемента нет в списке."
      ]
    },
    {
      "cell_type": "markdown",
      "id": "91de4f11-b2e3-4b15-af8c-9982a6500fbf",
      "metadata": {
        "id": "91de4f11-b2e3-4b15-af8c-9982a6500fbf"
      },
      "source": [
        "### Подсчет количества вхождений элемента в список"
      ]
    },
    {
      "cell_type": "markdown",
      "id": "80f2ad61-d6e2-4e61-bce8-be76580c488c",
      "metadata": {
        "id": "80f2ad61-d6e2-4e61-bce8-be76580c488c"
      },
      "source": [
        "#### 📝`count()`"
      ]
    },
    {
      "cell_type": "markdown",
      "id": "0f1c2d67-4b6a-4bcf-a8af-9dd3e04e58e1",
      "metadata": {
        "id": "0f1c2d67-4b6a-4bcf-a8af-9dd3e04e58e1"
      },
      "source": [
        "**Синтаксис:**  \n",
        "`list.count(element)`\n",
        "\n",
        "**Описание:**  \n",
        "Возвращает количество вхождений указанного элемента в список.\n",
        "\n",
        "**Параметры:**  \n",
        "`element` — элемент, количество вхождений которого надо определить.  \n",
        "\n",
        "**Возвращаемое значение:**    \n",
        "Количество вхождений указанного элемента в списке.\n"
      ]
    },
    {
      "cell_type": "markdown",
      "id": "5e3f7fe2-a9a6-46d2-aba8-9955c5f00e1c",
      "metadata": {
        "id": "5e3f7fe2-a9a6-46d2-aba8-9955c5f00e1c"
      },
      "source": [
        "**Пример**"
      ]
    },
    {
      "cell_type": "markdown",
      "id": "b68eb0c8-1bc6-4e3e-885d-991d07180185",
      "metadata": {
        "id": "b68eb0c8-1bc6-4e3e-885d-991d07180185"
      },
      "source": [
        "Определим количество вхождений 'ст. Стенькино II' в списке `stations`."
      ]
    },
    {
      "cell_type": "code",
      "execution_count": null,
      "id": "6a72bf91-e1d6-4344-9be7-f5248277b3a6",
      "metadata": {
        "id": "6a72bf91-e1d6-4344-9be7-f5248277b3a6",
        "outputId": "356e66ec-5d02-4191-db62-a3b8b66660e0"
      },
      "outputs": [
        {
          "name": "stdout",
          "output_type": "stream",
          "text": [
            "2\n"
          ]
        }
      ],
      "source": [
        "# список станций\n",
        "stations = [\n",
        "    'ст. Новоярославская',\n",
        "    'ст. Стенькино II'\n",
        "    'ст. Аллагуват',\n",
        "    'ст. Биклянь',\n",
        "    'ст. Комбинатская',\n",
        "    'ст. Никель',\n",
        "    'ст. Новая Еловка',\n",
        "    'ст. Новоярославская',\n",
        "    'ст. Осенцы',\n",
        "    'ст. Протока',\n",
        "    'ст. Стенькино II',\n",
        "    'ст. Сургут',\n",
        "    'ст. Ветласян',\n",
        "    'ст. Яничкино',\n",
        "    'ст. Зелецино',\n",
        "    'ст. Аллагуват',\n",
        "    'ст. Никель',\n",
        "    'ст. Новая Еловка',\n",
        "    'ст. Стенькино II'\n",
        "]\n",
        "\n",
        "# # определим количество вхождений 'ст. Стенькино II' в исходном списке\n",
        "print(stations.count('ст. Стенькино II'))"
      ]
    },
    {
      "cell_type": "markdown",
      "id": "0c62de03-27dc-48e0-817c-2a5543781197",
      "metadata": {
        "id": "0c62de03-27dc-48e0-817c-2a5543781197"
      },
      "source": [
        "## Списки и строки"
      ]
    },
    {
      "cell_type": "markdown",
      "id": "dcd9dbda-f49a-40ec-ade7-37a6483a0080",
      "metadata": {
        "id": "dcd9dbda-f49a-40ec-ade7-37a6483a0080"
      },
      "source": [
        "На практике часто встречаются ситуации, когда строку для последующих преобразований необходимо превратить в список, чтобы изменить текст: удалить повторяющиеся слова, заменить определённые фрагменты. После всех изменений список нужно вновь объединить в строку:"
      ]
    },
    {
      "cell_type": "markdown",
      "id": "c2f39b80-ddd2-490a-bd8c-0f4cdbb5490e",
      "metadata": {
        "id": "c2f39b80-ddd2-490a-bd8c-0f4cdbb5490e"
      },
      "source": [
        "### От строки к списку `split()`"
      ]
    },
    {
      "cell_type": "markdown",
      "id": "1bf8b76d-d561-402f-97dd-708b343b9e98",
      "metadata": {
        "id": "1bf8b76d-d561-402f-97dd-708b343b9e98"
      },
      "source": [
        "**Синтаксис:**  \n",
        "`string.split(sep, maxsplit)`  \n",
        "`string` – любая допустимая строка в Python  \n",
        "\n",
        "**Параметры:**  \n",
        "`sep` – это разделитель, по которому вы хотите разделить исходную строку. Его следует указывать в виде строки (то есть в ''). Необязательный аргумент. По умолчанию `sep` - это пробел.   \n",
        "`maxsplit` - указывает, сколько раз вы хотите разделить исходную строку `string`. По умолчанию `maxsplit` имеет значение -1, то есть метод разбивает строку по всем вхождениям параметра sep."
      ]
    },
    {
      "cell_type": "code",
      "execution_count": null,
      "id": "ac6b4acd-9882-4b18-8bb6-b4043541ae6b",
      "metadata": {
        "id": "ac6b4acd-9882-4b18-8bb6-b4043541ae6b",
        "outputId": "16530e5d-4fb8-4472-c23b-c89a4385e442"
      },
      "outputs": [
        {
          "name": "stdout",
          "output_type": "stream",
          "text": [
            "['г.', 'Омск,', 'просп.', 'Губкина,', '1']\n"
          ]
        }
      ],
      "source": [
        "# создаем строку\n",
        "address_onpz = 'г. Омск, просп. Губкина, 1'  \n",
        "\n",
        "# преобразуем в список\n",
        "address_onpz = address_onpz.split()\n",
        "\n",
        "# результат - список\n",
        "print(address_onpz)"
      ]
    },
    {
      "cell_type": "markdown",
      "id": "e681824a-c487-4105-939b-376f59f2c7f6",
      "metadata": {
        "id": "e681824a-c487-4105-939b-376f59f2c7f6"
      },
      "source": [
        "Уже сейчас мы можем удалить ненужные нам символы - 'г.', 'просп.', используя методы списка из текущего урока."
      ]
    },
    {
      "cell_type": "code",
      "execution_count": null,
      "id": "0b22c245-9073-46fd-923a-c40481486255",
      "metadata": {
        "id": "0b22c245-9073-46fd-923a-c40481486255"
      },
      "outputs": [],
      "source": [
        "# используем метод remove()\n",
        "address_onpz.remove('г.')\n",
        "address_onpz.remove('просп.')"
      ]
    },
    {
      "cell_type": "code",
      "execution_count": null,
      "id": "4ae75c68-2278-4273-a9e2-3e7951178bd4",
      "metadata": {
        "id": "4ae75c68-2278-4273-a9e2-3e7951178bd4",
        "outputId": "7b1cd06b-3273-4f7c-a6b8-7c562fbf8afb"
      },
      "outputs": [
        {
          "data": {
            "text/plain": [
              "['Омск,', 'Губкина,', '1']"
            ]
          },
          "execution_count": 42,
          "metadata": {},
          "output_type": "execute_result"
        }
      ],
      "source": [
        "address_onpz"
      ]
    },
    {
      "cell_type": "markdown",
      "id": "b1c3ac26-492d-46ff-8467-506ec87ebf0c",
      "metadata": {
        "id": "b1c3ac26-492d-46ff-8467-506ec87ebf0c"
      },
      "source": [
        "### От списка к строке `join()`"
      ]
    },
    {
      "cell_type": "markdown",
      "id": "4b2efeb0-8ada-4738-8075-9f1b952a08fc",
      "metadata": {
        "id": "4b2efeb0-8ada-4738-8075-9f1b952a08fc"
      },
      "source": [
        "В примере выше мы преобразовали список в строку, поработали с ним, теперь вернем обратно в строку. Нам поможет метод `join()`\n",
        "\n",
        "**Синтаксис:**  \n",
        "`sep.join(list)`\n",
        "\n",
        "**Параметры:**  \n",
        "`list` – список, из которого формируем строку  \n",
        "`sep` – разделитель, с помощью которого хотим объединить подстроки. Указываем его как строку - в ' '.\n",
        "\n",
        "**Примечание**  \n",
        "Список, передаваемый методу, должен состоять из строк.  \n",
        "Если попробовать использовать список с другим содержимым, то результатом будет ошибка - *TypeError*."
      ]
    },
    {
      "cell_type": "markdown",
      "id": "c49f8bc3-d015-4b73-a693-ad86dc6b3be8",
      "metadata": {
        "id": "c49f8bc3-d015-4b73-a693-ad86dc6b3be8"
      },
      "source": [
        "**Пример**"
      ]
    },
    {
      "cell_type": "markdown",
      "id": "ce19fe43-5526-45b5-b5f9-cc1b2a9f2211",
      "metadata": {
        "id": "ce19fe43-5526-45b5-b5f9-cc1b2a9f2211"
      },
      "source": [
        "Преобразуем ранее полученный список address_onpz = ['Омск,', 'Губкина,', '1'] в строку."
      ]
    },
    {
      "cell_type": "code",
      "execution_count": null,
      "id": "5272ee1f-ef8b-4837-b248-92e34fd6cfb6",
      "metadata": {
        "id": "5272ee1f-ef8b-4837-b248-92e34fd6cfb6",
        "outputId": "0c7e2957-f140-435a-c3c1-ed8072feaf18"
      },
      "outputs": [
        {
          "name": "stdout",
          "output_type": "stream",
          "text": [
            "['Омск,', 'Губкина,', '1']\n"
          ]
        }
      ],
      "source": [
        "# ранее получен список address_onpz = ['Омск,', 'Губкина,', '1']\n",
        "print(address_onpz)"
      ]
    },
    {
      "cell_type": "code",
      "execution_count": null,
      "id": "dd3b7c50-58d9-40e2-8dc1-cfc9f6326bac",
      "metadata": {
        "id": "dd3b7c50-58d9-40e2-8dc1-cfc9f6326bac"
      },
      "outputs": [],
      "source": [
        "# преобразуем его в строку \n",
        "address_onpz = ''.join(address_onpz)"
      ]
    },
    {
      "cell_type": "code",
      "execution_count": null,
      "id": "97dd577b-e921-4caf-a259-f3ffb033f2bc",
      "metadata": {
        "id": "97dd577b-e921-4caf-a259-f3ffb033f2bc",
        "outputId": "bc4c841a-0717-46fb-faab-2e51ddf17d1d"
      },
      "outputs": [
        {
          "name": "stdout",
          "output_type": "stream",
          "text": [
            "Омск,Губкина,1\n"
          ]
        }
      ],
      "source": [
        "# результат - строка\n",
        "print(address_onpz)"
      ]
    },
    {
      "cell_type": "code",
      "execution_count": null,
      "id": "25fa1f02-115f-4446-908a-d80496c867df",
      "metadata": {
        "id": "25fa1f02-115f-4446-908a-d80496c867df",
        "outputId": "ab59924b-495e-4cac-e0c6-cb0fa529245f"
      },
      "outputs": [
        {
          "name": "stdout",
          "output_type": "stream",
          "text": [
            "<class 'str'>\n"
          ]
        }
      ],
      "source": [
        "# проверим тип данных\n",
        "print(type(address_onpz))"
      ]
    },
    {
      "cell_type": "markdown",
      "id": "4df1acca-507c-4310-8d11-8a7779a792a6",
      "metadata": {
        "id": "4df1acca-507c-4310-8d11-8a7779a792a6"
      },
      "source": [
        "## Итоги\n",
        "1. Список - это структура данных, которая хранит набор или последовательность элементов. `list()`  \n",
        "2. Список - изменяемый тип данных.\n",
        "3. Для создания списка используются `[]`.\n",
        "4. Длину списка (количество элементов в списке) определяем функцией `len()`.\n",
        "5. К элементу в списке можно обратиться по индексу - `list[index]`. У первого элемента списка индекс 0. Возможна обратная нумерация: тогда у последнего элемента списка индекс -1.\n",
        "6. Списки можно \"складывать\" - с помощью оператора \"`+`\" и дублировать - с помощью оператора \"`*`\".  \n",
        "7. Методы списков разнообразны. Применяются к списку через \"`.`\". Если у нас есть список `list`, его методы будут вызываться следующим образом:     \n",
        "    `list.append(x)` — позволяет добавлять элемент в конец списка;    \n",
        "    `list1.extend(list2)` — предназначен для сложения списков;    \n",
        "    `list.insert(i, x)` — служит для добавления элемента на указанную позицию (`i` — позиция, `x` — элемент);    \n",
        "    `list.remove(x)` — удаляет элемент из списка (только первое вхождение);  \n",
        "    `list.pop(i)` — удаляет элемент из позиции `i`;  \n",
        "    `list.sort()` — сортирует элементы списка и изменяет исходный список;\n",
        "    функция `sorted(list)` — сортирует элементы списка и возвращает новый отсортированный список;  \n",
        "    `list.index()` — возвращает индекс первого вхождения искомого значения в списке.\n",
        "8. Списки и строки:  \n",
        "    - преобразование строки в список split();  \n",
        "    - преобразование списка в строку join()."
      ]
    },
    {
      "cell_type": "markdown",
      "id": "fcb57198-637e-43db-afec-0a0d2c72cd8e",
      "metadata": {
        "id": "fcb57198-637e-43db-afec-0a0d2c72cd8e"
      },
      "source": [
        "## При подготовке конспекта использованы:"
      ]
    },
    {
      "cell_type": "markdown",
      "id": "a03a5663-1d2d-4c55-a5f4-7cb808890e20",
      "metadata": {
        "id": "a03a5663-1d2d-4c55-a5f4-7cb808890e20"
      },
      "source": [
        "[Работа со списками (list) в Python](https://pythonchik.ru/osnovy/spiski-v-python)  \n",
        "[Списки в Python: полное руководство для начинающих](https://pythonist.ru/spiski-v-python-polnoe-rukovodstvo-dlya-nachinayushhih/) [Аллен Б. Дауни Основы Python. Научитесь думать как программист](https://t.me/python_360_reserv/16)    \n",
        "[Создание списков в Python. Объединение списков в Python. Функция list() в Python](https://otus.ru/nest/post/585/)  \n",
        "[Методы списков Python](https://pythonist.ru/metody-spiskov-python/)  \n",
        "[Python: сортировка списков методом .sort() с ключом — простыми словамиъ](https://habr.com/ru/post/138535/)  \n",
        "[Строковые методы split() и join() в Python](https://pythonist.ru/strokovye-metody-split-i-join-v-python/)"
      ]
    }
  ],
  "metadata": {
    "kernelspec": {
      "display_name": "Python 3",
      "language": "python",
      "name": "python3"
    },
    "language_info": {
      "codemirror_mode": {
        "name": "ipython",
        "version": 3
      },
      "file_extension": ".py",
      "mimetype": "text/x-python",
      "name": "python",
      "nbconvert_exporter": "python",
      "pygments_lexer": "ipython3",
      "version": "3.8.8"
    },
    "colab": {
      "provenance": [],
      "collapsed_sections": [
        "6be06e07-9447-4420-9d56-77fe57f938ba"
      ],
      "include_colab_link": true
    }
  },
  "nbformat": 4,
  "nbformat_minor": 5
}