{
  "cells": [
    {
      "cell_type": "markdown",
      "metadata": {
        "id": "view-in-github",
        "colab_type": "text"
      },
      "source": [
        "<a href=\"https://colab.research.google.com/github/bambutch/python_classes/blob/main/lesson_9_bool.ipynb\" target=\"_parent\"><img src=\"https://colab.research.google.com/assets/colab-badge.svg\" alt=\"Open In Colab\"/></a>"
      ]
    },
    {
      "cell_type": "markdown",
      "id": "8c10482d-3cc9-42f8-8a23-59a4c2151924",
      "metadata": {
        "id": "8c10482d-3cc9-42f8-8a23-59a4c2151924"
      },
      "source": [
        "# Конспект 9"
      ]
    },
    {
      "cell_type": "markdown",
      "id": "639e5453-d873-4a22-a078-6aca9f573c9a",
      "metadata": {
        "id": "639e5453-d873-4a22-a078-6aca9f573c9a"
      },
      "source": [
        "# Логические выражения и операторы сравнения: булев тип в действии"
      ]
    },
    {
      "cell_type": "markdown",
      "id": "054f8cde-8438-4562-a16f-f0885377c9df",
      "metadata": {
        "id": "054f8cde-8438-4562-a16f-f0885377c9df"
      },
      "source": [
        "В данном уроке мы:  \n",
        "- узнаем, что такое булев тип данных;  \n",
        "- посмотрим преобразования к булеву типу;  \n",
        "- разберемся, что собой представляю логические выражения;  \n",
        "- посмотрим, как работают операторы сравнения, логические операторы и их комбинации;  \n",
        "- узнаем, что такое функции-предикаты."
      ]
    },
    {
      "cell_type": "markdown",
      "id": "26c9b475-73a5-44c2-986d-06ba6929014c",
      "metadata": {
        "id": "26c9b475-73a5-44c2-986d-06ba6929014c"
      },
      "source": [
        "## Булев тип данных"
      ]
    },
    {
      "cell_type": "markdown",
      "id": "ddbd7283-7678-4330-99b2-0006dbc53341",
      "metadata": {
        "id": "ddbd7283-7678-4330-99b2-0006dbc53341"
      },
      "source": [
        "Мы анализируем данные не только в числовом или текстовом представлении. Мы также работаем с данными, представленными в виде ответов \"да\" / \"нет\" (\"истина\" / \"ложь\"):  \n",
        "- нажал ли пользователь на баннер;  \n",
        "- находится ли клиент в группе оттока;  \n",
        "- является ли сделка биржевой;  \n",
        "- есть ли исследуемый навык у вакансии и т.д.  "
      ]
    },
    {
      "cell_type": "markdown",
      "id": "1dca63d6-46ea-4d50-a138-a0b70a111f5c",
      "metadata": {
        "id": "1dca63d6-46ea-4d50-a138-a0b70a111f5c"
      },
      "source": [
        "Для работы с такими данными в Python есть логический тип - `bool` с двумя предопределенными значениями:  \n",
        "**True** — истина;  \n",
        "**False** — ложь."
      ]
    },
    {
      "cell_type": "markdown",
      "id": "4a9743cb-eb11-4bdc-94ce-ef02c294d56a",
      "metadata": {
        "id": "4a9743cb-eb11-4bdc-94ce-ef02c294d56a"
      },
      "source": [
        "True и False пишутся с большой буквы.  \n",
        "Если написать с маленькой true, интерпретатор выдаст ошибку: `NameError: name 'true' is not defined`.  "
      ]
    },
    {
      "cell_type": "markdown",
      "id": "5a94a91b-e6b3-4741-876f-dc00d7e71d66",
      "metadata": {
        "id": "5a94a91b-e6b3-4741-876f-dc00d7e71d66"
      },
      "source": [
        "### Преобразование типа bool в числовой формат."
      ]
    },
    {
      "cell_type": "markdown",
      "id": "6fc116b7-d403-4e70-addd-07561fa95155",
      "metadata": {
        "id": "6fc116b7-d403-4e70-addd-07561fa95155"
      },
      "source": [
        "Преобразование логического типа в числовой может потребоваться, когда вы производите вычисления на основании имеющихся булевых значений.  \n",
        "Например, располагая данными данными типа о сдаче экзаменов студентами в формате `сдал (True) / не сдал (False)`, можно вычислить долю студентов успешно сдавших экзамен."
      ]
    },
    {
      "cell_type": "markdown",
      "id": "5d4e84c9-7060-427d-b11e-ff50d3ddb589",
      "metadata": {
        "id": "5d4e84c9-7060-427d-b11e-ff50d3ddb589"
      },
      "source": [
        "Известная вам функция `int()` преобразует логическое значение в 1 или 0."
      ]
    },
    {
      "cell_type": "code",
      "execution_count": null,
      "id": "3bfdd3cb-f524-4dc6-9e3c-9e4b6455b21f",
      "metadata": {
        "id": "3bfdd3cb-f524-4dc6-9e3c-9e4b6455b21f",
        "outputId": "16cea185-f578-46ce-ce92-73500c59f7a2"
      },
      "outputs": [
        {
          "name": "stdout",
          "output_type": "stream",
          "text": [
            "1\n"
          ]
        }
      ],
      "source": [
        "print(int(True))"
      ]
    },
    {
      "cell_type": "code",
      "execution_count": null,
      "id": "3f1d9018-8bdb-4127-b1cc-6c3eaa93c286",
      "metadata": {
        "id": "3f1d9018-8bdb-4127-b1cc-6c3eaa93c286",
        "outputId": "3aafe9c9-9f9a-46e3-e577-395f4318ec0c"
      },
      "outputs": [
        {
          "name": "stdout",
          "output_type": "stream",
          "text": [
            "0\n"
          ]
        }
      ],
      "source": [
        "print(int(False))"
      ]
    },
    {
      "cell_type": "markdown",
      "id": "85f4e762-b984-4328-8e41-b63dd6715fd3",
      "metadata": {
        "id": "85f4e762-b984-4328-8e41-b63dd6715fd3"
      },
      "source": [
        "Аналогичного результата можно добиться умножением логического типа на единицу."
      ]
    },
    {
      "cell_type": "code",
      "execution_count": null,
      "id": "4526c30d-8e8c-44d4-9dff-a8579127873e",
      "metadata": {
        "id": "4526c30d-8e8c-44d4-9dff-a8579127873e",
        "outputId": "4cf60550-221c-41a8-9c98-b96149812ef2"
      },
      "outputs": [
        {
          "name": "stdout",
          "output_type": "stream",
          "text": [
            "1\n"
          ]
        }
      ],
      "source": [
        "print(True * 1)"
      ]
    },
    {
      "cell_type": "code",
      "execution_count": null,
      "id": "c9017776-0d79-49cb-9dab-a82663880290",
      "metadata": {
        "id": "c9017776-0d79-49cb-9dab-a82663880290",
        "outputId": "b20cd819-4d31-4cad-f3c3-8bd57c86aaea"
      },
      "outputs": [
        {
          "name": "stdout",
          "output_type": "stream",
          "text": [
            "0\n"
          ]
        }
      ],
      "source": [
        "print(False * 1)"
      ]
    },
    {
      "cell_type": "markdown",
      "id": "11dc2c76-041c-4c9c-ad07-66d26d280c6d",
      "metadata": {
        "id": "11dc2c76-041c-4c9c-ad07-66d26d280c6d"
      },
      "source": [
        "Можно преобразовать какое-либо значение к булевому типу с помощью функции `bool()`."
      ]
    },
    {
      "cell_type": "code",
      "execution_count": null,
      "id": "a6808a3a-a1a8-45bf-bf08-d425f370e9e2",
      "metadata": {
        "id": "a6808a3a-a1a8-45bf-bf08-d425f370e9e2",
        "outputId": "09180692-b868-445d-cc06-2af6f7ac3fb4"
      },
      "outputs": [
        {
          "name": "stdout",
          "output_type": "stream",
          "text": [
            "True\n"
          ]
        }
      ],
      "source": [
        "print(bool(-256))"
      ]
    },
    {
      "cell_type": "code",
      "execution_count": null,
      "id": "82fdcecd-2d5a-406c-93be-c5b1d9fbd1cf",
      "metadata": {
        "id": "82fdcecd-2d5a-406c-93be-c5b1d9fbd1cf",
        "outputId": "c1bd92d6-3492-42a6-a558-5801dd88d18c"
      },
      "outputs": [
        {
          "name": "stdout",
          "output_type": "stream",
          "text": [
            "True\n"
          ]
        }
      ],
      "source": [
        "print(bool('Яничкино'))"
      ]
    },
    {
      "cell_type": "code",
      "execution_count": null,
      "id": "1c0d8bb0-25be-446a-a5a2-2aed686a5497",
      "metadata": {
        "id": "1c0d8bb0-25be-446a-a5a2-2aed686a5497",
        "outputId": "294de019-2c78-49e4-efe1-65dfed6a2f97"
      },
      "outputs": [
        {
          "name": "stdout",
          "output_type": "stream",
          "text": [
            "False\n"
          ]
        }
      ],
      "source": [
        "print(bool([]))"
      ]
    },
    {
      "cell_type": "code",
      "execution_count": null,
      "id": "9663a4de-dff2-44c1-9e4a-30c6293f2882",
      "metadata": {
        "id": "9663a4de-dff2-44c1-9e4a-30c6293f2882",
        "outputId": "761418b0-07e5-4ce0-8d85-ee663f269494"
      },
      "outputs": [
        {
          "name": "stdout",
          "output_type": "stream",
          "text": [
            "False\n"
          ]
        }
      ],
      "source": [
        "print(bool({}))"
      ]
    },
    {
      "cell_type": "markdown",
      "id": "2112e57e-d3d4-4bbf-8e35-67b67b66b2ed",
      "metadata": {
        "id": "2112e57e-d3d4-4bbf-8e35-67b67b66b2ed"
      },
      "source": [
        "Всё, что не 0 и не пустота, является правдой (`True`). В примерах выше - это число -256, строка 'Яничкино'.  \n",
        "Пустой список и пустой словарь при преобразовании к логическому типу дают `False`."
      ]
    },
    {
      "cell_type": "markdown",
      "id": "35b94f79-866e-4dd5-b1b1-e138d1c8f367",
      "metadata": {
        "id": "35b94f79-866e-4dd5-b1b1-e138d1c8f367"
      },
      "source": [
        "## Логические выражение"
      ]
    },
    {
      "cell_type": "markdown",
      "id": "5ed6d404-7edb-4dba-a81c-d2b8ab418ce8",
      "metadata": {
        "id": "5ed6d404-7edb-4dba-a81c-d2b8ab418ce8"
      },
      "source": [
        "**Логическое выражение** - конструкция Python, результатом вычисления которой является «истина» (True) или «ложь» (False).  \n",
        "Логические выражения называют также **булевыми выражениями**."
      ]
    },
    {
      "cell_type": "markdown",
      "id": "9551a201-be9b-48af-be99-83cdcc2cd3c6",
      "metadata": {
        "id": "9551a201-be9b-48af-be99-83cdcc2cd3c6"
      },
      "source": [
        "К ним относятся:  \n",
        "- выражения с операторами сравнения (`==`, `!=`, `>`, `<`, `>=`, `<=`);  \n",
        "- выражения с логическими операторами (`and`, 'or', 'not');\n",
        "- функции-предикаты."
      ]
    },
    {
      "cell_type": "markdown",
      "id": "be915a26-942c-41c5-b789-55c3817ff8bb",
      "metadata": {
        "id": "be915a26-942c-41c5-b789-55c3817ff8bb"
      },
      "source": [
        "### Операторы сравнения"
      ]
    },
    {
      "cell_type": "markdown",
      "id": "89514f22-0dc4-4d51-8c57-14f475b68e64",
      "metadata": {
        "id": "89514f22-0dc4-4d51-8c57-14f475b68e64"
      },
      "source": [
        "1. `>` (больше)  \n",
        "2. `<` (меньше)  \n",
        "3. `>=` (больше или равно)  \n",
        "4. `<=` (меньше или равно)  \n",
        "5. `==` (равно)  \n",
        "6. `!=` (не равно)"
      ]
    },
    {
      "cell_type": "markdown",
      "id": "09a190a9-89be-424a-aac4-d791352a1a18",
      "metadata": {
        "id": "09a190a9-89be-424a-aac4-d791352a1a18"
      },
      "source": [
        "Выражения с операторами сравнения могут выглядеть следующим образом:"
      ]
    },
    {
      "cell_type": "markdown",
      "id": "c95635e4-e098-433e-9b82-acc3ff8e7ae2",
      "metadata": {
        "id": "c95635e4-e098-433e-9b82-acc3ff8e7ae2"
      },
      "source": [
        "**Математическое сравнение.**"
      ]
    },
    {
      "cell_type": "code",
      "execution_count": null,
      "id": "e9159dd6-832a-4298-b831-3ec09ec55f5a",
      "metadata": {
        "id": "e9159dd6-832a-4298-b831-3ec09ec55f5a",
        "outputId": "13b2fd2c-0f77-4795-9797-45f96a2c4be3"
      },
      "outputs": [
        {
          "name": "stdout",
          "output_type": "stream",
          "text": [
            "False\n"
          ]
        }
      ],
      "source": [
        "# числовой тип данных\n",
        "print(37790 == 36800)"
      ]
    },
    {
      "cell_type": "markdown",
      "id": "ff5d7fc2-18af-4a39-b401-1c25cc8ac7b2",
      "metadata": {
        "id": "ff5d7fc2-18af-4a39-b401-1c25cc8ac7b2"
      },
      "source": [
        "**Сравнение строк:**   \n",
        "посимвольное, лексикографический принцип."
      ]
    },
    {
      "cell_type": "code",
      "execution_count": null,
      "id": "0a3a7605-5591-421a-a5b4-8a054defb8a5",
      "metadata": {
        "id": "0a3a7605-5591-421a-a5b4-8a054defb8a5",
        "outputId": "2df845f1-6ae0-4544-f307-5b0ded5a4200"
      },
      "outputs": [
        {
          "name": "stdout",
          "output_type": "stream",
          "text": [
            "True\n"
          ]
        }
      ],
      "source": [
        "# строковый тип данных\n",
        "print('Яничкино' > 'Комбинатская')"
      ]
    },
    {
      "cell_type": "markdown",
      "id": "58620690-0dfa-475f-b5d6-61bd4d6f3d62",
      "metadata": {
        "id": "58620690-0dfa-475f-b5d6-61bd4d6f3d62"
      },
      "source": [
        "При сравнении строк, Python конвертирует символы в их соответствующие порядковые значения, после чего сравнивает слева направо.  \n",
        "Сравнение двух строк 'Яничкино' и 'Комбинатская' начинается с первого символа: 'Я' и 'К'. \n",
        "Здесь интуитивно понятно, какой символ будет иметь большее значение (Я находится после К, то есть имеет больший порядковый номер, соответственно больше К)."
      ]
    },
    {
      "cell_type": "markdown",
      "id": "7b6c3142-1e96-4e01-8ce3-f6596b343e05",
      "metadata": {
        "id": "7b6c3142-1e96-4e01-8ce3-f6596b343e05"
      },
      "source": [
        "Узнать уникальное значение какого-нибудь символ можно с помощью функции `ord()`."
      ]
    },
    {
      "cell_type": "code",
      "execution_count": null,
      "id": "9ed92c8b-4c3c-4742-8608-290b5093274a",
      "metadata": {
        "id": "9ed92c8b-4c3c-4742-8608-290b5093274a",
        "outputId": "d97f9496-f5d1-4568-b123-6a0af8a06270"
      },
      "outputs": [
        {
          "name": "stdout",
          "output_type": "stream",
          "text": [
            "1071\n"
          ]
        }
      ],
      "source": [
        "print(ord('Я'))"
      ]
    },
    {
      "cell_type": "code",
      "execution_count": null,
      "id": "50afbc8b-61e3-49b3-ad5e-56cbc603e860",
      "metadata": {
        "id": "50afbc8b-61e3-49b3-ad5e-56cbc603e860",
        "outputId": "405549d5-b746-47c5-b2fd-3997a11bf842"
      },
      "outputs": [
        {
          "name": "stdout",
          "output_type": "stream",
          "text": [
            "1050\n"
          ]
        }
      ],
      "source": [
        "print(ord('К'))"
      ]
    },
    {
      "cell_type": "markdown",
      "id": "decc14bd-2626-470f-a5f4-65b26a2b24ca",
      "metadata": {
        "id": "decc14bd-2626-470f-a5f4-65b26a2b24ca"
      },
      "source": [
        "**Сравнение списков:**  \n",
        "каждый элемент списка по очереди сравнивается с другим."
      ]
    },
    {
      "cell_type": "code",
      "execution_count": null,
      "id": "e4ee5d06-61ad-437e-a3e5-577c107c5a59",
      "metadata": {
        "id": "e4ee5d06-61ad-437e-a3e5-577c107c5a59",
        "outputId": "c28181ff-5fd7-4166-9672-8241fbe0c29b"
      },
      "outputs": [
        {
          "name": "stdout",
          "output_type": "stream",
          "text": [
            "True\n"
          ]
        }
      ],
      "source": [
        "# сравнение списков\n",
        "print([600, 37740] <= [1320, 36690])"
      ]
    },
    {
      "cell_type": "markdown",
      "id": "cbe42ed1-97cb-4425-871b-d2a2e575f35b",
      "metadata": {
        "id": "cbe42ed1-97cb-4425-871b-d2a2e575f35b"
      },
      "source": [
        "Можно проверить словарь на идентичность (==)"
      ]
    },
    {
      "cell_type": "code",
      "execution_count": null,
      "id": "ae6e68f8-2f76-48e3-9b53-5ba0996e22c9",
      "metadata": {
        "id": "ae6e68f8-2f76-48e3-9b53-5ba0996e22c9",
        "outputId": "735f16b9-c674-4dcd-b26f-e5b9087c9dd8"
      },
      "outputs": [
        {
          "name": "stdout",
          "output_type": "stream",
          "text": [
            "False\n"
          ]
        }
      ],
      "source": [
        "# сравнение словарей\n",
        "print({'ОНПЗ': 'Комбинатская'} == {'онпз': 'комбинатская'})"
      ]
    },
    {
      "cell_type": "markdown",
      "id": "642c75d7-58ee-4658-a6d6-c946dad316e4",
      "metadata": {
        "id": "642c75d7-58ee-4658-a6d6-c946dad316e4"
      },
      "source": [
        "### Логические операторы"
      ]
    },
    {
      "cell_type": "markdown",
      "id": "00e3241b-14f7-4d84-a5e0-fa23014968ac",
      "metadata": {
        "id": "00e3241b-14f7-4d84-a5e0-fa23014968ac"
      },
      "source": [
        "При работе с логическими значениями Python предоставляет операторы: \n",
        "`and` - и;\n",
        "`or` - или;\n",
        "`not` - не."
      ]
    },
    {
      "cell_type": "markdown",
      "id": "12871ad2-8cad-42b6-9bcb-90e7a7a6f6bf",
      "metadata": {
        "id": "12871ad2-8cad-42b6-9bcb-90e7a7a6f6bf"
      },
      "source": [
        "Оператор `and` возвращает истинное значение, только тогда, когда по обе стороны от него находятся истинные значения.  \n",
        "Оператор `or` возвращает истинное значение, когда хотя бы с одной стороны от него находится истинное значение.  \n",
        "Оператор `not` меняет значение на противоположное."
      ]
    },
    {
      "cell_type": "markdown",
      "id": "f594f409-6a65-48e8-8adf-6b20c6991dd1",
      "metadata": {
        "id": "f594f409-6a65-48e8-8adf-6b20c6991dd1"
      },
      "source": [
        "#### Таблица истинности для логических операторов"
      ]
    },
    {
      "cell_type": "markdown",
      "id": "aba748a6-825b-437a-8b7f-16f92250f0d1",
      "metadata": {
        "id": "aba748a6-825b-437a-8b7f-16f92250f0d1"
      },
      "source": [
        "![image.png](data:image/png;base64,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)"
      ]
    },
    {
      "cell_type": "markdown",
      "id": "4750c150-d7d7-4807-ac88-78923cbe3599",
      "metadata": {
        "id": "4750c150-d7d7-4807-ac88-78923cbe3599"
      },
      "source": [
        "На практике часто необходимо комбинировать операторы сравнения и логические операторы.  \n",
        "Например, для фильтрования таблицы по нескольким параметрам: хотим посмотреть сегмент клиентов, которые приобрели определенный товар (`item == 'АИ-92'`) за последнюю неделю (`date <= (NOW - 7)`). Одновременное выполнение условий обеспечит логический оператор `and `.  \n",
        "\n",
        "В результате комбинации операторов сравнения и логических операторов  получаем **сложные логические выражения**."
      ]
    },
    {
      "cell_type": "markdown",
      "id": "0e4d26ad-8df3-437c-a432-c4b569153bb3",
      "metadata": {
        "id": "0e4d26ad-8df3-437c-a432-c4b569153bb3"
      },
      "source": [
        "#### Приоритет выполнения операторов"
      ]
    },
    {
      "cell_type": "markdown",
      "id": "7059be97-0d8a-406c-a940-c63cef61b526",
      "metadata": {
        "id": "7059be97-0d8a-406c-a940-c63cef61b526"
      },
      "source": [
        "В сложных логических выражениях установлен следующий приоритет операторов (в таблице операторы расположены по снижению приоритета).  "
      ]
    },
    {
      "cell_type": "markdown",
      "id": "e7985b8d-a7f7-4181-8f62-7e17569f4415",
      "metadata": {
        "id": "e7985b8d-a7f7-4181-8f62-7e17569f4415"
      },
      "source": [
        "![image.png](data:image/png;base64,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)"
      ]
    },
    {
      "cell_type": "code",
      "execution_count": null,
      "id": "19c012cb-d982-4ad5-a38a-1a75d9405980",
      "metadata": {
        "id": "19c012cb-d982-4ad5-a38a-1a75d9405980",
        "outputId": "3710a579-9a06-4524-9e93-66af8d2fd946"
      },
      "outputs": [
        {
          "name": "stdout",
          "output_type": "stream",
          "text": [
            "True\n"
          ]
        }
      ],
      "source": [
        "# создадим переменные\n",
        "oil_price = 37740  \n",
        "sale = 600\n",
        "\n",
        "# оператор and\n",
        "print(oil_price > 37700 and sale > 540)"
      ]
    },
    {
      "cell_type": "code",
      "execution_count": null,
      "id": "f251903b-0d83-4062-8cbd-095d063adbff",
      "metadata": {
        "id": "f251903b-0d83-4062-8cbd-095d063adbff",
        "outputId": "4fa877d9-fe39-46a4-c045-98c337d47638"
      },
      "outputs": [
        {
          "name": "stdout",
          "output_type": "stream",
          "text": [
            "True\n"
          ]
        }
      ],
      "source": [
        "# создадим переменные\n",
        "oil_price = 37740  \n",
        "sale = 600\n",
        "\n",
        "# оператор or\n",
        "print(oil_price > 37700 or sale < 540)"
      ]
    },
    {
      "cell_type": "code",
      "execution_count": null,
      "id": "2821dede-1219-43bb-a9ab-2f9ebcffb202",
      "metadata": {
        "id": "2821dede-1219-43bb-a9ab-2f9ebcffb202",
        "outputId": "a9051256-2fb1-44e9-868c-13178e3e09ff"
      },
      "outputs": [
        {
          "name": "stdout",
          "output_type": "stream",
          "text": [
            "False\n"
          ]
        }
      ],
      "source": [
        "# создадим переменные\n",
        "oil_price = 37740  \n",
        "sale = 600\n",
        "\n",
        "# оператор or\n",
        "print(not oil_price > 37700 or sale < 540)"
      ]
    },
    {
      "cell_type": "markdown",
      "id": "d3c8eeef-ea08-4f49-a4d3-1fd52f841e6b",
      "metadata": {
        "id": "d3c8eeef-ea08-4f49-a4d3-1fd52f841e6b"
      },
      "source": [
        "### Функции-предикаты"
      ]
    },
    {
      "cell_type": "markdown",
      "id": "bdceb209-50b7-4d60-97ce-007d4acfbc77",
      "metadata": {
        "id": "bdceb209-50b7-4d60-97ce-007d4acfbc77"
      },
      "source": [
        "Функция-предикат отвечает на утвердительный вопрос «да» или «нет» и возвращает значение типа bool (True или False)."
      ]
    },
    {
      "cell_type": "markdown",
      "id": "a49322d3-626c-4ae1-98d1-f58111426a09",
      "metadata": {
        "id": "a49322d3-626c-4ae1-98d1-f58111426a09"
      },
      "source": [
        "Примеры:  \n",
        "- метод строк `islower()` - возвращает True, если все символы строки являются строчными (стоят в нижнем регистре). Иначе - False.  \n",
        "- метод строк `isnumeric()` - возвращает True, если все символы в строке являются числовыми. Иначе - False.  "
      ]
    },
    {
      "cell_type": "code",
      "execution_count": null,
      "id": "309cb621-14de-47e2-be9d-6752102be3fc",
      "metadata": {
        "id": "309cb621-14de-47e2-be9d-6752102be3fc",
        "outputId": "032e0c02-5e78-4eff-eeec-8b4d26a622ec"
      },
      "outputs": [
        {
          "name": "stdout",
          "output_type": "stream",
          "text": [
            "False\n",
            "True\n"
          ]
        }
      ],
      "source": [
        "# формируем строку\n",
        "station = \"Яничкино\"\n",
        "price = '37740'\n",
        "\n",
        "# проверяем строку\n",
        "print(station.islower())\n",
        "print(price.isnumeric())"
      ]
    },
    {
      "cell_type": "markdown",
      "id": "dcf54e6a-2639-4ab3-99b0-d75786354c12",
      "metadata": {
        "id": "dcf54e6a-2639-4ab3-99b0-d75786354c12"
      },
      "source": [
        "## Итоги\n",
        "1. Логический тип данных (bool) (булевый тип) - это тип данных, который принимает 2 значения — истина (True) или ложь (False).  \n",
        "2. Булевый тип можно преобразовать в числовой формат с помощью `int()` или `* 1`: True соответствует 1, False - 0.  \n",
        "3. Логическое выражение - конструкция Python, результатом вычисления которой является «истина» (True) или «ложь» (False): \n",
        "    - выражения с операторами сравнения (`==`, `!=`, `>`, `<`, `>=`, `<=`);  \n",
        "    - выражения с логическими операторами (`and`, 'or', 'not');\n",
        "    - функции-предикаты.  \n",
        "4. Функция-предикат отвечает на утвердительный вопрос «да» или «нет» и возвращает значение типа bool (True или False)."
      ]
    },
    {
      "cell_type": "markdown",
      "id": "3964f271-ccc2-4ad0-987d-06db4dbe970e",
      "metadata": {
        "id": "3964f271-ccc2-4ad0-987d-06db4dbe970e"
      },
      "source": [
        "## При подготовке конспекта использованы:"
      ]
    },
    {
      "cell_type": "markdown",
      "id": "f9ddca46-9e40-4d11-8c6e-da7caf9cbcd7",
      "metadata": {
        "id": "f9ddca46-9e40-4d11-8c6e-da7caf9cbcd7"
      },
      "source": [
        "1. [Логический тип данных (bool) в Python](https://pythonchik.ru/osnovy/logicheskiy-tip-dannyh)    \n",
        "2. [Операторы и выражения в Python](https://pythonchik.ru/osnovy/operatory-i-vyrazheniya-v-python)  \n",
        "3. [Операторы в Python](https://pythonist.ru/operatory-v-python/)  \n",
        "4. [Логические выражения](https://learn4kid-python.firebaseapp.com/tkinter_1/python_bool/#выражения)\n",
        "5. [Таблица истинности](https://ru.wikipedia.org/wiki/Таблица_истинности)  \n",
        "6. [Как сравнить строки в Python? Операторы сравнения строк](https://otus.ru/nest/post/1093/)"
      ]
    }
  ],
  "metadata": {
    "kernelspec": {
      "display_name": "Python 3",
      "language": "python",
      "name": "python3"
    },
    "language_info": {
      "codemirror_mode": {
        "name": "ipython",
        "version": 3
      },
      "file_extension": ".py",
      "mimetype": "text/x-python",
      "name": "python",
      "nbconvert_exporter": "python",
      "pygments_lexer": "ipython3",
      "version": "3.8.8"
    },
    "toc-autonumbering": false,
    "colab": {
      "provenance": [],
      "include_colab_link": true
    }
  },
  "nbformat": 4,
  "nbformat_minor": 5
}