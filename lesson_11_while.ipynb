{
  "cells": [
    {
      "cell_type": "markdown",
      "metadata": {
        "id": "view-in-github",
        "colab_type": "text"
      },
      "source": [
        "<a href=\"https://colab.research.google.com/github/bambutch/python_classes/blob/main/lesson_11_while.ipynb\" target=\"_parent\"><img src=\"https://colab.research.google.com/assets/colab-badge.svg\" alt=\"Open In Colab\"/></a>"
      ]
    },
    {
      "cell_type": "markdown",
      "id": "dd78810e-8a97-4a9b-863e-8bc522788b84",
      "metadata": {
        "id": "dd78810e-8a97-4a9b-863e-8bc522788b84"
      },
      "source": [
        "# Конспект 11"
      ]
    },
    {
      "cell_type": "markdown",
      "id": "12d33443-6dd2-4ea4-b92d-e3d1af9ac1ca",
      "metadata": {
        "id": "12d33443-6dd2-4ea4-b92d-e3d1af9ac1ca"
      },
      "source": [
        "# Цикл while: делай  до тех пор, пока…"
      ]
    },
    {
      "cell_type": "markdown",
      "id": "c2312716-0bc5-4ae6-b3b4-3064d53f6a2b",
      "metadata": {
        "id": "c2312716-0bc5-4ae6-b3b4-3064d53f6a2b"
      },
      "source": [
        "В данном уроке мы:  \n",
        "- узнаем, для чего нам нужен `цикл while`;  \n",
        "- познакомимся со структурой `цикла while`;  \n",
        "- научимся создавать `цикл while`;  \n",
        "- посмотрим, как избежать бесконечного цикла."
      ]
    },
    {
      "cell_type": "markdown",
      "id": "ea1c7ab0-c3d9-4723-a404-7e6d5d4b390f",
      "metadata": {
        "id": "ea1c7ab0-c3d9-4723-a404-7e6d5d4b390f"
      },
      "source": [
        "В предыдущих уроках мы рассматривали `цикл for`.  \n",
        "Он используется тогда, когда необходимо совершить *перебор элементов* заранее известное число раз.  \n",
        "У нас имеется последовательность, сначала из нее берется первый элемент, потом – второй и так далее, и с каждым из них совершается действие, которое указано в теле for.   \n",
        "\n",
        "*Пример аналитической задачи, где может потребоваться `цикл for`*   \n",
        "Знакомясь с предоставленными данными, вы всегда будете совершать ряд стандартных шагов - выводить первые строки на экран, изучать общую информацию о датасетах, смотреть пропуски и дубликаты и т.д. Если исходные данные - несколько таблиц - можно сформировать список из наименований переменных (содержащих в себе таблицы) и перебирать элементы этого списка, выполняя список необходимых действий."
      ]
    },
    {
      "cell_type": "markdown",
      "id": "13388b05-d073-4a7b-8ae8-cb65ef4c015e",
      "metadata": {
        "id": "13388b05-d073-4a7b-8ae8-cb65ef4c015e"
      },
      "source": [
        "`Цикл while` используется, когда количество проверок точно неизвестно. Суть работы цикла while очень проста. Работает он так: ваши инструкции выполняются, пока условие истинно. Цикл while проверяет условие перед каждой итерацией цикла. Если возвращается True, то выполняется блок кода внутри цикла.  \n",
        "\n",
        "*Пример аналитической задачи, где может потребоваться `цикл while`*  \n",
        "Просуммировать расходные операции за определенный период: цикл будет выполняться пока фактическая дата операции будет меньше даты отсечки.  "
      ]
    },
    {
      "cell_type": "markdown",
      "id": "4d8e4738-5a63-4c7e-b7d4-9ba7995f26a4",
      "metadata": {
        "id": "4d8e4738-5a63-4c7e-b7d4-9ba7995f26a4"
      },
      "source": [
        "**Синтаксис**"
      ]
    },
    {
      "cell_type": "markdown",
      "id": "ab672a9f-6ea9-4631-bc1b-82f825f8a9e4",
      "metadata": {
        "id": "ab672a9f-6ea9-4631-bc1b-82f825f8a9e4"
      },
      "source": [
        "![image.png](data:image/png;base64,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)"
      ]
    },
    {
      "cell_type": "markdown",
      "id": "77d814cf-2d0d-47e5-b198-8e94bb23f731",
      "metadata": {
        "id": "77d814cf-2d0d-47e5-b198-8e94bb23f731"
      },
      "source": [
        "Для изменения списков в процессе обработки удобно использовать цикл while.   "
      ]
    },
    {
      "cell_type": "markdown",
      "id": "7dea0765-d0f7-41c0-a966-963ec35c7581",
      "metadata": {
        "id": "7dea0765-d0f7-41c0-a966-963ec35c7581"
      },
      "source": [
        "**Пример**  \n",
        "У нас есть выгруженный список станций. Для последующих расчетов необходимо удалить из него ст. Стенькино II.  \n",
        "В списке наименование станции встречается неоднократно.\n",
        "Нам уже известно, что метод `remove()` для списков удаляет лишь первое вхождение заданного значения в список.  \n",
        "Чтобы удалить все вхождения, используем цикл while."
      ]
    },
    {
      "cell_type": "code",
      "execution_count": null,
      "id": "3cfab1e5-43a2-4c12-b073-6b423a947d40",
      "metadata": {
        "id": "3cfab1e5-43a2-4c12-b073-6b423a947d40"
      },
      "outputs": [],
      "source": [
        "# список станций\n",
        "stations = [\n",
        "    'ст. Новоярославская',\n",
        "    'ст. Стенькино II'\n",
        "    'ст. Аллагуват',\n",
        "    'ст. Биклянь',\n",
        "    'ст. Комбинатская',\n",
        "    'ст. Никель',\n",
        "    'ст. Новая Еловка',\n",
        "    'ст. Новоярославская',\n",
        "    'ст. Осенцы',\n",
        "    'ст. Протока',\n",
        "    'ст. Стенькино II',\n",
        "    'ст. Сургут',\n",
        "    'ст. Ветласян',\n",
        "    'ст. Яничкино',\n",
        "    'ст. Зелецино',\n",
        "    'ст. Аллагуват',\n",
        "    'ст. Никель',\n",
        "    'ст. Новая Еловка',\n",
        "    'ст. Стенькино II'\n",
        "]"
      ]
    },
    {
      "cell_type": "code",
      "execution_count": null,
      "id": "9f39f3f1-dd8e-4245-9b32-9a9e174925da",
      "metadata": {
        "id": "9f39f3f1-dd8e-4245-9b32-9a9e174925da",
        "outputId": "91727eff-b527-4c03-ad85-9d32ef65199d"
      },
      "outputs": [
        {
          "data": {
            "text/plain": [
              "'Количество элементов ст. Стенькино II в списке stations - 2'"
            ]
          },
          "execution_count": 2,
          "metadata": {},
          "output_type": "execute_result"
        }
      ],
      "source": [
        "# определим количество вхождений 'ст. Стенькино II' в исходном списке\n",
        "f\"Количество элементов ст. Стенькино II в списке stations - {stations.count('ст. Стенькино II')}\"\n"
      ]
    },
    {
      "cell_type": "code",
      "execution_count": null,
      "id": "8a865ffe-3522-43ce-b6b0-8b7d73e65a7c",
      "metadata": {
        "id": "8a865ffe-3522-43ce-b6b0-8b7d73e65a7c"
      },
      "outputs": [],
      "source": [
        "# удалим из списка 'ст. Стенькино II'\n",
        "while 'ст. Стенькино II' in stations:\n",
        "    stations.remove('ст. Стенькино II')"
      ]
    },
    {
      "cell_type": "code",
      "execution_count": null,
      "id": "eb1d3732-eb27-4b3e-bb44-f345723baf51",
      "metadata": {
        "id": "eb1d3732-eb27-4b3e-bb44-f345723baf51",
        "outputId": "979981d9-a732-42c8-bcd3-3c2d54893577"
      },
      "outputs": [
        {
          "name": "stdout",
          "output_type": "stream",
          "text": [
            "['ст. Новоярославская', 'ст. Стенькино IIст. Аллагуват', 'ст. Биклянь', 'ст. Комбинатская', 'ст. Никель', 'ст. Новая Еловка', 'ст. Новоярославская', 'ст. Осенцы', 'ст. Протока', 'ст. Сургут', 'ст. Ветласян', 'ст. Яничкино', 'ст. Зелецино', 'ст. Аллагуват', 'ст. Никель', 'ст. Новая Еловка']\n"
          ]
        }
      ],
      "source": [
        "# выведем список\n",
        "print(stations)"
      ]
    },
    {
      "cell_type": "code",
      "execution_count": null,
      "id": "21997dca-6758-4150-994e-f16d918aa07a",
      "metadata": {
        "id": "21997dca-6758-4150-994e-f16d918aa07a",
        "outputId": "e582faab-88fb-4f6d-8376-cfe67894b0bd"
      },
      "outputs": [
        {
          "data": {
            "text/plain": [
              "'Количество элементов ст. Стенькино II в списке stations - 0'"
            ]
          },
          "execution_count": 5,
          "metadata": {},
          "output_type": "execute_result"
        }
      ],
      "source": [
        "# проверка вхождения 'ст. Стенькино II'  в список после цикла while\n",
        "# используем функцию count()\n",
        "f\"Количество элементов ст. Стенькино II в списке stations - {stations.count('ст. Стенькино II')}\"    \n"
      ]
    },
    {
      "cell_type": "markdown",
      "id": "19083392-029b-4b82-8957-fd6028d265ad",
      "metadata": {
        "id": "19083392-029b-4b82-8957-fd6028d265ad"
      },
      "source": [
        "**Пример**  \n",
        "На пункте отгрузки одновременно могут находиться 20 машин. Как только количество прибывших для загрузки, превысит 20 - выведем сообщение \"Ожидайте, отгрузку\"."
      ]
    },
    {
      "cell_type": "code",
      "execution_count": null,
      "id": "ee0af23b-2e40-4828-a836-089e231e6814",
      "metadata": {
        "id": "ee0af23b-2e40-4828-a836-089e231e6814",
        "outputId": "5fe59750-a136-49a8-8415-c34b8452646d"
      },
      "outputs": [
        {
          "name": "stdout",
          "output_type": "stream",
          "text": [
            "1 Отгрузка возможна\n",
            "2 Отгрузка возможна\n",
            "3 Отгрузка возможна\n",
            "4 Отгрузка возможна\n",
            "5 Отгрузка возможна\n",
            "6 Отгрузка возможна\n",
            "7 Отгрузка возможна\n",
            "8 Отгрузка возможна\n",
            "9 Отгрузка возможна\n",
            "10 Отгрузка возможна\n",
            "11 Отгрузка возможна\n",
            "12 Отгрузка возможна\n",
            "13 Отгрузка возможна\n",
            "14 Отгрузка возможна\n",
            "15 Отгрузка возможна\n",
            "16 Отгрузка возможна\n",
            "17 Отгрузка возможна\n",
            "18 Отгрузка возможна\n",
            "19 Отгрузка возможна\n",
            "20 Отгрузка возможна\n",
            "21 Ожидайте отгрузку\n"
          ]
        }
      ],
      "source": [
        "max_car_number = 20  # максимальное количество\n",
        "now_car_number = 0   # количество машин под загрузкой\n",
        "\n",
        "# в каждую итерацию цикл while проверяет выполнение условия\n",
        "while now_car_number < max_car_number: \n",
        "    # переменная-счетчик, учитывает прибывающие машины\n",
        "    now_car_number +=1                   \n",
        "    print(now_car_number, 'Отгрузка возможна')\n",
        "    \n",
        "print(now_car_number + 1,'Ожидайте отгрузку')   "
      ]
    },
    {
      "cell_type": "markdown",
      "id": "91b20741-e8b5-454a-b564-beb4fbee4b52",
      "metadata": {
        "id": "91b20741-e8b5-454a-b564-beb4fbee4b52"
      },
      "source": [
        "## Бесконечный цикл"
      ]
    },
    {
      "cell_type": "markdown",
      "id": "2e08afa7-c67d-4e4f-9a95-ba98de48b83e",
      "metadata": {
        "id": "2e08afa7-c67d-4e4f-9a95-ba98de48b83e"
      },
      "source": [
        "В большинстве случаев, бесконечные циклы появляются из-за логических ошибок - например, когда условие цикла while при любых вариантах верно (равно True)."
      ]
    },
    {
      "cell_type": "markdown",
      "id": "c6347017-f49b-4dcb-89ea-d02e4bee4f95",
      "metadata": {
        "id": "c6347017-f49b-4dcb-89ea-d02e4bee4f95"
      },
      "source": [
        "**Пример**  \n",
        "Используя цикл while, выведем информацию об объеме продаж и предоставляемой скидке. Известно, что скидка 100 руб./т предоставляется при объеме продаж свыше 60 тонн."
      ]
    },
    {
      "cell_type": "code",
      "execution_count": null,
      "id": "b39db238-5fd2-4392-a179-b9df0961aab4",
      "metadata": {
        "id": "b39db238-5fd2-4392-a179-b9df0961aab4",
        "outputId": "87ce3363-c3bb-4238-d89d-e1a15424f7d8"
      },
      "outputs": [
        {
          "name": "stdout",
          "output_type": "stream",
          "text": [
            "Объем продаж -  100  тонн -  скидка - 100 руб./т\n",
            "Объем продаж -  130  тонн -  скидка - 100 руб./т\n",
            "Объем продаж -  160  тонн -  скидка - 100 руб./т\n",
            "Объем продаж -  190  тонн -  скидка - 100 руб./т\n",
            "Объем продаж -  220  тонн -  скидка - 100 руб./т\n",
            "Объем продаж -  250  тонн -  скидка - 100 руб./т\n"
          ]
        }
      ],
      "source": [
        "import time\n",
        "\n",
        "sale = 100\n",
        "\n",
        "while sale > 60:  \n",
        "    print('Объем продаж - ', sale, ' тонн - ','скидка - 100 руб./т')\n",
        "    sale += 30\n",
        "    time.sleep(2)\n",
        "    "
      ]
    },
    {
      "cell_type": "markdown",
      "id": "a2080298-b34b-4740-b0b0-b961fc6b68b9",
      "metadata": {
        "tags": [],
        "id": "a2080298-b34b-4740-b0b0-b961fc6b68b9"
      },
      "source": [
        "*Комментарий*  \n",
        "Объем продаж `sale` = 100  \n",
        "Условие в цикле while (`sale > 60`) никогда не вернет False, так как 100 > 60.    \n",
        "Цикл содержит логическую ошибку и выполняется бесконечно. Чтобы предотвратить нагрузку процессора, используется функция `sleep()` из модуля `time`. Она приостановливает выполнение программы на заданное количество секунд (в примере - 2), чтобы успеть прервать выполнение цикла.  \n",
        "Выполнение кода можно прервать перезапуском ядра: в Jupiter Notebook - `Kernel-Restart Kernel`, в Google Colab - `Среда выполнения-Прервать выполнение кода`."
      ]
    },
    {
      "cell_type": "markdown",
      "id": "f6f84a73-8461-45f2-80f1-7332cb7f80a5",
      "metadata": {
        "id": "f6f84a73-8461-45f2-80f1-7332cb7f80a5"
      },
      "source": [
        "## Итоги\n",
        "1. `Цикл while` (до тех пор, пока..) используется, когда количество проверок точно неизвестно.  \n",
        "Суть работы: ваши инструкции выполняются, пока условие истинно.  \n",
        "2. Структура цикла:   \n",
        "\n",
        "![image.png](data:image/png;base64,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)  \n",
        "3. С `циклом while` надо быть осторожнее - программа может уйти в зацикливание. Основная причина - логические ошибки. "
      ]
    },
    {
      "cell_type": "markdown",
      "id": "738e7529-e013-4dde-9a1d-50b1bfbec57d",
      "metadata": {
        "id": "738e7529-e013-4dde-9a1d-50b1bfbec57d"
      },
      "source": [
        "## При подготовке конспекта использованы:"
      ]
    },
    {
      "cell_type": "markdown",
      "id": "ce327bb8-4347-4913-bd5c-3c562c5ff576",
      "metadata": {
        "id": "ce327bb8-4347-4913-bd5c-3c562c5ff576"
      },
      "source": [
        "1. [Как работает цикл \"while\" в Python](https://pythonchik.ru/osnovy/cikl-while-v-python)  \n",
        "2. [Подробный разбор цикла while в Python](https://pythonist.ru/czikl-while/)\n",
        "3. [Модуль time](https://pythonworld.ru/moduli/modul-time.html)  \n",
        "4. [Python циклы](https://all-python.ru/osnovy/tsikly.html#tsikl-while)  \n",
        "5. [Цикл while в Python](https://pythonclass.ru/python/cikl-while-v-python/#flagi)"
      ]
    }
  ],
  "metadata": {
    "kernelspec": {
      "display_name": "Python 3",
      "language": "python",
      "name": "python3"
    },
    "language_info": {
      "codemirror_mode": {
        "name": "ipython",
        "version": 3
      },
      "file_extension": ".py",
      "mimetype": "text/x-python",
      "name": "python",
      "nbconvert_exporter": "python",
      "pygments_lexer": "ipython3",
      "version": "3.8.8"
    },
    "colab": {
      "provenance": [],
      "include_colab_link": true
    }
  },
  "nbformat": 4,
  "nbformat_minor": 5
}