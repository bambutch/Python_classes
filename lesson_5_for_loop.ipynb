{
  "cells": [
    {
      "cell_type": "markdown",
      "metadata": {
        "id": "view-in-github",
        "colab_type": "text"
      },
      "source": [
        "<a href=\"https://colab.research.google.com/github/bambutch/python_classes/blob/main/lesson_5_for_loop.ipynb\" target=\"_parent\"><img src=\"https://colab.research.google.com/assets/colab-badge.svg\" alt=\"Open In Colab\"/></a>"
      ]
    },
    {
      "cell_type": "markdown",
      "id": "ee778c07-5647-4e1a-b9dc-350a8406d1e3",
      "metadata": {
        "id": "ee778c07-5647-4e1a-b9dc-350a8406d1e3"
      },
      "source": [
        "# Конспект 5"
      ]
    },
    {
      "cell_type": "markdown",
      "id": "89b679b1-4352-430b-beb4-895194613664",
      "metadata": {
        "id": "89b679b1-4352-430b-beb4-895194613664"
      },
      "source": [
        "# Цикл for: сделай для каждого..."
      ]
    },
    {
      "cell_type": "markdown",
      "id": "08183df4-512b-4e4a-a68d-c940ba9d6a40",
      "metadata": {
        "id": "08183df4-512b-4e4a-a68d-c940ba9d6a40"
      },
      "source": [
        "В данном уроке мы:  \n",
        "- узнаем, для чего нам нужны циклы;  \n",
        "- познакомимся со структурой цикла;  \n",
        "- научимся создавать цикл;  \n",
        "- посмотрим, как перебирать значения и индексы списков;  \n",
        "- попробуем производить вычисления в цикле;  \n",
        "- посмотрим на ошибки, которые могут возникать при работе с циклами.  "
      ]
    },
    {
      "cell_type": "markdown",
      "id": "5f4059fb-c6c3-43db-9e7e-cbf64f25b3f3",
      "metadata": {
        "id": "5f4059fb-c6c3-43db-9e7e-cbf64f25b3f3"
      },
      "source": [
        "Циклы необходимы, если нам надо что-либо сделать множество раз, реализовать последовательность одинаковых действий.  \n",
        "Цикл **for — «для каждого»** — повторяет определённое действие для каждого элемента последовательности.  "
      ]
    },
    {
      "cell_type": "markdown",
      "id": "8ace0f63-ea72-4f03-8719-fff3f94fddb7",
      "metadata": {
        "id": "8ace0f63-ea72-4f03-8719-fff3f94fddb7"
      },
      "source": [
        "## Перебор элементов списка"
      ]
    },
    {
      "cell_type": "markdown",
      "id": "00caf21d-01a4-4a31-959a-120b086d5454",
      "metadata": {
        "id": "00caf21d-01a4-4a31-959a-120b086d5454"
      },
      "source": [
        "Cинтаксис и структура цикла for:  \n"
      ]
    },
    {
      "cell_type": "markdown",
      "id": "15a08329-43b5-44d0-9258-867ca0844ca7",
      "metadata": {
        "id": "15a08329-43b5-44d0-9258-867ca0844ca7"
      },
      "source": [
        "![image.png](data:image/png;base64,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)"
      ]
    },
    {
      "cell_type": "markdown",
      "id": "b940a6a5-eef1-4ba2-8079-5465bd0e3b76",
      "metadata": {
        "id": "b940a6a5-eef1-4ba2-8079-5465bd0e3b76"
      },
      "source": [
        "Заголовок цикла содержит:  \n",
        "- ключевое слово for;  \n",
        "- переменную - итератор (она перемещается по списку, принимая на каждом шаге очередное значение списка);  \n",
        "- ключевое слово in;  \n",
        "- последовательность - список, по которому движется итератор;  \n",
        "- знак двoеточие."
      ]
    },
    {
      "cell_type": "markdown",
      "id": "88441d50-6279-4641-89bc-65857d68ddf9",
      "metadata": {
        "id": "88441d50-6279-4641-89bc-65857d68ddf9"
      },
      "source": [
        "Тело цикла содержит:  \n",
        "- отступ (4 пробела);  \n",
        "- действие, которое совершается с каждым элементом списка.\n"
      ]
    },
    {
      "cell_type": "markdown",
      "id": "6dcad2b6-b7be-4203-b713-c54789855fef",
      "metadata": {
        "id": "6dcad2b6-b7be-4203-b713-c54789855fef"
      },
      "source": [
        "**Пример**"
      ]
    },
    {
      "cell_type": "markdown",
      "id": "e138a9bf-2d6c-493a-b3aa-d392447841eb",
      "metadata": {
        "id": "e138a9bf-2d6c-493a-b3aa-d392447841eb"
      },
      "source": [
        "В выводе результата напечатаем перед каждым элементом списка `senders` (названием станции отправления) - сокращение \"ст.\""
      ]
    },
    {
      "cell_type": "code",
      "execution_count": null,
      "id": "9825b565-2ccd-4c0c-9993-74514cdbb9b4",
      "metadata": {
        "id": "9825b565-2ccd-4c0c-9993-74514cdbb9b4",
        "outputId": "ab027438-fa02-4420-f1ec-0f1c8cd674eb"
      },
      "outputs": [
        {
          "name": "stdout",
          "output_type": "stream",
          "text": [
            "ст.Яничкино\n",
            "ст.Стенькино\n",
            "ст.Комбинатская\n",
            "ст.Новоярославская\n"
          ]
        }
      ],
      "source": [
        "# список\n",
        "senders = ['Яничкино', 'Стенькино', 'Комбинатская', 'Новоярославская']\n",
        "\n",
        "# напечатаем перед каждым именем - сокращение станция - ст.\n",
        "for sender in senders:\n",
        "    print('ст.' + sender)"
      ]
    },
    {
      "cell_type": "markdown",
      "id": "82e403e8-2f12-4238-8644-0e71d54be687",
      "metadata": {
        "id": "82e403e8-2f12-4238-8644-0e71d54be687"
      },
      "source": [
        "## Перебор индексов списка"
      ]
    },
    {
      "cell_type": "markdown",
      "id": "ef38bcbb-92de-464c-acc0-f776178726b6",
      "metadata": {
        "id": "ef38bcbb-92de-464c-acc0-f776178726b6"
      },
      "source": [
        "Вместо того, чтобы перебирать непосредственно элементы списка, можно перебирать их индексы.  \n",
        "Индексы в списке - числа: `0` - первый индекс, `len() - 1` - последний индекс.  \n",
        "Цикл for будет идти по числовой последовательности.  \n",
        "Для ее формирования  используется функция `range()`.  "
      ]
    },
    {
      "cell_type": "markdown",
      "id": "8e19dc45-cf52-4778-a243-ae82df9ebd87",
      "metadata": {
        "id": "8e19dc45-cf52-4778-a243-ae82df9ebd87"
      },
      "source": [
        "### Функция `range()`"
      ]
    },
    {
      "cell_type": "markdown",
      "id": "e5036a80-d422-446b-bf76-6ea9a563b0a4",
      "metadata": {
        "id": "e5036a80-d422-446b-bf76-6ea9a563b0a4"
      },
      "source": [
        "**Синтаксис:**  \n",
        "`range(stop)`  \n",
        "\n",
        "**Описание:**  \n",
        "Возвращает последовательность целых чисел от `0` до `stop-1`\n",
        "\n",
        "**Примечание:**  \n",
        "Значение `stop` не входит в последовательность"
      ]
    },
    {
      "cell_type": "markdown",
      "id": "3218781c-58a0-4f67-b2ab-78f63a3d6eed",
      "metadata": {
        "id": "3218781c-58a0-4f67-b2ab-78f63a3d6eed"
      },
      "source": [
        "### Пример"
      ]
    },
    {
      "cell_type": "markdown",
      "id": "7d0fe29e-9c90-44bc-8992-50a976272d4e",
      "metadata": {
        "id": "7d0fe29e-9c90-44bc-8992-50a976272d4e"
      },
      "source": [
        "В выводе результата напечатаем перед каждым элементом списка `senders` (названием станции отправления) - сокращение \"ст.\", используя функцию `range()`."
      ]
    },
    {
      "cell_type": "code",
      "execution_count": null,
      "id": "bed817ac-2353-4cea-9c00-279e74479c08",
      "metadata": {
        "id": "bed817ac-2353-4cea-9c00-279e74479c08",
        "outputId": "964b1df7-6a56-40d7-e152-e542f59cb985"
      },
      "outputs": [
        {
          "name": "stdout",
          "output_type": "stream",
          "text": [
            "ст. Яничкино\n",
            "ст. Стенькино\n",
            "ст. Комбинатская\n",
            "ст. Новоярославская\n"
          ]
        }
      ],
      "source": [
        "# список\n",
        "senders = ['Яничкино', 'Стенькино', 'Комбинатская', 'Новоярославская']\n",
        "\n",
        "# напечатаем перед каждым именем - сокращение станция - ст.\n",
        "for i in range(len(senders)):  \n",
        "    print('ст.', senders[i])"
      ]
    },
    {
      "cell_type": "markdown",
      "id": "92df5f78-a875-480d-8b21-30aeba1f4819",
      "metadata": {
        "id": "92df5f78-a875-480d-8b21-30aeba1f4819"
      },
      "source": [
        "В рассмотренном примере удобнее осуществлять перебор по значениям списка.  \n",
        "Перебор по индексам подходит, если необходимо изменить элементы списка.  "
      ]
    },
    {
      "cell_type": "markdown",
      "id": "08d2965b-5ce7-4263-9db2-72d9039efe29",
      "metadata": {
        "id": "08d2965b-5ce7-4263-9db2-72d9039efe29"
      },
      "source": [
        "**Пример**"
      ]
    },
    {
      "cell_type": "markdown",
      "id": "5c1c79c1-34e8-44be-98d1-4a682243b49e",
      "metadata": {
        "id": "5c1c79c1-34e8-44be-98d1-4a682243b49e"
      },
      "source": [
        "Рассчитаем цены со скидкой. Цены указаны в списке `oil_prices`. Скидка фиксированная - 5%. Новые цены запишем в исходную переменную `oil_prices`."
      ]
    },
    {
      "cell_type": "code",
      "execution_count": null,
      "id": "27a6d8d2-e97f-46c1-80db-45f11ba62783",
      "metadata": {
        "id": "27a6d8d2-e97f-46c1-80db-45f11ba62783",
        "outputId": "1dbce494-eba8-4a05-9620-c987bd780b12"
      },
      "outputs": [
        {
          "name": "stdout",
          "output_type": "stream",
          "text": [
            "[40850.0, 37905.0, 51813.0, 9500.0]\n"
          ]
        }
      ],
      "source": [
        "# цены на нефтепродукты\n",
        "oil_prices = [43_000, 39_900, 54_540, 10_000]\n",
        "\n",
        "# рассчитаем цены со скидкой 5%\n",
        "for i in range(len(oil_prices)):  \n",
        "    oil_prices[i] *= 0.95\n",
        "print(oil_prices)"
      ]
    },
    {
      "cell_type": "markdown",
      "id": "e30da705-f447-4e69-830b-5291e10e0a5c",
      "metadata": {
        "id": "e30da705-f447-4e69-830b-5291e10e0a5c"
      },
      "source": [
        "Обратим внимание, что в результате цикла исходный список был изменен. "
      ]
    },
    {
      "cell_type": "markdown",
      "id": "73e8fe14-cbc4-43e4-9748-fd0efe8e163d",
      "metadata": {
        "id": "73e8fe14-cbc4-43e4-9748-fd0efe8e163d"
      },
      "source": [
        "Рассмотрим пример, когда необходимо сформировать новый список на основе изменения исходного."
      ]
    },
    {
      "cell_type": "markdown",
      "id": "cd51bfb9-e689-4423-82c9-5760a8b87aed",
      "metadata": {
        "id": "cd51bfb9-e689-4423-82c9-5760a8b87aed"
      },
      "source": [
        "**Пример**"
      ]
    },
    {
      "cell_type": "markdown",
      "id": "9c1df839-8876-4fc5-9936-2da4f2944d50",
      "metadata": {
        "id": "9c1df839-8876-4fc5-9936-2da4f2944d50"
      },
      "source": [
        "Рассчитаем цены со скидкой. Цены указаны в списке `oil_prices`. Скидка фиксированная - 5%. Новые цены запишем в переменную `discounted_oil_price`."
      ]
    },
    {
      "cell_type": "code",
      "execution_count": null,
      "id": "4efcdd23-b390-4fc7-aadc-9c2a392834a5",
      "metadata": {
        "id": "4efcdd23-b390-4fc7-aadc-9c2a392834a5",
        "outputId": "43e67891-a35e-43ad-82d5-dc7621dc07ed"
      },
      "outputs": [
        {
          "name": "stdout",
          "output_type": "stream",
          "text": [
            "Цены на нефтепродукты: [43000, 39900, 54540, 10000]\n",
            "Цены со скидкой: [40850.0, 37905.0, 51813.0, 9500.0]\n"
          ]
        }
      ],
      "source": [
        "# цены на нефтепродукты\n",
        "oil_prices = [43_000, 39_900, 54_540, 10_000]\n",
        "\n",
        "# рассчитаем цены со скидкой 5% и запишем в отдельный список\n",
        "discounted_oil_price = []                   # 1\n",
        "for i in range(len(oil_prices)):            # 2\n",
        "    new_price = oil_prices[i] * 0.95        # 3\n",
        "    discounted_oil_price.append(new_price)  # 4\n",
        "print(f'Цены на нефтепродукты: {oil_prices}')\n",
        "print(f'Цены со скидкой: {discounted_oil_price}')"
      ]
    },
    {
      "cell_type": "markdown",
      "id": "a76f81ff-7fca-4913-b5fd-f20b4356edba",
      "metadata": {
        "id": "a76f81ff-7fca-4913-b5fd-f20b4356edba"
      },
      "source": [
        "**1** - объявляем пустой список discounted_oil_price (в него будем записывать новые значения);  \n",
        "**2** - в цикле for перебираем индексы элементов списка oil_prices;  \n",
        "**3** - рассчитываем новую цену new_price;  \n",
        "**4** - добавляем новую цену в конец списка discounted_oil_price"
      ]
    },
    {
      "cell_type": "markdown",
      "id": "1b8ffd40-d6e5-462d-8d59-eec1a41cbad3",
      "metadata": {
        "id": "1b8ffd40-d6e5-462d-8d59-eec1a41cbad3"
      },
      "source": [
        "## Вычисления на основе списка "
      ]
    },
    {
      "cell_type": "markdown",
      "id": "49f1f2a9-e98c-4973-8f41-cd3744612b43",
      "metadata": {
        "id": "49f1f2a9-e98c-4973-8f41-cd3744612b43"
      },
      "source": [
        "### Сумма элементов списка"
      ]
    },
    {
      "cell_type": "markdown",
      "id": "487a149a-396f-43ee-94f0-0f921639539e",
      "metadata": {
        "id": "487a149a-396f-43ee-94f0-0f921639539e"
      },
      "source": [
        "В цикле можно посчитать сумму элементов (чисел) списка.  "
      ]
    },
    {
      "cell_type": "markdown",
      "id": "7c9d9cf7-6d71-4790-83d4-f0a9381f1e0c",
      "metadata": {
        "id": "7c9d9cf7-6d71-4790-83d4-f0a9381f1e0c"
      },
      "source": [
        "**Пример**"
      ]
    },
    {
      "cell_type": "markdown",
      "id": "e63bdd2d-9a12-4616-a2c5-1acf50a1f139",
      "metadata": {
        "id": "e63bdd2d-9a12-4616-a2c5-1acf50a1f139"
      },
      "source": [
        "В списке `sales` - отгрузки в течение суток. Рассчитаем общий объем продаж за день."
      ]
    },
    {
      "cell_type": "code",
      "execution_count": null,
      "id": "02202f08-75d4-40ac-87db-17684f79870c",
      "metadata": {
        "id": "02202f08-75d4-40ac-87db-17684f79870c",
        "outputId": "736416cf-bd35-4ae6-f648-6630b4768498"
      },
      "outputs": [
        {
          "name": "stdout",
          "output_type": "stream",
          "text": [
            "Объем отгрузки за сутки: 4080 тонн\n"
          ]
        }
      ],
      "source": [
        "# создаем список\n",
        "sales = [840, 600, 1320, 300, 780, 60, 180]\n",
        "\n",
        "# продажи за сутки\n",
        "\n",
        "total_sales = 0          # 1\n",
        "for sale in sales:       # 2\n",
        "    total_sales += sale  # 3\n",
        "    \n",
        "print(f'Объем отгрузки за сутки: {total_sales} тонн')    "
      ]
    },
    {
      "cell_type": "markdown",
      "id": "3457f827-3559-4c54-b1e8-737aa4283a16",
      "metadata": {
        "id": "3457f827-3559-4c54-b1e8-737aa4283a16"
      },
      "source": [
        "**1** - cоздаем переменную-счетчик `total_sales`, в ней будет храниться результат вычислений. Начальное значение равно 0.  \n",
        "**2** - в цикле for перебираем элементы списка `sales`.  \n",
        "**3** - рассчитываем общую сумму продаж. В каждую итерацию к счетчику `total_sales` добавляется значение очередного  элемента `sale` из списка `sales`. Таким образом, после выполнения цикла в переменной-счётчике накопится сумма всех значений списка."
      ]
    },
    {
      "cell_type": "markdown",
      "id": "6de7e5f4-2166-4366-8f89-68f6b87ea711",
      "metadata": {
        "id": "6de7e5f4-2166-4366-8f89-68f6b87ea711"
      },
      "source": [
        "Расчет суммы - частая операция, для нее есть встроенная функция `sum()`."
      ]
    },
    {
      "cell_type": "markdown",
      "id": "fdc864ef-1e3f-4e0a-a677-83fc8e1c89b1",
      "metadata": {
        "id": "fdc864ef-1e3f-4e0a-a677-83fc8e1c89b1"
      },
      "source": [
        "**Пример**"
      ]
    },
    {
      "cell_type": "markdown",
      "id": "64640348-dd5a-4193-9754-48c437ff2492",
      "metadata": {
        "id": "64640348-dd5a-4193-9754-48c437ff2492"
      },
      "source": [
        "Рассчитаем общий объем продаж за день, используя встроенную функцию `sum()`."
      ]
    },
    {
      "cell_type": "code",
      "execution_count": null,
      "id": "397a448e-9c6e-4824-abd0-9dcb2957fa4a",
      "metadata": {
        "id": "397a448e-9c6e-4824-abd0-9dcb2957fa4a",
        "outputId": "0d8a2ce5-9b66-4696-f07e-841dab2d0d29"
      },
      "outputs": [
        {
          "name": "stdout",
          "output_type": "stream",
          "text": [
            "Объем отгрузки за сутки: 4080 тонн\n"
          ]
        }
      ],
      "source": [
        "# создаем список\n",
        "sales = [840, 600, 1320, 300, 780, 60, 180]\n",
        "\n",
        "# расчет суммы - функция sum()\n",
        "total_sales = sum(sales)\n",
        "print(f'Объем отгрузки за сутки: {total_sales} тонн')    "
      ]
    },
    {
      "cell_type": "markdown",
      "id": "c05fa209-1368-4cdd-96b7-8eb2edda9d9e",
      "metadata": {
        "id": "c05fa209-1368-4cdd-96b7-8eb2edda9d9e"
      },
      "source": [
        "### Произведение элементов списка"
      ]
    },
    {
      "cell_type": "markdown",
      "id": "63e4ecd9-6e7c-4d6e-9434-76e4a9a43b11",
      "metadata": {
        "id": "63e4ecd9-6e7c-4d6e-9434-76e4a9a43b11"
      },
      "source": [
        "В цикле можно посчитать произведение элементов (чисел) списка."
      ]
    },
    {
      "cell_type": "markdown",
      "id": "e4b19e07-1cf8-4954-b9a1-11a3fc0e1a74",
      "metadata": {
        "id": "e4b19e07-1cf8-4954-b9a1-11a3fc0e1a74"
      },
      "source": [
        "**Пример**"
      ]
    },
    {
      "cell_type": "markdown",
      "id": "338c1c07-4b5e-4eab-8208-c82c767008b5",
      "metadata": {
        "id": "338c1c07-4b5e-4eab-8208-c82c767008b5"
      },
      "source": [
        "В списке `shipments` содержатся данные об отгрузке: количество - 821.1, 37780 - цена, 0.95 - скидка 5%.\n",
        "Посчитаем выручку от продажи продукта за день - произведение всех элементов списка."
      ]
    },
    {
      "cell_type": "code",
      "execution_count": null,
      "id": "7c32a2db-5ebd-476c-aaa8-73017129e51f",
      "metadata": {
        "id": "7c32a2db-5ebd-476c-aaa8-73017129e51f",
        "outputId": "73147735-6081-4f52-c00b-8eeb84afbd99"
      },
      "outputs": [
        {
          "name": "stdout",
          "output_type": "stream",
          "text": [
            "Выручка за день: 29470100.10 рублей\n"
          ]
        }
      ],
      "source": [
        "# создаем список\n",
        "# 821.1 - объем отгрузки, 37780 - цена, 0.95 - скидка 5%\n",
        "shipments = [821.1, 37780, 0.95]\n",
        "\n",
        "# считаем выручку\n",
        "revenue = 1                      # 1\n",
        "for shipment in shipments:       # 2\n",
        "    revenue *= shipment          # 3\n",
        "print(f'Выручка за день: {revenue:.2f} рублей')    "
      ]
    },
    {
      "cell_type": "markdown",
      "id": "e8d80cac-eb13-444b-8646-7754604b1102",
      "metadata": {
        "id": "e8d80cac-eb13-444b-8646-7754604b1102"
      },
      "source": [
        "**1** - cоздаем переменную-счетчик `revenue`. Переменной-счетчику на старте присвоим значение 1 (если присвоим 0 - на первом шаге цикла получим умножение на 0 и, соответственно, нулевой результат).   \n",
        "**2**  - перебираем элементы списка `shipments`.  \n",
        "**3** - рассчитываем выручку за день, используя оператор `*=`"
      ]
    },
    {
      "cell_type": "markdown",
      "id": "88085d05-673b-4072-a6cb-5fd5622a1d75",
      "metadata": {
        "id": "88085d05-673b-4072-a6cb-5fd5622a1d75"
      },
      "source": [
        "Произведение можно рассчитать с помощью встроенной функции `prod()` из модуля `numpy` (модуль - это файл с кодом). "
      ]
    },
    {
      "cell_type": "markdown",
      "id": "863483d9-663b-438e-a0aa-88a3ff82d370",
      "metadata": {
        "id": "863483d9-663b-438e-a0aa-88a3ff82d370"
      },
      "source": [
        "**Пример**"
      ]
    },
    {
      "cell_type": "markdown",
      "id": "8acbc738-9c25-416b-aa65-701cd37e241d",
      "metadata": {
        "id": "8acbc738-9c25-416b-aa65-701cd37e241d"
      },
      "source": [
        "Посчитаем выручку от продажи продукта за день - произведение всех элементов списка - испльзуя функцию `numpy.prod()`."
      ]
    },
    {
      "cell_type": "markdown",
      "id": "2c338c31-0314-4eb0-a251-06a42aeb814c",
      "metadata": {
        "id": "2c338c31-0314-4eb0-a251-06a42aeb814c"
      },
      "source": [
        "Чтобы подключить модуль необходимо в начале программы прописать следующую инструкцию:\n",
        "`import numpy`"
      ]
    },
    {
      "cell_type": "code",
      "execution_count": null,
      "id": "852a453b-95e6-4a79-8f74-0877163ebd46",
      "metadata": {
        "id": "852a453b-95e6-4a79-8f74-0877163ebd46",
        "outputId": "bc2c67f7-829b-4605-fced-1d9c9e573b80"
      },
      "outputs": [
        {
          "name": "stdout",
          "output_type": "stream",
          "text": [
            "Выручка за день: 29470100.10 рублей\n"
          ]
        }
      ],
      "source": [
        "# импорт модуля math\n",
        "import numpy\n",
        "\n",
        "# создаем список\n",
        "# 821.1 - объем отгрузки, 37780 - цена, 0.95 - скидка\n",
        "shipments = [821.1, 37780, 0.95] \n",
        "\n",
        "# считаем выручку\n",
        "revenue = numpy.prod(shipments)\n",
        "\n",
        "# результат\n",
        "print(f'Выручка за день: {revenue:.2f} рублей')    "
      ]
    },
    {
      "cell_type": "markdown",
      "id": "8821cfa8-e3a8-41be-94f6-6276d72da0c9",
      "metadata": {
        "id": "8821cfa8-e3a8-41be-94f6-6276d72da0c9"
      },
      "source": [
        "### Поиск max() и min()"
      ]
    },
    {
      "cell_type": "markdown",
      "id": "56981fe5-77ec-400e-8a30-a3ec8f37f584",
      "metadata": {
        "id": "56981fe5-77ec-400e-8a30-a3ec8f37f584"
      },
      "source": [
        "Распространенная аналитическая задача - поиск максимального и минимального значений. Посмотрим, как можно выполнить ее в цикле и с помощью встроенных функций."
      ]
    },
    {
      "cell_type": "markdown",
      "id": "b4bac6e2-f6f4-4924-b2c7-70428a41e1d3",
      "metadata": {
        "id": "b4bac6e2-f6f4-4924-b2c7-70428a41e1d3"
      },
      "source": [
        "**Пример**"
      ]
    },
    {
      "cell_type": "markdown",
      "id": "bd5accf3-ee98-4a0e-80fc-1d3b33e9b677",
      "metadata": {
        "id": "bd5accf3-ee98-4a0e-80fc-1d3b33e9b677"
      },
      "source": [
        "Найдем максимальный объем отгрузки за день. "
      ]
    },
    {
      "cell_type": "markdown",
      "id": "5e610d33-ef5c-4d06-ab95-5b209251e637",
      "metadata": {
        "id": "5e610d33-ef5c-4d06-ab95-5b209251e637"
      },
      "source": [
        "Здесь в цикле возникнет  условная конструкция `if` - о ней подробно мы будем говорить в следущем разделе курса."
      ]
    },
    {
      "cell_type": "code",
      "execution_count": null,
      "id": "86f06d18-1942-406f-922a-def4254b0277",
      "metadata": {
        "id": "86f06d18-1942-406f-922a-def4254b0277",
        "outputId": "ccb4f390-8480-4b10-a35b-de3350bfaf64"
      },
      "outputs": [
        {
          "name": "stdout",
          "output_type": "stream",
          "text": [
            "Максимальный объем продаж: 1320 тонн\n"
          ]
        }
      ],
      "source": [
        "# создаем список\n",
        "sales = [840, 600, 1320, 300, 780, 60, 180]\n",
        "\n",
        "# поиск максимума\n",
        "\n",
        "max_sales = 0               # 1\n",
        "for sale in sales:          # 2\n",
        "    if sale > max_sales:    # 3\n",
        "        max_sales = sale    # 4\n",
        "\n",
        "# результат\n",
        "print(f'Максимальный объем продаж: {max_sales} тонн')    "
      ]
    },
    {
      "cell_type": "markdown",
      "id": "09315faf-f79a-44a4-9707-c5284e33a902",
      "metadata": {
        "id": "09315faf-f79a-44a4-9707-c5284e33a902"
      },
      "source": [
        "**1** - cоздаем переменную `max_sales`. Переменной-счетчику на старте присвоим значение 0.  \n",
        "**2**  - перебираем элементы списка `sales`.  \n",
        "**3** - проверка условия если значение очередного элемента больше `max_sales`.  \n",
        "**4** - если очередное значение элемента больше `max_sales`, присваиваем его `max_sales`."
      ]
    },
    {
      "cell_type": "markdown",
      "id": "cdbcffa2-e66a-4e8a-b85d-bdc613c2070d",
      "metadata": {
        "id": "cdbcffa2-e66a-4e8a-b85d-bdc613c2070d"
      },
      "source": [
        "Решение поиска максимального значения в приведенном примере не универсально. Мы понимаем, что работаем с неотрицательными значениями в списке. Лучше воспользоваться встроенной функцией `max()`."
      ]
    },
    {
      "cell_type": "markdown",
      "id": "1e61cc41-7b36-49c7-b6e5-5d1306ad51de",
      "metadata": {
        "id": "1e61cc41-7b36-49c7-b6e5-5d1306ad51de"
      },
      "source": [
        "**Пример**"
      ]
    },
    {
      "cell_type": "markdown",
      "id": "57416d23-6b2d-489e-b083-24b452769193",
      "metadata": {
        "id": "57416d23-6b2d-489e-b083-24b452769193"
      },
      "source": [
        "Найдем максимальный объем отгрузки за день `sales`, используя функцию `max()`."
      ]
    },
    {
      "cell_type": "code",
      "execution_count": null,
      "id": "e08bc701-e30f-478f-8ae4-b1d09c3917c6",
      "metadata": {
        "id": "e08bc701-e30f-478f-8ae4-b1d09c3917c6",
        "outputId": "b60b10df-4de5-48b9-a0ec-167489a94a62"
      },
      "outputs": [
        {
          "name": "stdout",
          "output_type": "stream",
          "text": [
            "Максимальный объем продаж: 1320 тонн\n"
          ]
        }
      ],
      "source": [
        "# создаем список\n",
        "sales = [840, 600, 1320, 300, 780, 60, 180]\n",
        "\n",
        "# поиск максимума\n",
        "max_sales = max(sales)\n",
        "\n",
        "# результат\n",
        "print(f'Максимальный объем продаж: {max_sales} тонн')    "
      ]
    },
    {
      "cell_type": "markdown",
      "id": "3d47bc45-31ad-48e5-8fee-efb0e271272e",
      "metadata": {
        "id": "3d47bc45-31ad-48e5-8fee-efb0e271272e"
      },
      "source": [
        "Аналогичным образом решается задача поиска минимального значения в списке."
      ]
    },
    {
      "cell_type": "markdown",
      "id": "46c02be5-3d67-4e80-92b4-43e5c02432b3",
      "metadata": {
        "id": "46c02be5-3d67-4e80-92b4-43e5c02432b3"
      },
      "source": [
        "**Пример**"
      ]
    },
    {
      "cell_type": "markdown",
      "id": "3be01ee8-ba62-42ec-86a7-c06a8f0c1450",
      "metadata": {
        "id": "3be01ee8-ba62-42ec-86a7-c06a8f0c1450"
      },
      "source": [
        "Найдем максимальный объем отгрузки за день `sales`, используя функцию `min()`."
      ]
    },
    {
      "cell_type": "code",
      "execution_count": null,
      "id": "372f615b-a79e-4bb0-9757-e91fb0f217b3",
      "metadata": {
        "id": "372f615b-a79e-4bb0-9757-e91fb0f217b3",
        "outputId": "1cc57a1a-cb87-49f9-fcf9-48419d814bae"
      },
      "outputs": [
        {
          "name": "stdout",
          "output_type": "stream",
          "text": [
            "Минимальный объем продаж: 60 тонн\n"
          ]
        }
      ],
      "source": [
        "# создаем список\n",
        "sales = [840, 600, 1320, 300, 780, 60, 180]\n",
        "\n",
        "# поиск минимума\n",
        "min_sales = min(sales)\n",
        "\n",
        "# результат\n",
        "print(f'Минимальный объем продаж: {min_sales} тонн')    "
      ]
    },
    {
      "cell_type": "markdown",
      "id": "83f1ea09-9d58-4a06-b16e-05fbd3b78f32",
      "metadata": {
        "id": "83f1ea09-9d58-4a06-b16e-05fbd3b78f32"
      },
      "source": [
        "### Типичные ошибки в использовании цикла for"
      ]
    },
    {
      "cell_type": "markdown",
      "id": "18a71007-2c91-4cd0-9b21-ee3e8b539369",
      "metadata": {
        "id": "18a71007-2c91-4cd0-9b21-ee3e8b539369"
      },
      "source": [
        "#### Ошибки с отступами"
      ]
    },
    {
      "cell_type": "markdown",
      "id": "9885ddaf-a42d-4c4b-8ce5-9622b77083db",
      "metadata": {
        "id": "9885ddaf-a42d-4c4b-8ce5-9622b77083db"
      },
      "source": [
        "##### Пропуск отступа"
      ]
    },
    {
      "cell_type": "markdown",
      "id": "c7547d31-c934-44f8-8a14-f0c77a705be9",
      "metadata": {
        "id": "c7547d31-c934-44f8-8a14-f0c77a705be9"
      },
      "source": [
        "Строка после команды for в цикле всегда должна снабжаться отступом (4 пробела).  \n",
        "Если вы забудете поставить отступ - появится сообщение с указанием номера строк."
      ]
    },
    {
      "cell_type": "code",
      "execution_count": null,
      "id": "9ee429e3-3db6-4f38-b4fa-493a94b6165f",
      "metadata": {
        "id": "9ee429e3-3db6-4f38-b4fa-493a94b6165f",
        "outputId": "2ba740d8-630e-4747-fc20-d50eb667ec1c"
      },
      "outputs": [
        {
          "ename": "IndentationError",
          "evalue": "expected an indented block (<ipython-input-12-6501a1c07619>, line 6)",
          "output_type": "error",
          "traceback": [
            "\u001b[1;36m  File \u001b[1;32m\"<ipython-input-12-6501a1c07619>\"\u001b[1;36m, line \u001b[1;32m6\u001b[0m\n\u001b[1;33m    print('ст.' + sender)\u001b[0m\n\u001b[1;37m    ^\u001b[0m\n\u001b[1;31mIndentationError\u001b[0m\u001b[1;31m:\u001b[0m expected an indented block\n"
          ]
        }
      ],
      "source": [
        "# список\n",
        "senders = ['Яничкино', 'Стенькино', 'Комбинатская', 'Новоярославская']\n",
        "\n",
        "# напечатаем перед каждым именем - сокращение станция - ст.\n",
        "for sender in senders:\n",
        "print('ст.' + sender)"
      ]
    },
    {
      "cell_type": "markdown",
      "id": "b141c6b0-41fc-4af3-a446-4ec350c7bb57",
      "metadata": {
        "id": "b141c6b0-41fc-4af3-a446-4ec350c7bb57"
      },
      "source": [
        "##### Лишние отступы после цикла"
      ]
    },
    {
      "cell_type": "markdown",
      "id": "efba5c74-e4b4-4f55-b238-af2671ce08d6",
      "metadata": {
        "id": "efba5c74-e4b4-4f55-b238-af2671ce08d6"
      },
      "source": [
        "Если вы случайно снабдите отступом код, который должен выполняться после завершения цикла, то этот код будет выполнен для каждого элемента.  \n",
        "Иногда Python выводит сообщение об ошибке, но часто дело ограничивается простой *логической ошибкой.*"
      ]
    },
    {
      "cell_type": "code",
      "execution_count": null,
      "id": "f0c1c987-d5cf-4956-84c3-3fc52dc0ab9b",
      "metadata": {
        "id": "f0c1c987-d5cf-4956-84c3-3fc52dc0ab9b",
        "outputId": "010185f8-6af6-499a-c8df-cd8d70a3f9ce"
      },
      "outputs": [
        {
          "name": "stdout",
          "output_type": "stream",
          "text": [
            "Объем отгрузки за сутки: 840 тонн\n",
            "Объем отгрузки за сутки: 1440 тонн\n",
            "Объем отгрузки за сутки: 2760 тонн\n",
            "Объем отгрузки за сутки: 3060 тонн\n",
            "Объем отгрузки за сутки: 3840 тонн\n",
            "Объем отгрузки за сутки: 3900 тонн\n",
            "Объем отгрузки за сутки: 4080 тонн\n"
          ]
        }
      ],
      "source": [
        "# создаем список\n",
        "sales = [840, 600, 1320, 300, 780, 60, 180]\n",
        "\n",
        "# продажи за сутки\n",
        "\n",
        "total_sales = 0\n",
        "for sale in sales:\n",
        "    total_sales += sale\n",
        "    # строка с лишним отступом\n",
        "    print(f'Объем отгрузки за сутки: {total_sales} тонн')    "
      ]
    },
    {
      "cell_type": "markdown",
      "id": "1024e188-d4ea-49c5-aacc-5d514669c51c",
      "metadata": {
        "id": "1024e188-d4ea-49c5-aacc-5d514669c51c"
      },
      "source": [
        "Функция `print()` вывела результат каждого шага, тогда как мы планировали получить одно итоговое значение отгрузки."
      ]
    },
    {
      "cell_type": "markdown",
      "id": "44031540-a4c1-4133-be2b-27e57b5ae37a",
      "metadata": {
        "id": "44031540-a4c1-4133-be2b-27e57b5ae37a"
      },
      "source": [
        "#### Пропущенное двоеточие"
      ]
    },
    {
      "cell_type": "markdown",
      "id": "2a3ec052-37d0-4343-8904-aa60872bf854",
      "metadata": {
        "id": "2a3ec052-37d0-4343-8904-aa60872bf854"
      },
      "source": [
        "Двоеточие в конце команды for сообщает Python, что следующая строка является началом цикла.  \n",
        "Если вы случайно забудете поставить двоеточие, как в примере ниже, произойдет **синтаксическая ошибка**."
      ]
    },
    {
      "cell_type": "code",
      "execution_count": null,
      "id": "bd100df8-0bd5-4f94-ad7a-294d56242e20",
      "metadata": {
        "id": "bd100df8-0bd5-4f94-ad7a-294d56242e20",
        "outputId": "f8c1c2e9-79da-4b3b-cef9-52f1fd4d28ab"
      },
      "outputs": [
        {
          "ename": "SyntaxError",
          "evalue": "invalid syntax (<ipython-input-14-34581754fc32>, line 7)",
          "output_type": "error",
          "traceback": [
            "\u001b[1;36m  File \u001b[1;32m\"<ipython-input-14-34581754fc32>\"\u001b[1;36m, line \u001b[1;32m7\u001b[0m\n\u001b[1;33m    for sale in sales\u001b[0m\n\u001b[1;37m                     ^\u001b[0m\n\u001b[1;31mSyntaxError\u001b[0m\u001b[1;31m:\u001b[0m invalid syntax\n"
          ]
        }
      ],
      "source": [
        "# создаем список\n",
        "sales = [840, 600, 1320, 300, 780, 60, 180]\n",
        "\n",
        "# продажи за сутки\n",
        "\n",
        "total_sales = 0\n",
        "for sale in sales\n",
        "    total_sales += sale\n",
        "    \n",
        "print(f'Объем отгрузки за сутки: {total_sales} тонн')    "
      ]
    },
    {
      "cell_type": "markdown",
      "id": "d79f2c3c-3967-4119-9ca4-ff2e502b9c89",
      "metadata": {
        "id": "d79f2c3c-3967-4119-9ca4-ff2e502b9c89"
      },
      "source": [
        "## Итоги\n",
        "1. Цикл `for` — «для каждого» — повторяет определённое действие для каждого элемента списка.  \n",
        "2. В цикле можно \"перебирать\" значения списка или его индексы.  \n",
        "3. Перебор индексов можно организовать с помощью функции `range()`.\n",
        "4. Длину списка (количество элементов в списке) определяем функцией `len()`.\n",
        "5. С помощью цикла можно производить различные вычисления - суммирование элементов списка, произведение, поиск максимума и минимума.  \n",
        "6. Встроенные функции при работе со списками - `sum()`, `max()`, `min()`, в модуле `numpy` -`prod()`.  \n",
        "7. `import numpy` - импорт модуля для работы с ним.  \n",
        "8. Python чаще всего укажет вам на допущенные при формировании цикла ошибки (пропуск отступа, пропус двоеточия). В случае с лишними отступами это может привести к логическим ошибкам."
      ]
    },
    {
      "cell_type": "markdown",
      "id": "743e2cf2-c5a6-4d78-b565-0ff7192435bd",
      "metadata": {
        "id": "743e2cf2-c5a6-4d78-b565-0ff7192435bd"
      },
      "source": [
        "## При подготовке конспекта использованы:"
      ]
    },
    {
      "cell_type": "markdown",
      "id": "6059b3c2-32f8-498a-b741-1f95b8eb44a8",
      "metadata": {
        "id": "6059b3c2-32f8-498a-b741-1f95b8eb44a8"
      },
      "source": [
        "[Синтаксис и возможности цикла for Python](https://pythonru.com/osnovy/cikl-for-in)  \n",
        "[Цикл \"for\" в Python — универсальная управляющая конструкция](https://pythonchik.ru/osnovy/cikl-for-v-python)  \n",
        "[Функция range в Python](https://pythonchik.ru/osnovy/python-range)  \n",
        "[Документация Python](https://docs.python.org/3/library/stdtypes.html?highlight=range#range)\n",
        "[Mathematical functions](https://docs.python.org/3/library/math.html)  \n",
        "[Модуль Math в Python](https://pythonchik.ru/matematika/modul-math-v-python)  \n",
        "Мэтиз Эрик. Изучаем Python. Программирование игр, визуализация данных, веб-приложения."
      ]
    }
  ],
  "metadata": {
    "kernelspec": {
      "display_name": "Python 3",
      "language": "python",
      "name": "python3"
    },
    "language_info": {
      "codemirror_mode": {
        "name": "ipython",
        "version": 3
      },
      "file_extension": ".py",
      "mimetype": "text/x-python",
      "name": "python",
      "nbconvert_exporter": "python",
      "pygments_lexer": "ipython3",
      "version": "3.8.8"
    },
    "colab": {
      "provenance": [],
      "collapsed_sections": [
        "8ace0f63-ea72-4f03-8719-fff3f94fddb7",
        "82e403e8-2f12-4238-8644-0e71d54be687",
        "3218781c-58a0-4f67-b2ab-78f63a3d6eed",
        "1b8ffd40-d6e5-462d-8d59-eec1a41cbad3",
        "49f1f2a9-e98c-4973-8f41-cd3744612b43",
        "c05fa209-1368-4cdd-96b7-8eb2edda9d9e",
        "8821cfa8-e3a8-41be-94f6-6276d72da0c9",
        "83f1ea09-9d58-4a06-b16e-05fbd3b78f32",
        "18a71007-2c91-4cd0-9b21-ee3e8b539369",
        "44031540-a4c1-4133-be2b-27e57b5ae37a"
      ],
      "include_colab_link": true
    }
  },
  "nbformat": 4,
  "nbformat_minor": 5
}